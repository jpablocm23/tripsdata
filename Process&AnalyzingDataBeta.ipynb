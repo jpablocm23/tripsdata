{
    "metadata": {
        "kernelspec": {
            "name": "SQL",
            "display_name": "SQL",
            "language": "sql"
        },
        "language_info": {
            "name": "sql",
            "version": ""
        }
    },
    "nbformat_minor": 2,
    "nbformat": 4,
    "cells": [
        {
            "cell_type": "markdown",
            "source": [
                "# **Processing & Analyzing the Data**"
            ],
            "metadata": {
                "azdata_cell_guid": "046cf1c6-c801-4547-8cbc-35b770b14f35"
            },
            "attachments": {}
        },
        {
            "cell_type": "markdown",
            "source": [
                "First we take a look of the structure of the dataset with the objective of seek which variable we have to analyze and create:"
            ],
            "metadata": {
                "azdata_cell_guid": "c66f17ac-1834-480b-932e-8a77761893fe"
            },
            "attachments": {}
        },
        {
            "cell_type": "code",
            "source": [
                "SELECT TOP 10\r\n",
                "    *\r\n",
                "FROM [202103-divvy-tripdata]"
            ],
            "metadata": {
                "azdata_cell_guid": "230d5e63-9447-49fa-9d7c-3950cdf00cef",
                "language": "sql"
            },
            "outputs": [
                {
                    "output_type": "display_data",
                    "data": {
                        "text/html": "(10 rows affected)"
                    },
                    "metadata": {}
                },
                {
                    "output_type": "display_data",
                    "data": {
                        "text/html": "Total execution time: 00:00:00.028"
                    },
                    "metadata": {}
                },
                {
                    "output_type": "execute_result",
                    "execution_count": 16,
                    "data": {
                        "application/vnd.dataresource+json": {
                            "schema": {
                                "fields": [
                                    {
                                        "name": "ride_id"
                                    },
                                    {
                                        "name": "rideable_type"
                                    },
                                    {
                                        "name": "started_at"
                                    },
                                    {
                                        "name": "ended_at"
                                    },
                                    {
                                        "name": "start_station_name"
                                    },
                                    {
                                        "name": "start_station_id"
                                    },
                                    {
                                        "name": "end_station_name"
                                    },
                                    {
                                        "name": "end_station_id"
                                    },
                                    {
                                        "name": "start_lat"
                                    },
                                    {
                                        "name": "start_lng"
                                    },
                                    {
                                        "name": "end_lat"
                                    },
                                    {
                                        "name": "end_lng"
                                    },
                                    {
                                        "name": "member_casual"
                                    }
                                ]
                            },
                            "data": [
                                {
                                    "0": "0000465CF790D824",
                                    "1": "electric_bike",
                                    "2": "2021-03-08 18:08:23.0000000",
                                    "3": "2021-03-08 19:34:29.0000000",
                                    "4": "NULL",
                                    "5": "NULL",
                                    "6": "NULL",
                                    "7": "NULL",
                                    "8": "4192",
                                    "9": "-8772",
                                    "10": "4193",
                                    "11": "-8767",
                                    "12": "casual"
                                },
                                {
                                    "0": "00004F0F77E12E18",
                                    "1": "classic_bike",
                                    "2": "2021-03-24 17:08:00.0000000",
                                    "3": "2021-03-24 18:20:07.0000000",
                                    "4": "Calumet Ave & 18th St",
                                    "5": "13102",
                                    "6": "Michigan Ave & 18th St",
                                    "7": "13150",
                                    "8": "41857612",
                                    "9": "-87619408",
                                    "10": "41857812",
                                    "11": "-8762455",
                                    "12": "casual"
                                },
                                {
                                    "0": "000081CDC629355A",
                                    "1": "classic_bike",
                                    "2": "2021-03-08 17:48:21.0000000",
                                    "3": "2021-03-08 18:01:40.0000000",
                                    "4": "Ashland Ave & Grand Ave",
                                    "5": "13434",
                                    "6": "Ashland Ave & Grand Ave",
                                    "7": "13434",
                                    "8": "41891072",
                                    "9": "-87666608",
                                    "10": "41891072",
                                    "11": "-87666608",
                                    "12": "member"
                                },
                                {
                                    "0": "0000D6609083F8C8",
                                    "1": "docked_bike",
                                    "2": "2021-03-13 00:48:47.0000000",
                                    "3": "2021-03-13 01:51:12.0000000",
                                    "4": "Rush St & Hubbard St",
                                    "5": "KA1503000044",
                                    "6": "Rush St & Hubbard St",
                                    "7": "KA1503000044",
                                    "8": "41890172",
                                    "9": "-87626184",
                                    "10": "41890172",
                                    "11": "-87626184",
                                    "12": "casual"
                                },
                                {
                                    "0": "0000E746AFFDE10D",
                                    "1": "classic_bike",
                                    "2": "2021-03-07 15:56:11.0000000",
                                    "3": "2021-03-07 16:14:26.0000000",
                                    "4": "Leavitt St & Division St",
                                    "5": "658",
                                    "6": "Clinton St & Lake St",
                                    "7": "13021",
                                    "8": "41902996",
                                    "9": "-87683824",
                                    "10": "41885636",
                                    "11": "-87641824",
                                    "12": "member"
                                },
                                {
                                    "0": "00013A098E40CBAD",
                                    "1": "classic_bike",
                                    "2": "2021-03-09 16:59:32.0000000",
                                    "3": "2021-03-09 17:11:37.0000000",
                                    "4": "Theater on the Lake",
                                    "5": "TA1308000001",
                                    "6": "Broadway & Barry Ave",
                                    "7": "13137",
                                    "8": "41926276",
                                    "9": "-87630832",
                                    "10": "4193758270717952",
                                    "11": "-876440958533632",
                                    "12": "casual"
                                },
                                {
                                    "0": "00013FFF86FF03DA",
                                    "1": "classic_bike",
                                    "2": "2021-03-08 16:35:49.0000000",
                                    "3": "2021-03-08 17:16:21.0000000",
                                    "4": "Lake Shore Dr & Monroe St",
                                    "5": "13300",
                                    "6": "Lake Shore Dr & Monroe St",
                                    "7": "13300",
                                    "8": "41880960",
                                    "9": "-87616744",
                                    "10": "41880960",
                                    "11": "-87616744",
                                    "12": "casual"
                                },
                                {
                                    "0": "0001BC6649540A9E",
                                    "1": "electric_bike",
                                    "2": "2021-03-09 09:00:54.0000000",
                                    "3": "2021-03-09 09:06:04.0000000",
                                    "4": "Ritchie Ct & Banks St",
                                    "5": "KA1504000134",
                                    "6": "Clybourn Ave & Division St",
                                    "7": "TA1307000115",
                                    "8": "41906936504909820",
                                    "9": "-8762620731457536",
                                    "10": "41904617222569980",
                                    "11": "-8764043976245248",
                                    "12": "member"
                                },
                                {
                                    "0": "0001DA2D84B47067",
                                    "1": "classic_bike",
                                    "2": "2021-03-11 17:10:19.0000000",
                                    "3": "2021-03-11 17:42:06.0000000",
                                    "4": "St. Clair St & Erie St",
                                    "5": "13016",
                                    "6": "Clark St & Grace St",
                                    "7": "TA1307000127",
                                    "8": "4189434580828160",
                                    "9": "-8762279818428416",
                                    "10": "4195078",
                                    "11": "-87659168",
                                    "12": "member"
                                },
                                {
                                    "0": "00020B17897E5C2E",
                                    "1": "classic_bike",
                                    "2": "2021-03-09 06:58:19.0000000",
                                    "3": "2021-03-09 07:18:56.0000000",
                                    "4": "Clark St & Grace St",
                                    "5": "TA1307000127",
                                    "6": "Sheffield Ave & Waveland Ave",
                                    "7": "TA1307000126",
                                    "8": "4195078",
                                    "9": "-87659168",
                                    "10": "41949400",
                                    "11": "-87654528",
                                    "12": "member"
                                }
                            ]
                        },
                        "text/html": "<table><tr><th>ride_id</th><th>rideable_type</th><th>started_at</th><th>ended_at</th><th>start_station_name</th><th>start_station_id</th><th>end_station_name</th><th>end_station_id</th><th>start_lat</th><th>start_lng</th><th>end_lat</th><th>end_lng</th><th>member_casual</th></tr><tr><td>0000465CF790D824</td><td>electric_bike</td><td>2021-03-08 18:08:23.0000000</td><td>2021-03-08 19:34:29.0000000</td><td>NULL</td><td>NULL</td><td>NULL</td><td>NULL</td><td>4192</td><td>-8772</td><td>4193</td><td>-8767</td><td>casual</td></tr><tr><td>00004F0F77E12E18</td><td>classic_bike</td><td>2021-03-24 17:08:00.0000000</td><td>2021-03-24 18:20:07.0000000</td><td>Calumet Ave &amp; 18th St</td><td>13102</td><td>Michigan Ave &amp; 18th St</td><td>13150</td><td>41857612</td><td>-87619408</td><td>41857812</td><td>-8762455</td><td>casual</td></tr><tr><td>000081CDC629355A</td><td>classic_bike</td><td>2021-03-08 17:48:21.0000000</td><td>2021-03-08 18:01:40.0000000</td><td>Ashland Ave &amp; Grand Ave</td><td>13434</td><td>Ashland Ave &amp; Grand Ave</td><td>13434</td><td>41891072</td><td>-87666608</td><td>41891072</td><td>-87666608</td><td>member</td></tr><tr><td>0000D6609083F8C8</td><td>docked_bike</td><td>2021-03-13 00:48:47.0000000</td><td>2021-03-13 01:51:12.0000000</td><td>Rush St &amp; Hubbard St</td><td>KA1503000044</td><td>Rush St &amp; Hubbard St</td><td>KA1503000044</td><td>41890172</td><td>-87626184</td><td>41890172</td><td>-87626184</td><td>casual</td></tr><tr><td>0000E746AFFDE10D</td><td>classic_bike</td><td>2021-03-07 15:56:11.0000000</td><td>2021-03-07 16:14:26.0000000</td><td>Leavitt St &amp; Division St</td><td>658</td><td>Clinton St &amp; Lake St</td><td>13021</td><td>41902996</td><td>-87683824</td><td>41885636</td><td>-87641824</td><td>member</td></tr><tr><td>00013A098E40CBAD</td><td>classic_bike</td><td>2021-03-09 16:59:32.0000000</td><td>2021-03-09 17:11:37.0000000</td><td>Theater on the Lake</td><td>TA1308000001</td><td>Broadway &amp; Barry Ave</td><td>13137</td><td>41926276</td><td>-87630832</td><td>4193758270717952</td><td>-876440958533632</td><td>casual</td></tr><tr><td>00013FFF86FF03DA</td><td>classic_bike</td><td>2021-03-08 16:35:49.0000000</td><td>2021-03-08 17:16:21.0000000</td><td>Lake Shore Dr &amp; Monroe St</td><td>13300</td><td>Lake Shore Dr &amp; Monroe St</td><td>13300</td><td>41880960</td><td>-87616744</td><td>41880960</td><td>-87616744</td><td>casual</td></tr><tr><td>0001BC6649540A9E</td><td>electric_bike</td><td>2021-03-09 09:00:54.0000000</td><td>2021-03-09 09:06:04.0000000</td><td>Ritchie Ct &amp; Banks St</td><td>KA1504000134</td><td>Clybourn Ave &amp; Division St</td><td>TA1307000115</td><td>41906936504909820</td><td>-8762620731457536</td><td>41904617222569980</td><td>-8764043976245248</td><td>member</td></tr><tr><td>0001DA2D84B47067</td><td>classic_bike</td><td>2021-03-11 17:10:19.0000000</td><td>2021-03-11 17:42:06.0000000</td><td>St. Clair St &amp; Erie St</td><td>13016</td><td>Clark St &amp; Grace St</td><td>TA1307000127</td><td>4189434580828160</td><td>-8762279818428416</td><td>4195078</td><td>-87659168</td><td>member</td></tr><tr><td>00020B17897E5C2E</td><td>classic_bike</td><td>2021-03-09 06:58:19.0000000</td><td>2021-03-09 07:18:56.0000000</td><td>Clark St &amp; Grace St</td><td>TA1307000127</td><td>Sheffield Ave &amp; Waveland Ave</td><td>TA1307000126</td><td>4195078</td><td>-87659168</td><td>41949400</td><td>-87654528</td><td>member</td></tr></table>"
                    },
                    "metadata": {}
                }
            ],
            "execution_count": 16
        },
        {
            "cell_type": "markdown",
            "source": [
                "So, after having analyzed our dataset structure, we make some calculations in order to get some inights about differences found between types of users (**member\\_casual**). I am going to include some aggregate functions like **COUNT, SUM** and **AVG:**"
            ],
            "metadata": {
                "azdata_cell_guid": "c5bfa607-7cfc-4b3d-99ec-bb5cfc0c89cd"
            },
            "attachments": {}
        },
        {
            "cell_type": "code",
            "source": [
                "--Numero de viajes, Promedio de viajes y tiempo total de viajes, por tipo de usuario (member or casual)\r\n",
                "\r\n",
                "SELECT  \r\n",
                "\tmember_casual,\r\n",
                "\tCOUNT(ride_length) AS number_of_trips, \r\n",
                "\tAVG(ride_length) AS average_ride, \r\n",
                "\tSUM(ride_length) AS total_time_trips\r\n",
                "\r\n",
                "FROM (\r\n",
                "\tSELECT\t\r\n",
                "\t\tmember_casual, \r\n",
                "\t\tDATEDIFF(SECOND,started_at, ended_at) AS ride_length \r\n",
                "\tFROM [202103-divvy-tripdata]\r\n",
                ") AS temp_table\r\n",
                "GROUP BY member_casual"
            ],
            "metadata": {
                "azdata_cell_guid": "6c4edecc-127e-4d37-b059-f19d8a753bfd",
                "language": "sql"
            },
            "outputs": [
                {
                    "output_type": "display_data",
                    "data": {
                        "text/html": "(2 rows affected)"
                    },
                    "metadata": {}
                },
                {
                    "output_type": "display_data",
                    "data": {
                        "text/html": "Total execution time: 00:00:00.044"
                    },
                    "metadata": {}
                },
                {
                    "output_type": "execute_result",
                    "metadata": {},
                    "execution_count": 1,
                    "data": {
                        "application/vnd.dataresource+json": {
                            "schema": {
                                "fields": [
                                    {
                                        "name": "member_casual"
                                    },
                                    {
                                        "name": "number_of_trips"
                                    },
                                    {
                                        "name": "average_ride"
                                    },
                                    {
                                        "name": "total_time_trips"
                                    }
                                ]
                            },
                            "data": [
                                {
                                    "0": "member",
                                    "1": "144463",
                                    "2": "838",
                                    "3": "121088499"
                                },
                                {
                                    "0": "casual",
                                    "1": "84033",
                                    "2": "2289",
                                    "3": "192395561"
                                }
                            ]
                        },
                        "text/html": [
                            "<table>",
                            "<tr><th>member_casual</th><th>number_of_trips</th><th>average_ride</th><th>total_time_trips</th></tr>",
                            "<tr><td>member</td><td>144463</td><td>838</td><td>121088499</td></tr>",
                            "<tr><td>casual</td><td>84033</td><td>2289</td><td>192395561</td></tr>",
                            "</table>"
                        ]
                    }
                }
            ],
            "execution_count": 1
        },
        {
            "cell_type": "markdown",
            "source": [
                "The _casual riders_ have less **number\\_of\\_trips** but a longer **average\\_ride** time (in minutes) than  _member riders_. Because of that, the sum of **total\\_time\\_trips** is greater in _casual riders_. We have to explore why or how this happen.\n",
                "\n",
                "Then we search a relationship between the **day\\_of\\_week** the user started the trip, by type of user (**member\\_casual**) in order to indentify some differences. But first, I look up for the mode of **date\\_of\\_week** in general terms:"
            ],
            "metadata": {
                "language": "sql",
                "azdata_cell_guid": "2c2750e7-9779-4ffd-8302-f011a87356c8"
            },
            "attachments": {}
        },
        {
            "cell_type": "code",
            "source": [
                "SELECT  \r\n",
                "\tday_of_week,\r\n",
                "\tCOUNT(day_of_week) AS number_trips\r\n",
                "FROM (\r\n",
                "\tSELECT\t\r\n",
                "\t\tmember_casual, \r\n",
                "\t\trideable_type,\r\n",
                "\t\tDATEPART(DW, started_at) AS day_of_week  \r\n",
                "\tFROM [202103-divvy-tripdata]\r\n",
                ") AS temp_table1\r\n",
                "GROUP BY day_of_week\r\n",
                "ORDER BY number_trips DESC"
            ],
            "metadata": {
                "language": "sql",
                "azdata_cell_guid": "0059a660-2bd4-4914-9c5e-adf22bb29253",
                "tags": []
            },
            "outputs": [
                {
                    "output_type": "display_data",
                    "data": {
                        "text/html": "(7 rows affected)"
                    },
                    "metadata": {}
                },
                {
                    "output_type": "display_data",
                    "data": {
                        "text/html": "Total execution time: 00:00:00.059"
                    },
                    "metadata": {}
                },
                {
                    "output_type": "execute_result",
                    "execution_count": 15,
                    "data": {
                        "application/vnd.dataresource+json": {
                            "schema": {
                                "fields": [
                                    {
                                        "name": "day_of_week"
                                    },
                                    {
                                        "name": "number_trips"
                                    }
                                ]
                            },
                            "data": [
                                {
                                    "0": "7",
                                    "1": "45252"
                                },
                                {
                                    "0": "1",
                                    "1": "35627"
                                },
                                {
                                    "0": "2",
                                    "1": "34825"
                                },
                                {
                                    "0": "3",
                                    "1": "34000"
                                },
                                {
                                    "0": "4",
                                    "1": "31669"
                                },
                                {
                                    "0": "6",
                                    "1": "25657"
                                },
                                {
                                    "0": "5",
                                    "1": "21466"
                                }
                            ]
                        },
                        "text/html": "<table><tr><th>day_of_week</th><th>number_trips</th></tr><tr><td>7</td><td>45252</td></tr><tr><td>1</td><td>35627</td></tr><tr><td>2</td><td>34825</td></tr><tr><td>3</td><td>34000</td></tr><tr><td>4</td><td>31669</td></tr><tr><td>6</td><td>25657</td></tr><tr><td>5</td><td>21466</td></tr></table>"
                    },
                    "metadata": {}
                }
            ],
            "execution_count": 15
        },
        {
            "cell_type": "markdown",
            "source": [
                "As you can see, there is an important preference for 7 (Sunday), following by 1 (Monday) in which **day\\_of\\_week** the user starts its ride (_Remember this: Monday=1 and Sunday=7)._\n",
                "Now we try to analyze the preference of **day\\_of\\_week** separated by type of user (**member\\_casual**) in order to keep trying find differences. Also we aggregate functions like **COUNT, AVG** and **SUM,** and group them by type of user(**member\\_casual**) and **day\\_of\\_week** in order to get further detail about our analysis."
            ],
            "metadata": {
                "language": "sql",
                "azdata_cell_guid": "5bf3bc6e-bfdd-46c5-8469-6f2cbf7025d9"
            },
            "attachments": {}
        },
        {
            "cell_type": "code",
            "source": [
                "\r\n",
                "SELECT  \r\n",
                "\tmember_casual,\r\n",
                "\tday_of_week,\r\n",
                "\tCOUNT(ride_length) AS number_of_trips, \r\n",
                "\tAVG(ride_length) AS average_ride, \r\n",
                "\tSUM(ride_length) AS total_time_trips\r\n",
                "\r\n",
                "FROM (\r\n",
                "\tSELECT\t\r\n",
                "\t\tmember_casual, \r\n",
                "\t\trideable_type,\r\n",
                "\t\tDATEDIFF(SECOND,started_at, ended_at) AS ride_length,  \r\n",
                "\t\tDATEPART(DW, started_at) AS day_of_week\t\r\n",
                "\tFROM [202103-divvy-tripdata]\r\n",
                ") AS temp_table\r\n",
                "WHERE member_casual='casual'\r\n",
                "GROUP BY member_casual, day_of_week\r\n",
                "ORDER BY member_casual, number_of_trips DESC\r\n",
                "------------------------------------------------------------------\r\n",
                "\r\n",
                "SELECT  \r\n",
                "\tmember_casual,\r\n",
                "\tday_of_week,\r\n",
                "\tCOUNT(ride_length) AS number_of_trips, \r\n",
                "\tAVG(ride_length) AS average_ride, \r\n",
                "\tSUM(ride_length) AS total_time_trips\r\n",
                "\r\n",
                "FROM (\r\n",
                "\tSELECT\t\r\n",
                "\t\tmember_casual, \r\n",
                "\t\trideable_type,\r\n",
                "\t\tDATEDIFF(SECOND,started_at, ended_at) AS ride_length,  \r\n",
                "\t\tDATEPART(DW, started_at) AS day_of_week\t\r\n",
                "\tFROM [202103-divvy-tripdata]\r\n",
                ") AS temp_table\r\n",
                "WHERE member_casual='member'\r\n",
                "GROUP BY member_casual, day_of_week\r\n",
                "ORDER BY member_casual, number_of_trips DESC"
            ],
            "metadata": {
                "language": "sql",
                "azdata_cell_guid": "b33b47e3-988a-4476-896c-3d8a71cc0580"
            },
            "outputs": [
                {
                    "output_type": "display_data",
                    "data": {
                        "text/html": "(7 rows affected)"
                    },
                    "metadata": {}
                },
                {
                    "output_type": "display_data",
                    "data": {
                        "text/html": "(7 rows affected)"
                    },
                    "metadata": {}
                },
                {
                    "output_type": "display_data",
                    "data": {
                        "text/html": "Total execution time: 00:00:00.120"
                    },
                    "metadata": {}
                },
                {
                    "output_type": "execute_result",
                    "metadata": {},
                    "execution_count": 4,
                    "data": {
                        "application/vnd.dataresource+json": {
                            "schema": {
                                "fields": [
                                    {
                                        "name": "member_casual"
                                    },
                                    {
                                        "name": "day_of_week"
                                    },
                                    {
                                        "name": "number_of_trips"
                                    },
                                    {
                                        "name": "average_ride"
                                    },
                                    {
                                        "name": "total_time_trips"
                                    }
                                ]
                            },
                            "data": [
                                {
                                    "0": "casual",
                                    "1": "7",
                                    "2": "22090",
                                    "3": "2537",
                                    "4": "56063610"
                                },
                                {
                                    "0": "casual",
                                    "1": "1",
                                    "2": "17342",
                                    "3": "2481",
                                    "4": "43041420"
                                },
                                {
                                    "0": "casual",
                                    "1": "2",
                                    "2": "11990",
                                    "3": "2648",
                                    "4": "31752832"
                                },
                                {
                                    "0": "casual",
                                    "1": "3",
                                    "2": "10463",
                                    "3": "2160",
                                    "4": "22608134"
                                },
                                {
                                    "0": "casual",
                                    "1": "4",
                                    "2": "8883",
                                    "3": "1724",
                                    "4": "15316765"
                                },
                                {
                                    "0": "casual",
                                    "1": "6",
                                    "2": "7777",
                                    "3": "1751",
                                    "4": "13623522"
                                },
                                {
                                    "0": "casual",
                                    "1": "5",
                                    "2": "5488",
                                    "3": "1820",
                                    "4": "9989278"
                                }
                            ]
                        },
                        "text/html": [
                            "<table>",
                            "<tr><th>member_casual</th><th>day_of_week</th><th>number_of_trips</th><th>average_ride</th><th>total_time_trips</th></tr>",
                            "<tr><td>casual</td><td>7</td><td>22090</td><td>2537</td><td>56063610</td></tr>",
                            "<tr><td>casual</td><td>1</td><td>17342</td><td>2481</td><td>43041420</td></tr>",
                            "<tr><td>casual</td><td>2</td><td>11990</td><td>2648</td><td>31752832</td></tr>",
                            "<tr><td>casual</td><td>3</td><td>10463</td><td>2160</td><td>22608134</td></tr>",
                            "<tr><td>casual</td><td>4</td><td>8883</td><td>1724</td><td>15316765</td></tr>",
                            "<tr><td>casual</td><td>6</td><td>7777</td><td>1751</td><td>13623522</td></tr>",
                            "<tr><td>casual</td><td>5</td><td>5488</td><td>1820</td><td>9989278</td></tr>",
                            "</table>"
                        ]
                    }
                },
                {
                    "output_type": "execute_result",
                    "metadata": {},
                    "execution_count": 4,
                    "data": {
                        "application/vnd.dataresource+json": {
                            "schema": {
                                "fields": [
                                    {
                                        "name": "member_casual"
                                    },
                                    {
                                        "name": "day_of_week"
                                    },
                                    {
                                        "name": "number_of_trips"
                                    },
                                    {
                                        "name": "average_ride"
                                    },
                                    {
                                        "name": "total_time_trips"
                                    }
                                ]
                            },
                            "data": [
                                {
                                    "0": "member",
                                    "1": "3",
                                    "2": "23537",
                                    "3": "808",
                                    "4": "19037584"
                                },
                                {
                                    "0": "member",
                                    "1": "7",
                                    "2": "23162",
                                    "3": "952",
                                    "4": "22060680"
                                },
                                {
                                    "0": "member",
                                    "1": "2",
                                    "2": "22835",
                                    "3": "847",
                                    "4": "19357166"
                                },
                                {
                                    "0": "member",
                                    "1": "4",
                                    "2": "22786",
                                    "3": "775",
                                    "4": "17666738"
                                },
                                {
                                    "0": "member",
                                    "1": "1",
                                    "2": "18285",
                                    "3": "969",
                                    "4": "17721068"
                                },
                                {
                                    "0": "member",
                                    "1": "6",
                                    "2": "17880",
                                    "3": "765",
                                    "4": "13678611"
                                },
                                {
                                    "0": "member",
                                    "1": "5",
                                    "2": "15978",
                                    "3": "723",
                                    "4": "11566652"
                                }
                            ]
                        },
                        "text/html": [
                            "<table>",
                            "<tr><th>member_casual</th><th>day_of_week</th><th>number_of_trips</th><th>average_ride</th><th>total_time_trips</th></tr>",
                            "<tr><td>member</td><td>3</td><td>23537</td><td>808</td><td>19037584</td></tr>",
                            "<tr><td>member</td><td>7</td><td>23162</td><td>952</td><td>22060680</td></tr>",
                            "<tr><td>member</td><td>2</td><td>22835</td><td>847</td><td>19357166</td></tr>",
                            "<tr><td>member</td><td>4</td><td>22786</td><td>775</td><td>17666738</td></tr>",
                            "<tr><td>member</td><td>1</td><td>18285</td><td>969</td><td>17721068</td></tr>",
                            "<tr><td>member</td><td>6</td><td>17880</td><td>765</td><td>13678611</td></tr>",
                            "<tr><td>member</td><td>5</td><td>15978</td><td>723</td><td>11566652</td></tr>",
                            "</table>"
                        ]
                    }
                }
            ],
            "execution_count": 4
        },
        {
            "cell_type": "markdown",
            "source": [
                "From the tables shown above, we can conclude the following:\n",
                "\n",
                "- There is differences of which **day\\_of\\_week** each type of user prefer take the ride. The **number\\_of\\_trips** column shows us that _casual riders_ prefer Sunday followed by Monday, and _member riders_ prefer Wednesday followed by Sunday.\n",
                "- Also, wee can see which **day\\_of\\_week** the **average\\_ride** time (in minutes) is longer. In the case of _casual riders_, the **average\\_ride** time is longer in Tuesday (44 minutes), Sunday (42) and Monday (41).\n",
                "- For _member riders_, the longer **average\\_ride** time are shorter than _casual riders:_ Monday (16 minutes), Sunday (15 ) and Tuesday (14). The average times of _member riders_ are more atomized than _casual riders._\n",
                "- Notice that there is not much correlation between **average\\_ride** time of each **day\\_of\\_week** and the **number\\_of\\_trips** grouped by **day\\_of\\_week**.\n",
                "\n",
                " So, we explore a little more into data, looking  which the longest trips are (in _Hours_ because of the magnitude of longest ride\\_length):"
            ],
            "metadata": {
                "language": "sql",
                "azdata_cell_guid": "15256081-120e-40ab-9268-6b3200c82325"
            },
            "attachments": {}
        },
        {
            "cell_type": "code",
            "source": [
                "SELECT TOP 50\r\n",
                "\tmember_casual,\r\n",
                "\tstarted_at,\r\n",
                "\tended_at,\r\n",
                "\tDATEDIFF(HOUR,started_at,ended_at) AS ride_length,\r\n",
                "\tDATEPART(DW, started_at) AS day_of_week,    -- DAY OF THE WEEK (1 TO 7)\r\n",
                "\trideable_type\r\n",
                "\r\n",
                "FROM [202103-divvy-tripdata]\r\n",
                "ORDER BY ride_length desc\r\n",
                ""
            ],
            "metadata": {
                "language": "sql",
                "azdata_cell_guid": "7ffc9c1f-06ba-496c-a2e7-f8315b9d60b6"
            },
            "outputs": [
                {
                    "output_type": "display_data",
                    "data": {
                        "text/html": "(50 rows affected)"
                    },
                    "metadata": {}
                },
                {
                    "output_type": "display_data",
                    "data": {
                        "text/html": "Total execution time: 00:00:00.080"
                    },
                    "metadata": {}
                },
                {
                    "output_type": "execute_result",
                    "execution_count": 10,
                    "data": {
                        "application/vnd.dataresource+json": {
                            "schema": {
                                "fields": [
                                    {
                                        "name": "member_casual"
                                    },
                                    {
                                        "name": "started_at"
                                    },
                                    {
                                        "name": "ended_at"
                                    },
                                    {
                                        "name": "ride_length"
                                    },
                                    {
                                        "name": "day_of_week"
                                    },
                                    {
                                        "name": "rideable_type"
                                    }
                                ]
                            },
                            "data": [
                                {
                                    "0": "casual",
                                    "1": "2021-03-08 16:48:24.0000000",
                                    "2": "2021-03-30 16:50:03.0000000",
                                    "3": "528",
                                    "4": "2",
                                    "5": "docked_bike"
                                },
                                {
                                    "0": "casual",
                                    "1": "2021-03-19 14:11:08.0000000",
                                    "2": "2021-04-02 12:45:14.0000000",
                                    "3": "334",
                                    "4": "6",
                                    "5": "docked_bike"
                                },
                                {
                                    "0": "casual",
                                    "1": "2021-03-02 17:48:41.0000000",
                                    "2": "2021-03-15 09:39:25.0000000",
                                    "3": "304",
                                    "4": "3",
                                    "5": "docked_bike"
                                },
                                {
                                    "0": "casual",
                                    "1": "2021-03-06 22:37:58.0000000",
                                    "2": "2021-03-18 22:08:43.0000000",
                                    "3": "288",
                                    "4": "7",
                                    "5": "docked_bike"
                                },
                                {
                                    "0": "casual",
                                    "1": "2021-03-06 22:58:09.0000000",
                                    "2": "2021-03-18 22:09:49.0000000",
                                    "3": "288",
                                    "4": "7",
                                    "5": "docked_bike"
                                },
                                {
                                    "0": "casual",
                                    "1": "2021-03-22 13:22:48.0000000",
                                    "2": "2021-04-02 14:27:23.0000000",
                                    "3": "265",
                                    "4": "2",
                                    "5": "docked_bike"
                                },
                                {
                                    "0": "casual",
                                    "1": "2021-03-20 17:35:12.0000000",
                                    "2": "2021-03-30 13:56:23.0000000",
                                    "3": "236",
                                    "4": "7",
                                    "5": "docked_bike"
                                },
                                {
                                    "0": "casual",
                                    "1": "2021-03-18 21:23:58.0000000",
                                    "2": "2021-03-27 22:05:30.0000000",
                                    "3": "217",
                                    "4": "5",
                                    "5": "docked_bike"
                                },
                                {
                                    "0": "casual",
                                    "1": "2021-03-20 23:58:11.0000000",
                                    "2": "2021-03-29 17:01:59.0000000",
                                    "3": "210",
                                    "4": "7",
                                    "5": "docked_bike"
                                },
                                {
                                    "0": "casual",
                                    "1": "2021-03-21 18:20:50.0000000",
                                    "2": "2021-03-29 21:30:13.0000000",
                                    "3": "195",
                                    "4": "1",
                                    "5": "docked_bike"
                                },
                                {
                                    "0": "casual",
                                    "1": "2021-03-04 06:29:39.0000000",
                                    "2": "2021-03-12 08:11:12.0000000",
                                    "3": "194",
                                    "4": "5",
                                    "5": "docked_bike"
                                },
                                {
                                    "0": "casual",
                                    "1": "2021-03-27 18:45:45.0000000",
                                    "2": "2021-04-04 16:47:58.0000000",
                                    "3": "190",
                                    "4": "7",
                                    "5": "docked_bike"
                                },
                                {
                                    "0": "casual",
                                    "1": "2021-03-27 18:46:55.0000000",
                                    "2": "2021-04-04 16:47:51.0000000",
                                    "3": "190",
                                    "4": "7",
                                    "5": "docked_bike"
                                },
                                {
                                    "0": "casual",
                                    "1": "2021-03-29 17:51:38.0000000",
                                    "2": "2021-04-06 11:00:11.0000000",
                                    "3": "186",
                                    "4": "2",
                                    "5": "docked_bike"
                                },
                                {
                                    "0": "casual",
                                    "1": "2021-03-13 18:06:47.0000000",
                                    "2": "2021-03-20 13:39:11.0000000",
                                    "3": "163",
                                    "4": "7",
                                    "5": "docked_bike"
                                },
                                {
                                    "0": "casual",
                                    "1": "2021-03-13 16:11:22.0000000",
                                    "2": "2021-03-20 10:40:50.0000000",
                                    "3": "162",
                                    "4": "7",
                                    "5": "docked_bike"
                                },
                                {
                                    "0": "casual",
                                    "1": "2021-03-21 03:01:27.0000000",
                                    "2": "2021-03-26 16:25:50.0000000",
                                    "3": "133",
                                    "4": "1",
                                    "5": "docked_bike"
                                },
                                {
                                    "0": "casual",
                                    "1": "2021-03-27 13:06:02.0000000",
                                    "2": "2021-04-01 14:24:53.0000000",
                                    "3": "121",
                                    "4": "7",
                                    "5": "docked_bike"
                                },
                                {
                                    "0": "casual",
                                    "1": "2021-03-09 21:50:04.0000000",
                                    "2": "2021-03-14 15:50:31.0000000",
                                    "3": "114",
                                    "4": "3",
                                    "5": "docked_bike"
                                },
                                {
                                    "0": "casual",
                                    "1": "2021-03-08 15:21:19.0000000",
                                    "2": "2021-03-13 08:47:35.0000000",
                                    "3": "113",
                                    "4": "2",
                                    "5": "docked_bike"
                                },
                                {
                                    "0": "casual",
                                    "1": "2021-03-20 23:21:49.0000000",
                                    "2": "2021-03-25 14:24:40.0000000",
                                    "3": "111",
                                    "4": "7",
                                    "5": "docked_bike"
                                },
                                {
                                    "0": "casual",
                                    "1": "2021-03-29 01:46:36.0000000",
                                    "2": "2021-04-02 14:48:35.0000000",
                                    "3": "109",
                                    "4": "2",
                                    "5": "docked_bike"
                                },
                                {
                                    "0": "casual",
                                    "1": "2021-03-25 10:57:10.0000000",
                                    "2": "2021-03-29 21:03:00.0000000",
                                    "3": "107",
                                    "4": "5",
                                    "5": "docked_bike"
                                },
                                {
                                    "0": "casual",
                                    "1": "2021-03-13 12:41:53.0000000",
                                    "2": "2021-03-17 14:09:09.0000000",
                                    "3": "98",
                                    "4": "7",
                                    "5": "docked_bike"
                                },
                                {
                                    "0": "casual",
                                    "1": "2021-03-06 15:11:04.0000000",
                                    "2": "2021-03-10 17:56:26.0000000",
                                    "3": "98",
                                    "4": "7",
                                    "5": "docked_bike"
                                },
                                {
                                    "0": "casual",
                                    "1": "2021-03-30 17:56:50.0000000",
                                    "2": "2021-04-03 18:05:14.0000000",
                                    "3": "97",
                                    "4": "3",
                                    "5": "docked_bike"
                                },
                                {
                                    "0": "casual",
                                    "1": "2021-03-20 16:06:03.0000000",
                                    "2": "2021-03-24 15:34:59.0000000",
                                    "3": "95",
                                    "4": "7",
                                    "5": "docked_bike"
                                },
                                {
                                    "0": "casual",
                                    "1": "2021-03-30 17:56:35.0000000",
                                    "2": "2021-04-03 16:35:09.0000000",
                                    "3": "95",
                                    "4": "3",
                                    "5": "docked_bike"
                                },
                                {
                                    "0": "casual",
                                    "1": "2021-03-06 12:15:04.0000000",
                                    "2": "2021-03-09 18:19:53.0000000",
                                    "3": "78",
                                    "4": "7",
                                    "5": "docked_bike"
                                },
                                {
                                    "0": "casual",
                                    "1": "2021-03-27 16:08:12.0000000",
                                    "2": "2021-03-30 20:01:08.0000000",
                                    "3": "76",
                                    "4": "7",
                                    "5": "docked_bike"
                                },
                                {
                                    "0": "casual",
                                    "1": "2021-03-30 16:50:55.0000000",
                                    "2": "2021-04-02 19:30:07.0000000",
                                    "3": "75",
                                    "4": "3",
                                    "5": "docked_bike"
                                },
                                {
                                    "0": "casual",
                                    "1": "2021-03-24 13:55:04.0000000",
                                    "2": "2021-03-27 15:56:33.0000000",
                                    "3": "74",
                                    "4": "4",
                                    "5": "docked_bike"
                                },
                                {
                                    "0": "casual",
                                    "1": "2021-03-13 11:08:25.0000000",
                                    "2": "2021-03-16 12:14:52.0000000",
                                    "3": "73",
                                    "4": "7",
                                    "5": "docked_bike"
                                },
                                {
                                    "0": "casual",
                                    "1": "2021-03-10 16:54:19.0000000",
                                    "2": "2021-03-13 13:47:50.0000000",
                                    "3": "69",
                                    "4": "4",
                                    "5": "docked_bike"
                                },
                                {
                                    "0": "casual",
                                    "1": "2021-03-22 17:23:38.0000000",
                                    "2": "2021-03-25 13:56:59.0000000",
                                    "3": "68",
                                    "4": "2",
                                    "5": "docked_bike"
                                },
                                {
                                    "0": "casual",
                                    "1": "2021-03-06 17:19:07.0000000",
                                    "2": "2021-03-09 13:10:54.0000000",
                                    "3": "68",
                                    "4": "7",
                                    "5": "docked_bike"
                                },
                                {
                                    "0": "casual",
                                    "1": "2021-03-06 22:49:31.0000000",
                                    "2": "2021-03-09 17:05:49.0000000",
                                    "3": "67",
                                    "4": "7",
                                    "5": "docked_bike"
                                },
                                {
                                    "0": "casual",
                                    "1": "2021-03-14 20:41:23.0000000",
                                    "2": "2021-03-17 12:17:39.0000000",
                                    "3": "64",
                                    "4": "1",
                                    "5": "docked_bike"
                                },
                                {
                                    "0": "casual",
                                    "1": "2021-03-28 01:35:15.0000000",
                                    "2": "2021-03-30 16:19:18.0000000",
                                    "3": "63",
                                    "4": "1",
                                    "5": "docked_bike"
                                },
                                {
                                    "0": "casual",
                                    "1": "2021-03-29 01:38:19.0000000",
                                    "2": "2021-03-31 15:31:40.0000000",
                                    "3": "62",
                                    "4": "2",
                                    "5": "docked_bike"
                                },
                                {
                                    "0": "casual",
                                    "1": "2021-03-29 23:31:08.0000000",
                                    "2": "2021-04-01 09:19:18.0000000",
                                    "3": "58",
                                    "4": "2",
                                    "5": "docked_bike"
                                },
                                {
                                    "0": "casual",
                                    "1": "2021-03-06 08:39:01.0000000",
                                    "2": "2021-03-08 17:24:54.0000000",
                                    "3": "57",
                                    "4": "7",
                                    "5": "docked_bike"
                                },
                                {
                                    "0": "casual",
                                    "1": "2021-03-17 10:41:28.0000000",
                                    "2": "2021-03-19 17:39:56.0000000",
                                    "3": "55",
                                    "4": "4",
                                    "5": "docked_bike"
                                },
                                {
                                    "0": "casual",
                                    "1": "2021-03-07 10:49:04.0000000",
                                    "2": "2021-03-09 15:45:46.0000000",
                                    "3": "53",
                                    "4": "1",
                                    "5": "docked_bike"
                                },
                                {
                                    "0": "casual",
                                    "1": "2021-03-24 13:51:00.0000000",
                                    "2": "2021-03-26 16:24:15.0000000",
                                    "3": "51",
                                    "4": "4",
                                    "5": "docked_bike"
                                },
                                {
                                    "0": "casual",
                                    "1": "2021-03-22 14:46:42.0000000",
                                    "2": "2021-03-24 15:15:09.0000000",
                                    "3": "49",
                                    "4": "2",
                                    "5": "docked_bike"
                                },
                                {
                                    "0": "casual",
                                    "1": "2021-03-30 16:19:11.0000000",
                                    "2": "2021-04-01 17:36:09.0000000",
                                    "3": "49",
                                    "4": "3",
                                    "5": "docked_bike"
                                },
                                {
                                    "0": "casual",
                                    "1": "2021-03-06 08:10:34.0000000",
                                    "2": "2021-03-08 09:05:40.0000000",
                                    "3": "49",
                                    "4": "7",
                                    "5": "docked_bike"
                                },
                                {
                                    "0": "casual",
                                    "1": "2021-03-30 13:44:27.0000000",
                                    "2": "2021-04-01 13:25:13.0000000",
                                    "3": "48",
                                    "4": "3",
                                    "5": "docked_bike"
                                },
                                {
                                    "0": "casual",
                                    "1": "2021-03-14 13:46:23.0000000",
                                    "2": "2021-03-16 12:00:22.0000000",
                                    "3": "47",
                                    "4": "1",
                                    "5": "docked_bike"
                                }
                            ]
                        },
                        "text/html": "<table><tr><th>member_casual</th><th>started_at</th><th>ended_at</th><th>ride_length</th><th>day_of_week</th><th>rideable_type</th></tr><tr><td>casual</td><td>2021-03-08 16:48:24.0000000</td><td>2021-03-30 16:50:03.0000000</td><td>528</td><td>2</td><td>docked_bike</td></tr><tr><td>casual</td><td>2021-03-19 14:11:08.0000000</td><td>2021-04-02 12:45:14.0000000</td><td>334</td><td>6</td><td>docked_bike</td></tr><tr><td>casual</td><td>2021-03-02 17:48:41.0000000</td><td>2021-03-15 09:39:25.0000000</td><td>304</td><td>3</td><td>docked_bike</td></tr><tr><td>casual</td><td>2021-03-06 22:37:58.0000000</td><td>2021-03-18 22:08:43.0000000</td><td>288</td><td>7</td><td>docked_bike</td></tr><tr><td>casual</td><td>2021-03-06 22:58:09.0000000</td><td>2021-03-18 22:09:49.0000000</td><td>288</td><td>7</td><td>docked_bike</td></tr><tr><td>casual</td><td>2021-03-22 13:22:48.0000000</td><td>2021-04-02 14:27:23.0000000</td><td>265</td><td>2</td><td>docked_bike</td></tr><tr><td>casual</td><td>2021-03-20 17:35:12.0000000</td><td>2021-03-30 13:56:23.0000000</td><td>236</td><td>7</td><td>docked_bike</td></tr><tr><td>casual</td><td>2021-03-18 21:23:58.0000000</td><td>2021-03-27 22:05:30.0000000</td><td>217</td><td>5</td><td>docked_bike</td></tr><tr><td>casual</td><td>2021-03-20 23:58:11.0000000</td><td>2021-03-29 17:01:59.0000000</td><td>210</td><td>7</td><td>docked_bike</td></tr><tr><td>casual</td><td>2021-03-21 18:20:50.0000000</td><td>2021-03-29 21:30:13.0000000</td><td>195</td><td>1</td><td>docked_bike</td></tr><tr><td>casual</td><td>2021-03-04 06:29:39.0000000</td><td>2021-03-12 08:11:12.0000000</td><td>194</td><td>5</td><td>docked_bike</td></tr><tr><td>casual</td><td>2021-03-27 18:45:45.0000000</td><td>2021-04-04 16:47:58.0000000</td><td>190</td><td>7</td><td>docked_bike</td></tr><tr><td>casual</td><td>2021-03-27 18:46:55.0000000</td><td>2021-04-04 16:47:51.0000000</td><td>190</td><td>7</td><td>docked_bike</td></tr><tr><td>casual</td><td>2021-03-29 17:51:38.0000000</td><td>2021-04-06 11:00:11.0000000</td><td>186</td><td>2</td><td>docked_bike</td></tr><tr><td>casual</td><td>2021-03-13 18:06:47.0000000</td><td>2021-03-20 13:39:11.0000000</td><td>163</td><td>7</td><td>docked_bike</td></tr><tr><td>casual</td><td>2021-03-13 16:11:22.0000000</td><td>2021-03-20 10:40:50.0000000</td><td>162</td><td>7</td><td>docked_bike</td></tr><tr><td>casual</td><td>2021-03-21 03:01:27.0000000</td><td>2021-03-26 16:25:50.0000000</td><td>133</td><td>1</td><td>docked_bike</td></tr><tr><td>casual</td><td>2021-03-27 13:06:02.0000000</td><td>2021-04-01 14:24:53.0000000</td><td>121</td><td>7</td><td>docked_bike</td></tr><tr><td>casual</td><td>2021-03-09 21:50:04.0000000</td><td>2021-03-14 15:50:31.0000000</td><td>114</td><td>3</td><td>docked_bike</td></tr><tr><td>casual</td><td>2021-03-08 15:21:19.0000000</td><td>2021-03-13 08:47:35.0000000</td><td>113</td><td>2</td><td>docked_bike</td></tr><tr><td>casual</td><td>2021-03-20 23:21:49.0000000</td><td>2021-03-25 14:24:40.0000000</td><td>111</td><td>7</td><td>docked_bike</td></tr><tr><td>casual</td><td>2021-03-29 01:46:36.0000000</td><td>2021-04-02 14:48:35.0000000</td><td>109</td><td>2</td><td>docked_bike</td></tr><tr><td>casual</td><td>2021-03-25 10:57:10.0000000</td><td>2021-03-29 21:03:00.0000000</td><td>107</td><td>5</td><td>docked_bike</td></tr><tr><td>casual</td><td>2021-03-13 12:41:53.0000000</td><td>2021-03-17 14:09:09.0000000</td><td>98</td><td>7</td><td>docked_bike</td></tr><tr><td>casual</td><td>2021-03-06 15:11:04.0000000</td><td>2021-03-10 17:56:26.0000000</td><td>98</td><td>7</td><td>docked_bike</td></tr><tr><td>casual</td><td>2021-03-30 17:56:50.0000000</td><td>2021-04-03 18:05:14.0000000</td><td>97</td><td>3</td><td>docked_bike</td></tr><tr><td>casual</td><td>2021-03-20 16:06:03.0000000</td><td>2021-03-24 15:34:59.0000000</td><td>95</td><td>7</td><td>docked_bike</td></tr><tr><td>casual</td><td>2021-03-30 17:56:35.0000000</td><td>2021-04-03 16:35:09.0000000</td><td>95</td><td>3</td><td>docked_bike</td></tr><tr><td>casual</td><td>2021-03-06 12:15:04.0000000</td><td>2021-03-09 18:19:53.0000000</td><td>78</td><td>7</td><td>docked_bike</td></tr><tr><td>casual</td><td>2021-03-27 16:08:12.0000000</td><td>2021-03-30 20:01:08.0000000</td><td>76</td><td>7</td><td>docked_bike</td></tr><tr><td>casual</td><td>2021-03-30 16:50:55.0000000</td><td>2021-04-02 19:30:07.0000000</td><td>75</td><td>3</td><td>docked_bike</td></tr><tr><td>casual</td><td>2021-03-24 13:55:04.0000000</td><td>2021-03-27 15:56:33.0000000</td><td>74</td><td>4</td><td>docked_bike</td></tr><tr><td>casual</td><td>2021-03-13 11:08:25.0000000</td><td>2021-03-16 12:14:52.0000000</td><td>73</td><td>7</td><td>docked_bike</td></tr><tr><td>casual</td><td>2021-03-10 16:54:19.0000000</td><td>2021-03-13 13:47:50.0000000</td><td>69</td><td>4</td><td>docked_bike</td></tr><tr><td>casual</td><td>2021-03-22 17:23:38.0000000</td><td>2021-03-25 13:56:59.0000000</td><td>68</td><td>2</td><td>docked_bike</td></tr><tr><td>casual</td><td>2021-03-06 17:19:07.0000000</td><td>2021-03-09 13:10:54.0000000</td><td>68</td><td>7</td><td>docked_bike</td></tr><tr><td>casual</td><td>2021-03-06 22:49:31.0000000</td><td>2021-03-09 17:05:49.0000000</td><td>67</td><td>7</td><td>docked_bike</td></tr><tr><td>casual</td><td>2021-03-14 20:41:23.0000000</td><td>2021-03-17 12:17:39.0000000</td><td>64</td><td>1</td><td>docked_bike</td></tr><tr><td>casual</td><td>2021-03-28 01:35:15.0000000</td><td>2021-03-30 16:19:18.0000000</td><td>63</td><td>1</td><td>docked_bike</td></tr><tr><td>casual</td><td>2021-03-29 01:38:19.0000000</td><td>2021-03-31 15:31:40.0000000</td><td>62</td><td>2</td><td>docked_bike</td></tr><tr><td>casual</td><td>2021-03-29 23:31:08.0000000</td><td>2021-04-01 09:19:18.0000000</td><td>58</td><td>2</td><td>docked_bike</td></tr><tr><td>casual</td><td>2021-03-06 08:39:01.0000000</td><td>2021-03-08 17:24:54.0000000</td><td>57</td><td>7</td><td>docked_bike</td></tr><tr><td>casual</td><td>2021-03-17 10:41:28.0000000</td><td>2021-03-19 17:39:56.0000000</td><td>55</td><td>4</td><td>docked_bike</td></tr><tr><td>casual</td><td>2021-03-07 10:49:04.0000000</td><td>2021-03-09 15:45:46.0000000</td><td>53</td><td>1</td><td>docked_bike</td></tr><tr><td>casual</td><td>2021-03-24 13:51:00.0000000</td><td>2021-03-26 16:24:15.0000000</td><td>51</td><td>4</td><td>docked_bike</td></tr><tr><td>casual</td><td>2021-03-22 14:46:42.0000000</td><td>2021-03-24 15:15:09.0000000</td><td>49</td><td>2</td><td>docked_bike</td></tr><tr><td>casual</td><td>2021-03-30 16:19:11.0000000</td><td>2021-04-01 17:36:09.0000000</td><td>49</td><td>3</td><td>docked_bike</td></tr><tr><td>casual</td><td>2021-03-06 08:10:34.0000000</td><td>2021-03-08 09:05:40.0000000</td><td>49</td><td>7</td><td>docked_bike</td></tr><tr><td>casual</td><td>2021-03-30 13:44:27.0000000</td><td>2021-04-01 13:25:13.0000000</td><td>48</td><td>3</td><td>docked_bike</td></tr><tr><td>casual</td><td>2021-03-14 13:46:23.0000000</td><td>2021-03-16 12:00:22.0000000</td><td>47</td><td>1</td><td>docked_bike</td></tr></table>"
                    },
                    "metadata": {}
                }
            ],
            "execution_count": 10
        },
        {
            "cell_type": "markdown",
            "source": [
                "The results show an anomaly in the r**ide\\_length** of the longest rides. Some insights we capture:\n",
                "\n",
                "- The duration of the longest ride is 528 hours, which is too much in my opinion. \n",
                "- Then the second one is 334 hours, and so on until completing the top 100 with 25 hours. \n",
                "- All the three-digits duration rides are which **rideable\\_type** are _'docked\\_bikes'_ and the type of rider (**member\\_casual**) is _casual ._\n",
                "- We also found that these very long rides are mainly from _casual riders_. \n",
                "- The longest ride from _member riders_ is 26 hours (row n°80)."
            ],
            "metadata": {
                "language": "sql",
                "azdata_cell_guid": "1ac1ce12-4cfd-48a5-a9f9-67f43622679b"
            },
            "attachments": {}
        },
        {
            "cell_type": "markdown",
            "source": [
                "Now we take a deeper look at  **rideable\\_types** separated by types of users (**member\\_casual**):"
            ],
            "metadata": {
                "language": "sql",
                "azdata_cell_guid": "898afa11-0039-454b-add9-59efe8e2dc49"
            },
            "attachments": {}
        },
        {
            "cell_type": "code",
            "source": [
                "SELECT  \r\n",
                "\tmember_casual,\r\n",
                "\trideable_type,\r\n",
                "\tCOUNT(ride_length) AS number_of_trips, \r\n",
                "\tAVG(ride_length) AS average_ride, \r\n",
                "\tSUM(ride_length) AS total_time_trips\r\n",
                "\r\n",
                "FROM (\r\n",
                "\tSELECT\t\r\n",
                "\t\tmember_casual, \r\n",
                "\t\trideable_type,\r\n",
                "\t\tDATEDIFF(MINUTE,started_at, ended_at) AS ride_length,  --CREAR UNA TABLA TABLA CON TODOS LOS CALCULOS \r\n",
                "\t\tDATEPART(DW, started_at) AS day_of_week\t\r\n",
                "\tFROM [202103-divvy-tripdata]\r\n",
                ") AS temp_table\r\n",
                "WHERE member_casual='casual'\r\n",
                "GROUP BY member_casual, rideable_type\r\n",
                "ORDER BY member_casual, number_of_trips DESC\r\n",
                "\r\n",
                "\r\n",
                "SELECT  \r\n",
                "\tmember_casual,\r\n",
                "\trideable_type,\r\n",
                "\tCOUNT(ride_length) AS number_of_trips, \r\n",
                "\tAVG(ride_length) AS average_ride, \r\n",
                "\tSUM(ride_length) AS total_time_trips\r\n",
                "\r\n",
                "FROM (\r\n",
                "\tSELECT\t\r\n",
                "\t\tmember_casual, \r\n",
                "\t\trideable_type,\r\n",
                "\t\tDATEDIFF(MINUTE,started_at, ended_at) AS ride_length,  --CREAR UNA TABLA TABLA CON TODOS LOS CALCULOS \r\n",
                "\t\tDATEPART(DW, started_at) AS day_of_week\t\r\n",
                "\tFROM [202103-divvy-tripdata]\r\n",
                ") AS temp_table\r\n",
                "WHERE member_casual='member'\r\n",
                "GROUP BY member_casual, rideable_type\r\n",
                "ORDER BY member_casual, number_of_trips DESC\r\n",
                ""
            ],
            "metadata": {
                "language": "sql",
                "azdata_cell_guid": "9dcec958-011b-40b4-b5a6-7fc11f2f390c"
            },
            "outputs": [
                {
                    "output_type": "display_data",
                    "data": {
                        "text/html": "(3 rows affected)"
                    },
                    "metadata": {}
                },
                {
                    "output_type": "display_data",
                    "data": {
                        "text/html": "(2 rows affected)"
                    },
                    "metadata": {}
                },
                {
                    "output_type": "display_data",
                    "data": {
                        "text/html": "Total execution time: 00:00:00.453"
                    },
                    "metadata": {}
                },
                {
                    "output_type": "execute_result",
                    "execution_count": 3,
                    "data": {
                        "application/vnd.dataresource+json": {
                            "schema": {
                                "fields": [
                                    {
                                        "name": "member_casual"
                                    },
                                    {
                                        "name": "rideable_type"
                                    },
                                    {
                                        "name": "number_of_trips"
                                    },
                                    {
                                        "name": "average_ride"
                                    },
                                    {
                                        "name": "total_time_trips"
                                    }
                                ]
                            },
                            "data": [
                                {
                                    "0": "casual",
                                    "1": "classic_bike",
                                    "2": "45528",
                                    "3": "31",
                                    "4": "1435951"
                                },
                                {
                                    "0": "casual",
                                    "1": "electric_bike",
                                    "2": "22848",
                                    "3": "21",
                                    "4": "492410"
                                },
                                {
                                    "0": "casual",
                                    "1": "docked_bike",
                                    "2": "15657",
                                    "3": "81",
                                    "4": "1278390"
                                }
                            ]
                        },
                        "text/html": "<table><tr><th>member_casual</th><th>rideable_type</th><th>number_of_trips</th><th>average_ride</th><th>total_time_trips</th></tr><tr><td>casual</td><td>classic_bike</td><td>45528</td><td>31</td><td>1435951</td></tr><tr><td>casual</td><td>electric_bike</td><td>22848</td><td>21</td><td>492410</td></tr><tr><td>casual</td><td>docked_bike</td><td>15657</td><td>81</td><td>1278390</td></tr></table>"
                    },
                    "metadata": {}
                },
                {
                    "output_type": "execute_result",
                    "execution_count": 3,
                    "data": {
                        "application/vnd.dataresource+json": {
                            "schema": {
                                "fields": [
                                    {
                                        "name": "member_casual"
                                    },
                                    {
                                        "name": "rideable_type"
                                    },
                                    {
                                        "name": "number_of_trips"
                                    },
                                    {
                                        "name": "average_ride"
                                    },
                                    {
                                        "name": "total_time_trips"
                                    }
                                ]
                            },
                            "data": [
                                {
                                    "0": "member",
                                    "1": "classic_bike",
                                    "2": "107017",
                                    "3": "14",
                                    "4": "1519896"
                                },
                                {
                                    "0": "member",
                                    "1": "electric_bike",
                                    "2": "37446",
                                    "3": "13",
                                    "4": "498135"
                                }
                            ]
                        },
                        "text/html": "<table><tr><th>member_casual</th><th>rideable_type</th><th>number_of_trips</th><th>average_ride</th><th>total_time_trips</th></tr><tr><td>member</td><td>classic_bike</td><td>107017</td><td>14</td><td>1519896</td></tr><tr><td>member</td><td>electric_bike</td><td>37446</td><td>13</td><td>498135</td></tr></table>"
                    },
                    "metadata": {}
                }
            ],
            "execution_count": 3
        },
        {
            "cell_type": "markdown",
            "source": [
                "We can see that docked\\_bike rides  have an **average\\_ride** time of 81 minutes wich explain what we mentioned above. It would be useful know which are the trips that is most repeated (or Mode), grouped by **ride\\_legth** time. For that we have to round the ride\\_length variable removing decimals to simplify the results table:"
            ],
            "metadata": {
                "azdata_cell_guid": "ae753f59-62af-4052-8c3a-940003d8756e"
            },
            "attachments": {}
        },
        {
            "cell_type": "code",
            "source": [
                "SELECT  TOP 50\r\n",
                "\tride_length,\r\n",
                "\tCOUNT(ride_length) AS number_of_trips, \r\n",
                "\tAVG(ride_length) AS average_ride, \r\n",
                "\tSUM(ride_length) AS total_time_trips\r\n",
                "\r\n",
                "FROM (\r\n",
                "\tSELECT\t\r\n",
                "\t\tROUND(DATEDIFF(MINUTE,started_at, ended_at),0) AS ride_length,  -- USE ROUND FUNCTIONS TO REMOVE DECIMALS\r\n",
                "\t\tDATEPART(DW, started_at) AS day_of_week\t\r\n",
                "\tFROM [202103-divvy-tripdata]\r\n",
                ") AS temp_table\r\n",
                "GROUP BY ride_length\r\n",
                "ORDER BY number_of_trips DESC"
            ],
            "metadata": {
                "azdata_cell_guid": "48cb41f4-64df-499e-bedd-b66004d3e93b",
                "language": "sql"
            },
            "outputs": [
                {
                    "output_type": "display_data",
                    "data": {
                        "text/html": "(50 rows affected)"
                    },
                    "metadata": {}
                },
                {
                    "output_type": "display_data",
                    "data": {
                        "text/html": "Total execution time: 00:00:00.054"
                    },
                    "metadata": {}
                },
                {
                    "output_type": "execute_result",
                    "execution_count": 8,
                    "data": {
                        "application/vnd.dataresource+json": {
                            "schema": {
                                "fields": [
                                    {
                                        "name": "ride_length"
                                    },
                                    {
                                        "name": "number_of_trips"
                                    },
                                    {
                                        "name": "average_ride"
                                    },
                                    {
                                        "name": "total_time_trips"
                                    }
                                ]
                            },
                            "data": [
                                {
                                    "0": "6",
                                    "1": "12578",
                                    "2": "6",
                                    "3": "75468"
                                },
                                {
                                    "0": "7",
                                    "1": "12442",
                                    "2": "7",
                                    "3": "87094"
                                },
                                {
                                    "0": "5",
                                    "1": "12337",
                                    "2": "5",
                                    "3": "61685"
                                },
                                {
                                    "0": "8",
                                    "1": "11821",
                                    "2": "8",
                                    "3": "94568"
                                },
                                {
                                    "0": "4",
                                    "1": "11168",
                                    "2": "4",
                                    "3": "44672"
                                },
                                {
                                    "0": "9",
                                    "1": "10857",
                                    "2": "9",
                                    "3": "97713"
                                },
                                {
                                    "0": "10",
                                    "1": "10043",
                                    "2": "10",
                                    "3": "100430"
                                },
                                {
                                    "0": "11",
                                    "1": "9116",
                                    "2": "11",
                                    "3": "100276"
                                },
                                {
                                    "0": "12",
                                    "1": "8531",
                                    "2": "12",
                                    "3": "102372"
                                },
                                {
                                    "0": "3",
                                    "1": "8199",
                                    "2": "3",
                                    "3": "24597"
                                },
                                {
                                    "0": "13",
                                    "1": "7755",
                                    "2": "13",
                                    "3": "100815"
                                },
                                {
                                    "0": "14",
                                    "1": "7147",
                                    "2": "14",
                                    "3": "100058"
                                },
                                {
                                    "0": "15",
                                    "1": "6393",
                                    "2": "15",
                                    "3": "95895"
                                },
                                {
                                    "0": "16",
                                    "1": "5867",
                                    "2": "16",
                                    "3": "93872"
                                },
                                {
                                    "0": "17",
                                    "1": "5359",
                                    "2": "17",
                                    "3": "91103"
                                },
                                {
                                    "0": "18",
                                    "1": "4934",
                                    "2": "18",
                                    "3": "88812"
                                },
                                {
                                    "0": "2",
                                    "1": "4564",
                                    "2": "2",
                                    "3": "9128"
                                },
                                {
                                    "0": "19",
                                    "1": "4539",
                                    "2": "19",
                                    "3": "86241"
                                },
                                {
                                    "0": "20",
                                    "1": "4208",
                                    "2": "20",
                                    "3": "84160"
                                },
                                {
                                    "0": "21",
                                    "1": "3788",
                                    "2": "21",
                                    "3": "79548"
                                },
                                {
                                    "0": "22",
                                    "1": "3571",
                                    "2": "22",
                                    "3": "78562"
                                },
                                {
                                    "0": "23",
                                    "1": "3350",
                                    "2": "23",
                                    "3": "77050"
                                },
                                {
                                    "0": "24",
                                    "1": "3174",
                                    "2": "24",
                                    "3": "76176"
                                },
                                {
                                    "0": "25",
                                    "1": "3059",
                                    "2": "25",
                                    "3": "76475"
                                },
                                {
                                    "0": "26",
                                    "1": "2924",
                                    "2": "26",
                                    "3": "76024"
                                },
                                {
                                    "0": "27",
                                    "1": "2657",
                                    "2": "27",
                                    "3": "71739"
                                },
                                {
                                    "0": "28",
                                    "1": "2439",
                                    "2": "28",
                                    "3": "68292"
                                },
                                {
                                    "0": "29",
                                    "1": "2311",
                                    "2": "29",
                                    "3": "67019"
                                },
                                {
                                    "0": "1",
                                    "1": "2304",
                                    "2": "1",
                                    "3": "2304"
                                },
                                {
                                    "0": "30",
                                    "1": "2264",
                                    "2": "30",
                                    "3": "67920"
                                },
                                {
                                    "0": "31",
                                    "1": "2024",
                                    "2": "31",
                                    "3": "62744"
                                },
                                {
                                    "0": "32",
                                    "1": "1893",
                                    "2": "32",
                                    "3": "60576"
                                },
                                {
                                    "0": "0",
                                    "1": "1782",
                                    "2": "0",
                                    "3": "0"
                                },
                                {
                                    "0": "33",
                                    "1": "1684",
                                    "2": "33",
                                    "3": "55572"
                                },
                                {
                                    "0": "34",
                                    "1": "1580",
                                    "2": "34",
                                    "3": "53720"
                                },
                                {
                                    "0": "35",
                                    "1": "1492",
                                    "2": "35",
                                    "3": "52220"
                                },
                                {
                                    "0": "36",
                                    "1": "1375",
                                    "2": "36",
                                    "3": "49500"
                                },
                                {
                                    "0": "37",
                                    "1": "1238",
                                    "2": "37",
                                    "3": "45806"
                                },
                                {
                                    "0": "38",
                                    "1": "1222",
                                    "2": "38",
                                    "3": "46436"
                                },
                                {
                                    "0": "39",
                                    "1": "1149",
                                    "2": "39",
                                    "3": "44811"
                                },
                                {
                                    "0": "40",
                                    "1": "1045",
                                    "2": "40",
                                    "3": "41800"
                                },
                                {
                                    "0": "41",
                                    "1": "1011",
                                    "2": "41",
                                    "3": "41451"
                                },
                                {
                                    "0": "43",
                                    "1": "892",
                                    "2": "43",
                                    "3": "38356"
                                },
                                {
                                    "0": "42",
                                    "1": "892",
                                    "2": "42",
                                    "3": "37464"
                                },
                                {
                                    "0": "45",
                                    "1": "800",
                                    "2": "45",
                                    "3": "36000"
                                },
                                {
                                    "0": "44",
                                    "1": "723",
                                    "2": "44",
                                    "3": "31812"
                                },
                                {
                                    "0": "46",
                                    "1": "646",
                                    "2": "46",
                                    "3": "29716"
                                },
                                {
                                    "0": "47",
                                    "1": "605",
                                    "2": "47",
                                    "3": "28435"
                                },
                                {
                                    "0": "49",
                                    "1": "577",
                                    "2": "49",
                                    "3": "28273"
                                },
                                {
                                    "0": "48",
                                    "1": "534",
                                    "2": "48",
                                    "3": "25632"
                                }
                            ]
                        },
                        "text/html": "<table><tr><th>ride_length</th><th>number_of_trips</th><th>average_ride</th><th>total_time_trips</th></tr><tr><td>6</td><td>12578</td><td>6</td><td>75468</td></tr><tr><td>7</td><td>12442</td><td>7</td><td>87094</td></tr><tr><td>5</td><td>12337</td><td>5</td><td>61685</td></tr><tr><td>8</td><td>11821</td><td>8</td><td>94568</td></tr><tr><td>4</td><td>11168</td><td>4</td><td>44672</td></tr><tr><td>9</td><td>10857</td><td>9</td><td>97713</td></tr><tr><td>10</td><td>10043</td><td>10</td><td>100430</td></tr><tr><td>11</td><td>9116</td><td>11</td><td>100276</td></tr><tr><td>12</td><td>8531</td><td>12</td><td>102372</td></tr><tr><td>3</td><td>8199</td><td>3</td><td>24597</td></tr><tr><td>13</td><td>7755</td><td>13</td><td>100815</td></tr><tr><td>14</td><td>7147</td><td>14</td><td>100058</td></tr><tr><td>15</td><td>6393</td><td>15</td><td>95895</td></tr><tr><td>16</td><td>5867</td><td>16</td><td>93872</td></tr><tr><td>17</td><td>5359</td><td>17</td><td>91103</td></tr><tr><td>18</td><td>4934</td><td>18</td><td>88812</td></tr><tr><td>2</td><td>4564</td><td>2</td><td>9128</td></tr><tr><td>19</td><td>4539</td><td>19</td><td>86241</td></tr><tr><td>20</td><td>4208</td><td>20</td><td>84160</td></tr><tr><td>21</td><td>3788</td><td>21</td><td>79548</td></tr><tr><td>22</td><td>3571</td><td>22</td><td>78562</td></tr><tr><td>23</td><td>3350</td><td>23</td><td>77050</td></tr><tr><td>24</td><td>3174</td><td>24</td><td>76176</td></tr><tr><td>25</td><td>3059</td><td>25</td><td>76475</td></tr><tr><td>26</td><td>2924</td><td>26</td><td>76024</td></tr><tr><td>27</td><td>2657</td><td>27</td><td>71739</td></tr><tr><td>28</td><td>2439</td><td>28</td><td>68292</td></tr><tr><td>29</td><td>2311</td><td>29</td><td>67019</td></tr><tr><td>1</td><td>2304</td><td>1</td><td>2304</td></tr><tr><td>30</td><td>2264</td><td>30</td><td>67920</td></tr><tr><td>31</td><td>2024</td><td>31</td><td>62744</td></tr><tr><td>32</td><td>1893</td><td>32</td><td>60576</td></tr><tr><td>0</td><td>1782</td><td>0</td><td>0</td></tr><tr><td>33</td><td>1684</td><td>33</td><td>55572</td></tr><tr><td>34</td><td>1580</td><td>34</td><td>53720</td></tr><tr><td>35</td><td>1492</td><td>35</td><td>52220</td></tr><tr><td>36</td><td>1375</td><td>36</td><td>49500</td></tr><tr><td>37</td><td>1238</td><td>37</td><td>45806</td></tr><tr><td>38</td><td>1222</td><td>38</td><td>46436</td></tr><tr><td>39</td><td>1149</td><td>39</td><td>44811</td></tr><tr><td>40</td><td>1045</td><td>40</td><td>41800</td></tr><tr><td>41</td><td>1011</td><td>41</td><td>41451</td></tr><tr><td>43</td><td>892</td><td>43</td><td>38356</td></tr><tr><td>42</td><td>892</td><td>42</td><td>37464</td></tr><tr><td>45</td><td>800</td><td>45</td><td>36000</td></tr><tr><td>44</td><td>723</td><td>44</td><td>31812</td></tr><tr><td>46</td><td>646</td><td>46</td><td>29716</td></tr><tr><td>47</td><td>605</td><td>47</td><td>28435</td></tr><tr><td>49</td><td>577</td><td>49</td><td>28273</td></tr><tr><td>48</td><td>534</td><td>48</td><td>25632</td></tr></table>"
                    },
                    "metadata": {}
                }
            ],
            "execution_count": 8
        },
        {
            "cell_type": "markdown",
            "source": [
                "The mode of the variable **ride\\_length** is 6 minutes followed by 7, 5, 8, 4, 9 minutes and so on (rounding the numbers to whole number closer, removing decimals). As you noticed, the **ride\\_length** and **average\\_ride** are equals because what we explained. Fo r example: the **average\\_ride** time grouped by **ride\\_length** of 6 minutes, is calculated by numbers between 5.5 and 6.4 (5.5,6.5\\], so it is logical that the result tends towards the nearest whole number, in this case 6 minutes.\n",
                "\n",
                "**<u>Removing Outliers</u>**\n",
                "\n",
                "Now we try to find which cells we have to remove in order to achieve statistical significance. At 95% of confidence level we need z-core values lower than -1.96 or higher than 1.96. For 99% of confidence level we include the values with z-score lower than -2.96 and higher than 2.96."
            ],
            "metadata": {
                "language": "sql",
                "azdata_cell_guid": "b8c5deea-2e52-4b97-a75a-d687c461914e"
            },
            "attachments": {}
        },
        {
            "cell_type": "code",
            "source": [
                "WITH trips1 AS (\r\n",
                "\tSELECT ride_id,\r\n",
                "\tmember_casual,\r\n",
                "\tROUND(DATEDIFF(MINUTE, started_at, ended_at),0) AS ride_length\r\n",
                "\tFROM [202103-divvy-tripdata]\r\n",
                "\t),\r\n",
                "\trides_stats AS (\r\n",
                "\tSELECT\r\n",
                "\t\tAVG(ride_length) AS ride_average,\r\n",
                "\t\tSTDEV(ride_length)\tAS stan_dev\r\n",
                "\tFROM (SELECT member_casual, DATEDIFF(MINUTE,started_at, ended_at) AS ride_length FROM [202103-divvy-tripdata]) AS temp_table\r\n",
                "\t)\r\n",
                "SELECT TOP 500\r\n",
                "\tride_id,\r\n",
                "\tride_length,\r\n",
                "\tmember_casual,\r\n",
                "\tABS(trips1.ride_length - rides_stats.ride_average)/rides_stats.stan_dev AS z_score_ride\r\n",
                "FROM trips1, rides_stats\r\n",
                "ORDER BY z_score_ride DESC"
            ],
            "metadata": {
                "language": "sql",
                "azdata_cell_guid": "ee05dd4c-9518-4070-b8c5-191327c15ad4"
            },
            "outputs": [
                {
                    "output_type": "display_data",
                    "data": {
                        "text/html": "(500 rows affected)"
                    },
                    "metadata": {}
                },
                {
                    "output_type": "display_data",
                    "data": {
                        "text/html": "Total execution time: 00:00:00.168"
                    },
                    "metadata": {}
                },
                {
                    "output_type": "execute_result",
                    "execution_count": 14,
                    "data": {
                        "application/vnd.dataresource+json": {
                            "schema": {
                                "fields": [
                                    {
                                        "name": "ride_id"
                                    },
                                    {
                                        "name": "ride_length"
                                    },
                                    {
                                        "name": "member_casual"
                                    },
                                    {
                                        "name": "z_score_ride"
                                    }
                                ]
                            },
                            "data": [
                                {
                                    "0": "271D9E93A68C9A17",
                                    "1": "31682",
                                    "2": "casual",
                                    "3": "205,02022110947186"
                                },
                                {
                                    "0": "9F66323DE1CE4C08",
                                    "1": "20074",
                                    "2": "casual",
                                    "3": "129,8504571600483"
                                },
                                {
                                    "0": "F173092104F0C6AA",
                                    "1": "18231",
                                    "2": "casual",
                                    "3": "117,91576772528026"
                                },
                                {
                                    "0": "5752EBD1DB94ACB3",
                                    "1": "17251",
                                    "2": "casual",
                                    "3": "111,56959537255499"
                                },
                                {
                                    "0": "EBD8B407D4DE1469",
                                    "1": "17231",
                                    "2": "casual",
                                    "3": "111,4400816510708"
                                },
                                {
                                    "0": "61486C9900757ABE",
                                    "1": "15905",
                                    "2": "casual",
                                    "3": "102,85332191666903"
                                },
                                {
                                    "0": "7D3DF23CE224F140",
                                    "1": "14181",
                                    "2": "casual",
                                    "3": "91,68923912473191"
                                },
                                {
                                    "0": "79A5C8E0CB0D6C52",
                                    "1": "13002",
                                    "2": "casual",
                                    "3": "84,05440524323895"
                                },
                                {
                                    "0": "83F37001BA988B9F",
                                    "1": "12543",
                                    "2": "casual",
                                    "3": "81,0820653351768"
                                },
                                {
                                    "0": "A8A6F0B128472D2C",
                                    "1": "11710",
                                    "2": "casual",
                                    "3": "75,6878188353603"
                                },
                                {
                                    "0": "2CE0E235CD608CD6",
                                    "1": "11622",
                                    "2": "casual",
                                    "3": "75,11795846082987"
                                },
                                {
                                    "0": "B565F3DB8A064108",
                                    "1": "11402",
                                    "2": "casual",
                                    "3": "73,69330752450378"
                                },
                                {
                                    "0": "CC6D7C07DF55006B",
                                    "1": "11401",
                                    "2": "casual",
                                    "3": "73,68683183842957"
                                },
                                {
                                    "0": "766210D0152484C2",
                                    "1": "11109",
                                    "2": "casual",
                                    "3": "71,7959315047604"
                                },
                                {
                                    "0": "FE8E0FFFFBE57FFE",
                                    "1": "9813",
                                    "2": "casual",
                                    "3": "63,40344235258493"
                                },
                                {
                                    "0": "4CE44E9330B70D6F",
                                    "1": "9749",
                                    "2": "casual",
                                    "3": "62,98899844383553"
                                },
                                {
                                    "0": "C26113EB6F15B90F",
                                    "1": "8004",
                                    "2": "casual",
                                    "3": "51,68892624434"
                                },
                                {
                                    "0": "8132866080BCB368",
                                    "1": "7278",
                                    "2": "casual",
                                    "3": "46,987578154463925"
                                },
                                {
                                    "0": "CCC052F50EDF3908",
                                    "1": "6840",
                                    "2": "casual",
                                    "3": "44,15122765396018"
                                },
                                {
                                    "0": "53583F66F8F545C9",
                                    "1": "6806",
                                    "2": "casual",
                                    "3": "43,93105432743705"
                                },
                                {
                                    "0": "A5598413C29F4451",
                                    "1": "6663",
                                    "2": "casual",
                                    "3": "43,0050312188251"
                                },
                                {
                                    "0": "119CB691B8010131",
                                    "1": "6542",
                                    "2": "casual",
                                    "3": "42,221473203845754"
                                },
                                {
                                    "0": "2A4B5E818D855F78",
                                    "1": "6366",
                                    "2": "casual",
                                    "3": "41,08175245478488"
                                },
                                {
                                    "0": "4655F5AEEC5CEBFF",
                                    "1": "5925",
                                    "2": "casual",
                                    "3": "38,22597489605851"
                                },
                                {
                                    "0": "083BA3DB4E497CED",
                                    "1": "5848",
                                    "2": "casual",
                                    "3": "37,72734706834438"
                                },
                                {
                                    "0": "BD9726A4C58D43EF",
                                    "1": "5769",
                                    "2": "casual",
                                    "3": "37,215767868481834"
                                },
                                {
                                    "0": "68AF0FB79B7DC8DF",
                                    "1": "5728",
                                    "2": "casual",
                                    "3": "36,95026473943924"
                                },
                                {
                                    "0": "D5BF31A5EB47EDD3",
                                    "1": "5679",
                                    "2": "casual",
                                    "3": "36,63295612180298"
                                },
                                {
                                    "0": "C99F7D674E6A880A",
                                    "1": "4684",
                                    "2": "casual",
                                    "3": "30,189648477964557"
                                },
                                {
                                    "0": "B3FBA91BAAC59C53",
                                    "1": "4553",
                                    "2": "casual",
                                    "3": "29,341333602243115"
                                },
                                {
                                    "0": "CEA2873C2ED88D6E",
                                    "1": "4480",
                                    "2": "casual",
                                    "3": "28,868608518825823"
                                },
                                {
                                    "0": "84964A7EF3110B69",
                                    "1": "4441",
                                    "2": "casual",
                                    "3": "28,616056761931656"
                                },
                                {
                                    "0": "9CED6F8873289684",
                                    "1": "4386",
                                    "2": "casual",
                                    "3": "28,259894027850134"
                                },
                                {
                                    "0": "C09FB7BE559B2740",
                                    "1": "4133",
                                    "2": "casual",
                                    "3": "26,621545451075136"
                                },
                                {
                                    "0": "7297840D28F880C7",
                                    "1": "4113",
                                    "2": "casual",
                                    "3": "26,49203172959095"
                                },
                                {
                                    "0": "B8E4D47290A5AB74",
                                    "1": "4071",
                                    "2": "casual",
                                    "3": "26,22005291447415"
                                },
                                {
                                    "0": "A5106DA7FD8B59AE",
                                    "1": "3976",
                                    "2": "casual",
                                    "3": "25,60486273742425"
                                },
                                {
                                    "0": "A63F673040F66730",
                                    "1": "3816",
                                    "2": "casual",
                                    "3": "24,568752965550736"
                                },
                                {
                                    "0": "F4FFEA4C065B79DB",
                                    "1": "3764",
                                    "2": "casual",
                                    "3": "24,232017289691843"
                                },
                                {
                                    "0": "44F8675161BF37CA",
                                    "1": "3713",
                                    "2": "casual",
                                    "3": "23,90175729990716"
                                },
                                {
                                    "0": "6CE4D2B17664782A",
                                    "1": "3468",
                                    "2": "casual",
                                    "3": "22,315214211725838"
                                },
                                {
                                    "0": "9D7CCC419E706275",
                                    "1": "3405",
                                    "2": "casual",
                                    "3": "21,90724598905064"
                                },
                                {
                                    "0": "05FF29F0587850B5",
                                    "1": "3298",
                                    "2": "casual",
                                    "3": "21,21434757911023"
                                },
                                {
                                    "0": "DA6006141527639C",
                                    "1": "3176",
                                    "2": "casual",
                                    "3": "20,424313878056672"
                                },
                                {
                                    "0": "2984FBF69A3A4846",
                                    "1": "3033",
                                    "2": "casual",
                                    "3": "19,49829076944472"
                                },
                                {
                                    "0": "211BCD29059D2E19",
                                    "1": "2957",
                                    "2": "casual",
                                    "3": "19,0061386278048"
                                },
                                {
                                    "0": "286E710824F74EBC",
                                    "1": "2935",
                                    "2": "casual",
                                    "3": "18,86367353417219"
                                },
                                {
                                    "0": "D9E885C7DEA44F9E",
                                    "1": "2909",
                                    "2": "casual",
                                    "3": "18,695305696242745"
                                },
                                {
                                    "0": "3C2F8A9877F15942",
                                    "1": "2861",
                                    "2": "casual",
                                    "3": "18,38447276468069"
                                },
                                {
                                    "0": "37AAD5EE100AE6E4",
                                    "1": "2774",
                                    "2": "casual",
                                    "3": "17,821088076224466"
                                },
                                {
                                    "0": "CC13B7628EE4DB98",
                                    "1": "2774",
                                    "2": "casual",
                                    "3": "17,821088076224466"
                                },
                                {
                                    "0": "7D3B9F82CFFEDB8A",
                                    "1": "2756",
                                    "2": "casual",
                                    "3": "17,704525726888694"
                                },
                                {
                                    "0": "33EDF65F6016830E",
                                    "1": "2698",
                                    "2": "casual",
                                    "3": "17,328935934584546"
                                },
                                {
                                    "0": "AAEF4910E9A68AF8",
                                    "1": "2683",
                                    "2": "casual",
                                    "3": "17,231800643471402"
                                },
                                {
                                    "0": "4AE86C0D4A537E00",
                                    "1": "2653",
                                    "2": "casual",
                                    "3": "17,037530061245118"
                                },
                                {
                                    "0": "DF5161DC17B8D59B",
                                    "1": "2641",
                                    "2": "casual",
                                    "3": "16,959821828354606"
                                },
                                {
                                    "0": "8EC9777B2D17D05F",
                                    "1": "2613",
                                    "2": "casual",
                                    "3": "16,77850261827674"
                                },
                                {
                                    "0": "0692AD88F066D77B",
                                    "1": "2589",
                                    "2": "casual",
                                    "3": "16,623086152495713"
                                },
                                {
                                    "0": "1DB0ED8F508E0630",
                                    "1": "2569",
                                    "2": "casual",
                                    "3": "16,493572431011525"
                                },
                                {
                                    "0": "559C7DBC3BA00F71",
                                    "1": "2542",
                                    "2": "casual",
                                    "3": "16,318728907007866"
                                },
                                {
                                    "0": "FED267F132C2866B",
                                    "1": "2535",
                                    "2": "casual",
                                    "3": "16,2733991044884"
                                },
                                {
                                    "0": "C0FC0B1BD299D2E8",
                                    "1": "2462",
                                    "2": "casual",
                                    "3": "15,80067402107111"
                                },
                                {
                                    "0": "E2787EC004B28D86",
                                    "1": "2461",
                                    "2": "casual",
                                    "3": "15,794198334996901"
                                },
                                {
                                    "0": "C8849E43E2E061C5",
                                    "1": "2461",
                                    "2": "casual",
                                    "3": "15,794198334996901"
                                },
                                {
                                    "0": "C518D8B22D43D920",
                                    "1": "2449",
                                    "2": "casual",
                                    "3": "15,716490102106388"
                                },
                                {
                                    "0": "B6DB9FFE7ECBF9DC",
                                    "1": "2407",
                                    "2": "casual",
                                    "3": "15,44451128698959"
                                },
                                {
                                    "0": "52B003B9C6FC31E8",
                                    "1": "2368",
                                    "2": "casual",
                                    "3": "15,19195953009542"
                                },
                                {
                                    "0": "71A48DBF01C043BF",
                                    "1": "2289",
                                    "2": "casual",
                                    "3": "14,680380330232872"
                                },
                                {
                                    "0": "AC9867BAA0E24E5F",
                                    "1": "2199",
                                    "2": "casual",
                                    "3": "14,09756858355402"
                                },
                                {
                                    "0": "DD5B8BE0217DF562",
                                    "1": "1893",
                                    "2": "casual",
                                    "3": "12,116008644845921"
                                },
                                {
                                    "0": "AC81B43066844207",
                                    "1": "1812",
                                    "2": "casual",
                                    "3": "11,591478072834954"
                                },
                                {
                                    "0": "F498C2FB5BA2402C",
                                    "1": "1811",
                                    "2": "casual",
                                    "3": "11,585002386760744"
                                },
                                {
                                    "0": "87F53011E84BD82A",
                                    "1": "1702",
                                    "2": "casual",
                                    "3": "10,879152604671912"
                                },
                                {
                                    "0": "32EF2C2B64B09813",
                                    "1": "1688",
                                    "2": "casual",
                                    "3": "10,788492999632979"
                                },
                                {
                                    "0": "DD8E1A54C4A18131",
                                    "1": "1674",
                                    "2": "casual",
                                    "3": "10,697833394594047"
                                },
                                {
                                    "0": "29951372E15D1F57",
                                    "1": "1659",
                                    "2": "casual",
                                    "3": "10,600698103480905"
                                },
                                {
                                    "0": "BB93FF421B81947E",
                                    "1": "1658",
                                    "2": "casual",
                                    "3": "10,594222417406696"
                                },
                                {
                                    "0": "77355DA3F172D759",
                                    "1": "1648",
                                    "2": "casual",
                                    "3": "10,5294655566646"
                                },
                                {
                                    "0": "333D70AFDE4D1EDB",
                                    "1": "1590",
                                    "2": "casual",
                                    "3": "10,153875764360452"
                                },
                                {
                                    "0": "B3299E0D9E3E687D",
                                    "1": "1560",
                                    "2": "casual",
                                    "3": "9,959605182134167"
                                },
                                {
                                    "0": "FF3F8161C12BAC5D",
                                    "1": "1560",
                                    "2": "casual",
                                    "3": "9,959605182134167"
                                },
                                {
                                    "0": "BACE0C8FC3376FB4",
                                    "1": "1560",
                                    "2": "member",
                                    "3": "9,959605182134167"
                                },
                                {
                                    "0": "0316B5F9AD0AD991",
                                    "1": "1560",
                                    "2": "casual",
                                    "3": "9,959605182134167"
                                },
                                {
                                    "0": "70B8A78B41A2063F",
                                    "1": "1560",
                                    "2": "casual",
                                    "3": "9,959605182134167"
                                },
                                {
                                    "0": "B0B765A905BA2678",
                                    "1": "1560",
                                    "2": "casual",
                                    "3": "9,959605182134167"
                                },
                                {
                                    "0": "78AF9F51783111D3",
                                    "1": "1560",
                                    "2": "casual",
                                    "3": "9,959605182134167"
                                },
                                {
                                    "0": "19100028843C5143",
                                    "1": "1560",
                                    "2": "member",
                                    "3": "9,959605182134167"
                                },
                                {
                                    "0": "0F4780D188F0EBC1",
                                    "1": "1560",
                                    "2": "casual",
                                    "3": "9,959605182134167"
                                },
                                {
                                    "0": "C8F88E622F47DD0E",
                                    "1": "1559",
                                    "2": "casual",
                                    "3": "9,953129496059958"
                                },
                                {
                                    "0": "494A0EEF1B50B57A",
                                    "1": "1559",
                                    "2": "casual",
                                    "3": "9,953129496059958"
                                },
                                {
                                    "0": "3625A7622D6ED516",
                                    "1": "1556",
                                    "2": "casual",
                                    "3": "9,93370243783733"
                                },
                                {
                                    "0": "B3FF29242C0CE885",
                                    "1": "1556",
                                    "2": "casual",
                                    "3": "9,93370243783733"
                                },
                                {
                                    "0": "0A3BD8ED43A283C4",
                                    "1": "1533",
                                    "2": "casual",
                                    "3": "9,784761658130511"
                                },
                                {
                                    "0": "84C73E3821C83CA6",
                                    "1": "1529",
                                    "2": "casual",
                                    "3": "9,758858913833674"
                                },
                                {
                                    "0": "D3A285E3A0B71A8E",
                                    "1": "1521",
                                    "2": "casual",
                                    "3": "9,707053425239998"
                                },
                                {
                                    "0": "E852AC1B2F9AA5B1",
                                    "1": "1500",
                                    "2": "casual",
                                    "3": "9,571064017681598"
                                },
                                {
                                    "0": "8880EDDED25EE1A7",
                                    "1": "1500",
                                    "2": "member",
                                    "3": "9,571064017681598"
                                },
                                {
                                    "0": "89BDB2A009DD8DE3",
                                    "1": "1500",
                                    "2": "casual",
                                    "3": "9,571064017681598"
                                },
                                {
                                    "0": "3E05E395187E1B1B",
                                    "1": "1500",
                                    "2": "casual",
                                    "3": "9,571064017681598"
                                },
                                {
                                    "0": "56278DD58D43150A",
                                    "1": "1500",
                                    "2": "casual",
                                    "3": "9,571064017681598"
                                },
                                {
                                    "0": "0F40D4ADB591E829",
                                    "1": "1500",
                                    "2": "casual",
                                    "3": "9,571064017681598"
                                },
                                {
                                    "0": "4446E02CB0D68194",
                                    "1": "1500",
                                    "2": "casual",
                                    "3": "9,571064017681598"
                                },
                                {
                                    "0": "08E57D57B9CCA0EC",
                                    "1": "1500",
                                    "2": "casual",
                                    "3": "9,571064017681598"
                                },
                                {
                                    "0": "BC9A5656A2AF496E",
                                    "1": "1500",
                                    "2": "casual",
                                    "3": "9,571064017681598"
                                },
                                {
                                    "0": "93279F94CA0CDCB7",
                                    "1": "1500",
                                    "2": "casual",
                                    "3": "9,571064017681598"
                                },
                                {
                                    "0": "9999B4FF7F3066CC",
                                    "1": "1500",
                                    "2": "casual",
                                    "3": "9,571064017681598"
                                },
                                {
                                    "0": "3E3EC37CBF6F81AD",
                                    "1": "1500",
                                    "2": "casual",
                                    "3": "9,571064017681598"
                                },
                                {
                                    "0": "568303BEBD879258",
                                    "1": "1500",
                                    "2": "member",
                                    "3": "9,571064017681598"
                                },
                                {
                                    "0": "0438C4E944FE7908",
                                    "1": "1500",
                                    "2": "casual",
                                    "3": "9,571064017681598"
                                },
                                {
                                    "0": "0831BFA7E3A20DC1",
                                    "1": "1500",
                                    "2": "casual",
                                    "3": "9,571064017681598"
                                },
                                {
                                    "0": "1DAFE8EC02D6833E",
                                    "1": "1500",
                                    "2": "casual",
                                    "3": "9,571064017681598"
                                },
                                {
                                    "0": "FFD892DDA304E510",
                                    "1": "1500",
                                    "2": "casual",
                                    "3": "9,571064017681598"
                                },
                                {
                                    "0": "A9DD5AE00A78B1B0",
                                    "1": "1500",
                                    "2": "casual",
                                    "3": "9,571064017681598"
                                },
                                {
                                    "0": "44BEB745D21DDAB2",
                                    "1": "1500",
                                    "2": "casual",
                                    "3": "9,571064017681598"
                                },
                                {
                                    "0": "8128D1927223A028",
                                    "1": "1500",
                                    "2": "member",
                                    "3": "9,571064017681598"
                                },
                                {
                                    "0": "6C30F262FD316DE8",
                                    "1": "1500",
                                    "2": "casual",
                                    "3": "9,571064017681598"
                                },
                                {
                                    "0": "1B4179CEFFA0C240",
                                    "1": "1500",
                                    "2": "casual",
                                    "3": "9,571064017681598"
                                },
                                {
                                    "0": "2DC2394C75FB3FE4",
                                    "1": "1500",
                                    "2": "casual",
                                    "3": "9,571064017681598"
                                },
                                {
                                    "0": "4B53B59EAFF6BCE8",
                                    "1": "1500",
                                    "2": "casual",
                                    "3": "9,571064017681598"
                                },
                                {
                                    "0": "23E2E57650D30C22",
                                    "1": "1500",
                                    "2": "member",
                                    "3": "9,571064017681598"
                                },
                                {
                                    "0": "D225AC28C88E4F10",
                                    "1": "1500",
                                    "2": "casual",
                                    "3": "9,571064017681598"
                                },
                                {
                                    "0": "B83303DB88E01317",
                                    "1": "1500",
                                    "2": "casual",
                                    "3": "9,571064017681598"
                                },
                                {
                                    "0": "9782CB8B639030B9",
                                    "1": "1500",
                                    "2": "casual",
                                    "3": "9,571064017681598"
                                },
                                {
                                    "0": "D98B9C15A3DA11E5",
                                    "1": "1500",
                                    "2": "casual",
                                    "3": "9,571064017681598"
                                },
                                {
                                    "0": "1B50A8F06FF9BEB6",
                                    "1": "1500",
                                    "2": "casual",
                                    "3": "9,571064017681598"
                                },
                                {
                                    "0": "4678C2EAEF8F5891",
                                    "1": "1500",
                                    "2": "casual",
                                    "3": "9,571064017681598"
                                },
                                {
                                    "0": "7FFA1BBF12856308",
                                    "1": "1500",
                                    "2": "casual",
                                    "3": "9,571064017681598"
                                },
                                {
                                    "0": "0C1846A35FAB6C44",
                                    "1": "1500",
                                    "2": "casual",
                                    "3": "9,571064017681598"
                                },
                                {
                                    "0": "E5D6A38D649A5444",
                                    "1": "1500",
                                    "2": "casual",
                                    "3": "9,571064017681598"
                                },
                                {
                                    "0": "18C6598C52DCF172",
                                    "1": "1500",
                                    "2": "casual",
                                    "3": "9,571064017681598"
                                },
                                {
                                    "0": "97AE216C319A1CA7",
                                    "1": "1500",
                                    "2": "casual",
                                    "3": "9,571064017681598"
                                },
                                {
                                    "0": "6533CA06C5869F98",
                                    "1": "1500",
                                    "2": "casual",
                                    "3": "9,571064017681598"
                                },
                                {
                                    "0": "252DEBD570C9C492",
                                    "1": "1500",
                                    "2": "casual",
                                    "3": "9,571064017681598"
                                },
                                {
                                    "0": "6EB0D313A243A3BA",
                                    "1": "1500",
                                    "2": "casual",
                                    "3": "9,571064017681598"
                                },
                                {
                                    "0": "9F3B3EEA11777C30",
                                    "1": "1500",
                                    "2": "casual",
                                    "3": "9,571064017681598"
                                },
                                {
                                    "0": "92C890A5DFBD5F63",
                                    "1": "1500",
                                    "2": "casual",
                                    "3": "9,571064017681598"
                                },
                                {
                                    "0": "329D10C0846234F2",
                                    "1": "1500",
                                    "2": "casual",
                                    "3": "9,571064017681598"
                                },
                                {
                                    "0": "CF0C618E24144E78",
                                    "1": "1500",
                                    "2": "casual",
                                    "3": "9,571064017681598"
                                },
                                {
                                    "0": "9127AD3B9338E695",
                                    "1": "1500",
                                    "2": "casual",
                                    "3": "9,571064017681598"
                                },
                                {
                                    "0": "803992B0148028E2",
                                    "1": "1500",
                                    "2": "member",
                                    "3": "9,571064017681598"
                                },
                                {
                                    "0": "E1BD59AF65073FEE",
                                    "1": "1500",
                                    "2": "casual",
                                    "3": "9,571064017681598"
                                },
                                {
                                    "0": "CF41E598F86A0BB9",
                                    "1": "1500",
                                    "2": "casual",
                                    "3": "9,571064017681598"
                                },
                                {
                                    "0": "FD7B40A4980B7B94",
                                    "1": "1500",
                                    "2": "casual",
                                    "3": "9,571064017681598"
                                },
                                {
                                    "0": "94E4484027E3140D",
                                    "1": "1500",
                                    "2": "casual",
                                    "3": "9,571064017681598"
                                },
                                {
                                    "0": "F6D5B950BF4E3169",
                                    "1": "1500",
                                    "2": "casual",
                                    "3": "9,571064017681598"
                                },
                                {
                                    "0": "94EFCB9762359988",
                                    "1": "1500",
                                    "2": "casual",
                                    "3": "9,571064017681598"
                                },
                                {
                                    "0": "25E80CC9960E071A",
                                    "1": "1499",
                                    "2": "casual",
                                    "3": "9,56458833160739"
                                },
                                {
                                    "0": "0D689AD810F39988",
                                    "1": "1499",
                                    "2": "casual",
                                    "3": "9,56458833160739"
                                },
                                {
                                    "0": "C4F63EC9B8DD73CA",
                                    "1": "1499",
                                    "2": "casual",
                                    "3": "9,56458833160739"
                                },
                                {
                                    "0": "7FC689A7980617E1",
                                    "1": "1499",
                                    "2": "member",
                                    "3": "9,56458833160739"
                                },
                                {
                                    "0": "CDFF2FD417170765",
                                    "1": "1499",
                                    "2": "casual",
                                    "3": "9,56458833160739"
                                },
                                {
                                    "0": "D01C75B6DA2BC5DE",
                                    "1": "1499",
                                    "2": "casual",
                                    "3": "9,56458833160739"
                                },
                                {
                                    "0": "06E547689571271F",
                                    "1": "1499",
                                    "2": "casual",
                                    "3": "9,56458833160739"
                                },
                                {
                                    "0": "1D9D02AF48369C55",
                                    "1": "1499",
                                    "2": "casual",
                                    "3": "9,56458833160739"
                                },
                                {
                                    "0": "0D98970DFF4E719D",
                                    "1": "1499",
                                    "2": "member",
                                    "3": "9,56458833160739"
                                },
                                {
                                    "0": "1ABAD5D0C8DC312A",
                                    "1": "1499",
                                    "2": "casual",
                                    "3": "9,56458833160739"
                                },
                                {
                                    "0": "35F629C06BA49E8A",
                                    "1": "1496",
                                    "2": "casual",
                                    "3": "9,54516127338476"
                                },
                                {
                                    "0": "8C081643689BF42F",
                                    "1": "1496",
                                    "2": "casual",
                                    "3": "9,54516127338476"
                                },
                                {
                                    "0": "AB2C6A3A7E7C1E96",
                                    "1": "1478",
                                    "2": "casual",
                                    "3": "9,428598924048991"
                                },
                                {
                                    "0": "47DCA5AC43EDB3A8",
                                    "1": "1468",
                                    "2": "casual",
                                    "3": "9,363842063306896"
                                },
                                {
                                    "0": "C23784A83A4CAEF5",
                                    "1": "1467",
                                    "2": "member",
                                    "3": "9,357366377232687"
                                },
                                {
                                    "0": "2A3C4D82CF76B430",
                                    "1": "1453",
                                    "2": "casual",
                                    "3": "9,266706772193753"
                                },
                                {
                                    "0": "E6FFE75FA363B974",
                                    "1": "1435",
                                    "2": "casual",
                                    "3": "9,150144422857982"
                                },
                                {
                                    "0": "E99A7FBA85CBE2C6",
                                    "1": "1433",
                                    "2": "casual",
                                    "3": "9,137193050709564"
                                },
                                {
                                    "0": "364ADFD75B078DAB",
                                    "1": "1427",
                                    "2": "casual",
                                    "3": "9,098338934264307"
                                },
                                {
                                    "0": "9C5BFC409B85EC9B",
                                    "1": "1426",
                                    "2": "casual",
                                    "3": "9,091863248190098"
                                },
                                {
                                    "0": "9D8633A28369023A",
                                    "1": "1423",
                                    "2": "casual",
                                    "3": "9,072436189967469"
                                },
                                {
                                    "0": "B3141273C6967D66",
                                    "1": "1422",
                                    "2": "casual",
                                    "3": "9,06596050389326"
                                },
                                {
                                    "0": "285C89708FD1E181",
                                    "1": "1419",
                                    "2": "member",
                                    "3": "9,046533445670631"
                                },
                                {
                                    "0": "A454854FD811A81D",
                                    "1": "1416",
                                    "2": "casual",
                                    "3": "9,027106387448002"
                                },
                                {
                                    "0": "E1AE56D3BCE2F538",
                                    "1": "1393",
                                    "2": "casual",
                                    "3": "8,878165607741185"
                                },
                                {
                                    "0": "08C180111688F1F3",
                                    "1": "1387",
                                    "2": "casual",
                                    "3": "8,839311491295929"
                                },
                                {
                                    "0": "9B670F012CA91480",
                                    "1": "1387",
                                    "2": "casual",
                                    "3": "8,839311491295929"
                                },
                                {
                                    "0": "59C0324B9926FF91",
                                    "1": "1381",
                                    "2": "casual",
                                    "3": "8,800457374850671"
                                },
                                {
                                    "0": "05DBC89B84F91A99",
                                    "1": "1369",
                                    "2": "casual",
                                    "3": "8,722749141960158"
                                },
                                {
                                    "0": "7507DC3BFCBC7F2D",
                                    "1": "1363",
                                    "2": "casual",
                                    "3": "8,683895025514902"
                                },
                                {
                                    "0": "2DF376F3D8191AD9",
                                    "1": "1360",
                                    "2": "member",
                                    "3": "8,664467967292273"
                                },
                                {
                                    "0": "EA53E8858A7F729E",
                                    "1": "1355",
                                    "2": "member",
                                    "3": "8,632089536921226"
                                },
                                {
                                    "0": "1A91F8965BFF33E5",
                                    "1": "1353",
                                    "2": "member",
                                    "3": "8,619138164772806"
                                },
                                {
                                    "0": "7FC2DD26C3E25D59",
                                    "1": "1350",
                                    "2": "casual",
                                    "3": "8,599711106550178"
                                },
                                {
                                    "0": "C3B03616381419A1",
                                    "1": "1331",
                                    "2": "casual",
                                    "3": "8,476673071140198"
                                },
                                {
                                    "0": "BA92E51DD37A993C",
                                    "1": "1330",
                                    "2": "casual",
                                    "3": "8,470197385065989"
                                },
                                {
                                    "0": "89ED70628FCAEA32",
                                    "1": "1329",
                                    "2": "casual",
                                    "3": "8,46372169899178"
                                },
                                {
                                    "0": "7C4553DAE8A692BC",
                                    "1": "1327",
                                    "2": "casual",
                                    "3": "8,45077032684336"
                                },
                                {
                                    "0": "50FBB7AAC0E5BFE4",
                                    "1": "1319",
                                    "2": "casual",
                                    "3": "8,398964838249684"
                                },
                                {
                                    "0": "C014032DB2A8B5C2",
                                    "1": "1318",
                                    "2": "casual",
                                    "3": "8,392489152175475"
                                },
                                {
                                    "0": "CBC8E8CB5A5CBF31",
                                    "1": "1317",
                                    "2": "casual",
                                    "3": "8,386013466101266"
                                },
                                {
                                    "0": "854B76188C149DB7",
                                    "1": "1315",
                                    "2": "member",
                                    "3": "8,373062093952846"
                                },
                                {
                                    "0": "C978CD3030C5AA81",
                                    "1": "1313",
                                    "2": "casual",
                                    "3": "8,360110721804428"
                                },
                                {
                                    "0": "3C19E21B441802C0",
                                    "1": "1309",
                                    "2": "casual",
                                    "3": "8,33420797750759"
                                },
                                {
                                    "0": "B340E4F7CA9FEB66",
                                    "1": "1308",
                                    "2": "casual",
                                    "3": "8,32773229143338"
                                },
                                {
                                    "0": "BA519231E78BD5A2",
                                    "1": "1307",
                                    "2": "casual",
                                    "3": "8,32125660535917"
                                },
                                {
                                    "0": "3918034208AF5630",
                                    "1": "1307",
                                    "2": "casual",
                                    "3": "8,32125660535917"
                                },
                                {
                                    "0": "0F8A69C91BBFA831",
                                    "1": "1305",
                                    "2": "casual",
                                    "3": "8,308305233210751"
                                },
                                {
                                    "0": "EC07171E0778DC84",
                                    "1": "1302",
                                    "2": "casual",
                                    "3": "8,288878174988124"
                                },
                                {
                                    "0": "15D5D659F2E5C848",
                                    "1": "1300",
                                    "2": "casual",
                                    "3": "8,275926802839704"
                                },
                                {
                                    "0": "663A06ACAC32DD05",
                                    "1": "1294",
                                    "2": "casual",
                                    "3": "8,237072686394448"
                                },
                                {
                                    "0": "1FCDEAFCDA86E91D",
                                    "1": "1291",
                                    "2": "casual",
                                    "3": "8,21764562817182"
                                },
                                {
                                    "0": "572329D9859B6679",
                                    "1": "1288",
                                    "2": "casual",
                                    "3": "8,19821856994919"
                                },
                                {
                                    "0": "CAF0AEB89FEEAF01",
                                    "1": "1284",
                                    "2": "casual",
                                    "3": "8,172315825652353"
                                },
                                {
                                    "0": "B52FEA41CDA4D57F",
                                    "1": "1283",
                                    "2": "casual",
                                    "3": "8,165840139578144"
                                },
                                {
                                    "0": "DBA31FB8F7C4574A",
                                    "1": "1257",
                                    "2": "casual",
                                    "3": "7,997472301648697"
                                },
                                {
                                    "0": "AE497EDD0C63DE37",
                                    "1": "1256",
                                    "2": "casual",
                                    "3": "7,990996615574487"
                                },
                                {
                                    "0": "4C8E4A9F65AFB6E9",
                                    "1": "1253",
                                    "2": "casual",
                                    "3": "7,9715695573518595"
                                },
                                {
                                    "0": "B4DC4EC34B3ECD34",
                                    "1": "1248",
                                    "2": "casual",
                                    "3": "7,939191126980812"
                                },
                                {
                                    "0": "22E8B397F98D83EC",
                                    "1": "1247",
                                    "2": "casual",
                                    "3": "7,932715440906603"
                                },
                                {
                                    "0": "1ADE8FE9293487B3",
                                    "1": "1247",
                                    "2": "member",
                                    "3": "7,932715440906603"
                                },
                                {
                                    "0": "F9CD2B892C8DF745",
                                    "1": "1242",
                                    "2": "casual",
                                    "3": "7,900337010535555"
                                },
                                {
                                    "0": "D09D08F5BFFA5EFB",
                                    "1": "1239",
                                    "2": "casual",
                                    "3": "7,880909952312927"
                                },
                                {
                                    "0": "62759899C290284C",
                                    "1": "1239",
                                    "2": "casual",
                                    "3": "7,880909952312927"
                                },
                                {
                                    "0": "34A5F7A8BF5FFDDA",
                                    "1": "1237",
                                    "2": "member",
                                    "3": "7,867958580164508"
                                },
                                {
                                    "0": "D33C649255D2C202",
                                    "1": "1230",
                                    "2": "casual",
                                    "3": "7,822628777645042"
                                },
                                {
                                    "0": "B8F6FCEC63DF5AA3",
                                    "1": "1225",
                                    "2": "casual",
                                    "3": "7,790250347273994"
                                },
                                {
                                    "0": "6156F7DE6043DCCB",
                                    "1": "1225",
                                    "2": "casual",
                                    "3": "7,790250347273994"
                                },
                                {
                                    "0": "8F3DB0F42DE3F2F4",
                                    "1": "1218",
                                    "2": "casual",
                                    "3": "7,744920544754528"
                                },
                                {
                                    "0": "4001788DE2355D8C",
                                    "1": "1218",
                                    "2": "casual",
                                    "3": "7,744920544754528"
                                },
                                {
                                    "0": "D5A89D699E400905",
                                    "1": "1217",
                                    "2": "casual",
                                    "3": "7,738444858680318"
                                },
                                {
                                    "0": "820FE53A6B6CD4F7",
                                    "1": "1215",
                                    "2": "casual",
                                    "3": "7,725493486531899"
                                },
                                {
                                    "0": "D78AF4C7BF6A2F84",
                                    "1": "1213",
                                    "2": "casual",
                                    "3": "7,7125421143834805"
                                },
                                {
                                    "0": "A9BE46DE3D4C69CA",
                                    "1": "1209",
                                    "2": "member",
                                    "3": "7,686639370086643"
                                },
                                {
                                    "0": "59B4F27771663519",
                                    "1": "1209",
                                    "2": "casual",
                                    "3": "7,686639370086643"
                                },
                                {
                                    "0": "22CFBFF0501C47DF",
                                    "1": "1206",
                                    "2": "casual",
                                    "3": "7,667212311864014"
                                },
                                {
                                    "0": "5451338FF486BD29",
                                    "1": "1206",
                                    "2": "casual",
                                    "3": "7,667212311864014"
                                },
                                {
                                    "0": "35144678084D3C4E",
                                    "1": "1203",
                                    "2": "casual",
                                    "3": "7,647785253641386"
                                },
                                {
                                    "0": "69CEF98780A08E5F",
                                    "1": "1200",
                                    "2": "casual",
                                    "3": "7,628358195418757"
                                },
                                {
                                    "0": "2F7769A372FC745D",
                                    "1": "1194",
                                    "2": "casual",
                                    "3": "7,5895040789735"
                                },
                                {
                                    "0": "5B97E8E5D3C924F9",
                                    "1": "1190",
                                    "2": "casual",
                                    "3": "7,563601334676663"
                                },
                                {
                                    "0": "3B9EE4D0DEFD6E61",
                                    "1": "1184",
                                    "2": "casual",
                                    "3": "7,524747218231406"
                                },
                                {
                                    "0": "A769B079BC6C8256",
                                    "1": "1183",
                                    "2": "casual",
                                    "3": "7,518271532157196"
                                },
                                {
                                    "0": "22EAA4822C131A6B",
                                    "1": "1180",
                                    "2": "casual",
                                    "3": "7,498844473934568"
                                },
                                {
                                    "0": "AC53CB9D6BF9A3EC",
                                    "1": "1175",
                                    "2": "casual",
                                    "3": "7,46646604356352"
                                },
                                {
                                    "0": "EAD99CEE9E21CC6C",
                                    "1": "1174",
                                    "2": "member",
                                    "3": "7,459990357489311"
                                },
                                {
                                    "0": "954A59DDF273289C",
                                    "1": "1170",
                                    "2": "casual",
                                    "3": "7,434087613192474"
                                },
                                {
                                    "0": "5D35998C4F14CCB8",
                                    "1": "1168",
                                    "2": "casual",
                                    "3": "7,421136241044055"
                                },
                                {
                                    "0": "B031CD2774AF432A",
                                    "1": "1166",
                                    "2": "casual",
                                    "3": "7,408184868895636"
                                },
                                {
                                    "0": "FAFA350807E73B67",
                                    "1": "1161",
                                    "2": "casual",
                                    "3": "7,375806438524588"
                                },
                                {
                                    "0": "11C65608AEB67D28",
                                    "1": "1157",
                                    "2": "casual",
                                    "3": "7,34990369422775"
                                },
                                {
                                    "0": "39A6C6EEE2F9FF0C",
                                    "1": "1155",
                                    "2": "casual",
                                    "3": "7,336952322079331"
                                },
                                {
                                    "0": "F70BEEA50DFF1810",
                                    "1": "1149",
                                    "2": "casual",
                                    "3": "7,298098205634075"
                                },
                                {
                                    "0": "C86BAB180DE9D333",
                                    "1": "1144",
                                    "2": "casual",
                                    "3": "7,265719775263027"
                                },
                                {
                                    "0": "037E8A6ECEE0CA16",
                                    "1": "1142",
                                    "2": "casual",
                                    "3": "7,252768403114608"
                                },
                                {
                                    "0": "5DC690E3A0C75B28",
                                    "1": "1134",
                                    "2": "casual",
                                    "3": "7,200962914520932"
                                },
                                {
                                    "0": "DF41FA19FB684987",
                                    "1": "1128",
                                    "2": "casual",
                                    "3": "7,162108798075676"
                                },
                                {
                                    "0": "1D6343A99E9FADC7",
                                    "1": "1128",
                                    "2": "casual",
                                    "3": "7,162108798075676"
                                },
                                {
                                    "0": "2E51FACCCDBAC2E1",
                                    "1": "1127",
                                    "2": "member",
                                    "3": "7,155633112001466"
                                },
                                {
                                    "0": "D90DD2D4E2DB4FE7",
                                    "1": "1126",
                                    "2": "casual",
                                    "3": "7,149157425927257"
                                },
                                {
                                    "0": "F8AE68C6924987D9",
                                    "1": "1125",
                                    "2": "casual",
                                    "3": "7,142681739853047"
                                },
                                {
                                    "0": "AB146B631031EDC2",
                                    "1": "1120",
                                    "2": "casual",
                                    "3": "7,110303309482"
                                },
                                {
                                    "0": "0CDD369E48004722",
                                    "1": "1119",
                                    "2": "casual",
                                    "3": "7,10382762340779"
                                },
                                {
                                    "0": "3CFA2E60C21EF9E8",
                                    "1": "1118",
                                    "2": "casual",
                                    "3": "7,09735193733358"
                                },
                                {
                                    "0": "E0A77B539EA8152B",
                                    "1": "1112",
                                    "2": "casual",
                                    "3": "7,058497820888324"
                                },
                                {
                                    "0": "94F0264A00E17762",
                                    "1": "1110",
                                    "2": "casual",
                                    "3": "7,045546448739905"
                                },
                                {
                                    "0": "4DAFE33F6A0A52A1",
                                    "1": "1107",
                                    "2": "casual",
                                    "3": "7,026119390517277"
                                },
                                {
                                    "0": "06E06F1F8CDAE244",
                                    "1": "1097",
                                    "2": "casual",
                                    "3": "6,961362529775182"
                                },
                                {
                                    "0": "A6BDE2E144D786AB",
                                    "1": "1096",
                                    "2": "member",
                                    "3": "6,954886843700972"
                                },
                                {
                                    "0": "9D1F7BEAC25208B0",
                                    "1": "1095",
                                    "2": "casual",
                                    "3": "6,948411157626762"
                                },
                                {
                                    "0": "C324825B5855C1DE",
                                    "1": "1089",
                                    "2": "casual",
                                    "3": "6,909557041181506"
                                },
                                {
                                    "0": "F05A2D64F0E1BA18",
                                    "1": "1086",
                                    "2": "casual",
                                    "3": "6,890129982958878"
                                },
                                {
                                    "0": "FFFF48C6B36B8E28",
                                    "1": "1081",
                                    "2": "casual",
                                    "3": "6,85775155258783"
                                },
                                {
                                    "0": "B02B7963E63837C9",
                                    "1": "1077",
                                    "2": "casual",
                                    "3": "6,831848808290992"
                                },
                                {
                                    "0": "13139FEF9EE9A6D0",
                                    "1": "1071",
                                    "2": "casual",
                                    "3": "6,792994691845736"
                                },
                                {
                                    "0": "E2CBD9025320E6D9",
                                    "1": "1068",
                                    "2": "casual",
                                    "3": "6,773567633623107"
                                },
                                {
                                    "0": "3CAB82D55A349B8F",
                                    "1": "1068",
                                    "2": "casual",
                                    "3": "6,773567633623107"
                                },
                                {
                                    "0": "1CC09DE869C38048",
                                    "1": "1063",
                                    "2": "casual",
                                    "3": "6,74118920325206"
                                },
                                {
                                    "0": "1EEAFCBA39C44341",
                                    "1": "1061",
                                    "2": "member",
                                    "3": "6,728237831103641"
                                },
                                {
                                    "0": "F3443DC0E6F1CFD0",
                                    "1": "1059",
                                    "2": "casual",
                                    "3": "6,715286458955222"
                                },
                                {
                                    "0": "B94B1F616C1C2012",
                                    "1": "1054",
                                    "2": "casual",
                                    "3": "6,682908028584174"
                                },
                                {
                                    "0": "363C88DF964CAA21",
                                    "1": "1054",
                                    "2": "casual",
                                    "3": "6,682908028584174"
                                },
                                {
                                    "0": "22EE81B512FFC8D3",
                                    "1": "1052",
                                    "2": "casual",
                                    "3": "6,6699566564357555"
                                },
                                {
                                    "0": "BACDA2889D60DC04",
                                    "1": "1052",
                                    "2": "casual",
                                    "3": "6,6699566564357555"
                                },
                                {
                                    "0": "31DB2DCA7BDABFC7",
                                    "1": "1050",
                                    "2": "member",
                                    "3": "6,657005284287337"
                                },
                                {
                                    "0": "6116100A0F559BE0",
                                    "1": "1045",
                                    "2": "casual",
                                    "3": "6,624626853916289"
                                },
                                {
                                    "0": "765AB9C6D679E9B2",
                                    "1": "1043",
                                    "2": "casual",
                                    "3": "6,61167548176787"
                                },
                                {
                                    "0": "B4F30C332E53D44E",
                                    "1": "1040",
                                    "2": "member",
                                    "3": "6,592248423545242"
                                },
                                {
                                    "0": "3E88EBFABBBF5586",
                                    "1": "1033",
                                    "2": "casual",
                                    "3": "6,5469186210257755"
                                },
                                {
                                    "0": "A45E96FAF7D37393",
                                    "1": "1027",
                                    "2": "casual",
                                    "3": "6,508064504580519"
                                },
                                {
                                    "0": "63C81BE4A71AAD05",
                                    "1": "1025",
                                    "2": "casual",
                                    "3": "6,4951131324321"
                                },
                                {
                                    "0": "06A83F699FAAF512",
                                    "1": "1009",
                                    "2": "casual",
                                    "3": "6,391502155244749"
                                },
                                {
                                    "0": "2BC503606588ABC1",
                                    "1": "1007",
                                    "2": "casual",
                                    "3": "6,37855078309633"
                                },
                                {
                                    "0": "5DF6A39648CCDC5E",
                                    "1": "988",
                                    "2": "casual",
                                    "3": "6,25551274768635"
                                },
                                {
                                    "0": "34FAF1C7A9CDB420",
                                    "1": "988",
                                    "2": "casual",
                                    "3": "6,25551274768635"
                                },
                                {
                                    "0": "6E0A2D6F3A20D051",
                                    "1": "987",
                                    "2": "casual",
                                    "3": "6,24903706161214"
                                },
                                {
                                    "0": "2DB96D6002F1AADB",
                                    "1": "982",
                                    "2": "casual",
                                    "3": "6,216658631241093"
                                },
                                {
                                    "0": "C44C9387D3939478",
                                    "1": "964",
                                    "2": "casual",
                                    "3": "6,100096281905322"
                                },
                                {
                                    "0": "121C83F2C87761F2",
                                    "1": "964",
                                    "2": "casual",
                                    "3": "6,100096281905322"
                                },
                                {
                                    "0": "4558C2672C2F139F",
                                    "1": "948",
                                    "2": "casual",
                                    "3": "5,996485304717971"
                                },
                                {
                                    "0": "666A82E8519A33A2",
                                    "1": "944",
                                    "2": "member",
                                    "3": "5,970582560421133"
                                },
                                {
                                    "0": "FA2D95C9C2A798A9",
                                    "1": "940",
                                    "2": "casual",
                                    "3": "5,944679816124295"
                                },
                                {
                                    "0": "EE457077C91ED855",
                                    "1": "933",
                                    "2": "casual",
                                    "3": "5,8993500136048285"
                                },
                                {
                                    "0": "FA87CFB562B45875",
                                    "1": "930",
                                    "2": "member",
                                    "3": "5,8799229553822"
                                },
                                {
                                    "0": "DA2362180392E496",
                                    "1": "928",
                                    "2": "member",
                                    "3": "5,866971583233781"
                                },
                                {
                                    "0": "5110A49F40F473FB",
                                    "1": "918",
                                    "2": "casual",
                                    "3": "5,802214722491686"
                                },
                                {
                                    "0": "37BFF85C2A9BBE73",
                                    "1": "916",
                                    "2": "casual",
                                    "3": "5,789263350343267"
                                },
                                {
                                    "0": "B599F66639E2545A",
                                    "1": "913",
                                    "2": "casual",
                                    "3": "5,769836292120639"
                                },
                                {
                                    "0": "41C0D27B4A8DE5AF",
                                    "1": "912",
                                    "2": "casual",
                                    "3": "5,7633606060464295"
                                },
                                {
                                    "0": "7C6938A28E1BE1C1",
                                    "1": "906",
                                    "2": "casual",
                                    "3": "5,724506489601173"
                                },
                                {
                                    "0": "934786C0F218C209",
                                    "1": "903",
                                    "2": "casual",
                                    "3": "5,705079431378544"
                                },
                                {
                                    "0": "71AEDA0B2AB4B4D2",
                                    "1": "902",
                                    "2": "casual",
                                    "3": "5,698603745304335"
                                },
                                {
                                    "0": "391664B07F9C0A4F",
                                    "1": "900",
                                    "2": "casual",
                                    "3": "5,685652373155916"
                                },
                                {
                                    "0": "8DC0503DA91CFAD1",
                                    "1": "897",
                                    "2": "member",
                                    "3": "5,666225314933287"
                                },
                                {
                                    "0": "49ADBA9C69E0964D",
                                    "1": "896",
                                    "2": "member",
                                    "3": "5,659749628859078"
                                },
                                {
                                    "0": "41573B200ABDB322",
                                    "1": "893",
                                    "2": "casual",
                                    "3": "5,6403225706364495"
                                },
                                {
                                    "0": "E868D0C94FD01A80",
                                    "1": "888",
                                    "2": "casual",
                                    "3": "5,607944140265403"
                                },
                                {
                                    "0": "CFFADC41C83171E0",
                                    "1": "887",
                                    "2": "casual",
                                    "3": "5,601468454191193"
                                },
                                {
                                    "0": "9F00E4775B3E3FB1",
                                    "1": "886",
                                    "2": "casual",
                                    "3": "5,594992768116984"
                                },
                                {
                                    "0": "79E97487912DBBC1",
                                    "1": "874",
                                    "2": "casual",
                                    "3": "5,517284535226469"
                                },
                                {
                                    "0": "B4FCCFFA535D53F8",
                                    "1": "869",
                                    "2": "member",
                                    "3": "5,484906104855423"
                                },
                                {
                                    "0": "F38DC7DF96500B5D",
                                    "1": "868",
                                    "2": "casual",
                                    "3": "5,478430418781213"
                                },
                                {
                                    "0": "872A41A818CD3F7C",
                                    "1": "865",
                                    "2": "casual",
                                    "3": "5,459003360558585"
                                },
                                {
                                    "0": "FAA274B91C21B5D7",
                                    "1": "860",
                                    "2": "casual",
                                    "3": "5,426624930187537"
                                },
                                {
                                    "0": "D4DEAEB18BD5D46F",
                                    "1": "859",
                                    "2": "casual",
                                    "3": "5,420149244113327"
                                },
                                {
                                    "0": "F9A87DEA8A83E24C",
                                    "1": "856",
                                    "2": "member",
                                    "3": "5,400722185890699"
                                },
                                {
                                    "0": "C6FBEE0CDA6F363C",
                                    "1": "849",
                                    "2": "casual",
                                    "3": "5,355392383371233"
                                },
                                {
                                    "0": "54E5290BBC73963A",
                                    "1": "847",
                                    "2": "member",
                                    "3": "5,342441011222814"
                                },
                                {
                                    "0": "516C097B8E40E51D",
                                    "1": "843",
                                    "2": "casual",
                                    "3": "5,316538266925976"
                                },
                                {
                                    "0": "8A1F7582B8C6912F",
                                    "1": "842",
                                    "2": "member",
                                    "3": "5,310062580851767"
                                },
                                {
                                    "0": "445988F859F602FD",
                                    "1": "833",
                                    "2": "casual",
                                    "3": "5,2517814061838815"
                                },
                                {
                                    "0": "74E03EE7E792F909",
                                    "1": "824",
                                    "2": "casual",
                                    "3": "5,193500231515996"
                                },
                                {
                                    "0": "13F3D38F609303E3",
                                    "1": "820",
                                    "2": "casual",
                                    "3": "5,167597487219158"
                                },
                                {
                                    "0": "31A75086E6A5071A",
                                    "1": "817",
                                    "2": "casual",
                                    "3": "5,14817042899653"
                                },
                                {
                                    "0": "55875DA3EF613918",
                                    "1": "804",
                                    "2": "casual",
                                    "3": "5,063986510031807"
                                },
                                {
                                    "0": "A8AA8567A86F122C",
                                    "1": "804",
                                    "2": "member",
                                    "3": "5,063986510031807"
                                },
                                {
                                    "0": "FB53AE1B6D15EE02",
                                    "1": "793",
                                    "2": "casual",
                                    "3": "4,9927539632155025"
                                },
                                {
                                    "0": "C8AF4F2AD08B79BD",
                                    "1": "787",
                                    "2": "casual",
                                    "3": "4,953899846770246"
                                },
                                {
                                    "0": "74AE8F15DE1058AD",
                                    "1": "783",
                                    "2": "casual",
                                    "3": "4,927997102473408"
                                },
                                {
                                    "0": "5C33F1DE281C3AAE",
                                    "1": "769",
                                    "2": "casual",
                                    "3": "4,837337497434475"
                                },
                                {
                                    "0": "99D90BE353919317",
                                    "1": "765",
                                    "2": "casual",
                                    "3": "4,811434753137637"
                                },
                                {
                                    "0": "AA91FA520561EAF0",
                                    "1": "763",
                                    "2": "casual",
                                    "3": "4,798483380989218"
                                },
                                {
                                    "0": "46D75AD711E8808F",
                                    "1": "761",
                                    "2": "casual",
                                    "3": "4,785532008840799"
                                },
                                {
                                    "0": "745052042D4996E6",
                                    "1": "756",
                                    "2": "member",
                                    "3": "4,753153578469752"
                                },
                                {
                                    "0": "A403EEAF63CBFE53",
                                    "1": "742",
                                    "2": "member",
                                    "3": "4,662493973430819"
                                },
                                {
                                    "0": "A809E1444B272C18",
                                    "1": "741",
                                    "2": "member",
                                    "3": "4,65601828735661"
                                },
                                {
                                    "0": "5949F2B3E1BC9924",
                                    "1": "740",
                                    "2": "casual",
                                    "3": "4,6495426012824"
                                },
                                {
                                    "0": "90DE140C60D84414",
                                    "1": "738",
                                    "2": "casual",
                                    "3": "4,636591229133981"
                                },
                                {
                                    "0": "150BABDBC3D561C9",
                                    "1": "736",
                                    "2": "casual",
                                    "3": "4,623639856985562"
                                },
                                {
                                    "0": "70BF60D5F59ACCCF",
                                    "1": "735",
                                    "2": "casual",
                                    "3": "4,617164170911353"
                                },
                                {
                                    "0": "0EB3DDAADAEBAE22",
                                    "1": "730",
                                    "2": "member",
                                    "3": "4,584785740540306"
                                },
                                {
                                    "0": "E2DE0C21E716E100",
                                    "1": "727",
                                    "2": "casual",
                                    "3": "4,565358682317678"
                                },
                                {
                                    "0": "7E17110308B024F3",
                                    "1": "726",
                                    "2": "casual",
                                    "3": "4,558882996243468"
                                },
                                {
                                    "0": "E8A840555E0BDC7B",
                                    "1": "723",
                                    "2": "casual",
                                    "3": "4,53945593802084"
                                },
                                {
                                    "0": "EDF69709C6E077AD",
                                    "1": "710",
                                    "2": "member",
                                    "3": "4,455272019056117"
                                },
                                {
                                    "0": "2EF5548C50BE6ADC",
                                    "1": "707",
                                    "2": "casual",
                                    "3": "4,435844960833488"
                                },
                                {
                                    "0": "B92691C5095DCC14",
                                    "1": "706",
                                    "2": "casual",
                                    "3": "4,429369274759279"
                                },
                                {
                                    "0": "9A337900ACEFB8A4",
                                    "1": "703",
                                    "2": "member",
                                    "3": "4,40994221653665"
                                },
                                {
                                    "0": "73AB24A2F86475B4",
                                    "1": "702",
                                    "2": "member",
                                    "3": "4,403466530462441"
                                },
                                {
                                    "0": "2F54731506D9FFFA",
                                    "1": "689",
                                    "2": "casual",
                                    "3": "4,319282611497718"
                                },
                                {
                                    "0": "D203C3BE3EA5775F",
                                    "1": "685",
                                    "2": "casual",
                                    "3": "4,29337986720088"
                                },
                                {
                                    "0": "7EDC01609124FE83",
                                    "1": "682",
                                    "2": "casual",
                                    "3": "4,273952808978251"
                                },
                                {
                                    "0": "FE9CAF18E72FB8C8",
                                    "1": "675",
                                    "2": "casual",
                                    "3": "4,228623006458784"
                                },
                                {
                                    "0": "8BC2A9144139C275",
                                    "1": "675",
                                    "2": "casual",
                                    "3": "4,228623006458784"
                                },
                                {
                                    "0": "B08AE00EA4AF3E22",
                                    "1": "672",
                                    "2": "casual",
                                    "3": "4,2091959482361565"
                                },
                                {
                                    "0": "D88CFAB827E8DA7B",
                                    "1": "670",
                                    "2": "member",
                                    "3": "4,196244576087738"
                                },
                                {
                                    "0": "AD630837652A39CD",
                                    "1": "670",
                                    "2": "casual",
                                    "3": "4,196244576087738"
                                },
                                {
                                    "0": "B445BDFF7BD55E56",
                                    "1": "669",
                                    "2": "casual",
                                    "3": "4,189768890013528"
                                },
                                {
                                    "0": "2D214993979F3191",
                                    "1": "666",
                                    "2": "casual",
                                    "3": "4,1703418317909"
                                },
                                {
                                    "0": "F95358392AFE6AA7",
                                    "1": "654",
                                    "2": "member",
                                    "3": "4,092633598900386"
                                },
                                {
                                    "0": "A516D11A8265C53E",
                                    "1": "653",
                                    "2": "casual",
                                    "3": "4,0861579128261765"
                                },
                                {
                                    "0": "C848669C1C1E0DD8",
                                    "1": "653",
                                    "2": "casual",
                                    "3": "4,0861579128261765"
                                },
                                {
                                    "0": "BB81028259872484",
                                    "1": "651",
                                    "2": "casual",
                                    "3": "4,073206540677758"
                                },
                                {
                                    "0": "74EF0DC288C3ABA7",
                                    "1": "650",
                                    "2": "casual",
                                    "3": "4,066730854603548"
                                },
                                {
                                    "0": "18B8DF720E461A57",
                                    "1": "648",
                                    "2": "casual",
                                    "3": "4,053779482455129"
                                },
                                {
                                    "0": "C731ED7810B8C302",
                                    "1": "648",
                                    "2": "casual",
                                    "3": "4,053779482455129"
                                },
                                {
                                    "0": "2D599C777ED1DC40",
                                    "1": "648",
                                    "2": "member",
                                    "3": "4,053779482455129"
                                },
                                {
                                    "0": "1DF36008396D6042",
                                    "1": "644",
                                    "2": "casual",
                                    "3": "4,027876738158291"
                                },
                                {
                                    "0": "591C6D89516DE83D",
                                    "1": "643",
                                    "2": "casual",
                                    "3": "4,021401052084082"
                                },
                                {
                                    "0": "34CACFDFE8AEC746",
                                    "1": "642",
                                    "2": "member",
                                    "3": "4,014925366009872"
                                },
                                {
                                    "0": "2CB1856F017AD34D",
                                    "1": "636",
                                    "2": "member",
                                    "3": "3,9760712495646153"
                                },
                                {
                                    "0": "BA6BBD7F58F32A51",
                                    "1": "628",
                                    "2": "casual",
                                    "3": "3,9242657609709397"
                                },
                                {
                                    "0": "5DEB236F27B80625",
                                    "1": "623",
                                    "2": "casual",
                                    "3": "3,8918873305998924"
                                },
                                {
                                    "0": "DCF8BC390CEE19DC",
                                    "1": "623",
                                    "2": "casual",
                                    "3": "3,8918873305998924"
                                },
                                {
                                    "0": "B49C92C72A1EB87A",
                                    "1": "619",
                                    "2": "casual",
                                    "3": "3,8659845863030546"
                                },
                                {
                                    "0": "2D016DD91A909FC9",
                                    "1": "615",
                                    "2": "casual",
                                    "3": "3,8400818420062164"
                                },
                                {
                                    "0": "5B7CF498A13C4315",
                                    "1": "613",
                                    "2": "casual",
                                    "3": "3,8271304698577975"
                                },
                                {
                                    "0": "A7EC85A00AB2D1E2",
                                    "1": "610",
                                    "2": "casual",
                                    "3": "3,807703411635169"
                                },
                                {
                                    "0": "1520513C029D60FF",
                                    "1": "604",
                                    "2": "casual",
                                    "3": "3,7688492951899124"
                                },
                                {
                                    "0": "663DF74908A97A64",
                                    "1": "601",
                                    "2": "casual",
                                    "3": "3,749422236967284"
                                },
                                {
                                    "0": "82EC8D76BB57CC96",
                                    "1": "600",
                                    "2": "casual",
                                    "3": "3,7429465508930746"
                                },
                                {
                                    "0": "52A2427BFC9962B3",
                                    "1": "598",
                                    "2": "casual",
                                    "3": "3,7299951787446557"
                                },
                                {
                                    "0": "89DAD3FE613BA90E",
                                    "1": "598",
                                    "2": "casual",
                                    "3": "3,7299951787446557"
                                },
                                {
                                    "0": "91BA88576A1E431B",
                                    "1": "597",
                                    "2": "casual",
                                    "3": "3,7235194926704462"
                                },
                                {
                                    "0": "5E17D1B09F5837A5",
                                    "1": "588",
                                    "2": "casual",
                                    "3": "3,6652383180025607"
                                },
                                {
                                    "0": "7D1A9796FFF26F65",
                                    "1": "567",
                                    "2": "casual",
                                    "3": "3,529248910444162"
                                },
                                {
                                    "0": "2C407B15316E0903",
                                    "1": "563",
                                    "2": "casual",
                                    "3": "3,503346166147324"
                                },
                                {
                                    "0": "F6FA1925FFB160B5",
                                    "1": "563",
                                    "2": "casual",
                                    "3": "3,503346166147324"
                                },
                                {
                                    "0": "AFDD2E1FED9972D0",
                                    "1": "561",
                                    "2": "casual",
                                    "3": "3,490394793998905"
                                },
                                {
                                    "0": "23AE7EAB62946888",
                                    "1": "557",
                                    "2": "casual",
                                    "3": "3,4644920497020673"
                                },
                                {
                                    "0": "E718A9CFCB50D133",
                                    "1": "557",
                                    "2": "casual",
                                    "3": "3,4644920497020673"
                                },
                                {
                                    "0": "FEFC80766109FCAA",
                                    "1": "555",
                                    "2": "member",
                                    "3": "3,4515406775536484"
                                },
                                {
                                    "0": "1102CA2481F4CBCD",
                                    "1": "543",
                                    "2": "casual",
                                    "3": "3,3738324446631345"
                                },
                                {
                                    "0": "49D53F76F3241617",
                                    "1": "542",
                                    "2": "casual",
                                    "3": "3,367356758588925"
                                },
                                {
                                    "0": "03CB6BABA9438580",
                                    "1": "538",
                                    "2": "casual",
                                    "3": "3,341454014292087"
                                },
                                {
                                    "0": "7834AA7F92EAA4CB",
                                    "1": "532",
                                    "2": "casual",
                                    "3": "3,3025998978468305"
                                },
                                {
                                    "0": "D26599AF6C942C2B",
                                    "1": "511",
                                    "2": "casual",
                                    "3": "3,1666104902884316"
                                },
                                {
                                    "0": "92F2615FB36FFAC7",
                                    "1": "500",
                                    "2": "casual",
                                    "3": "3,095377943472127"
                                },
                                {
                                    "0": "01923D87A0C2E319",
                                    "1": "499",
                                    "2": "casual",
                                    "3": "3,0889022573979177"
                                },
                                {
                                    "0": "7DEF24BE52448DAB",
                                    "1": "488",
                                    "2": "casual",
                                    "3": "3,0176697105816137"
                                },
                                {
                                    "0": "EC46FF0A6C30088C",
                                    "1": "486",
                                    "2": "casual",
                                    "3": "3,004718338433195"
                                },
                                {
                                    "0": "89740463A34AF8C1",
                                    "1": "480",
                                    "2": "casual",
                                    "3": "2,965864221987938"
                                },
                                {
                                    "0": "3F65EAB1CA410330",
                                    "1": "480",
                                    "2": "casual",
                                    "3": "2,965864221987938"
                                },
                                {
                                    "0": "130BA176EADB5DFC",
                                    "1": "480",
                                    "2": "casual",
                                    "3": "2,965864221987938"
                                },
                                {
                                    "0": "2B39242E8675F2C6",
                                    "1": "480",
                                    "2": "casual",
                                    "3": "2,965864221987938"
                                },
                                {
                                    "0": "86F6AE9C1555E23F",
                                    "1": "480",
                                    "2": "casual",
                                    "3": "2,965864221987938"
                                },
                                {
                                    "0": "4A83653D55C57C0E",
                                    "1": "480",
                                    "2": "casual",
                                    "3": "2,965864221987938"
                                },
                                {
                                    "0": "8E544E4BE225B083",
                                    "1": "480",
                                    "2": "member",
                                    "3": "2,965864221987938"
                                },
                                {
                                    "0": "1348C90A66BFB5A4",
                                    "1": "480",
                                    "2": "casual",
                                    "3": "2,965864221987938"
                                },
                                {
                                    "0": "6544E0139B05C637",
                                    "1": "480",
                                    "2": "casual",
                                    "3": "2,965864221987938"
                                },
                                {
                                    "0": "32B980F52194B655",
                                    "1": "479",
                                    "2": "casual",
                                    "3": "2,9593885359137286"
                                },
                                {
                                    "0": "5A669D58555BBCC1",
                                    "1": "479",
                                    "2": "member",
                                    "3": "2,9593885359137286"
                                },
                                {
                                    "0": "20E8E0CB11B20223",
                                    "1": "479",
                                    "2": "member",
                                    "3": "2,9593885359137286"
                                },
                                {
                                    "0": "88B9E6A9A80A3926",
                                    "1": "475",
                                    "2": "casual",
                                    "3": "2,9334857916168904"
                                },
                                {
                                    "0": "918B8FB6CDE8B265",
                                    "1": "475",
                                    "2": "casual",
                                    "3": "2,9334857916168904"
                                },
                                {
                                    "0": "D0D2896B96443106",
                                    "1": "469",
                                    "2": "casual",
                                    "3": "2,8946316751716337"
                                },
                                {
                                    "0": "B4E800614AEAE546",
                                    "1": "468",
                                    "2": "casual",
                                    "3": "2,888155989097424"
                                },
                                {
                                    "0": "205F9C0A32018D6F",
                                    "1": "468",
                                    "2": "casual",
                                    "3": "2,888155989097424"
                                },
                                {
                                    "0": "546365D61D124AF8",
                                    "1": "466",
                                    "2": "casual",
                                    "3": "2,8752046169490053"
                                },
                                {
                                    "0": "990C72DC8EAF2D3A",
                                    "1": "465",
                                    "2": "casual",
                                    "3": "2,868728930874796"
                                },
                                {
                                    "0": "73CBAC6509076DFB",
                                    "1": "462",
                                    "2": "casual",
                                    "3": "2,8493018726521675"
                                },
                                {
                                    "0": "F521206427005FB3",
                                    "1": "461",
                                    "2": "casual",
                                    "3": "2,842826186577958"
                                },
                                {
                                    "0": "D623438D8FC6049C",
                                    "1": "459",
                                    "2": "casual",
                                    "3": "2,829874814429539"
                                },
                                {
                                    "0": "51828AD52F41B6E0",
                                    "1": "451",
                                    "2": "member",
                                    "3": "2,778069325835863"
                                },
                                {
                                    "0": "74EA55CD629D9259",
                                    "1": "446",
                                    "2": "casual",
                                    "3": "2,745690895464816"
                                },
                                {
                                    "0": "DA99818DA2CBD722",
                                    "1": "443",
                                    "2": "casual",
                                    "3": "2,7262638372421875"
                                },
                                {
                                    "0": "F1E110D6E1650F0E",
                                    "1": "442",
                                    "2": "casual",
                                    "3": "2,719788151167978"
                                },
                                {
                                    "0": "6C6A699880D9F8A7",
                                    "1": "440",
                                    "2": "casual",
                                    "3": "2,706836779019559"
                                },
                                {
                                    "0": "F68992AC09D9A6BD",
                                    "1": "439",
                                    "2": "casual",
                                    "3": "2,7003610929453497"
                                },
                                {
                                    "0": "C6E90A8D378A7058",
                                    "1": "435",
                                    "2": "member",
                                    "3": "2,674458348648512"
                                },
                                {
                                    "0": "21D9A323A6FB7791",
                                    "1": "434",
                                    "2": "casual",
                                    "3": "2,6679826625743024"
                                },
                                {
                                    "0": "BB49631E221F1527",
                                    "1": "432",
                                    "2": "member",
                                    "3": "2,6550312904258835"
                                },
                                {
                                    "0": "5FCB86F16C458EFB",
                                    "1": "428",
                                    "2": "casual",
                                    "3": "2,6291285461290452"
                                },
                                {
                                    "0": "CDAE40D36A6AF2FF",
                                    "1": "424",
                                    "2": "casual",
                                    "3": "2,6032258018322074"
                                },
                                {
                                    "0": "61626FD4D1883C77",
                                    "1": "420",
                                    "2": "casual",
                                    "3": "2,5773230575353696"
                                },
                                {
                                    "0": "BE006A787049F427",
                                    "1": "420",
                                    "2": "casual",
                                    "3": "2,5773230575353696"
                                },
                                {
                                    "0": "25AD7C361426E128",
                                    "1": "420",
                                    "2": "casual",
                                    "3": "2,5773230575353696"
                                },
                                {
                                    "0": "85B39A8009DDB270",
                                    "1": "417",
                                    "2": "casual",
                                    "3": "2,5578959993127413"
                                },
                                {
                                    "0": "8CA05A66A68B2574",
                                    "1": "414",
                                    "2": "member",
                                    "3": "2,538468941090113"
                                },
                                {
                                    "0": "218177562BB25137",
                                    "1": "411",
                                    "2": "casual",
                                    "3": "2,5190418828674845"
                                },
                                {
                                    "0": "6200FFEA2A143CD5",
                                    "1": "406",
                                    "2": "casual",
                                    "3": "2,486663452496437"
                                },
                                {
                                    "0": "AC0DA6404D3B1B40",
                                    "1": "402",
                                    "2": "member",
                                    "3": "2,460760708199599"
                                },
                                {
                                    "0": "8014A5F98C9B68D3",
                                    "1": "400",
                                    "2": "casual",
                                    "3": "2,44780933605118"
                                },
                                {
                                    "0": "C112EAAE9AC70336",
                                    "1": "400",
                                    "2": "casual",
                                    "3": "2,44780933605118"
                                },
                                {
                                    "0": "0E1FA7EDB954A768",
                                    "1": "399",
                                    "2": "casual",
                                    "3": "2,4413336499769707"
                                },
                                {
                                    "0": "3088F6DFDEE8D3D9",
                                    "1": "397",
                                    "2": "casual",
                                    "3": "2,4283822778285518"
                                },
                                {
                                    "0": "F6300748D58EE87F",
                                    "1": "394",
                                    "2": "casual",
                                    "3": "2,4089552196059234"
                                },
                                {
                                    "0": "1202F5AB8892470C",
                                    "1": "393",
                                    "2": "member",
                                    "3": "2,402479533531714"
                                },
                                {
                                    "0": "61DBB9E245E4E42B",
                                    "1": "393",
                                    "2": "member",
                                    "3": "2,402479533531714"
                                },
                                {
                                    "0": "99BA3A8760232C86",
                                    "1": "392",
                                    "2": "casual",
                                    "3": "2,3960038474575045"
                                },
                                {
                                    "0": "B7DB9309EAC07D28",
                                    "1": "392",
                                    "2": "casual",
                                    "3": "2,3960038474575045"
                                },
                                {
                                    "0": "0027031FD77494E5",
                                    "1": "391",
                                    "2": "casual",
                                    "3": "2,389528161383295"
                                },
                                {
                                    "0": "90EB3A49D6FE9758",
                                    "1": "391",
                                    "2": "casual",
                                    "3": "2,389528161383295"
                                },
                                {
                                    "0": "E728A2AF4ACE1A4B",
                                    "1": "391",
                                    "2": "casual",
                                    "3": "2,389528161383295"
                                },
                                {
                                    "0": "A37670BE4237B833",
                                    "1": "388",
                                    "2": "casual",
                                    "3": "2,3701011031606667"
                                },
                                {
                                    "0": "BD42F1A01DA24CCB",
                                    "1": "388",
                                    "2": "casual",
                                    "3": "2,3701011031606667"
                                },
                                {
                                    "0": "451DDDC38480D5F6",
                                    "1": "384",
                                    "2": "casual",
                                    "3": "2,344198358863829"
                                },
                                {
                                    "0": "F888FBE62E301EEE",
                                    "1": "380",
                                    "2": "casual",
                                    "3": "2,3182956145669906"
                                },
                                {
                                    "0": "68405F4E841CDB81",
                                    "1": "378",
                                    "2": "member",
                                    "3": "2,3053442424185717"
                                },
                                {
                                    "0": "86B83F39BCCA862E",
                                    "1": "378",
                                    "2": "casual",
                                    "3": "2,3053442424185717"
                                },
                                {
                                    "0": "3BDE75DA1CD7FC26",
                                    "1": "369",
                                    "2": "member",
                                    "3": "2,2470630677506866"
                                },
                                {
                                    "0": "04D08D8FB873531F",
                                    "1": "369",
                                    "2": "casual",
                                    "3": "2,2470630677506866"
                                },
                                {
                                    "0": "750E0281D7ECC3BB",
                                    "1": "369",
                                    "2": "casual",
                                    "3": "2,2470630677506866"
                                },
                                {
                                    "0": "ED5A068C2524FA0C",
                                    "1": "369",
                                    "2": "casual",
                                    "3": "2,2470630677506866"
                                },
                                {
                                    "0": "70A62A6B7CEAC0DF",
                                    "1": "369",
                                    "2": "casual",
                                    "3": "2,2470630677506866"
                                },
                                {
                                    "0": "B94FD89960C3BA57",
                                    "1": "369",
                                    "2": "member",
                                    "3": "2,2470630677506866"
                                },
                                {
                                    "0": "DFC39499D7CC5CBA",
                                    "1": "367",
                                    "2": "casual",
                                    "3": "2,2341116956022677"
                                },
                                {
                                    "0": "7EE6A428BF2DE8F6",
                                    "1": "363",
                                    "2": "casual",
                                    "3": "2,20820895130543"
                                },
                                {
                                    "0": "23C492CFEB1AE4B9",
                                    "1": "361",
                                    "2": "member",
                                    "3": "2,195257579157011"
                                },
                                {
                                    "0": "A396B28362DC5E06",
                                    "1": "361",
                                    "2": "member",
                                    "3": "2,195257579157011"
                                },
                                {
                                    "0": "8B04AD4D03CB9B7C",
                                    "1": "360",
                                    "2": "casual",
                                    "3": "2,188781893082801"
                                },
                                {
                                    "0": "6E5E3CEEF60F4BA1",
                                    "1": "358",
                                    "2": "member",
                                    "3": "2,1758305209343822"
                                },
                                {
                                    "0": "96F26443BD686B66",
                                    "1": "355",
                                    "2": "casual",
                                    "3": "2,156403462711754"
                                },
                                {
                                    "0": "6583ACD0153912DD",
                                    "1": "354",
                                    "2": "casual",
                                    "3": "2,1499277766375444"
                                },
                                {
                                    "0": "1A13FEBFD20F05B5",
                                    "1": "353",
                                    "2": "member",
                                    "3": "2,143452090563335"
                                },
                                {
                                    "0": "E6C3A7C038CB58A2",
                                    "1": "349",
                                    "2": "casual",
                                    "3": "2,117549346266497"
                                },
                                {
                                    "0": "54F793DBB4C64787",
                                    "1": "348",
                                    "2": "casual",
                                    "3": "2,1110736601922877"
                                },
                                {
                                    "0": "47F05E4EA92EE1F9",
                                    "1": "347",
                                    "2": "casual",
                                    "3": "2,1045979741180783"
                                },
                                {
                                    "0": "642ACFE429B39DA3",
                                    "1": "347",
                                    "2": "member",
                                    "3": "2,1045979741180783"
                                },
                                {
                                    "0": "6EB5BCD151F31B3A",
                                    "1": "344",
                                    "2": "member",
                                    "3": "2,08517091589545"
                                },
                                {
                                    "0": "141CBAB88975171B",
                                    "1": "343",
                                    "2": "casual",
                                    "3": "2,0786952298212404"
                                },
                                {
                                    "0": "9ECAE9D0B338CE5A",
                                    "1": "343",
                                    "2": "member",
                                    "3": "2,0786952298212404"
                                },
                                {
                                    "0": "BB509F57FF037804",
                                    "1": "343",
                                    "2": "casual",
                                    "3": "2,0786952298212404"
                                },
                                {
                                    "0": "3B0E49BC5B6F090C",
                                    "1": "343",
                                    "2": "casual",
                                    "3": "2,0786952298212404"
                                },
                                {
                                    "0": "D82DB303BA81FFC2",
                                    "1": "342",
                                    "2": "casual",
                                    "3": "2,072219543747031"
                                },
                                {
                                    "0": "9AB069F645EEA916",
                                    "1": "341",
                                    "2": "member",
                                    "3": "2,0657438576728215"
                                },
                                {
                                    "0": "557BC1868FD3B0A3",
                                    "1": "340",
                                    "2": "casual",
                                    "3": "2,059268171598612"
                                },
                                {
                                    "0": "F67A3D637949E1BB",
                                    "1": "339",
                                    "2": "casual",
                                    "3": "2,0527924855244026"
                                },
                                {
                                    "0": "EF578E0A8A3BE2C6",
                                    "1": "337",
                                    "2": "casual",
                                    "3": "2,0398411133759833"
                                },
                                {
                                    "0": "416812E6046BE94A",
                                    "1": "333",
                                    "2": "casual",
                                    "3": "2,0139383690791455"
                                },
                                {
                                    "0": "876937867184315E",
                                    "1": "333",
                                    "2": "casual",
                                    "3": "2,0139383690791455"
                                },
                                {
                                    "0": "0407B3C24D5DBEC7",
                                    "1": "332",
                                    "2": "member",
                                    "3": "2,007462683004936"
                                },
                                {
                                    "0": "7C9EBD8D60BD0B47",
                                    "1": "331",
                                    "2": "member",
                                    "3": "2,0009869969307266"
                                },
                                {
                                    "0": "087745AC3390B136",
                                    "1": "330",
                                    "2": "member",
                                    "3": "1,9945113108565171"
                                },
                                {
                                    "0": "60D5851A7FA2460D",
                                    "1": "330",
                                    "2": "casual",
                                    "3": "1,9945113108565171"
                                },
                                {
                                    "0": "CD0B93D5B0F31155",
                                    "1": "329",
                                    "2": "casual",
                                    "3": "1,9880356247823077"
                                },
                                {
                                    "0": "C0A712CD4906003C",
                                    "1": "329",
                                    "2": "casual",
                                    "3": "1,9880356247823077"
                                },
                                {
                                    "0": "7BE42FEA8BF2DAEB",
                                    "1": "328",
                                    "2": "member",
                                    "3": "1,9815599387080982"
                                },
                                {
                                    "0": "6795278AA80ED809",
                                    "1": "327",
                                    "2": "casual",
                                    "3": "1,9750842526338888"
                                },
                                {
                                    "0": "7EC0D171ECC560A1",
                                    "1": "325",
                                    "2": "casual",
                                    "3": "1,9621328804854699"
                                },
                                {
                                    "0": "3DA6F337F174D42D",
                                    "1": "324",
                                    "2": "casual",
                                    "3": "1,9556571944112604"
                                },
                                {
                                    "0": "B8ADBC5DC9980CC3",
                                    "1": "318",
                                    "2": "casual",
                                    "3": "1,9168030779660035"
                                },
                                {
                                    "0": "30E4A599AA5BA070",
                                    "1": "317",
                                    "2": "casual",
                                    "3": "1,910327391891794"
                                },
                                {
                                    "0": "C2F2C299B3B933DC",
                                    "1": "317",
                                    "2": "casual",
                                    "3": "1,910327391891794"
                                }
                            ]
                        },
                        "text/html": "<table><tr><th>ride_id</th><th>ride_length</th><th>member_casual</th><th>z_score_ride</th></tr><tr><td>271D9E93A68C9A17</td><td>31682</td><td>casual</td><td>205,02022110947186</td></tr><tr><td>9F66323DE1CE4C08</td><td>20074</td><td>casual</td><td>129,8504571600483</td></tr><tr><td>F173092104F0C6AA</td><td>18231</td><td>casual</td><td>117,91576772528026</td></tr><tr><td>5752EBD1DB94ACB3</td><td>17251</td><td>casual</td><td>111,56959537255499</td></tr><tr><td>EBD8B407D4DE1469</td><td>17231</td><td>casual</td><td>111,4400816510708</td></tr><tr><td>61486C9900757ABE</td><td>15905</td><td>casual</td><td>102,85332191666903</td></tr><tr><td>7D3DF23CE224F140</td><td>14181</td><td>casual</td><td>91,68923912473191</td></tr><tr><td>79A5C8E0CB0D6C52</td><td>13002</td><td>casual</td><td>84,05440524323895</td></tr><tr><td>83F37001BA988B9F</td><td>12543</td><td>casual</td><td>81,0820653351768</td></tr><tr><td>A8A6F0B128472D2C</td><td>11710</td><td>casual</td><td>75,6878188353603</td></tr><tr><td>2CE0E235CD608CD6</td><td>11622</td><td>casual</td><td>75,11795846082987</td></tr><tr><td>B565F3DB8A064108</td><td>11402</td><td>casual</td><td>73,69330752450378</td></tr><tr><td>CC6D7C07DF55006B</td><td>11401</td><td>casual</td><td>73,68683183842957</td></tr><tr><td>766210D0152484C2</td><td>11109</td><td>casual</td><td>71,7959315047604</td></tr><tr><td>FE8E0FFFFBE57FFE</td><td>9813</td><td>casual</td><td>63,40344235258493</td></tr><tr><td>4CE44E9330B70D6F</td><td>9749</td><td>casual</td><td>62,98899844383553</td></tr><tr><td>C26113EB6F15B90F</td><td>8004</td><td>casual</td><td>51,68892624434</td></tr><tr><td>8132866080BCB368</td><td>7278</td><td>casual</td><td>46,987578154463925</td></tr><tr><td>CCC052F50EDF3908</td><td>6840</td><td>casual</td><td>44,15122765396018</td></tr><tr><td>53583F66F8F545C9</td><td>6806</td><td>casual</td><td>43,93105432743705</td></tr><tr><td>A5598413C29F4451</td><td>6663</td><td>casual</td><td>43,0050312188251</td></tr><tr><td>119CB691B8010131</td><td>6542</td><td>casual</td><td>42,221473203845754</td></tr><tr><td>2A4B5E818D855F78</td><td>6366</td><td>casual</td><td>41,08175245478488</td></tr><tr><td>4655F5AEEC5CEBFF</td><td>5925</td><td>casual</td><td>38,22597489605851</td></tr><tr><td>083BA3DB4E497CED</td><td>5848</td><td>casual</td><td>37,72734706834438</td></tr><tr><td>BD9726A4C58D43EF</td><td>5769</td><td>casual</td><td>37,215767868481834</td></tr><tr><td>68AF0FB79B7DC8DF</td><td>5728</td><td>casual</td><td>36,95026473943924</td></tr><tr><td>D5BF31A5EB47EDD3</td><td>5679</td><td>casual</td><td>36,63295612180298</td></tr><tr><td>C99F7D674E6A880A</td><td>4684</td><td>casual</td><td>30,189648477964557</td></tr><tr><td>B3FBA91BAAC59C53</td><td>4553</td><td>casual</td><td>29,341333602243115</td></tr><tr><td>CEA2873C2ED88D6E</td><td>4480</td><td>casual</td><td>28,868608518825823</td></tr><tr><td>84964A7EF3110B69</td><td>4441</td><td>casual</td><td>28,616056761931656</td></tr><tr><td>9CED6F8873289684</td><td>4386</td><td>casual</td><td>28,259894027850134</td></tr><tr><td>C09FB7BE559B2740</td><td>4133</td><td>casual</td><td>26,621545451075136</td></tr><tr><td>7297840D28F880C7</td><td>4113</td><td>casual</td><td>26,49203172959095</td></tr><tr><td>B8E4D47290A5AB74</td><td>4071</td><td>casual</td><td>26,22005291447415</td></tr><tr><td>A5106DA7FD8B59AE</td><td>3976</td><td>casual</td><td>25,60486273742425</td></tr><tr><td>A63F673040F66730</td><td>3816</td><td>casual</td><td>24,568752965550736</td></tr><tr><td>F4FFEA4C065B79DB</td><td>3764</td><td>casual</td><td>24,232017289691843</td></tr><tr><td>44F8675161BF37CA</td><td>3713</td><td>casual</td><td>23,90175729990716</td></tr><tr><td>6CE4D2B17664782A</td><td>3468</td><td>casual</td><td>22,315214211725838</td></tr><tr><td>9D7CCC419E706275</td><td>3405</td><td>casual</td><td>21,90724598905064</td></tr><tr><td>05FF29F0587850B5</td><td>3298</td><td>casual</td><td>21,21434757911023</td></tr><tr><td>DA6006141527639C</td><td>3176</td><td>casual</td><td>20,424313878056672</td></tr><tr><td>2984FBF69A3A4846</td><td>3033</td><td>casual</td><td>19,49829076944472</td></tr><tr><td>211BCD29059D2E19</td><td>2957</td><td>casual</td><td>19,0061386278048</td></tr><tr><td>286E710824F74EBC</td><td>2935</td><td>casual</td><td>18,86367353417219</td></tr><tr><td>D9E885C7DEA44F9E</td><td>2909</td><td>casual</td><td>18,695305696242745</td></tr><tr><td>3C2F8A9877F15942</td><td>2861</td><td>casual</td><td>18,38447276468069</td></tr><tr><td>37AAD5EE100AE6E4</td><td>2774</td><td>casual</td><td>17,821088076224466</td></tr><tr><td>CC13B7628EE4DB98</td><td>2774</td><td>casual</td><td>17,821088076224466</td></tr><tr><td>7D3B9F82CFFEDB8A</td><td>2756</td><td>casual</td><td>17,704525726888694</td></tr><tr><td>33EDF65F6016830E</td><td>2698</td><td>casual</td><td>17,328935934584546</td></tr><tr><td>AAEF4910E9A68AF8</td><td>2683</td><td>casual</td><td>17,231800643471402</td></tr><tr><td>4AE86C0D4A537E00</td><td>2653</td><td>casual</td><td>17,037530061245118</td></tr><tr><td>DF5161DC17B8D59B</td><td>2641</td><td>casual</td><td>16,959821828354606</td></tr><tr><td>8EC9777B2D17D05F</td><td>2613</td><td>casual</td><td>16,77850261827674</td></tr><tr><td>0692AD88F066D77B</td><td>2589</td><td>casual</td><td>16,623086152495713</td></tr><tr><td>1DB0ED8F508E0630</td><td>2569</td><td>casual</td><td>16,493572431011525</td></tr><tr><td>559C7DBC3BA00F71</td><td>2542</td><td>casual</td><td>16,318728907007866</td></tr><tr><td>FED267F132C2866B</td><td>2535</td><td>casual</td><td>16,2733991044884</td></tr><tr><td>C0FC0B1BD299D2E8</td><td>2462</td><td>casual</td><td>15,80067402107111</td></tr><tr><td>E2787EC004B28D86</td><td>2461</td><td>casual</td><td>15,794198334996901</td></tr><tr><td>C8849E43E2E061C5</td><td>2461</td><td>casual</td><td>15,794198334996901</td></tr><tr><td>C518D8B22D43D920</td><td>2449</td><td>casual</td><td>15,716490102106388</td></tr><tr><td>B6DB9FFE7ECBF9DC</td><td>2407</td><td>casual</td><td>15,44451128698959</td></tr><tr><td>52B003B9C6FC31E8</td><td>2368</td><td>casual</td><td>15,19195953009542</td></tr><tr><td>71A48DBF01C043BF</td><td>2289</td><td>casual</td><td>14,680380330232872</td></tr><tr><td>AC9867BAA0E24E5F</td><td>2199</td><td>casual</td><td>14,09756858355402</td></tr><tr><td>DD5B8BE0217DF562</td><td>1893</td><td>casual</td><td>12,116008644845921</td></tr><tr><td>AC81B43066844207</td><td>1812</td><td>casual</td><td>11,591478072834954</td></tr><tr><td>F498C2FB5BA2402C</td><td>1811</td><td>casual</td><td>11,585002386760744</td></tr><tr><td>87F53011E84BD82A</td><td>1702</td><td>casual</td><td>10,879152604671912</td></tr><tr><td>32EF2C2B64B09813</td><td>1688</td><td>casual</td><td>10,788492999632979</td></tr><tr><td>DD8E1A54C4A18131</td><td>1674</td><td>casual</td><td>10,697833394594047</td></tr><tr><td>29951372E15D1F57</td><td>1659</td><td>casual</td><td>10,600698103480905</td></tr><tr><td>BB93FF421B81947E</td><td>1658</td><td>casual</td><td>10,594222417406696</td></tr><tr><td>77355DA3F172D759</td><td>1648</td><td>casual</td><td>10,5294655566646</td></tr><tr><td>333D70AFDE4D1EDB</td><td>1590</td><td>casual</td><td>10,153875764360452</td></tr><tr><td>B3299E0D9E3E687D</td><td>1560</td><td>casual</td><td>9,959605182134167</td></tr><tr><td>FF3F8161C12BAC5D</td><td>1560</td><td>casual</td><td>9,959605182134167</td></tr><tr><td>BACE0C8FC3376FB4</td><td>1560</td><td>member</td><td>9,959605182134167</td></tr><tr><td>0316B5F9AD0AD991</td><td>1560</td><td>casual</td><td>9,959605182134167</td></tr><tr><td>70B8A78B41A2063F</td><td>1560</td><td>casual</td><td>9,959605182134167</td></tr><tr><td>B0B765A905BA2678</td><td>1560</td><td>casual</td><td>9,959605182134167</td></tr><tr><td>78AF9F51783111D3</td><td>1560</td><td>casual</td><td>9,959605182134167</td></tr><tr><td>19100028843C5143</td><td>1560</td><td>member</td><td>9,959605182134167</td></tr><tr><td>0F4780D188F0EBC1</td><td>1560</td><td>casual</td><td>9,959605182134167</td></tr><tr><td>C8F88E622F47DD0E</td><td>1559</td><td>casual</td><td>9,953129496059958</td></tr><tr><td>494A0EEF1B50B57A</td><td>1559</td><td>casual</td><td>9,953129496059958</td></tr><tr><td>3625A7622D6ED516</td><td>1556</td><td>casual</td><td>9,93370243783733</td></tr><tr><td>B3FF29242C0CE885</td><td>1556</td><td>casual</td><td>9,93370243783733</td></tr><tr><td>0A3BD8ED43A283C4</td><td>1533</td><td>casual</td><td>9,784761658130511</td></tr><tr><td>84C73E3821C83CA6</td><td>1529</td><td>casual</td><td>9,758858913833674</td></tr><tr><td>D3A285E3A0B71A8E</td><td>1521</td><td>casual</td><td>9,707053425239998</td></tr><tr><td>E852AC1B2F9AA5B1</td><td>1500</td><td>casual</td><td>9,571064017681598</td></tr><tr><td>8880EDDED25EE1A7</td><td>1500</td><td>member</td><td>9,571064017681598</td></tr><tr><td>89BDB2A009DD8DE3</td><td>1500</td><td>casual</td><td>9,571064017681598</td></tr><tr><td>3E05E395187E1B1B</td><td>1500</td><td>casual</td><td>9,571064017681598</td></tr><tr><td>56278DD58D43150A</td><td>1500</td><td>casual</td><td>9,571064017681598</td></tr><tr><td>0F40D4ADB591E829</td><td>1500</td><td>casual</td><td>9,571064017681598</td></tr><tr><td>4446E02CB0D68194</td><td>1500</td><td>casual</td><td>9,571064017681598</td></tr><tr><td>08E57D57B9CCA0EC</td><td>1500</td><td>casual</td><td>9,571064017681598</td></tr><tr><td>BC9A5656A2AF496E</td><td>1500</td><td>casual</td><td>9,571064017681598</td></tr><tr><td>93279F94CA0CDCB7</td><td>1500</td><td>casual</td><td>9,571064017681598</td></tr><tr><td>9999B4FF7F3066CC</td><td>1500</td><td>casual</td><td>9,571064017681598</td></tr><tr><td>3E3EC37CBF6F81AD</td><td>1500</td><td>casual</td><td>9,571064017681598</td></tr><tr><td>568303BEBD879258</td><td>1500</td><td>member</td><td>9,571064017681598</td></tr><tr><td>0438C4E944FE7908</td><td>1500</td><td>casual</td><td>9,571064017681598</td></tr><tr><td>0831BFA7E3A20DC1</td><td>1500</td><td>casual</td><td>9,571064017681598</td></tr><tr><td>1DAFE8EC02D6833E</td><td>1500</td><td>casual</td><td>9,571064017681598</td></tr><tr><td>FFD892DDA304E510</td><td>1500</td><td>casual</td><td>9,571064017681598</td></tr><tr><td>A9DD5AE00A78B1B0</td><td>1500</td><td>casual</td><td>9,571064017681598</td></tr><tr><td>44BEB745D21DDAB2</td><td>1500</td><td>casual</td><td>9,571064017681598</td></tr><tr><td>8128D1927223A028</td><td>1500</td><td>member</td><td>9,571064017681598</td></tr><tr><td>6C30F262FD316DE8</td><td>1500</td><td>casual</td><td>9,571064017681598</td></tr><tr><td>1B4179CEFFA0C240</td><td>1500</td><td>casual</td><td>9,571064017681598</td></tr><tr><td>2DC2394C75FB3FE4</td><td>1500</td><td>casual</td><td>9,571064017681598</td></tr><tr><td>4B53B59EAFF6BCE8</td><td>1500</td><td>casual</td><td>9,571064017681598</td></tr><tr><td>23E2E57650D30C22</td><td>1500</td><td>member</td><td>9,571064017681598</td></tr><tr><td>D225AC28C88E4F10</td><td>1500</td><td>casual</td><td>9,571064017681598</td></tr><tr><td>B83303DB88E01317</td><td>1500</td><td>casual</td><td>9,571064017681598</td></tr><tr><td>9782CB8B639030B9</td><td>1500</td><td>casual</td><td>9,571064017681598</td></tr><tr><td>D98B9C15A3DA11E5</td><td>1500</td><td>casual</td><td>9,571064017681598</td></tr><tr><td>1B50A8F06FF9BEB6</td><td>1500</td><td>casual</td><td>9,571064017681598</td></tr><tr><td>4678C2EAEF8F5891</td><td>1500</td><td>casual</td><td>9,571064017681598</td></tr><tr><td>7FFA1BBF12856308</td><td>1500</td><td>casual</td><td>9,571064017681598</td></tr><tr><td>0C1846A35FAB6C44</td><td>1500</td><td>casual</td><td>9,571064017681598</td></tr><tr><td>E5D6A38D649A5444</td><td>1500</td><td>casual</td><td>9,571064017681598</td></tr><tr><td>18C6598C52DCF172</td><td>1500</td><td>casual</td><td>9,571064017681598</td></tr><tr><td>97AE216C319A1CA7</td><td>1500</td><td>casual</td><td>9,571064017681598</td></tr><tr><td>6533CA06C5869F98</td><td>1500</td><td>casual</td><td>9,571064017681598</td></tr><tr><td>252DEBD570C9C492</td><td>1500</td><td>casual</td><td>9,571064017681598</td></tr><tr><td>6EB0D313A243A3BA</td><td>1500</td><td>casual</td><td>9,571064017681598</td></tr><tr><td>9F3B3EEA11777C30</td><td>1500</td><td>casual</td><td>9,571064017681598</td></tr><tr><td>92C890A5DFBD5F63</td><td>1500</td><td>casual</td><td>9,571064017681598</td></tr><tr><td>329D10C0846234F2</td><td>1500</td><td>casual</td><td>9,571064017681598</td></tr><tr><td>CF0C618E24144E78</td><td>1500</td><td>casual</td><td>9,571064017681598</td></tr><tr><td>9127AD3B9338E695</td><td>1500</td><td>casual</td><td>9,571064017681598</td></tr><tr><td>803992B0148028E2</td><td>1500</td><td>member</td><td>9,571064017681598</td></tr><tr><td>E1BD59AF65073FEE</td><td>1500</td><td>casual</td><td>9,571064017681598</td></tr><tr><td>CF41E598F86A0BB9</td><td>1500</td><td>casual</td><td>9,571064017681598</td></tr><tr><td>FD7B40A4980B7B94</td><td>1500</td><td>casual</td><td>9,571064017681598</td></tr><tr><td>94E4484027E3140D</td><td>1500</td><td>casual</td><td>9,571064017681598</td></tr><tr><td>F6D5B950BF4E3169</td><td>1500</td><td>casual</td><td>9,571064017681598</td></tr><tr><td>94EFCB9762359988</td><td>1500</td><td>casual</td><td>9,571064017681598</td></tr><tr><td>25E80CC9960E071A</td><td>1499</td><td>casual</td><td>9,56458833160739</td></tr><tr><td>0D689AD810F39988</td><td>1499</td><td>casual</td><td>9,56458833160739</td></tr><tr><td>C4F63EC9B8DD73CA</td><td>1499</td><td>casual</td><td>9,56458833160739</td></tr><tr><td>7FC689A7980617E1</td><td>1499</td><td>member</td><td>9,56458833160739</td></tr><tr><td>CDFF2FD417170765</td><td>1499</td><td>casual</td><td>9,56458833160739</td></tr><tr><td>D01C75B6DA2BC5DE</td><td>1499</td><td>casual</td><td>9,56458833160739</td></tr><tr><td>06E547689571271F</td><td>1499</td><td>casual</td><td>9,56458833160739</td></tr><tr><td>1D9D02AF48369C55</td><td>1499</td><td>casual</td><td>9,56458833160739</td></tr><tr><td>0D98970DFF4E719D</td><td>1499</td><td>member</td><td>9,56458833160739</td></tr><tr><td>1ABAD5D0C8DC312A</td><td>1499</td><td>casual</td><td>9,56458833160739</td></tr><tr><td>35F629C06BA49E8A</td><td>1496</td><td>casual</td><td>9,54516127338476</td></tr><tr><td>8C081643689BF42F</td><td>1496</td><td>casual</td><td>9,54516127338476</td></tr><tr><td>AB2C6A3A7E7C1E96</td><td>1478</td><td>casual</td><td>9,428598924048991</td></tr><tr><td>47DCA5AC43EDB3A8</td><td>1468</td><td>casual</td><td>9,363842063306896</td></tr><tr><td>C23784A83A4CAEF5</td><td>1467</td><td>member</td><td>9,357366377232687</td></tr><tr><td>2A3C4D82CF76B430</td><td>1453</td><td>casual</td><td>9,266706772193753</td></tr><tr><td>E6FFE75FA363B974</td><td>1435</td><td>casual</td><td>9,150144422857982</td></tr><tr><td>E99A7FBA85CBE2C6</td><td>1433</td><td>casual</td><td>9,137193050709564</td></tr><tr><td>364ADFD75B078DAB</td><td>1427</td><td>casual</td><td>9,098338934264307</td></tr><tr><td>9C5BFC409B85EC9B</td><td>1426</td><td>casual</td><td>9,091863248190098</td></tr><tr><td>9D8633A28369023A</td><td>1423</td><td>casual</td><td>9,072436189967469</td></tr><tr><td>B3141273C6967D66</td><td>1422</td><td>casual</td><td>9,06596050389326</td></tr><tr><td>285C89708FD1E181</td><td>1419</td><td>member</td><td>9,046533445670631</td></tr><tr><td>A454854FD811A81D</td><td>1416</td><td>casual</td><td>9,027106387448002</td></tr><tr><td>E1AE56D3BCE2F538</td><td>1393</td><td>casual</td><td>8,878165607741185</td></tr><tr><td>08C180111688F1F3</td><td>1387</td><td>casual</td><td>8,839311491295929</td></tr><tr><td>9B670F012CA91480</td><td>1387</td><td>casual</td><td>8,839311491295929</td></tr><tr><td>59C0324B9926FF91</td><td>1381</td><td>casual</td><td>8,800457374850671</td></tr><tr><td>05DBC89B84F91A99</td><td>1369</td><td>casual</td><td>8,722749141960158</td></tr><tr><td>7507DC3BFCBC7F2D</td><td>1363</td><td>casual</td><td>8,683895025514902</td></tr><tr><td>2DF376F3D8191AD9</td><td>1360</td><td>member</td><td>8,664467967292273</td></tr><tr><td>EA53E8858A7F729E</td><td>1355</td><td>member</td><td>8,632089536921226</td></tr><tr><td>1A91F8965BFF33E5</td><td>1353</td><td>member</td><td>8,619138164772806</td></tr><tr><td>7FC2DD26C3E25D59</td><td>1350</td><td>casual</td><td>8,599711106550178</td></tr><tr><td>C3B03616381419A1</td><td>1331</td><td>casual</td><td>8,476673071140198</td></tr><tr><td>BA92E51DD37A993C</td><td>1330</td><td>casual</td><td>8,470197385065989</td></tr><tr><td>89ED70628FCAEA32</td><td>1329</td><td>casual</td><td>8,46372169899178</td></tr><tr><td>7C4553DAE8A692BC</td><td>1327</td><td>casual</td><td>8,45077032684336</td></tr><tr><td>50FBB7AAC0E5BFE4</td><td>1319</td><td>casual</td><td>8,398964838249684</td></tr><tr><td>C014032DB2A8B5C2</td><td>1318</td><td>casual</td><td>8,392489152175475</td></tr><tr><td>CBC8E8CB5A5CBF31</td><td>1317</td><td>casual</td><td>8,386013466101266</td></tr><tr><td>854B76188C149DB7</td><td>1315</td><td>member</td><td>8,373062093952846</td></tr><tr><td>C978CD3030C5AA81</td><td>1313</td><td>casual</td><td>8,360110721804428</td></tr><tr><td>3C19E21B441802C0</td><td>1309</td><td>casual</td><td>8,33420797750759</td></tr><tr><td>B340E4F7CA9FEB66</td><td>1308</td><td>casual</td><td>8,32773229143338</td></tr><tr><td>BA519231E78BD5A2</td><td>1307</td><td>casual</td><td>8,32125660535917</td></tr><tr><td>3918034208AF5630</td><td>1307</td><td>casual</td><td>8,32125660535917</td></tr><tr><td>0F8A69C91BBFA831</td><td>1305</td><td>casual</td><td>8,308305233210751</td></tr><tr><td>EC07171E0778DC84</td><td>1302</td><td>casual</td><td>8,288878174988124</td></tr><tr><td>15D5D659F2E5C848</td><td>1300</td><td>casual</td><td>8,275926802839704</td></tr><tr><td>663A06ACAC32DD05</td><td>1294</td><td>casual</td><td>8,237072686394448</td></tr><tr><td>1FCDEAFCDA86E91D</td><td>1291</td><td>casual</td><td>8,21764562817182</td></tr><tr><td>572329D9859B6679</td><td>1288</td><td>casual</td><td>8,19821856994919</td></tr><tr><td>CAF0AEB89FEEAF01</td><td>1284</td><td>casual</td><td>8,172315825652353</td></tr><tr><td>B52FEA41CDA4D57F</td><td>1283</td><td>casual</td><td>8,165840139578144</td></tr><tr><td>DBA31FB8F7C4574A</td><td>1257</td><td>casual</td><td>7,997472301648697</td></tr><tr><td>AE497EDD0C63DE37</td><td>1256</td><td>casual</td><td>7,990996615574487</td></tr><tr><td>4C8E4A9F65AFB6E9</td><td>1253</td><td>casual</td><td>7,9715695573518595</td></tr><tr><td>B4DC4EC34B3ECD34</td><td>1248</td><td>casual</td><td>7,939191126980812</td></tr><tr><td>22E8B397F98D83EC</td><td>1247</td><td>casual</td><td>7,932715440906603</td></tr><tr><td>1ADE8FE9293487B3</td><td>1247</td><td>member</td><td>7,932715440906603</td></tr><tr><td>F9CD2B892C8DF745</td><td>1242</td><td>casual</td><td>7,900337010535555</td></tr><tr><td>D09D08F5BFFA5EFB</td><td>1239</td><td>casual</td><td>7,880909952312927</td></tr><tr><td>62759899C290284C</td><td>1239</td><td>casual</td><td>7,880909952312927</td></tr><tr><td>34A5F7A8BF5FFDDA</td><td>1237</td><td>member</td><td>7,867958580164508</td></tr><tr><td>D33C649255D2C202</td><td>1230</td><td>casual</td><td>7,822628777645042</td></tr><tr><td>B8F6FCEC63DF5AA3</td><td>1225</td><td>casual</td><td>7,790250347273994</td></tr><tr><td>6156F7DE6043DCCB</td><td>1225</td><td>casual</td><td>7,790250347273994</td></tr><tr><td>8F3DB0F42DE3F2F4</td><td>1218</td><td>casual</td><td>7,744920544754528</td></tr><tr><td>4001788DE2355D8C</td><td>1218</td><td>casual</td><td>7,744920544754528</td></tr><tr><td>D5A89D699E400905</td><td>1217</td><td>casual</td><td>7,738444858680318</td></tr><tr><td>820FE53A6B6CD4F7</td><td>1215</td><td>casual</td><td>7,725493486531899</td></tr><tr><td>D78AF4C7BF6A2F84</td><td>1213</td><td>casual</td><td>7,7125421143834805</td></tr><tr><td>A9BE46DE3D4C69CA</td><td>1209</td><td>member</td><td>7,686639370086643</td></tr><tr><td>59B4F27771663519</td><td>1209</td><td>casual</td><td>7,686639370086643</td></tr><tr><td>22CFBFF0501C47DF</td><td>1206</td><td>casual</td><td>7,667212311864014</td></tr><tr><td>5451338FF486BD29</td><td>1206</td><td>casual</td><td>7,667212311864014</td></tr><tr><td>35144678084D3C4E</td><td>1203</td><td>casual</td><td>7,647785253641386</td></tr><tr><td>69CEF98780A08E5F</td><td>1200</td><td>casual</td><td>7,628358195418757</td></tr><tr><td>2F7769A372FC745D</td><td>1194</td><td>casual</td><td>7,5895040789735</td></tr><tr><td>5B97E8E5D3C924F9</td><td>1190</td><td>casual</td><td>7,563601334676663</td></tr><tr><td>3B9EE4D0DEFD6E61</td><td>1184</td><td>casual</td><td>7,524747218231406</td></tr><tr><td>A769B079BC6C8256</td><td>1183</td><td>casual</td><td>7,518271532157196</td></tr><tr><td>22EAA4822C131A6B</td><td>1180</td><td>casual</td><td>7,498844473934568</td></tr><tr><td>AC53CB9D6BF9A3EC</td><td>1175</td><td>casual</td><td>7,46646604356352</td></tr><tr><td>EAD99CEE9E21CC6C</td><td>1174</td><td>member</td><td>7,459990357489311</td></tr><tr><td>954A59DDF273289C</td><td>1170</td><td>casual</td><td>7,434087613192474</td></tr><tr><td>5D35998C4F14CCB8</td><td>1168</td><td>casual</td><td>7,421136241044055</td></tr><tr><td>B031CD2774AF432A</td><td>1166</td><td>casual</td><td>7,408184868895636</td></tr><tr><td>FAFA350807E73B67</td><td>1161</td><td>casual</td><td>7,375806438524588</td></tr><tr><td>11C65608AEB67D28</td><td>1157</td><td>casual</td><td>7,34990369422775</td></tr><tr><td>39A6C6EEE2F9FF0C</td><td>1155</td><td>casual</td><td>7,336952322079331</td></tr><tr><td>F70BEEA50DFF1810</td><td>1149</td><td>casual</td><td>7,298098205634075</td></tr><tr><td>C86BAB180DE9D333</td><td>1144</td><td>casual</td><td>7,265719775263027</td></tr><tr><td>037E8A6ECEE0CA16</td><td>1142</td><td>casual</td><td>7,252768403114608</td></tr><tr><td>5DC690E3A0C75B28</td><td>1134</td><td>casual</td><td>7,200962914520932</td></tr><tr><td>DF41FA19FB684987</td><td>1128</td><td>casual</td><td>7,162108798075676</td></tr><tr><td>1D6343A99E9FADC7</td><td>1128</td><td>casual</td><td>7,162108798075676</td></tr><tr><td>2E51FACCCDBAC2E1</td><td>1127</td><td>member</td><td>7,155633112001466</td></tr><tr><td>D90DD2D4E2DB4FE7</td><td>1126</td><td>casual</td><td>7,149157425927257</td></tr><tr><td>F8AE68C6924987D9</td><td>1125</td><td>casual</td><td>7,142681739853047</td></tr><tr><td>AB146B631031EDC2</td><td>1120</td><td>casual</td><td>7,110303309482</td></tr><tr><td>0CDD369E48004722</td><td>1119</td><td>casual</td><td>7,10382762340779</td></tr><tr><td>3CFA2E60C21EF9E8</td><td>1118</td><td>casual</td><td>7,09735193733358</td></tr><tr><td>E0A77B539EA8152B</td><td>1112</td><td>casual</td><td>7,058497820888324</td></tr><tr><td>94F0264A00E17762</td><td>1110</td><td>casual</td><td>7,045546448739905</td></tr><tr><td>4DAFE33F6A0A52A1</td><td>1107</td><td>casual</td><td>7,026119390517277</td></tr><tr><td>06E06F1F8CDAE244</td><td>1097</td><td>casual</td><td>6,961362529775182</td></tr><tr><td>A6BDE2E144D786AB</td><td>1096</td><td>member</td><td>6,954886843700972</td></tr><tr><td>9D1F7BEAC25208B0</td><td>1095</td><td>casual</td><td>6,948411157626762</td></tr><tr><td>C324825B5855C1DE</td><td>1089</td><td>casual</td><td>6,909557041181506</td></tr><tr><td>F05A2D64F0E1BA18</td><td>1086</td><td>casual</td><td>6,890129982958878</td></tr><tr><td>FFFF48C6B36B8E28</td><td>1081</td><td>casual</td><td>6,85775155258783</td></tr><tr><td>B02B7963E63837C9</td><td>1077</td><td>casual</td><td>6,831848808290992</td></tr><tr><td>13139FEF9EE9A6D0</td><td>1071</td><td>casual</td><td>6,792994691845736</td></tr><tr><td>E2CBD9025320E6D9</td><td>1068</td><td>casual</td><td>6,773567633623107</td></tr><tr><td>3CAB82D55A349B8F</td><td>1068</td><td>casual</td><td>6,773567633623107</td></tr><tr><td>1CC09DE869C38048</td><td>1063</td><td>casual</td><td>6,74118920325206</td></tr><tr><td>1EEAFCBA39C44341</td><td>1061</td><td>member</td><td>6,728237831103641</td></tr><tr><td>F3443DC0E6F1CFD0</td><td>1059</td><td>casual</td><td>6,715286458955222</td></tr><tr><td>B94B1F616C1C2012</td><td>1054</td><td>casual</td><td>6,682908028584174</td></tr><tr><td>363C88DF964CAA21</td><td>1054</td><td>casual</td><td>6,682908028584174</td></tr><tr><td>22EE81B512FFC8D3</td><td>1052</td><td>casual</td><td>6,6699566564357555</td></tr><tr><td>BACDA2889D60DC04</td><td>1052</td><td>casual</td><td>6,6699566564357555</td></tr><tr><td>31DB2DCA7BDABFC7</td><td>1050</td><td>member</td><td>6,657005284287337</td></tr><tr><td>6116100A0F559BE0</td><td>1045</td><td>casual</td><td>6,624626853916289</td></tr><tr><td>765AB9C6D679E9B2</td><td>1043</td><td>casual</td><td>6,61167548176787</td></tr><tr><td>B4F30C332E53D44E</td><td>1040</td><td>member</td><td>6,592248423545242</td></tr><tr><td>3E88EBFABBBF5586</td><td>1033</td><td>casual</td><td>6,5469186210257755</td></tr><tr><td>A45E96FAF7D37393</td><td>1027</td><td>casual</td><td>6,508064504580519</td></tr><tr><td>63C81BE4A71AAD05</td><td>1025</td><td>casual</td><td>6,4951131324321</td></tr><tr><td>06A83F699FAAF512</td><td>1009</td><td>casual</td><td>6,391502155244749</td></tr><tr><td>2BC503606588ABC1</td><td>1007</td><td>casual</td><td>6,37855078309633</td></tr><tr><td>5DF6A39648CCDC5E</td><td>988</td><td>casual</td><td>6,25551274768635</td></tr><tr><td>34FAF1C7A9CDB420</td><td>988</td><td>casual</td><td>6,25551274768635</td></tr><tr><td>6E0A2D6F3A20D051</td><td>987</td><td>casual</td><td>6,24903706161214</td></tr><tr><td>2DB96D6002F1AADB</td><td>982</td><td>casual</td><td>6,216658631241093</td></tr><tr><td>C44C9387D3939478</td><td>964</td><td>casual</td><td>6,100096281905322</td></tr><tr><td>121C83F2C87761F2</td><td>964</td><td>casual</td><td>6,100096281905322</td></tr><tr><td>4558C2672C2F139F</td><td>948</td><td>casual</td><td>5,996485304717971</td></tr><tr><td>666A82E8519A33A2</td><td>944</td><td>member</td><td>5,970582560421133</td></tr><tr><td>FA2D95C9C2A798A9</td><td>940</td><td>casual</td><td>5,944679816124295</td></tr><tr><td>EE457077C91ED855</td><td>933</td><td>casual</td><td>5,8993500136048285</td></tr><tr><td>FA87CFB562B45875</td><td>930</td><td>member</td><td>5,8799229553822</td></tr><tr><td>DA2362180392E496</td><td>928</td><td>member</td><td>5,866971583233781</td></tr><tr><td>5110A49F40F473FB</td><td>918</td><td>casual</td><td>5,802214722491686</td></tr><tr><td>37BFF85C2A9BBE73</td><td>916</td><td>casual</td><td>5,789263350343267</td></tr><tr><td>B599F66639E2545A</td><td>913</td><td>casual</td><td>5,769836292120639</td></tr><tr><td>41C0D27B4A8DE5AF</td><td>912</td><td>casual</td><td>5,7633606060464295</td></tr><tr><td>7C6938A28E1BE1C1</td><td>906</td><td>casual</td><td>5,724506489601173</td></tr><tr><td>934786C0F218C209</td><td>903</td><td>casual</td><td>5,705079431378544</td></tr><tr><td>71AEDA0B2AB4B4D2</td><td>902</td><td>casual</td><td>5,698603745304335</td></tr><tr><td>391664B07F9C0A4F</td><td>900</td><td>casual</td><td>5,685652373155916</td></tr><tr><td>8DC0503DA91CFAD1</td><td>897</td><td>member</td><td>5,666225314933287</td></tr><tr><td>49ADBA9C69E0964D</td><td>896</td><td>member</td><td>5,659749628859078</td></tr><tr><td>41573B200ABDB322</td><td>893</td><td>casual</td><td>5,6403225706364495</td></tr><tr><td>E868D0C94FD01A80</td><td>888</td><td>casual</td><td>5,607944140265403</td></tr><tr><td>CFFADC41C83171E0</td><td>887</td><td>casual</td><td>5,601468454191193</td></tr><tr><td>9F00E4775B3E3FB1</td><td>886</td><td>casual</td><td>5,594992768116984</td></tr><tr><td>79E97487912DBBC1</td><td>874</td><td>casual</td><td>5,517284535226469</td></tr><tr><td>B4FCCFFA535D53F8</td><td>869</td><td>member</td><td>5,484906104855423</td></tr><tr><td>F38DC7DF96500B5D</td><td>868</td><td>casual</td><td>5,478430418781213</td></tr><tr><td>872A41A818CD3F7C</td><td>865</td><td>casual</td><td>5,459003360558585</td></tr><tr><td>FAA274B91C21B5D7</td><td>860</td><td>casual</td><td>5,426624930187537</td></tr><tr><td>D4DEAEB18BD5D46F</td><td>859</td><td>casual</td><td>5,420149244113327</td></tr><tr><td>F9A87DEA8A83E24C</td><td>856</td><td>member</td><td>5,400722185890699</td></tr><tr><td>C6FBEE0CDA6F363C</td><td>849</td><td>casual</td><td>5,355392383371233</td></tr><tr><td>54E5290BBC73963A</td><td>847</td><td>member</td><td>5,342441011222814</td></tr><tr><td>516C097B8E40E51D</td><td>843</td><td>casual</td><td>5,316538266925976</td></tr><tr><td>8A1F7582B8C6912F</td><td>842</td><td>member</td><td>5,310062580851767</td></tr><tr><td>445988F859F602FD</td><td>833</td><td>casual</td><td>5,2517814061838815</td></tr><tr><td>74E03EE7E792F909</td><td>824</td><td>casual</td><td>5,193500231515996</td></tr><tr><td>13F3D38F609303E3</td><td>820</td><td>casual</td><td>5,167597487219158</td></tr><tr><td>31A75086E6A5071A</td><td>817</td><td>casual</td><td>5,14817042899653</td></tr><tr><td>55875DA3EF613918</td><td>804</td><td>casual</td><td>5,063986510031807</td></tr><tr><td>A8AA8567A86F122C</td><td>804</td><td>member</td><td>5,063986510031807</td></tr><tr><td>FB53AE1B6D15EE02</td><td>793</td><td>casual</td><td>4,9927539632155025</td></tr><tr><td>C8AF4F2AD08B79BD</td><td>787</td><td>casual</td><td>4,953899846770246</td></tr><tr><td>74AE8F15DE1058AD</td><td>783</td><td>casual</td><td>4,927997102473408</td></tr><tr><td>5C33F1DE281C3AAE</td><td>769</td><td>casual</td><td>4,837337497434475</td></tr><tr><td>99D90BE353919317</td><td>765</td><td>casual</td><td>4,811434753137637</td></tr><tr><td>AA91FA520561EAF0</td><td>763</td><td>casual</td><td>4,798483380989218</td></tr><tr><td>46D75AD711E8808F</td><td>761</td><td>casual</td><td>4,785532008840799</td></tr><tr><td>745052042D4996E6</td><td>756</td><td>member</td><td>4,753153578469752</td></tr><tr><td>A403EEAF63CBFE53</td><td>742</td><td>member</td><td>4,662493973430819</td></tr><tr><td>A809E1444B272C18</td><td>741</td><td>member</td><td>4,65601828735661</td></tr><tr><td>5949F2B3E1BC9924</td><td>740</td><td>casual</td><td>4,6495426012824</td></tr><tr><td>90DE140C60D84414</td><td>738</td><td>casual</td><td>4,636591229133981</td></tr><tr><td>150BABDBC3D561C9</td><td>736</td><td>casual</td><td>4,623639856985562</td></tr><tr><td>70BF60D5F59ACCCF</td><td>735</td><td>casual</td><td>4,617164170911353</td></tr><tr><td>0EB3DDAADAEBAE22</td><td>730</td><td>member</td><td>4,584785740540306</td></tr><tr><td>E2DE0C21E716E100</td><td>727</td><td>casual</td><td>4,565358682317678</td></tr><tr><td>7E17110308B024F3</td><td>726</td><td>casual</td><td>4,558882996243468</td></tr><tr><td>E8A840555E0BDC7B</td><td>723</td><td>casual</td><td>4,53945593802084</td></tr><tr><td>EDF69709C6E077AD</td><td>710</td><td>member</td><td>4,455272019056117</td></tr><tr><td>2EF5548C50BE6ADC</td><td>707</td><td>casual</td><td>4,435844960833488</td></tr><tr><td>B92691C5095DCC14</td><td>706</td><td>casual</td><td>4,429369274759279</td></tr><tr><td>9A337900ACEFB8A4</td><td>703</td><td>member</td><td>4,40994221653665</td></tr><tr><td>73AB24A2F86475B4</td><td>702</td><td>member</td><td>4,403466530462441</td></tr><tr><td>2F54731506D9FFFA</td><td>689</td><td>casual</td><td>4,319282611497718</td></tr><tr><td>D203C3BE3EA5775F</td><td>685</td><td>casual</td><td>4,29337986720088</td></tr><tr><td>7EDC01609124FE83</td><td>682</td><td>casual</td><td>4,273952808978251</td></tr><tr><td>FE9CAF18E72FB8C8</td><td>675</td><td>casual</td><td>4,228623006458784</td></tr><tr><td>8BC2A9144139C275</td><td>675</td><td>casual</td><td>4,228623006458784</td></tr><tr><td>B08AE00EA4AF3E22</td><td>672</td><td>casual</td><td>4,2091959482361565</td></tr><tr><td>D88CFAB827E8DA7B</td><td>670</td><td>member</td><td>4,196244576087738</td></tr><tr><td>AD630837652A39CD</td><td>670</td><td>casual</td><td>4,196244576087738</td></tr><tr><td>B445BDFF7BD55E56</td><td>669</td><td>casual</td><td>4,189768890013528</td></tr><tr><td>2D214993979F3191</td><td>666</td><td>casual</td><td>4,1703418317909</td></tr><tr><td>F95358392AFE6AA7</td><td>654</td><td>member</td><td>4,092633598900386</td></tr><tr><td>A516D11A8265C53E</td><td>653</td><td>casual</td><td>4,0861579128261765</td></tr><tr><td>C848669C1C1E0DD8</td><td>653</td><td>casual</td><td>4,0861579128261765</td></tr><tr><td>BB81028259872484</td><td>651</td><td>casual</td><td>4,073206540677758</td></tr><tr><td>74EF0DC288C3ABA7</td><td>650</td><td>casual</td><td>4,066730854603548</td></tr><tr><td>18B8DF720E461A57</td><td>648</td><td>casual</td><td>4,053779482455129</td></tr><tr><td>C731ED7810B8C302</td><td>648</td><td>casual</td><td>4,053779482455129</td></tr><tr><td>2D599C777ED1DC40</td><td>648</td><td>member</td><td>4,053779482455129</td></tr><tr><td>1DF36008396D6042</td><td>644</td><td>casual</td><td>4,027876738158291</td></tr><tr><td>591C6D89516DE83D</td><td>643</td><td>casual</td><td>4,021401052084082</td></tr><tr><td>34CACFDFE8AEC746</td><td>642</td><td>member</td><td>4,014925366009872</td></tr><tr><td>2CB1856F017AD34D</td><td>636</td><td>member</td><td>3,9760712495646153</td></tr><tr><td>BA6BBD7F58F32A51</td><td>628</td><td>casual</td><td>3,9242657609709397</td></tr><tr><td>5DEB236F27B80625</td><td>623</td><td>casual</td><td>3,8918873305998924</td></tr><tr><td>DCF8BC390CEE19DC</td><td>623</td><td>casual</td><td>3,8918873305998924</td></tr><tr><td>B49C92C72A1EB87A</td><td>619</td><td>casual</td><td>3,8659845863030546</td></tr><tr><td>2D016DD91A909FC9</td><td>615</td><td>casual</td><td>3,8400818420062164</td></tr><tr><td>5B7CF498A13C4315</td><td>613</td><td>casual</td><td>3,8271304698577975</td></tr><tr><td>A7EC85A00AB2D1E2</td><td>610</td><td>casual</td><td>3,807703411635169</td></tr><tr><td>1520513C029D60FF</td><td>604</td><td>casual</td><td>3,7688492951899124</td></tr><tr><td>663DF74908A97A64</td><td>601</td><td>casual</td><td>3,749422236967284</td></tr><tr><td>82EC8D76BB57CC96</td><td>600</td><td>casual</td><td>3,7429465508930746</td></tr><tr><td>52A2427BFC9962B3</td><td>598</td><td>casual</td><td>3,7299951787446557</td></tr><tr><td>89DAD3FE613BA90E</td><td>598</td><td>casual</td><td>3,7299951787446557</td></tr><tr><td>91BA88576A1E431B</td><td>597</td><td>casual</td><td>3,7235194926704462</td></tr><tr><td>5E17D1B09F5837A5</td><td>588</td><td>casual</td><td>3,6652383180025607</td></tr><tr><td>7D1A9796FFF26F65</td><td>567</td><td>casual</td><td>3,529248910444162</td></tr><tr><td>2C407B15316E0903</td><td>563</td><td>casual</td><td>3,503346166147324</td></tr><tr><td>F6FA1925FFB160B5</td><td>563</td><td>casual</td><td>3,503346166147324</td></tr><tr><td>AFDD2E1FED9972D0</td><td>561</td><td>casual</td><td>3,490394793998905</td></tr><tr><td>23AE7EAB62946888</td><td>557</td><td>casual</td><td>3,4644920497020673</td></tr><tr><td>E718A9CFCB50D133</td><td>557</td><td>casual</td><td>3,4644920497020673</td></tr><tr><td>FEFC80766109FCAA</td><td>555</td><td>member</td><td>3,4515406775536484</td></tr><tr><td>1102CA2481F4CBCD</td><td>543</td><td>casual</td><td>3,3738324446631345</td></tr><tr><td>49D53F76F3241617</td><td>542</td><td>casual</td><td>3,367356758588925</td></tr><tr><td>03CB6BABA9438580</td><td>538</td><td>casual</td><td>3,341454014292087</td></tr><tr><td>7834AA7F92EAA4CB</td><td>532</td><td>casual</td><td>3,3025998978468305</td></tr><tr><td>D26599AF6C942C2B</td><td>511</td><td>casual</td><td>3,1666104902884316</td></tr><tr><td>92F2615FB36FFAC7</td><td>500</td><td>casual</td><td>3,095377943472127</td></tr><tr><td>01923D87A0C2E319</td><td>499</td><td>casual</td><td>3,0889022573979177</td></tr><tr><td>7DEF24BE52448DAB</td><td>488</td><td>casual</td><td>3,0176697105816137</td></tr><tr><td>EC46FF0A6C30088C</td><td>486</td><td>casual</td><td>3,004718338433195</td></tr><tr><td>89740463A34AF8C1</td><td>480</td><td>casual</td><td>2,965864221987938</td></tr><tr><td>3F65EAB1CA410330</td><td>480</td><td>casual</td><td>2,965864221987938</td></tr><tr><td>130BA176EADB5DFC</td><td>480</td><td>casual</td><td>2,965864221987938</td></tr><tr><td>2B39242E8675F2C6</td><td>480</td><td>casual</td><td>2,965864221987938</td></tr><tr><td>86F6AE9C1555E23F</td><td>480</td><td>casual</td><td>2,965864221987938</td></tr><tr><td>4A83653D55C57C0E</td><td>480</td><td>casual</td><td>2,965864221987938</td></tr><tr><td>8E544E4BE225B083</td><td>480</td><td>member</td><td>2,965864221987938</td></tr><tr><td>1348C90A66BFB5A4</td><td>480</td><td>casual</td><td>2,965864221987938</td></tr><tr><td>6544E0139B05C637</td><td>480</td><td>casual</td><td>2,965864221987938</td></tr><tr><td>32B980F52194B655</td><td>479</td><td>casual</td><td>2,9593885359137286</td></tr><tr><td>5A669D58555BBCC1</td><td>479</td><td>member</td><td>2,9593885359137286</td></tr><tr><td>20E8E0CB11B20223</td><td>479</td><td>member</td><td>2,9593885359137286</td></tr><tr><td>88B9E6A9A80A3926</td><td>475</td><td>casual</td><td>2,9334857916168904</td></tr><tr><td>918B8FB6CDE8B265</td><td>475</td><td>casual</td><td>2,9334857916168904</td></tr><tr><td>D0D2896B96443106</td><td>469</td><td>casual</td><td>2,8946316751716337</td></tr><tr><td>B4E800614AEAE546</td><td>468</td><td>casual</td><td>2,888155989097424</td></tr><tr><td>205F9C0A32018D6F</td><td>468</td><td>casual</td><td>2,888155989097424</td></tr><tr><td>546365D61D124AF8</td><td>466</td><td>casual</td><td>2,8752046169490053</td></tr><tr><td>990C72DC8EAF2D3A</td><td>465</td><td>casual</td><td>2,868728930874796</td></tr><tr><td>73CBAC6509076DFB</td><td>462</td><td>casual</td><td>2,8493018726521675</td></tr><tr><td>F521206427005FB3</td><td>461</td><td>casual</td><td>2,842826186577958</td></tr><tr><td>D623438D8FC6049C</td><td>459</td><td>casual</td><td>2,829874814429539</td></tr><tr><td>51828AD52F41B6E0</td><td>451</td><td>member</td><td>2,778069325835863</td></tr><tr><td>74EA55CD629D9259</td><td>446</td><td>casual</td><td>2,745690895464816</td></tr><tr><td>DA99818DA2CBD722</td><td>443</td><td>casual</td><td>2,7262638372421875</td></tr><tr><td>F1E110D6E1650F0E</td><td>442</td><td>casual</td><td>2,719788151167978</td></tr><tr><td>6C6A699880D9F8A7</td><td>440</td><td>casual</td><td>2,706836779019559</td></tr><tr><td>F68992AC09D9A6BD</td><td>439</td><td>casual</td><td>2,7003610929453497</td></tr><tr><td>C6E90A8D378A7058</td><td>435</td><td>member</td><td>2,674458348648512</td></tr><tr><td>21D9A323A6FB7791</td><td>434</td><td>casual</td><td>2,6679826625743024</td></tr><tr><td>BB49631E221F1527</td><td>432</td><td>member</td><td>2,6550312904258835</td></tr><tr><td>5FCB86F16C458EFB</td><td>428</td><td>casual</td><td>2,6291285461290452</td></tr><tr><td>CDAE40D36A6AF2FF</td><td>424</td><td>casual</td><td>2,6032258018322074</td></tr><tr><td>61626FD4D1883C77</td><td>420</td><td>casual</td><td>2,5773230575353696</td></tr><tr><td>BE006A787049F427</td><td>420</td><td>casual</td><td>2,5773230575353696</td></tr><tr><td>25AD7C361426E128</td><td>420</td><td>casual</td><td>2,5773230575353696</td></tr><tr><td>85B39A8009DDB270</td><td>417</td><td>casual</td><td>2,5578959993127413</td></tr><tr><td>8CA05A66A68B2574</td><td>414</td><td>member</td><td>2,538468941090113</td></tr><tr><td>218177562BB25137</td><td>411</td><td>casual</td><td>2,5190418828674845</td></tr><tr><td>6200FFEA2A143CD5</td><td>406</td><td>casual</td><td>2,486663452496437</td></tr><tr><td>AC0DA6404D3B1B40</td><td>402</td><td>member</td><td>2,460760708199599</td></tr><tr><td>8014A5F98C9B68D3</td><td>400</td><td>casual</td><td>2,44780933605118</td></tr><tr><td>C112EAAE9AC70336</td><td>400</td><td>casual</td><td>2,44780933605118</td></tr><tr><td>0E1FA7EDB954A768</td><td>399</td><td>casual</td><td>2,4413336499769707</td></tr><tr><td>3088F6DFDEE8D3D9</td><td>397</td><td>casual</td><td>2,4283822778285518</td></tr><tr><td>F6300748D58EE87F</td><td>394</td><td>casual</td><td>2,4089552196059234</td></tr><tr><td>1202F5AB8892470C</td><td>393</td><td>member</td><td>2,402479533531714</td></tr><tr><td>61DBB9E245E4E42B</td><td>393</td><td>member</td><td>2,402479533531714</td></tr><tr><td>99BA3A8760232C86</td><td>392</td><td>casual</td><td>2,3960038474575045</td></tr><tr><td>B7DB9309EAC07D28</td><td>392</td><td>casual</td><td>2,3960038474575045</td></tr><tr><td>0027031FD77494E5</td><td>391</td><td>casual</td><td>2,389528161383295</td></tr><tr><td>90EB3A49D6FE9758</td><td>391</td><td>casual</td><td>2,389528161383295</td></tr><tr><td>E728A2AF4ACE1A4B</td><td>391</td><td>casual</td><td>2,389528161383295</td></tr><tr><td>A37670BE4237B833</td><td>388</td><td>casual</td><td>2,3701011031606667</td></tr><tr><td>BD42F1A01DA24CCB</td><td>388</td><td>casual</td><td>2,3701011031606667</td></tr><tr><td>451DDDC38480D5F6</td><td>384</td><td>casual</td><td>2,344198358863829</td></tr><tr><td>F888FBE62E301EEE</td><td>380</td><td>casual</td><td>2,3182956145669906</td></tr><tr><td>68405F4E841CDB81</td><td>378</td><td>member</td><td>2,3053442424185717</td></tr><tr><td>86B83F39BCCA862E</td><td>378</td><td>casual</td><td>2,3053442424185717</td></tr><tr><td>3BDE75DA1CD7FC26</td><td>369</td><td>member</td><td>2,2470630677506866</td></tr><tr><td>04D08D8FB873531F</td><td>369</td><td>casual</td><td>2,2470630677506866</td></tr><tr><td>750E0281D7ECC3BB</td><td>369</td><td>casual</td><td>2,2470630677506866</td></tr><tr><td>ED5A068C2524FA0C</td><td>369</td><td>casual</td><td>2,2470630677506866</td></tr><tr><td>70A62A6B7CEAC0DF</td><td>369</td><td>casual</td><td>2,2470630677506866</td></tr><tr><td>B94FD89960C3BA57</td><td>369</td><td>member</td><td>2,2470630677506866</td></tr><tr><td>DFC39499D7CC5CBA</td><td>367</td><td>casual</td><td>2,2341116956022677</td></tr><tr><td>7EE6A428BF2DE8F6</td><td>363</td><td>casual</td><td>2,20820895130543</td></tr><tr><td>23C492CFEB1AE4B9</td><td>361</td><td>member</td><td>2,195257579157011</td></tr><tr><td>A396B28362DC5E06</td><td>361</td><td>member</td><td>2,195257579157011</td></tr><tr><td>8B04AD4D03CB9B7C</td><td>360</td><td>casual</td><td>2,188781893082801</td></tr><tr><td>6E5E3CEEF60F4BA1</td><td>358</td><td>member</td><td>2,1758305209343822</td></tr><tr><td>96F26443BD686B66</td><td>355</td><td>casual</td><td>2,156403462711754</td></tr><tr><td>6583ACD0153912DD</td><td>354</td><td>casual</td><td>2,1499277766375444</td></tr><tr><td>1A13FEBFD20F05B5</td><td>353</td><td>member</td><td>2,143452090563335</td></tr><tr><td>E6C3A7C038CB58A2</td><td>349</td><td>casual</td><td>2,117549346266497</td></tr><tr><td>54F793DBB4C64787</td><td>348</td><td>casual</td><td>2,1110736601922877</td></tr><tr><td>47F05E4EA92EE1F9</td><td>347</td><td>casual</td><td>2,1045979741180783</td></tr><tr><td>642ACFE429B39DA3</td><td>347</td><td>member</td><td>2,1045979741180783</td></tr><tr><td>6EB5BCD151F31B3A</td><td>344</td><td>member</td><td>2,08517091589545</td></tr><tr><td>141CBAB88975171B</td><td>343</td><td>casual</td><td>2,0786952298212404</td></tr><tr><td>9ECAE9D0B338CE5A</td><td>343</td><td>member</td><td>2,0786952298212404</td></tr><tr><td>BB509F57FF037804</td><td>343</td><td>casual</td><td>2,0786952298212404</td></tr><tr><td>3B0E49BC5B6F090C</td><td>343</td><td>casual</td><td>2,0786952298212404</td></tr><tr><td>D82DB303BA81FFC2</td><td>342</td><td>casual</td><td>2,072219543747031</td></tr><tr><td>9AB069F645EEA916</td><td>341</td><td>member</td><td>2,0657438576728215</td></tr><tr><td>557BC1868FD3B0A3</td><td>340</td><td>casual</td><td>2,059268171598612</td></tr><tr><td>F67A3D637949E1BB</td><td>339</td><td>casual</td><td>2,0527924855244026</td></tr><tr><td>EF578E0A8A3BE2C6</td><td>337</td><td>casual</td><td>2,0398411133759833</td></tr><tr><td>416812E6046BE94A</td><td>333</td><td>casual</td><td>2,0139383690791455</td></tr><tr><td>876937867184315E</td><td>333</td><td>casual</td><td>2,0139383690791455</td></tr><tr><td>0407B3C24D5DBEC7</td><td>332</td><td>member</td><td>2,007462683004936</td></tr><tr><td>7C9EBD8D60BD0B47</td><td>331</td><td>member</td><td>2,0009869969307266</td></tr><tr><td>087745AC3390B136</td><td>330</td><td>member</td><td>1,9945113108565171</td></tr><tr><td>60D5851A7FA2460D</td><td>330</td><td>casual</td><td>1,9945113108565171</td></tr><tr><td>CD0B93D5B0F31155</td><td>329</td><td>casual</td><td>1,9880356247823077</td></tr><tr><td>C0A712CD4906003C</td><td>329</td><td>casual</td><td>1,9880356247823077</td></tr><tr><td>7BE42FEA8BF2DAEB</td><td>328</td><td>member</td><td>1,9815599387080982</td></tr><tr><td>6795278AA80ED809</td><td>327</td><td>casual</td><td>1,9750842526338888</td></tr><tr><td>7EC0D171ECC560A1</td><td>325</td><td>casual</td><td>1,9621328804854699</td></tr><tr><td>3DA6F337F174D42D</td><td>324</td><td>casual</td><td>1,9556571944112604</td></tr><tr><td>B8ADBC5DC9980CC3</td><td>318</td><td>casual</td><td>1,9168030779660035</td></tr><tr><td>30E4A599AA5BA070</td><td>317</td><td>casual</td><td>1,910327391891794</td></tr><tr><td>C2F2C299B3B933DC</td><td>317</td><td>casual</td><td>1,910327391891794</td></tr></table>"
                    },
                    "metadata": {}
                }
            ],
            "execution_count": 14
        },
        {
            "cell_type": "markdown",
            "source": [
                "The results showed that values with **ride\\_length** time greater than 480 minutes (row n°433) have a z-score value higher than 2.96 (absolute value). This give us a confidence level of 95%. \n",
                "\n",
                "If we exclude all theese data from the dataset, we will see how the average"
            ],
            "metadata": {
                "language": "sql",
                "azdata_cell_guid": "770cee7a-8de9-4b58-b35b-b72032cd1530"
            },
            "attachments": {}
        },
        {
            "cell_type": "code",
            "source": [
                "--AISLANDO LOS OUTLIERS (las docked_bikes arrojaban valores ride_length muy elevados)\r\n",
                "\r\n",
                "SELECT  \r\n",
                "\tmember_casual,\r\n",
                "\tCOUNT(ride_length) AS number_of_trips, \r\n",
                "\tAVG(ride_length) AS average_ride, \r\n",
                "\tSUM(ride_length) AS total_time_trips\r\n",
                "\r\n",
                "FROM (\r\n",
                "\tSELECT\t\r\n",
                "\t\tmember_casual, \r\n",
                "\t\tDATEDIFF(MINUTE,started_at, ended_at) AS ride_length  --CREAR UNA TABLA TABLA CON TODOS LOS CALCULOS \r\n",
                "\tFROM [202103-divvy-tripdata]\r\n",
                ") AS temp_table\r\n",
                "GROUP BY member_casual\r\n",
                "\r\n",
                "-- REMOVING OUTLIERS > 430 MINUTES\r\n",
                "SELECT  \r\n",
                "\tmember_casual,\r\n",
                "\tCOUNT(ride_length) AS number_of_trips, \r\n",
                "\tAVG(ride_length) AS average_ride, \r\n",
                "\tSUM(ride_length) AS total_time_trips\r\n",
                "\r\n",
                "FROM (\r\n",
                "\tSELECT\t\r\n",
                "\t\tmember_casual, \r\n",
                "\t\tDATEDIFF(MINUTE,started_at, ended_at) AS ride_length  --CREAR UNA TABLA TABLA CON TODOS LOS CALCULOS \r\n",
                "\tFROM [202103-divvy-tripdata]\r\n",
                ") AS temp_table\r\n",
                "WHERE ride_length < 480 \r\n",
                "GROUP BY member_casual      "
            ],
            "metadata": {
                "language": "sql",
                "azdata_cell_guid": "23fa6e9e-2213-441c-8710-ed5cb9a2c352"
            },
            "outputs": [
                {
                    "output_type": "display_data",
                    "data": {
                        "text/html": "(2 rows affected)"
                    },
                    "metadata": {}
                },
                {
                    "output_type": "display_data",
                    "data": {
                        "text/html": "(2 rows affected)"
                    },
                    "metadata": {}
                },
                {
                    "output_type": "display_data",
                    "data": {
                        "text/html": "Total execution time: 00:00:00.112"
                    },
                    "metadata": {}
                },
                {
                    "output_type": "execute_result",
                    "execution_count": 18,
                    "data": {
                        "application/vnd.dataresource+json": {
                            "schema": {
                                "fields": [
                                    {
                                        "name": "member_casual"
                                    },
                                    {
                                        "name": "number_of_trips"
                                    },
                                    {
                                        "name": "average_ride"
                                    },
                                    {
                                        "name": "total_time_trips"
                                    }
                                ]
                            },
                            "data": [
                                {
                                    "0": "casual",
                                    "1": "84033",
                                    "2": "38",
                                    "3": "3206751"
                                },
                                {
                                    "0": "member",
                                    "1": "144463",
                                    "2": "13",
                                    "3": "2018031"
                                }
                            ]
                        },
                        "text/html": "<table><tr><th>member_casual</th><th>number_of_trips</th><th>average_ride</th><th>total_time_trips</th></tr><tr><td>casual</td><td>84033</td><td>38</td><td>3206751</td></tr><tr><td>member</td><td>144463</td><td>13</td><td>2018031</td></tr></table>"
                    },
                    "metadata": {}
                },
                {
                    "output_type": "execute_result",
                    "execution_count": 18,
                    "data": {
                        "application/vnd.dataresource+json": {
                            "schema": {
                                "fields": [
                                    {
                                        "name": "member_casual"
                                    },
                                    {
                                        "name": "number_of_trips"
                                    },
                                    {
                                        "name": "average_ride"
                                    },
                                    {
                                        "name": "total_time_trips"
                                    }
                                ]
                            },
                            "data": [
                                {
                                    "0": "casual",
                                    "1": "83675",
                                    "2": "29",
                                    "3": "2438181"
                                },
                                {
                                    "0": "member",
                                    "1": "144415",
                                    "2": "13",
                                    "3": "1967721"
                                }
                            ]
                        },
                        "text/html": "<table><tr><th>member_casual</th><th>number_of_trips</th><th>average_ride</th><th>total_time_trips</th></tr><tr><td>casual</td><td>83675</td><td>29</td><td>2438181</td></tr><tr><td>member</td><td>144415</td><td>13</td><td>1967721</td></tr></table>"
                    },
                    "metadata": {}
                }
            ],
            "execution_count": 18
        }
    ]
}