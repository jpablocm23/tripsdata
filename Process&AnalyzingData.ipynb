{
    "metadata": {
        "kernelspec": {
            "name": "SQL",
            "display_name": "SQL",
            "language": "sql"
        },
        "language_info": {
            "name": "sql",
            "version": ""
        }
    },
    "nbformat_minor": 2,
    "nbformat": 4,
    "cells": [
        {
            "cell_type": "markdown",
            "source": [
                "# **Processing & Analyzing the Data**"
            ],
            "metadata": {
                "azdata_cell_guid": "046cf1c6-c801-4547-8cbc-35b770b14f35"
            },
            "attachments": {}
        },
        {
            "cell_type": "markdown",
            "source": [
                "First we take the dataset and make some calculations in order to get some inights about differences found between types of users (**member\\_casual**). I am going to include some aggregate functions like **COUNT, SUM** and **AVG:**"
            ],
            "metadata": {
                "azdata_cell_guid": "c5bfa607-7cfc-4b3d-99ec-bb5cfc0c89cd"
            },
            "attachments": {}
        },
        {
            "cell_type": "code",
            "source": [
                "--Numero de viajes, Promedio de viajes y tiempo total de viajes, por tipo de usuario (member or casual)\r\n",
                "\r\n",
                "SELECT  \r\n",
                "\tmember_casual,\r\n",
                "\tCOUNT(ride_length) AS number_of_trips, \r\n",
                "\tAVG(ride_length) AS average_ride, \r\n",
                "\tSUM(ride_length) AS total_time_trips\r\n",
                "\r\n",
                "FROM (\r\n",
                "\tSELECT\t\r\n",
                "\t\tmember_casual, \r\n",
                "\t\tDATEDIFF(MINUTE,started_at, ended_at) AS ride_length \r\n",
                "\tFROM [202103-divvy-tripdata]\r\n",
                ") AS temp_table\r\n",
                "GROUP BY member_casual"
            ],
            "metadata": {
                "azdata_cell_guid": "6c4edecc-127e-4d37-b059-f19d8a753bfd",
                "language": "sql"
            },
            "outputs": [
                {
                    "output_type": "display_data",
                    "data": {
                        "text/html": "(2 rows affected)"
                    },
                    "metadata": {}
                },
                {
                    "output_type": "display_data",
                    "data": {
                        "text/html": "Total execution time: 00:00:00.035"
                    },
                    "metadata": {}
                },
                {
                    "output_type": "execute_result",
                    "execution_count": 7,
                    "data": {
                        "application/vnd.dataresource+json": {
                            "schema": {
                                "fields": [
                                    {
                                        "name": "member_casual"
                                    },
                                    {
                                        "name": "number_of_trips"
                                    },
                                    {
                                        "name": "average_ride"
                                    },
                                    {
                                        "name": "total_time_trips"
                                    }
                                ]
                            },
                            "data": [
                                {
                                    "0": "casual",
                                    "1": "84033",
                                    "2": "38",
                                    "3": "3206751"
                                },
                                {
                                    "0": "member",
                                    "1": "144463",
                                    "2": "13",
                                    "3": "2018031"
                                }
                            ]
                        },
                        "text/html": "<table><tr><th>member_casual</th><th>number_of_trips</th><th>average_ride</th><th>total_time_trips</th></tr><tr><td>casual</td><td>84033</td><td>38</td><td>3206751</td></tr><tr><td>member</td><td>144463</td><td>13</td><td>2018031</td></tr></table>"
                    },
                    "metadata": {}
                }
            ],
            "execution_count": 7
        },
        {
            "cell_type": "markdown",
            "source": [
                ""
            ],
            "metadata": {
                "language": "sql",
                "azdata_cell_guid": "d6cc805c-24a5-46e0-a043-c0117728ea97"
            },
            "attachments": {}
        },
        {
            "cell_type": "markdown",
            "source": [
                "The _casual riders_ have less **number\\_of\\_trips** but a longer **average\\_ride** time (in minutes) than  _member riders_. Because of that, the sum of **total\\_time\\_trips** is greater in _casual riders_. We have to explore why or how this happen.\n",
                "\n",
                "Then we search a relationship between the **day\\_of\\_week** the user started the trip, by type of user (**member\\_casual**) in order to indentify some differences. But first, I look up for the mode of **date\\_of\\_week** in general terms:"
            ],
            "metadata": {
                "language": "sql",
                "azdata_cell_guid": "2c2750e7-9779-4ffd-8302-f011a87356c8"
            },
            "attachments": {}
        },
        {
            "cell_type": "code",
            "source": [
                "SELECT  \r\n",
                "\tday_of_week,\r\n",
                "\tCOUNT(day_of_week) AS number_trips\r\n",
                "\r\n",
                "FROM (\r\n",
                "\tSELECT\t\r\n",
                "\t\tmember_casual, \r\n",
                "\t\trideable_type,\r\n",
                "\t\tDATEPART(DW, started_at) AS day_of_week  --CREAR UNA TABLA TABLA CON TODOS LOS CALCULOS \r\n",
                "\tFROM [202103-divvy-tripdata]\r\n",
                ") AS temp_table1\r\n",
                "--WHERE NOT rideable_type='docked_bike'\r\n",
                "GROUP BY day_of_week\r\n",
                "ORDER BY number_trips DESC"
            ],
            "metadata": {
                "language": "sql",
                "azdata_cell_guid": "0059a660-2bd4-4914-9c5e-adf22bb29253",
                "tags": []
            },
            "outputs": [
                {
                    "output_type": "display_data",
                    "data": {
                        "text/html": "(7 rows affected)"
                    },
                    "metadata": {}
                },
                {
                    "output_type": "display_data",
                    "data": {
                        "text/html": "Total execution time: 00:00:00.048"
                    },
                    "metadata": {}
                },
                {
                    "output_type": "execute_result",
                    "execution_count": 9,
                    "data": {
                        "application/vnd.dataresource+json": {
                            "schema": {
                                "fields": [
                                    {
                                        "name": "day_of_week"
                                    },
                                    {
                                        "name": "number_trips"
                                    }
                                ]
                            },
                            "data": [
                                {
                                    "0": "7",
                                    "1": "45252"
                                },
                                {
                                    "0": "1",
                                    "1": "35627"
                                },
                                {
                                    "0": "2",
                                    "1": "34825"
                                },
                                {
                                    "0": "3",
                                    "1": "34000"
                                },
                                {
                                    "0": "4",
                                    "1": "31669"
                                },
                                {
                                    "0": "6",
                                    "1": "25657"
                                },
                                {
                                    "0": "5",
                                    "1": "21466"
                                }
                            ]
                        },
                        "text/html": "<table><tr><th>day_of_week</th><th>number_trips</th></tr><tr><td>7</td><td>45252</td></tr><tr><td>1</td><td>35627</td></tr><tr><td>2</td><td>34825</td></tr><tr><td>3</td><td>34000</td></tr><tr><td>4</td><td>31669</td></tr><tr><td>6</td><td>25657</td></tr><tr><td>5</td><td>21466</td></tr></table>"
                    },
                    "metadata": {}
                }
            ],
            "execution_count": 9
        },
        {
            "cell_type": "markdown",
            "source": [
                "As you can see, there is an important preference for 7 (Sunday), following by 1 (Monday) in which **day\\_of\\_week** the user starts its ride (_Remember this: Monday=1 and Sunday=7)._\n",
                "Now we try to analyze the preference of **day\\_of\\_week** separated by type of user (**member\\_casual**) in order to keep trying find differences. Also we aggregate functions like **COUNT, AVG** and **SUM,** and group them by type of user(**member\\_casual**) and **day\\_of\\_week** in order to get further detail about our analysis."
            ],
            "metadata": {
                "language": "sql",
                "azdata_cell_guid": "5bf3bc6e-bfdd-46c5-8469-6f2cbf7025d9"
            },
            "attachments": {}
        },
        {
            "cell_type": "code",
            "source": [
                "\r\n",
                "SELECT  \r\n",
                "\tmember_casual,\r\n",
                "\tday_of_week,\r\n",
                "\tCOUNT(ride_length) AS number_of_trips, \r\n",
                "\tAVG(ride_length) AS average_ride, \r\n",
                "\tSUM(ride_length) AS total_time_trips\r\n",
                "\r\n",
                "FROM (\r\n",
                "\tSELECT\t\r\n",
                "\t\tmember_casual, \r\n",
                "\t\trideable_type,\r\n",
                "\t\tDATEDIFF(MINUTE,started_at, ended_at) AS ride_length,  --CREAR UNA TABLA TABLA CON TODOS LOS CALCULOS \r\n",
                "\t\tDATEPART(DW, started_at) AS day_of_week\t\r\n",
                "\tFROM [202103-divvy-tripdata]\r\n",
                ") AS temp_table\r\n",
                "WHERE member_casual='casual'\r\n",
                "GROUP BY member_casual, day_of_week\r\n",
                "ORDER BY member_casual, number_of_trips DESC\r\n",
                "\r\n",
                "\r\n",
                "SELECT  \r\n",
                "\tmember_casual,\r\n",
                "\tday_of_week,\r\n",
                "\tCOUNT(ride_length) AS number_of_trips, \r\n",
                "\tAVG(ride_length) AS average_ride, \r\n",
                "\tSUM(ride_length) AS total_time_trips\r\n",
                "\r\n",
                "FROM (\r\n",
                "\tSELECT\t\r\n",
                "\t\tmember_casual, \r\n",
                "\t\trideable_type,\r\n",
                "\t\tDATEDIFF(MINUTE,started_at, ended_at) AS ride_length,  --CREAR UNA TABLA TABLA CON TODOS LOS CALCULOS \r\n",
                "\t\tDATEPART(DW, started_at) AS day_of_week\t\r\n",
                "\tFROM [202103-divvy-tripdata]\r\n",
                ") AS temp_table\r\n",
                "WHERE member_casual='member'\r\n",
                "GROUP BY member_casual, day_of_week\r\n",
                "ORDER BY member_casual, number_of_trips DESC"
            ],
            "metadata": {
                "language": "sql",
                "azdata_cell_guid": "b33b47e3-988a-4476-896c-3d8a71cc0580"
            },
            "outputs": [
                {
                    "output_type": "display_data",
                    "data": {
                        "text/html": "(7 rows affected)"
                    },
                    "metadata": {}
                },
                {
                    "output_type": "display_data",
                    "data": {
                        "text/html": "(7 rows affected)"
                    },
                    "metadata": {}
                },
                {
                    "output_type": "display_data",
                    "data": {
                        "text/html": "Total execution time: 00:00:00.174"
                    },
                    "metadata": {}
                },
                {
                    "output_type": "execute_result",
                    "execution_count": 11,
                    "data": {
                        "application/vnd.dataresource+json": {
                            "schema": {
                                "fields": [
                                    {
                                        "name": "member_casual"
                                    },
                                    {
                                        "name": "day_of_week"
                                    },
                                    {
                                        "name": "number_of_trips"
                                    },
                                    {
                                        "name": "average_ride"
                                    },
                                    {
                                        "name": "total_time_trips"
                                    }
                                ]
                            },
                            "data": [
                                {
                                    "0": "casual",
                                    "1": "7",
                                    "2": "22090",
                                    "3": "42",
                                    "4": "934447"
                                },
                                {
                                    "0": "casual",
                                    "1": "1",
                                    "2": "17342",
                                    "3": "41",
                                    "4": "717331"
                                },
                                {
                                    "0": "casual",
                                    "1": "2",
                                    "2": "11990",
                                    "3": "44",
                                    "4": "529223"
                                },
                                {
                                    "0": "casual",
                                    "1": "3",
                                    "2": "10463",
                                    "3": "36",
                                    "4": "376865"
                                },
                                {
                                    "0": "casual",
                                    "1": "4",
                                    "2": "8883",
                                    "3": "28",
                                    "4": "255304"
                                },
                                {
                                    "0": "casual",
                                    "1": "6",
                                    "2": "7777",
                                    "3": "29",
                                    "4": "227023"
                                },
                                {
                                    "0": "casual",
                                    "1": "5",
                                    "2": "5488",
                                    "3": "30",
                                    "4": "166558"
                                }
                            ]
                        },
                        "text/html": "<table><tr><th>member_casual</th><th>day_of_week</th><th>number_of_trips</th><th>average_ride</th><th>total_time_trips</th></tr><tr><td>casual</td><td>7</td><td>22090</td><td>42</td><td>934447</td></tr><tr><td>casual</td><td>1</td><td>17342</td><td>41</td><td>717331</td></tr><tr><td>casual</td><td>2</td><td>11990</td><td>44</td><td>529223</td></tr><tr><td>casual</td><td>3</td><td>10463</td><td>36</td><td>376865</td></tr><tr><td>casual</td><td>4</td><td>8883</td><td>28</td><td>255304</td></tr><tr><td>casual</td><td>6</td><td>7777</td><td>29</td><td>227023</td></tr><tr><td>casual</td><td>5</td><td>5488</td><td>30</td><td>166558</td></tr></table>"
                    },
                    "metadata": {}
                },
                {
                    "output_type": "execute_result",
                    "execution_count": 11,
                    "data": {
                        "application/vnd.dataresource+json": {
                            "schema": {
                                "fields": [
                                    {
                                        "name": "member_casual"
                                    },
                                    {
                                        "name": "day_of_week"
                                    },
                                    {
                                        "name": "number_of_trips"
                                    },
                                    {
                                        "name": "average_ride"
                                    },
                                    {
                                        "name": "total_time_trips"
                                    }
                                ]
                            },
                            "data": [
                                {
                                    "0": "member",
                                    "1": "3",
                                    "2": "23537",
                                    "3": "13",
                                    "4": "317206"
                                },
                                {
                                    "0": "member",
                                    "1": "7",
                                    "2": "23162",
                                    "3": "15",
                                    "4": "367678"
                                },
                                {
                                    "0": "member",
                                    "1": "2",
                                    "2": "22835",
                                    "3": "14",
                                    "4": "322576"
                                },
                                {
                                    "0": "member",
                                    "1": "4",
                                    "2": "22786",
                                    "3": "12",
                                    "4": "294539"
                                },
                                {
                                    "0": "member",
                                    "1": "1",
                                    "2": "18285",
                                    "3": "16",
                                    "4": "295307"
                                },
                                {
                                    "0": "member",
                                    "1": "6",
                                    "2": "17880",
                                    "3": "12",
                                    "4": "227987"
                                },
                                {
                                    "0": "member",
                                    "1": "5",
                                    "2": "15978",
                                    "3": "12",
                                    "4": "192738"
                                }
                            ]
                        },
                        "text/html": "<table><tr><th>member_casual</th><th>day_of_week</th><th>number_of_trips</th><th>average_ride</th><th>total_time_trips</th></tr><tr><td>member</td><td>3</td><td>23537</td><td>13</td><td>317206</td></tr><tr><td>member</td><td>7</td><td>23162</td><td>15</td><td>367678</td></tr><tr><td>member</td><td>2</td><td>22835</td><td>14</td><td>322576</td></tr><tr><td>member</td><td>4</td><td>22786</td><td>12</td><td>294539</td></tr><tr><td>member</td><td>1</td><td>18285</td><td>16</td><td>295307</td></tr><tr><td>member</td><td>6</td><td>17880</td><td>12</td><td>227987</td></tr><tr><td>member</td><td>5</td><td>15978</td><td>12</td><td>192738</td></tr></table>"
                    },
                    "metadata": {}
                }
            ],
            "execution_count": 11
        },
        {
            "cell_type": "markdown",
            "source": [
                "From the tables shown above, we can conclude the following:\n",
                "\n",
                "- There is differences of which **day\\_of\\_week** each type of user prefer take the ride. The **number\\_of\\_trips** column shows us that _casual riders_ prefer Sunday followed by Monday, and _member riders_ prefer Wednesday followed by Sunday.\n",
                "- Also, wee can see which **day\\_of\\_week** the **average\\_ride** time (in minutes) is longer. In the case of _casual riders_, the **average\\_ride** time is longer in Tuesday (44 minutes), Sunday (42) and Monday (41).\n",
                "- For _member riders_, the longer **average\\_ride** time are shorter than _casual riders:_ Monday (16 minutes), Sunday (15 ) and Tuesday (14). The average times of _member riders_ are more atomized than _casual riders._\n",
                "- Notice that there is not much correlation between **average\\_ride** time of each **day\\_of\\_week** and the **number\\_of\\_trips** grouped by **day\\_of\\_week**.\n",
                "\n",
                " So, we explore a little more into data, looking  which the longest trips are (in _Hours_ because of the magnitude of longest ride\\_length):"
            ],
            "metadata": {
                "language": "sql",
                "azdata_cell_guid": "15256081-120e-40ab-9268-6b3200c82325"
            },
            "attachments": {}
        },
        {
            "cell_type": "code",
            "source": [
                "SELECT TOP 100\r\n",
                "\tmember_casual,\r\n",
                "\tstarted_at,\r\n",
                "\tended_at,\r\n",
                "\tDATEDIFF(HOUR,started_at,ended_at) AS ride_length,\r\n",
                "\tDATEPART(DW, started_at) AS day_of_week,    -- DAY OF THE WEEK (1 TO 7)\r\n",
                "\trideable_type\r\n",
                "\r\n",
                "FROM [202103-divvy-tripdata]\r\n",
                "ORDER BY ride_length desc\r\n",
                ""
            ],
            "metadata": {
                "language": "sql",
                "azdata_cell_guid": "7ffc9c1f-06ba-496c-a2e7-f8315b9d60b6"
            },
            "outputs": [
                {
                    "output_type": "display_data",
                    "data": {
                        "text/html": "(100 rows affected)"
                    },
                    "metadata": {}
                },
                {
                    "output_type": "display_data",
                    "data": {
                        "text/html": "Total execution time: 00:00:00.173"
                    },
                    "metadata": {}
                },
                {
                    "output_type": "execute_result",
                    "execution_count": 12,
                    "data": {
                        "application/vnd.dataresource+json": {
                            "schema": {
                                "fields": [
                                    {
                                        "name": "member_casual"
                                    },
                                    {
                                        "name": "started_at"
                                    },
                                    {
                                        "name": "ended_at"
                                    },
                                    {
                                        "name": "ride_length"
                                    },
                                    {
                                        "name": "day_of_week"
                                    },
                                    {
                                        "name": "rideable_type"
                                    }
                                ]
                            },
                            "data": [
                                {
                                    "0": "casual",
                                    "1": "2021-03-08 16:48:24.0000000",
                                    "2": "2021-03-30 16:50:03.0000000",
                                    "3": "528",
                                    "4": "2",
                                    "5": "docked_bike"
                                },
                                {
                                    "0": "casual",
                                    "1": "2021-03-19 14:11:08.0000000",
                                    "2": "2021-04-02 12:45:14.0000000",
                                    "3": "334",
                                    "4": "6",
                                    "5": "docked_bike"
                                },
                                {
                                    "0": "casual",
                                    "1": "2021-03-02 17:48:41.0000000",
                                    "2": "2021-03-15 09:39:25.0000000",
                                    "3": "304",
                                    "4": "3",
                                    "5": "docked_bike"
                                },
                                {
                                    "0": "casual",
                                    "1": "2021-03-06 22:37:58.0000000",
                                    "2": "2021-03-18 22:08:43.0000000",
                                    "3": "288",
                                    "4": "7",
                                    "5": "docked_bike"
                                },
                                {
                                    "0": "casual",
                                    "1": "2021-03-06 22:58:09.0000000",
                                    "2": "2021-03-18 22:09:49.0000000",
                                    "3": "288",
                                    "4": "7",
                                    "5": "docked_bike"
                                },
                                {
                                    "0": "casual",
                                    "1": "2021-03-22 13:22:48.0000000",
                                    "2": "2021-04-02 14:27:23.0000000",
                                    "3": "265",
                                    "4": "2",
                                    "5": "docked_bike"
                                },
                                {
                                    "0": "casual",
                                    "1": "2021-03-20 17:35:12.0000000",
                                    "2": "2021-03-30 13:56:23.0000000",
                                    "3": "236",
                                    "4": "7",
                                    "5": "docked_bike"
                                },
                                {
                                    "0": "casual",
                                    "1": "2021-03-18 21:23:58.0000000",
                                    "2": "2021-03-27 22:05:30.0000000",
                                    "3": "217",
                                    "4": "5",
                                    "5": "docked_bike"
                                },
                                {
                                    "0": "casual",
                                    "1": "2021-03-20 23:58:11.0000000",
                                    "2": "2021-03-29 17:01:59.0000000",
                                    "3": "210",
                                    "4": "7",
                                    "5": "docked_bike"
                                },
                                {
                                    "0": "casual",
                                    "1": "2021-03-21 18:20:50.0000000",
                                    "2": "2021-03-29 21:30:13.0000000",
                                    "3": "195",
                                    "4": "1",
                                    "5": "docked_bike"
                                },
                                {
                                    "0": "casual",
                                    "1": "2021-03-04 06:29:39.0000000",
                                    "2": "2021-03-12 08:11:12.0000000",
                                    "3": "194",
                                    "4": "5",
                                    "5": "docked_bike"
                                },
                                {
                                    "0": "casual",
                                    "1": "2021-03-27 18:45:45.0000000",
                                    "2": "2021-04-04 16:47:58.0000000",
                                    "3": "190",
                                    "4": "7",
                                    "5": "docked_bike"
                                },
                                {
                                    "0": "casual",
                                    "1": "2021-03-27 18:46:55.0000000",
                                    "2": "2021-04-04 16:47:51.0000000",
                                    "3": "190",
                                    "4": "7",
                                    "5": "docked_bike"
                                },
                                {
                                    "0": "casual",
                                    "1": "2021-03-29 17:51:38.0000000",
                                    "2": "2021-04-06 11:00:11.0000000",
                                    "3": "186",
                                    "4": "2",
                                    "5": "docked_bike"
                                },
                                {
                                    "0": "casual",
                                    "1": "2021-03-13 18:06:47.0000000",
                                    "2": "2021-03-20 13:39:11.0000000",
                                    "3": "163",
                                    "4": "7",
                                    "5": "docked_bike"
                                },
                                {
                                    "0": "casual",
                                    "1": "2021-03-13 16:11:22.0000000",
                                    "2": "2021-03-20 10:40:50.0000000",
                                    "3": "162",
                                    "4": "7",
                                    "5": "docked_bike"
                                },
                                {
                                    "0": "casual",
                                    "1": "2021-03-21 03:01:27.0000000",
                                    "2": "2021-03-26 16:25:50.0000000",
                                    "3": "133",
                                    "4": "1",
                                    "5": "docked_bike"
                                },
                                {
                                    "0": "casual",
                                    "1": "2021-03-27 13:06:02.0000000",
                                    "2": "2021-04-01 14:24:53.0000000",
                                    "3": "121",
                                    "4": "7",
                                    "5": "docked_bike"
                                },
                                {
                                    "0": "casual",
                                    "1": "2021-03-09 21:50:04.0000000",
                                    "2": "2021-03-14 15:50:31.0000000",
                                    "3": "114",
                                    "4": "3",
                                    "5": "docked_bike"
                                },
                                {
                                    "0": "casual",
                                    "1": "2021-03-08 15:21:19.0000000",
                                    "2": "2021-03-13 08:47:35.0000000",
                                    "3": "113",
                                    "4": "2",
                                    "5": "docked_bike"
                                },
                                {
                                    "0": "casual",
                                    "1": "2021-03-20 23:21:49.0000000",
                                    "2": "2021-03-25 14:24:40.0000000",
                                    "3": "111",
                                    "4": "7",
                                    "5": "docked_bike"
                                },
                                {
                                    "0": "casual",
                                    "1": "2021-03-29 01:46:36.0000000",
                                    "2": "2021-04-02 14:48:35.0000000",
                                    "3": "109",
                                    "4": "2",
                                    "5": "docked_bike"
                                },
                                {
                                    "0": "casual",
                                    "1": "2021-03-25 10:57:10.0000000",
                                    "2": "2021-03-29 21:03:00.0000000",
                                    "3": "107",
                                    "4": "5",
                                    "5": "docked_bike"
                                },
                                {
                                    "0": "casual",
                                    "1": "2021-03-13 12:41:53.0000000",
                                    "2": "2021-03-17 14:09:09.0000000",
                                    "3": "98",
                                    "4": "7",
                                    "5": "docked_bike"
                                },
                                {
                                    "0": "casual",
                                    "1": "2021-03-06 15:11:04.0000000",
                                    "2": "2021-03-10 17:56:26.0000000",
                                    "3": "98",
                                    "4": "7",
                                    "5": "docked_bike"
                                },
                                {
                                    "0": "casual",
                                    "1": "2021-03-30 17:56:50.0000000",
                                    "2": "2021-04-03 18:05:14.0000000",
                                    "3": "97",
                                    "4": "3",
                                    "5": "docked_bike"
                                },
                                {
                                    "0": "casual",
                                    "1": "2021-03-20 16:06:03.0000000",
                                    "2": "2021-03-24 15:34:59.0000000",
                                    "3": "95",
                                    "4": "7",
                                    "5": "docked_bike"
                                },
                                {
                                    "0": "casual",
                                    "1": "2021-03-30 17:56:35.0000000",
                                    "2": "2021-04-03 16:35:09.0000000",
                                    "3": "95",
                                    "4": "3",
                                    "5": "docked_bike"
                                },
                                {
                                    "0": "casual",
                                    "1": "2021-03-06 12:15:04.0000000",
                                    "2": "2021-03-09 18:19:53.0000000",
                                    "3": "78",
                                    "4": "7",
                                    "5": "docked_bike"
                                },
                                {
                                    "0": "casual",
                                    "1": "2021-03-27 16:08:12.0000000",
                                    "2": "2021-03-30 20:01:08.0000000",
                                    "3": "76",
                                    "4": "7",
                                    "5": "docked_bike"
                                },
                                {
                                    "0": "casual",
                                    "1": "2021-03-30 16:50:55.0000000",
                                    "2": "2021-04-02 19:30:07.0000000",
                                    "3": "75",
                                    "4": "3",
                                    "5": "docked_bike"
                                },
                                {
                                    "0": "casual",
                                    "1": "2021-03-24 13:55:04.0000000",
                                    "2": "2021-03-27 15:56:33.0000000",
                                    "3": "74",
                                    "4": "4",
                                    "5": "docked_bike"
                                },
                                {
                                    "0": "casual",
                                    "1": "2021-03-13 11:08:25.0000000",
                                    "2": "2021-03-16 12:14:52.0000000",
                                    "3": "73",
                                    "4": "7",
                                    "5": "docked_bike"
                                },
                                {
                                    "0": "casual",
                                    "1": "2021-03-10 16:54:19.0000000",
                                    "2": "2021-03-13 13:47:50.0000000",
                                    "3": "69",
                                    "4": "4",
                                    "5": "docked_bike"
                                },
                                {
                                    "0": "casual",
                                    "1": "2021-03-22 17:23:38.0000000",
                                    "2": "2021-03-25 13:56:59.0000000",
                                    "3": "68",
                                    "4": "2",
                                    "5": "docked_bike"
                                },
                                {
                                    "0": "casual",
                                    "1": "2021-03-06 17:19:07.0000000",
                                    "2": "2021-03-09 13:10:54.0000000",
                                    "3": "68",
                                    "4": "7",
                                    "5": "docked_bike"
                                },
                                {
                                    "0": "casual",
                                    "1": "2021-03-06 22:49:31.0000000",
                                    "2": "2021-03-09 17:05:49.0000000",
                                    "3": "67",
                                    "4": "7",
                                    "5": "docked_bike"
                                },
                                {
                                    "0": "casual",
                                    "1": "2021-03-14 20:41:23.0000000",
                                    "2": "2021-03-17 12:17:39.0000000",
                                    "3": "64",
                                    "4": "1",
                                    "5": "docked_bike"
                                },
                                {
                                    "0": "casual",
                                    "1": "2021-03-28 01:35:15.0000000",
                                    "2": "2021-03-30 16:19:18.0000000",
                                    "3": "63",
                                    "4": "1",
                                    "5": "docked_bike"
                                },
                                {
                                    "0": "casual",
                                    "1": "2021-03-29 01:38:19.0000000",
                                    "2": "2021-03-31 15:31:40.0000000",
                                    "3": "62",
                                    "4": "2",
                                    "5": "docked_bike"
                                },
                                {
                                    "0": "casual",
                                    "1": "2021-03-29 23:31:08.0000000",
                                    "2": "2021-04-01 09:19:18.0000000",
                                    "3": "58",
                                    "4": "2",
                                    "5": "docked_bike"
                                },
                                {
                                    "0": "casual",
                                    "1": "2021-03-06 08:39:01.0000000",
                                    "2": "2021-03-08 17:24:54.0000000",
                                    "3": "57",
                                    "4": "7",
                                    "5": "docked_bike"
                                },
                                {
                                    "0": "casual",
                                    "1": "2021-03-17 10:41:28.0000000",
                                    "2": "2021-03-19 17:39:56.0000000",
                                    "3": "55",
                                    "4": "4",
                                    "5": "docked_bike"
                                },
                                {
                                    "0": "casual",
                                    "1": "2021-03-07 10:49:04.0000000",
                                    "2": "2021-03-09 15:45:46.0000000",
                                    "3": "53",
                                    "4": "1",
                                    "5": "docked_bike"
                                },
                                {
                                    "0": "casual",
                                    "1": "2021-03-24 13:51:00.0000000",
                                    "2": "2021-03-26 16:24:15.0000000",
                                    "3": "51",
                                    "4": "4",
                                    "5": "docked_bike"
                                },
                                {
                                    "0": "casual",
                                    "1": "2021-03-06 08:10:34.0000000",
                                    "2": "2021-03-08 09:05:40.0000000",
                                    "3": "49",
                                    "4": "7",
                                    "5": "docked_bike"
                                },
                                {
                                    "0": "casual",
                                    "1": "2021-03-30 16:19:11.0000000",
                                    "2": "2021-04-01 17:36:09.0000000",
                                    "3": "49",
                                    "4": "3",
                                    "5": "docked_bike"
                                },
                                {
                                    "0": "casual",
                                    "1": "2021-03-22 14:46:42.0000000",
                                    "2": "2021-03-24 15:15:09.0000000",
                                    "3": "49",
                                    "4": "2",
                                    "5": "docked_bike"
                                },
                                {
                                    "0": "casual",
                                    "1": "2021-03-30 13:44:27.0000000",
                                    "2": "2021-04-01 13:25:13.0000000",
                                    "3": "48",
                                    "4": "3",
                                    "5": "docked_bike"
                                },
                                {
                                    "0": "casual",
                                    "1": "2021-03-14 13:46:23.0000000",
                                    "2": "2021-03-16 12:00:22.0000000",
                                    "3": "47",
                                    "4": "1",
                                    "5": "docked_bike"
                                },
                                {
                                    "0": "casual",
                                    "1": "2021-03-14 16:31:20.0000000",
                                    "2": "2021-03-16 14:27:38.0000000",
                                    "3": "46",
                                    "4": "1",
                                    "5": "docked_bike"
                                },
                                {
                                    "0": "casual",
                                    "1": "2021-03-31 18:23:32.0000000",
                                    "2": "2021-04-02 16:37:53.0000000",
                                    "3": "46",
                                    "4": "4",
                                    "5": "docked_bike"
                                },
                                {
                                    "0": "casual",
                                    "1": "2021-03-07 17:55:30.0000000",
                                    "2": "2021-03-09 14:53:59.0000000",
                                    "3": "45",
                                    "4": "1",
                                    "5": "docked_bike"
                                },
                                {
                                    "0": "casual",
                                    "1": "2021-03-14 19:45:18.0000000",
                                    "2": "2021-03-16 16:28:29.0000000",
                                    "3": "45",
                                    "4": "1",
                                    "5": "docked_bike"
                                },
                                {
                                    "0": "casual",
                                    "1": "2021-03-08 20:57:25.0000000",
                                    "2": "2021-03-10 16:58:20.0000000",
                                    "3": "44",
                                    "4": "2",
                                    "5": "docked_bike"
                                },
                                {
                                    "0": "casual",
                                    "1": "2021-03-31 18:23:54.0000000",
                                    "2": "2021-04-02 14:36:56.0000000",
                                    "3": "44",
                                    "4": "4",
                                    "5": "docked_bike"
                                },
                                {
                                    "0": "casual",
                                    "1": "2021-03-13 11:56:59.0000000",
                                    "2": "2021-03-15 07:05:41.0000000",
                                    "3": "44",
                                    "4": "7",
                                    "5": "docked_bike"
                                },
                                {
                                    "0": "casual",
                                    "1": "2021-03-01 17:28:08.0000000",
                                    "2": "2021-03-03 13:01:54.0000000",
                                    "3": "44",
                                    "4": "2",
                                    "5": "docked_bike"
                                },
                                {
                                    "0": "casual",
                                    "1": "2021-03-06 13:17:57.0000000",
                                    "2": "2021-03-08 08:06:12.0000000",
                                    "3": "43",
                                    "4": "7",
                                    "5": "docked_bike"
                                },
                                {
                                    "0": "casual",
                                    "1": "2021-03-21 17:54:09.0000000",
                                    "2": "2021-03-23 12:16:19.0000000",
                                    "3": "43",
                                    "4": "1",
                                    "5": "docked_bike"
                                },
                                {
                                    "0": "casual",
                                    "1": "2021-03-22 19:47:01.0000000",
                                    "2": "2021-03-24 14:02:08.0000000",
                                    "3": "43",
                                    "4": "2",
                                    "5": "docked_bike"
                                },
                                {
                                    "0": "casual",
                                    "1": "2021-03-12 19:21:17.0000000",
                                    "2": "2021-03-14 12:23:48.0000000",
                                    "3": "41",
                                    "4": "6",
                                    "5": "docked_bike"
                                },
                                {
                                    "0": "casual",
                                    "1": "2021-03-22 17:58:31.0000000",
                                    "2": "2021-03-24 10:47:44.0000000",
                                    "3": "41",
                                    "4": "2",
                                    "5": "docked_bike"
                                },
                                {
                                    "0": "casual",
                                    "1": "2021-03-01 19:35:34.0000000",
                                    "2": "2021-03-03 12:36:13.0000000",
                                    "3": "41",
                                    "4": "2",
                                    "5": "docked_bike"
                                },
                                {
                                    "0": "casual",
                                    "1": "2021-03-22 17:20:04.0000000",
                                    "2": "2021-03-24 10:21:59.0000000",
                                    "3": "41",
                                    "4": "2",
                                    "5": "docked_bike"
                                },
                                {
                                    "0": "casual",
                                    "1": "2021-03-22 16:43:29.0000000",
                                    "2": "2021-03-24 08:11:19.0000000",
                                    "3": "40",
                                    "4": "2",
                                    "5": "docked_bike"
                                },
                                {
                                    "0": "casual",
                                    "1": "2021-03-19 22:12:06.0000000",
                                    "2": "2021-03-21 14:19:20.0000000",
                                    "3": "40",
                                    "4": "6",
                                    "5": "docked_bike"
                                },
                                {
                                    "0": "casual",
                                    "1": "2021-03-14 18:19:06.0000000",
                                    "2": "2021-03-16 08:28:20.0000000",
                                    "3": "38",
                                    "4": "1",
                                    "5": "docked_bike"
                                },
                                {
                                    "0": "casual",
                                    "1": "2021-03-08 11:44:50.0000000",
                                    "2": "2021-03-10 00:23:09.0000000",
                                    "3": "37",
                                    "4": "2",
                                    "5": "docked_bike"
                                },
                                {
                                    "0": "casual",
                                    "1": "2021-03-14 01:32:20.0000000",
                                    "2": "2021-03-15 09:05:49.0000000",
                                    "3": "32",
                                    "4": "1",
                                    "5": "docked_bike"
                                },
                                {
                                    "0": "casual",
                                    "1": "2021-03-05 08:24:19.0000000",
                                    "2": "2021-03-06 14:35:33.0000000",
                                    "3": "30",
                                    "4": "6",
                                    "5": "docked_bike"
                                },
                                {
                                    "0": "casual",
                                    "1": "2021-03-05 08:23:08.0000000",
                                    "2": "2021-03-06 14:35:40.0000000",
                                    "3": "30",
                                    "4": "6",
                                    "5": "docked_bike"
                                },
                                {
                                    "0": "casual",
                                    "1": "2021-03-09 16:22:53.0000000",
                                    "2": "2021-03-10 20:00:30.0000000",
                                    "3": "28",
                                    "4": "3",
                                    "5": "docked_bike"
                                },
                                {
                                    "0": "casual",
                                    "1": "2021-03-06 13:39:14.0000000",
                                    "2": "2021-03-07 17:07:56.0000000",
                                    "3": "28",
                                    "4": "7",
                                    "5": "docked_bike"
                                },
                                {
                                    "0": "casual",
                                    "1": "2021-03-29 10:18:27.0000000",
                                    "2": "2021-03-30 14:26:15.0000000",
                                    "3": "28",
                                    "4": "2",
                                    "5": "docked_bike"
                                },
                                {
                                    "0": "casual",
                                    "1": "2021-03-06 14:19:51.0000000",
                                    "2": "2021-03-07 18:41:40.0000000",
                                    "3": "28",
                                    "4": "7",
                                    "5": "docked_bike"
                                },
                                {
                                    "0": "casual",
                                    "1": "2021-03-06 10:23:55.0000000",
                                    "2": "2021-03-07 14:17:58.0000000",
                                    "3": "28",
                                    "4": "7",
                                    "5": "docked_bike"
                                },
                                {
                                    "0": "casual",
                                    "1": "2021-03-06 13:00:43.0000000",
                                    "2": "2021-03-07 16:39:18.0000000",
                                    "3": "27",
                                    "4": "7",
                                    "5": "docked_bike"
                                },
                                {
                                    "0": "casual",
                                    "1": "2021-03-13 18:14:27.0000000",
                                    "2": "2021-03-14 20:14:23.0000000",
                                    "3": "26",
                                    "4": "7",
                                    "5": "classic_bike"
                                },
                                {
                                    "0": "member",
                                    "1": "2021-03-13 15:49:49.0000000",
                                    "2": "2021-03-14 17:49:44.0000000",
                                    "3": "26",
                                    "4": "7",
                                    "5": "classic_bike"
                                },
                                {
                                    "0": "casual",
                                    "1": "2021-03-28 17:20:18.0000000",
                                    "2": "2021-03-29 19:50:59.0000000",
                                    "3": "26",
                                    "4": "1",
                                    "5": "docked_bike"
                                },
                                {
                                    "0": "casual",
                                    "1": "2021-03-13 18:49:48.0000000",
                                    "2": "2021-03-14 20:49:31.0000000",
                                    "3": "26",
                                    "4": "7",
                                    "5": "classic_bike"
                                },
                                {
                                    "0": "casual",
                                    "1": "2021-03-13 18:18:08.0000000",
                                    "2": "2021-03-14 20:17:59.0000000",
                                    "3": "26",
                                    "4": "7",
                                    "5": "classic_bike"
                                },
                                {
                                    "0": "casual",
                                    "1": "2021-03-13 12:44:07.0000000",
                                    "2": "2021-03-14 14:44:01.0000000",
                                    "3": "26",
                                    "4": "7",
                                    "5": "classic_bike"
                                },
                                {
                                    "0": "casual",
                                    "1": "2021-03-13 15:35:33.0000000",
                                    "2": "2021-03-14 17:35:28.0000000",
                                    "3": "26",
                                    "4": "7",
                                    "5": "classic_bike"
                                },
                                {
                                    "0": "casual",
                                    "1": "2021-03-13 12:59:42.0000000",
                                    "2": "2021-03-14 14:20:04.0000000",
                                    "3": "26",
                                    "4": "7",
                                    "5": "docked_bike"
                                },
                                {
                                    "0": "casual",
                                    "1": "2021-03-29 17:48:50.0000000",
                                    "2": "2021-03-30 19:44:58.0000000",
                                    "3": "26",
                                    "4": "2",
                                    "5": "docked_bike"
                                },
                                {
                                    "0": "casual",
                                    "1": "2021-03-13 21:37:59.0000000",
                                    "2": "2021-03-14 23:37:52.0000000",
                                    "3": "26",
                                    "4": "7",
                                    "5": "classic_bike"
                                },
                                {
                                    "0": "casual",
                                    "1": "2021-03-13 13:14:13.0000000",
                                    "2": "2021-03-14 15:13:55.0000000",
                                    "3": "26",
                                    "4": "7",
                                    "5": "classic_bike"
                                },
                                {
                                    "0": "casual",
                                    "1": "2021-03-13 08:44:32.0000000",
                                    "2": "2021-03-14 10:44:25.0000000",
                                    "3": "26",
                                    "4": "7",
                                    "5": "classic_bike"
                                },
                                {
                                    "0": "member",
                                    "1": "2021-03-13 23:44:49.0000000",
                                    "2": "2021-03-15 01:44:45.0000000",
                                    "3": "26",
                                    "4": "7",
                                    "5": "classic_bike"
                                },
                                {
                                    "0": "casual",
                                    "1": "2021-03-10 15:39:33.0000000",
                                    "2": "2021-03-11 17:08:23.0000000",
                                    "3": "26",
                                    "4": "4",
                                    "5": "docked_bike"
                                },
                                {
                                    "0": "casual",
                                    "1": "2021-03-29 16:09:41.0000000",
                                    "2": "2021-03-30 18:05:58.0000000",
                                    "3": "26",
                                    "4": "2",
                                    "5": "docked_bike"
                                },
                                {
                                    "0": "casual",
                                    "1": "2021-03-13 18:09:25.0000000",
                                    "2": "2021-03-14 20:09:16.0000000",
                                    "3": "26",
                                    "4": "7",
                                    "5": "classic_bike"
                                },
                                {
                                    "0": "casual",
                                    "1": "2021-03-06 16:33:10.0000000",
                                    "2": "2021-03-07 17:33:06.0000000",
                                    "3": "25",
                                    "4": "7",
                                    "5": "classic_bike"
                                },
                                {
                                    "0": "casual",
                                    "1": "2021-03-20 14:58:41.0000000",
                                    "2": "2021-03-21 15:58:35.0000000",
                                    "3": "25",
                                    "4": "7",
                                    "5": "classic_bike"
                                },
                                {
                                    "0": "casual",
                                    "1": "2021-03-21 02:55:00.0000000",
                                    "2": "2021-03-22 03:54:55.0000000",
                                    "3": "25",
                                    "4": "1",
                                    "5": "classic_bike"
                                },
                                {
                                    "0": "casual",
                                    "1": "2021-03-22 19:02:57.0000000",
                                    "2": "2021-03-23 20:02:49.0000000",
                                    "3": "25",
                                    "4": "2",
                                    "5": "classic_bike"
                                },
                                {
                                    "0": "casual",
                                    "1": "2021-03-23 10:52:13.0000000",
                                    "2": "2021-03-24 11:51:55.0000000",
                                    "3": "25",
                                    "4": "3",
                                    "5": "classic_bike"
                                },
                                {
                                    "0": "casual",
                                    "1": "2021-03-08 08:59:24.0000000",
                                    "2": "2021-03-09 09:59:19.0000000",
                                    "3": "25",
                                    "4": "2",
                                    "5": "classic_bike"
                                }
                            ]
                        },
                        "text/html": "<table><tr><th>member_casual</th><th>started_at</th><th>ended_at</th><th>ride_length</th><th>day_of_week</th><th>rideable_type</th></tr><tr><td>casual</td><td>2021-03-08 16:48:24.0000000</td><td>2021-03-30 16:50:03.0000000</td><td>528</td><td>2</td><td>docked_bike</td></tr><tr><td>casual</td><td>2021-03-19 14:11:08.0000000</td><td>2021-04-02 12:45:14.0000000</td><td>334</td><td>6</td><td>docked_bike</td></tr><tr><td>casual</td><td>2021-03-02 17:48:41.0000000</td><td>2021-03-15 09:39:25.0000000</td><td>304</td><td>3</td><td>docked_bike</td></tr><tr><td>casual</td><td>2021-03-06 22:37:58.0000000</td><td>2021-03-18 22:08:43.0000000</td><td>288</td><td>7</td><td>docked_bike</td></tr><tr><td>casual</td><td>2021-03-06 22:58:09.0000000</td><td>2021-03-18 22:09:49.0000000</td><td>288</td><td>7</td><td>docked_bike</td></tr><tr><td>casual</td><td>2021-03-22 13:22:48.0000000</td><td>2021-04-02 14:27:23.0000000</td><td>265</td><td>2</td><td>docked_bike</td></tr><tr><td>casual</td><td>2021-03-20 17:35:12.0000000</td><td>2021-03-30 13:56:23.0000000</td><td>236</td><td>7</td><td>docked_bike</td></tr><tr><td>casual</td><td>2021-03-18 21:23:58.0000000</td><td>2021-03-27 22:05:30.0000000</td><td>217</td><td>5</td><td>docked_bike</td></tr><tr><td>casual</td><td>2021-03-20 23:58:11.0000000</td><td>2021-03-29 17:01:59.0000000</td><td>210</td><td>7</td><td>docked_bike</td></tr><tr><td>casual</td><td>2021-03-21 18:20:50.0000000</td><td>2021-03-29 21:30:13.0000000</td><td>195</td><td>1</td><td>docked_bike</td></tr><tr><td>casual</td><td>2021-03-04 06:29:39.0000000</td><td>2021-03-12 08:11:12.0000000</td><td>194</td><td>5</td><td>docked_bike</td></tr><tr><td>casual</td><td>2021-03-27 18:45:45.0000000</td><td>2021-04-04 16:47:58.0000000</td><td>190</td><td>7</td><td>docked_bike</td></tr><tr><td>casual</td><td>2021-03-27 18:46:55.0000000</td><td>2021-04-04 16:47:51.0000000</td><td>190</td><td>7</td><td>docked_bike</td></tr><tr><td>casual</td><td>2021-03-29 17:51:38.0000000</td><td>2021-04-06 11:00:11.0000000</td><td>186</td><td>2</td><td>docked_bike</td></tr><tr><td>casual</td><td>2021-03-13 18:06:47.0000000</td><td>2021-03-20 13:39:11.0000000</td><td>163</td><td>7</td><td>docked_bike</td></tr><tr><td>casual</td><td>2021-03-13 16:11:22.0000000</td><td>2021-03-20 10:40:50.0000000</td><td>162</td><td>7</td><td>docked_bike</td></tr><tr><td>casual</td><td>2021-03-21 03:01:27.0000000</td><td>2021-03-26 16:25:50.0000000</td><td>133</td><td>1</td><td>docked_bike</td></tr><tr><td>casual</td><td>2021-03-27 13:06:02.0000000</td><td>2021-04-01 14:24:53.0000000</td><td>121</td><td>7</td><td>docked_bike</td></tr><tr><td>casual</td><td>2021-03-09 21:50:04.0000000</td><td>2021-03-14 15:50:31.0000000</td><td>114</td><td>3</td><td>docked_bike</td></tr><tr><td>casual</td><td>2021-03-08 15:21:19.0000000</td><td>2021-03-13 08:47:35.0000000</td><td>113</td><td>2</td><td>docked_bike</td></tr><tr><td>casual</td><td>2021-03-20 23:21:49.0000000</td><td>2021-03-25 14:24:40.0000000</td><td>111</td><td>7</td><td>docked_bike</td></tr><tr><td>casual</td><td>2021-03-29 01:46:36.0000000</td><td>2021-04-02 14:48:35.0000000</td><td>109</td><td>2</td><td>docked_bike</td></tr><tr><td>casual</td><td>2021-03-25 10:57:10.0000000</td><td>2021-03-29 21:03:00.0000000</td><td>107</td><td>5</td><td>docked_bike</td></tr><tr><td>casual</td><td>2021-03-13 12:41:53.0000000</td><td>2021-03-17 14:09:09.0000000</td><td>98</td><td>7</td><td>docked_bike</td></tr><tr><td>casual</td><td>2021-03-06 15:11:04.0000000</td><td>2021-03-10 17:56:26.0000000</td><td>98</td><td>7</td><td>docked_bike</td></tr><tr><td>casual</td><td>2021-03-30 17:56:50.0000000</td><td>2021-04-03 18:05:14.0000000</td><td>97</td><td>3</td><td>docked_bike</td></tr><tr><td>casual</td><td>2021-03-20 16:06:03.0000000</td><td>2021-03-24 15:34:59.0000000</td><td>95</td><td>7</td><td>docked_bike</td></tr><tr><td>casual</td><td>2021-03-30 17:56:35.0000000</td><td>2021-04-03 16:35:09.0000000</td><td>95</td><td>3</td><td>docked_bike</td></tr><tr><td>casual</td><td>2021-03-06 12:15:04.0000000</td><td>2021-03-09 18:19:53.0000000</td><td>78</td><td>7</td><td>docked_bike</td></tr><tr><td>casual</td><td>2021-03-27 16:08:12.0000000</td><td>2021-03-30 20:01:08.0000000</td><td>76</td><td>7</td><td>docked_bike</td></tr><tr><td>casual</td><td>2021-03-30 16:50:55.0000000</td><td>2021-04-02 19:30:07.0000000</td><td>75</td><td>3</td><td>docked_bike</td></tr><tr><td>casual</td><td>2021-03-24 13:55:04.0000000</td><td>2021-03-27 15:56:33.0000000</td><td>74</td><td>4</td><td>docked_bike</td></tr><tr><td>casual</td><td>2021-03-13 11:08:25.0000000</td><td>2021-03-16 12:14:52.0000000</td><td>73</td><td>7</td><td>docked_bike</td></tr><tr><td>casual</td><td>2021-03-10 16:54:19.0000000</td><td>2021-03-13 13:47:50.0000000</td><td>69</td><td>4</td><td>docked_bike</td></tr><tr><td>casual</td><td>2021-03-22 17:23:38.0000000</td><td>2021-03-25 13:56:59.0000000</td><td>68</td><td>2</td><td>docked_bike</td></tr><tr><td>casual</td><td>2021-03-06 17:19:07.0000000</td><td>2021-03-09 13:10:54.0000000</td><td>68</td><td>7</td><td>docked_bike</td></tr><tr><td>casual</td><td>2021-03-06 22:49:31.0000000</td><td>2021-03-09 17:05:49.0000000</td><td>67</td><td>7</td><td>docked_bike</td></tr><tr><td>casual</td><td>2021-03-14 20:41:23.0000000</td><td>2021-03-17 12:17:39.0000000</td><td>64</td><td>1</td><td>docked_bike</td></tr><tr><td>casual</td><td>2021-03-28 01:35:15.0000000</td><td>2021-03-30 16:19:18.0000000</td><td>63</td><td>1</td><td>docked_bike</td></tr><tr><td>casual</td><td>2021-03-29 01:38:19.0000000</td><td>2021-03-31 15:31:40.0000000</td><td>62</td><td>2</td><td>docked_bike</td></tr><tr><td>casual</td><td>2021-03-29 23:31:08.0000000</td><td>2021-04-01 09:19:18.0000000</td><td>58</td><td>2</td><td>docked_bike</td></tr><tr><td>casual</td><td>2021-03-06 08:39:01.0000000</td><td>2021-03-08 17:24:54.0000000</td><td>57</td><td>7</td><td>docked_bike</td></tr><tr><td>casual</td><td>2021-03-17 10:41:28.0000000</td><td>2021-03-19 17:39:56.0000000</td><td>55</td><td>4</td><td>docked_bike</td></tr><tr><td>casual</td><td>2021-03-07 10:49:04.0000000</td><td>2021-03-09 15:45:46.0000000</td><td>53</td><td>1</td><td>docked_bike</td></tr><tr><td>casual</td><td>2021-03-24 13:51:00.0000000</td><td>2021-03-26 16:24:15.0000000</td><td>51</td><td>4</td><td>docked_bike</td></tr><tr><td>casual</td><td>2021-03-06 08:10:34.0000000</td><td>2021-03-08 09:05:40.0000000</td><td>49</td><td>7</td><td>docked_bike</td></tr><tr><td>casual</td><td>2021-03-30 16:19:11.0000000</td><td>2021-04-01 17:36:09.0000000</td><td>49</td><td>3</td><td>docked_bike</td></tr><tr><td>casual</td><td>2021-03-22 14:46:42.0000000</td><td>2021-03-24 15:15:09.0000000</td><td>49</td><td>2</td><td>docked_bike</td></tr><tr><td>casual</td><td>2021-03-30 13:44:27.0000000</td><td>2021-04-01 13:25:13.0000000</td><td>48</td><td>3</td><td>docked_bike</td></tr><tr><td>casual</td><td>2021-03-14 13:46:23.0000000</td><td>2021-03-16 12:00:22.0000000</td><td>47</td><td>1</td><td>docked_bike</td></tr><tr><td>casual</td><td>2021-03-14 16:31:20.0000000</td><td>2021-03-16 14:27:38.0000000</td><td>46</td><td>1</td><td>docked_bike</td></tr><tr><td>casual</td><td>2021-03-31 18:23:32.0000000</td><td>2021-04-02 16:37:53.0000000</td><td>46</td><td>4</td><td>docked_bike</td></tr><tr><td>casual</td><td>2021-03-07 17:55:30.0000000</td><td>2021-03-09 14:53:59.0000000</td><td>45</td><td>1</td><td>docked_bike</td></tr><tr><td>casual</td><td>2021-03-14 19:45:18.0000000</td><td>2021-03-16 16:28:29.0000000</td><td>45</td><td>1</td><td>docked_bike</td></tr><tr><td>casual</td><td>2021-03-08 20:57:25.0000000</td><td>2021-03-10 16:58:20.0000000</td><td>44</td><td>2</td><td>docked_bike</td></tr><tr><td>casual</td><td>2021-03-31 18:23:54.0000000</td><td>2021-04-02 14:36:56.0000000</td><td>44</td><td>4</td><td>docked_bike</td></tr><tr><td>casual</td><td>2021-03-13 11:56:59.0000000</td><td>2021-03-15 07:05:41.0000000</td><td>44</td><td>7</td><td>docked_bike</td></tr><tr><td>casual</td><td>2021-03-01 17:28:08.0000000</td><td>2021-03-03 13:01:54.0000000</td><td>44</td><td>2</td><td>docked_bike</td></tr><tr><td>casual</td><td>2021-03-06 13:17:57.0000000</td><td>2021-03-08 08:06:12.0000000</td><td>43</td><td>7</td><td>docked_bike</td></tr><tr><td>casual</td><td>2021-03-21 17:54:09.0000000</td><td>2021-03-23 12:16:19.0000000</td><td>43</td><td>1</td><td>docked_bike</td></tr><tr><td>casual</td><td>2021-03-22 19:47:01.0000000</td><td>2021-03-24 14:02:08.0000000</td><td>43</td><td>2</td><td>docked_bike</td></tr><tr><td>casual</td><td>2021-03-12 19:21:17.0000000</td><td>2021-03-14 12:23:48.0000000</td><td>41</td><td>6</td><td>docked_bike</td></tr><tr><td>casual</td><td>2021-03-22 17:58:31.0000000</td><td>2021-03-24 10:47:44.0000000</td><td>41</td><td>2</td><td>docked_bike</td></tr><tr><td>casual</td><td>2021-03-01 19:35:34.0000000</td><td>2021-03-03 12:36:13.0000000</td><td>41</td><td>2</td><td>docked_bike</td></tr><tr><td>casual</td><td>2021-03-22 17:20:04.0000000</td><td>2021-03-24 10:21:59.0000000</td><td>41</td><td>2</td><td>docked_bike</td></tr><tr><td>casual</td><td>2021-03-22 16:43:29.0000000</td><td>2021-03-24 08:11:19.0000000</td><td>40</td><td>2</td><td>docked_bike</td></tr><tr><td>casual</td><td>2021-03-19 22:12:06.0000000</td><td>2021-03-21 14:19:20.0000000</td><td>40</td><td>6</td><td>docked_bike</td></tr><tr><td>casual</td><td>2021-03-14 18:19:06.0000000</td><td>2021-03-16 08:28:20.0000000</td><td>38</td><td>1</td><td>docked_bike</td></tr><tr><td>casual</td><td>2021-03-08 11:44:50.0000000</td><td>2021-03-10 00:23:09.0000000</td><td>37</td><td>2</td><td>docked_bike</td></tr><tr><td>casual</td><td>2021-03-14 01:32:20.0000000</td><td>2021-03-15 09:05:49.0000000</td><td>32</td><td>1</td><td>docked_bike</td></tr><tr><td>casual</td><td>2021-03-05 08:24:19.0000000</td><td>2021-03-06 14:35:33.0000000</td><td>30</td><td>6</td><td>docked_bike</td></tr><tr><td>casual</td><td>2021-03-05 08:23:08.0000000</td><td>2021-03-06 14:35:40.0000000</td><td>30</td><td>6</td><td>docked_bike</td></tr><tr><td>casual</td><td>2021-03-09 16:22:53.0000000</td><td>2021-03-10 20:00:30.0000000</td><td>28</td><td>3</td><td>docked_bike</td></tr><tr><td>casual</td><td>2021-03-06 13:39:14.0000000</td><td>2021-03-07 17:07:56.0000000</td><td>28</td><td>7</td><td>docked_bike</td></tr><tr><td>casual</td><td>2021-03-29 10:18:27.0000000</td><td>2021-03-30 14:26:15.0000000</td><td>28</td><td>2</td><td>docked_bike</td></tr><tr><td>casual</td><td>2021-03-06 14:19:51.0000000</td><td>2021-03-07 18:41:40.0000000</td><td>28</td><td>7</td><td>docked_bike</td></tr><tr><td>casual</td><td>2021-03-06 10:23:55.0000000</td><td>2021-03-07 14:17:58.0000000</td><td>28</td><td>7</td><td>docked_bike</td></tr><tr><td>casual</td><td>2021-03-06 13:00:43.0000000</td><td>2021-03-07 16:39:18.0000000</td><td>27</td><td>7</td><td>docked_bike</td></tr><tr><td>casual</td><td>2021-03-13 18:14:27.0000000</td><td>2021-03-14 20:14:23.0000000</td><td>26</td><td>7</td><td>classic_bike</td></tr><tr><td>member</td><td>2021-03-13 15:49:49.0000000</td><td>2021-03-14 17:49:44.0000000</td><td>26</td><td>7</td><td>classic_bike</td></tr><tr><td>casual</td><td>2021-03-28 17:20:18.0000000</td><td>2021-03-29 19:50:59.0000000</td><td>26</td><td>1</td><td>docked_bike</td></tr><tr><td>casual</td><td>2021-03-13 18:49:48.0000000</td><td>2021-03-14 20:49:31.0000000</td><td>26</td><td>7</td><td>classic_bike</td></tr><tr><td>casual</td><td>2021-03-13 18:18:08.0000000</td><td>2021-03-14 20:17:59.0000000</td><td>26</td><td>7</td><td>classic_bike</td></tr><tr><td>casual</td><td>2021-03-13 12:44:07.0000000</td><td>2021-03-14 14:44:01.0000000</td><td>26</td><td>7</td><td>classic_bike</td></tr><tr><td>casual</td><td>2021-03-13 15:35:33.0000000</td><td>2021-03-14 17:35:28.0000000</td><td>26</td><td>7</td><td>classic_bike</td></tr><tr><td>casual</td><td>2021-03-13 12:59:42.0000000</td><td>2021-03-14 14:20:04.0000000</td><td>26</td><td>7</td><td>docked_bike</td></tr><tr><td>casual</td><td>2021-03-29 17:48:50.0000000</td><td>2021-03-30 19:44:58.0000000</td><td>26</td><td>2</td><td>docked_bike</td></tr><tr><td>casual</td><td>2021-03-13 21:37:59.0000000</td><td>2021-03-14 23:37:52.0000000</td><td>26</td><td>7</td><td>classic_bike</td></tr><tr><td>casual</td><td>2021-03-13 13:14:13.0000000</td><td>2021-03-14 15:13:55.0000000</td><td>26</td><td>7</td><td>classic_bike</td></tr><tr><td>casual</td><td>2021-03-13 08:44:32.0000000</td><td>2021-03-14 10:44:25.0000000</td><td>26</td><td>7</td><td>classic_bike</td></tr><tr><td>member</td><td>2021-03-13 23:44:49.0000000</td><td>2021-03-15 01:44:45.0000000</td><td>26</td><td>7</td><td>classic_bike</td></tr><tr><td>casual</td><td>2021-03-10 15:39:33.0000000</td><td>2021-03-11 17:08:23.0000000</td><td>26</td><td>4</td><td>docked_bike</td></tr><tr><td>casual</td><td>2021-03-29 16:09:41.0000000</td><td>2021-03-30 18:05:58.0000000</td><td>26</td><td>2</td><td>docked_bike</td></tr><tr><td>casual</td><td>2021-03-13 18:09:25.0000000</td><td>2021-03-14 20:09:16.0000000</td><td>26</td><td>7</td><td>classic_bike</td></tr><tr><td>casual</td><td>2021-03-06 16:33:10.0000000</td><td>2021-03-07 17:33:06.0000000</td><td>25</td><td>7</td><td>classic_bike</td></tr><tr><td>casual</td><td>2021-03-20 14:58:41.0000000</td><td>2021-03-21 15:58:35.0000000</td><td>25</td><td>7</td><td>classic_bike</td></tr><tr><td>casual</td><td>2021-03-21 02:55:00.0000000</td><td>2021-03-22 03:54:55.0000000</td><td>25</td><td>1</td><td>classic_bike</td></tr><tr><td>casual</td><td>2021-03-22 19:02:57.0000000</td><td>2021-03-23 20:02:49.0000000</td><td>25</td><td>2</td><td>classic_bike</td></tr><tr><td>casual</td><td>2021-03-23 10:52:13.0000000</td><td>2021-03-24 11:51:55.0000000</td><td>25</td><td>3</td><td>classic_bike</td></tr><tr><td>casual</td><td>2021-03-08 08:59:24.0000000</td><td>2021-03-09 09:59:19.0000000</td><td>25</td><td>2</td><td>classic_bike</td></tr></table>"
                    },
                    "metadata": {}
                }
            ],
            "execution_count": 12
        },
        {
            "cell_type": "markdown",
            "source": [
                "The results show an anomaly in the r**ide\\_length** of the longest rides. Some insights we capture:\n",
                "\n",
                "- The duration of the longest ride is 528 hours, which is too much in my opinion. \n",
                "- Then the second one is 334 hours, and so on until completing the top 100 with 25 hours. \n",
                "- All the three-digits duration rides are which **rideable\\_type** are _'docked\\_bikes'_ and the type of rider (**member\\_casual**) is _casual ._\n",
                "- We also found that these very long rides are mainly from _casual riders_. \n",
                "- The longest ride from _member riders_ is 26 hours (row n°80)."
            ],
            "metadata": {
                "language": "sql",
                "azdata_cell_guid": "1ac1ce12-4cfd-48a5-a9f9-67f43622679b"
            },
            "attachments": {}
        },
        {
            "cell_type": "markdown",
            "source": [
                "Now we take a deeper look at  **rideable\\_types** separated by types of users (**member\\_casual**):"
            ],
            "metadata": {
                "language": "sql",
                "azdata_cell_guid": "898afa11-0039-454b-add9-59efe8e2dc49"
            },
            "attachments": {}
        },
        {
            "cell_type": "code",
            "source": [
                "SELECT  \r\n",
                "\tmember_casual,\r\n",
                "\trideable_type,\r\n",
                "\tCOUNT(ride_length) AS number_of_trips, \r\n",
                "\tAVG(ride_length) AS average_ride, \r\n",
                "\tSUM(ride_length) AS total_time_trips\r\n",
                "\r\n",
                "FROM (\r\n",
                "\tSELECT\t\r\n",
                "\t\tmember_casual, \r\n",
                "\t\trideable_type,\r\n",
                "\t\tDATEDIFF(MINUTE,started_at, ended_at) AS ride_length,  --CREAR UNA TABLA TABLA CON TODOS LOS CALCULOS \r\n",
                "\t\tDATEPART(DW, started_at) AS day_of_week\t\r\n",
                "\tFROM [202103-divvy-tripdata]\r\n",
                ") AS temp_table\r\n",
                "WHERE member_casual='casual'\r\n",
                "GROUP BY member_casual, rideable_type\r\n",
                "ORDER BY member_casual, number_of_trips DESC\r\n",
                "\r\n",
                "\r\n",
                "SELECT  \r\n",
                "\tmember_casual,\r\n",
                "\trideable_type,\r\n",
                "\tCOUNT(ride_length) AS number_of_trips, \r\n",
                "\tAVG(ride_length) AS average_ride, \r\n",
                "\tSUM(ride_length) AS total_time_trips\r\n",
                "\r\n",
                "FROM (\r\n",
                "\tSELECT\t\r\n",
                "\t\tmember_casual, \r\n",
                "\t\trideable_type,\r\n",
                "\t\tDATEDIFF(MINUTE,started_at, ended_at) AS ride_length,  --CREAR UNA TABLA TABLA CON TODOS LOS CALCULOS \r\n",
                "\t\tDATEPART(DW, started_at) AS day_of_week\t\r\n",
                "\tFROM [202103-divvy-tripdata]\r\n",
                ") AS temp_table\r\n",
                "WHERE member_casual='member'\r\n",
                "GROUP BY member_casual, rideable_type\r\n",
                "ORDER BY member_casual, number_of_trips DESCw\r\n",
                ""
            ],
            "metadata": {
                "language": "sql",
                "azdata_cell_guid": "9dcec958-011b-40b4-b5a6-7fc11f2f390c"
            },
            "outputs": [
                {
                    "output_type": "display_data",
                    "data": {
                        "text/html": "(3 rows affected)"
                    },
                    "metadata": {}
                },
                {
                    "output_type": "display_data",
                    "data": {
                        "text/html": "(2 rows affected)"
                    },
                    "metadata": {}
                },
                {
                    "output_type": "display_data",
                    "data": {
                        "text/html": "Total execution time: 00:00:00.087"
                    },
                    "metadata": {}
                },
                {
                    "output_type": "execute_result",
                    "execution_count": 14,
                    "data": {
                        "application/vnd.dataresource+json": {
                            "schema": {
                                "fields": [
                                    {
                                        "name": "member_casual"
                                    },
                                    {
                                        "name": "rideable_type"
                                    },
                                    {
                                        "name": "number_of_trips"
                                    },
                                    {
                                        "name": "average_ride"
                                    },
                                    {
                                        "name": "total_time_trips"
                                    }
                                ]
                            },
                            "data": [
                                {
                                    "0": "casual",
                                    "1": "classic_bike",
                                    "2": "45528",
                                    "3": "31",
                                    "4": "1435951"
                                },
                                {
                                    "0": "casual",
                                    "1": "electric_bike",
                                    "2": "22848",
                                    "3": "21",
                                    "4": "492410"
                                },
                                {
                                    "0": "casual",
                                    "1": "docked_bike",
                                    "2": "15657",
                                    "3": "81",
                                    "4": "1278390"
                                }
                            ]
                        },
                        "text/html": "<table><tr><th>member_casual</th><th>rideable_type</th><th>number_of_trips</th><th>average_ride</th><th>total_time_trips</th></tr><tr><td>casual</td><td>classic_bike</td><td>45528</td><td>31</td><td>1435951</td></tr><tr><td>casual</td><td>electric_bike</td><td>22848</td><td>21</td><td>492410</td></tr><tr><td>casual</td><td>docked_bike</td><td>15657</td><td>81</td><td>1278390</td></tr></table>"
                    },
                    "metadata": {}
                },
                {
                    "output_type": "execute_result",
                    "execution_count": 14,
                    "data": {
                        "application/vnd.dataresource+json": {
                            "schema": {
                                "fields": [
                                    {
                                        "name": "member_casual"
                                    },
                                    {
                                        "name": "rideable_type"
                                    },
                                    {
                                        "name": "number_of_trips"
                                    },
                                    {
                                        "name": "average_ride"
                                    },
                                    {
                                        "name": "total_time_trips"
                                    }
                                ]
                            },
                            "data": [
                                {
                                    "0": "member",
                                    "1": "classic_bike",
                                    "2": "107017",
                                    "3": "14",
                                    "4": "1519896"
                                },
                                {
                                    "0": "member",
                                    "1": "electric_bike",
                                    "2": "37446",
                                    "3": "13",
                                    "4": "498135"
                                }
                            ]
                        },
                        "text/html": "<table><tr><th>member_casual</th><th>rideable_type</th><th>number_of_trips</th><th>average_ride</th><th>total_time_trips</th></tr><tr><td>member</td><td>classic_bike</td><td>107017</td><td>14</td><td>1519896</td></tr><tr><td>member</td><td>electric_bike</td><td>37446</td><td>13</td><td>498135</td></tr></table>"
                    },
                    "metadata": {}
                }
            ],
            "execution_count": 14
        },
        {
            "cell_type": "markdown",
            "source": [
                "We can see that docked\\_bike rides  have an **average\\_ride** time of 81 minutes wich explain what we mentioned above. It would be useful know which are the trips that is most repeated (or Mode), grouped by **ride\\_legth** time. For that we have to round the ride\\_length variable removing decimals to simplify the results table:"
            ],
            "metadata": {
                "azdata_cell_guid": "ae753f59-62af-4052-8c3a-940003d8756e"
            },
            "attachments": {}
        },
        {
            "cell_type": "code",
            "source": [
                "SELECT  TOP 50\r\n",
                "\tride_length,\r\n",
                "\tCOUNT(ride_length) AS number_of_trips, \r\n",
                "\tAVG(ride_length) AS average_ride, \r\n",
                "\tSUM(ride_length) AS total_time_trips\r\n",
                "\r\n",
                "FROM (\r\n",
                "\tSELECT\t\r\n",
                "\t\tROUND(DATEDIFF(MINUTE,started_at, ended_at),0) AS ride_length,  -- USE ROUND FUNCTIONS TO REMOVE DECIMALS\r\n",
                "\t\tDATEPART(DW, started_at) AS day_of_week\t\r\n",
                "\tFROM [202103-divvy-tripdata]\r\n",
                ") AS temp_table\r\n",
                "GROUP BY ride_length\r\n",
                "ORDER BY number_of_trips DESC"
            ],
            "metadata": {
                "azdata_cell_guid": "48cb41f4-64df-499e-bedd-b66004d3e93b",
                "language": "sql"
            },
            "outputs": [
                {
                    "output_type": "display_data",
                    "data": {
                        "text/html": "(50 rows affected)"
                    },
                    "metadata": {}
                },
                {
                    "output_type": "display_data",
                    "data": {
                        "text/html": "Total execution time: 00:00:00.054"
                    },
                    "metadata": {}
                },
                {
                    "output_type": "execute_result",
                    "metadata": {},
                    "execution_count": 8,
                    "data": {
                        "application/vnd.dataresource+json": {
                            "schema": {
                                "fields": [
                                    {
                                        "name": "ride_length"
                                    },
                                    {
                                        "name": "number_of_trips"
                                    },
                                    {
                                        "name": "average_ride"
                                    },
                                    {
                                        "name": "total_time_trips"
                                    }
                                ]
                            },
                            "data": [
                                {
                                    "0": "6",
                                    "1": "12578",
                                    "2": "6",
                                    "3": "75468"
                                },
                                {
                                    "0": "7",
                                    "1": "12442",
                                    "2": "7",
                                    "3": "87094"
                                },
                                {
                                    "0": "5",
                                    "1": "12337",
                                    "2": "5",
                                    "3": "61685"
                                },
                                {
                                    "0": "8",
                                    "1": "11821",
                                    "2": "8",
                                    "3": "94568"
                                },
                                {
                                    "0": "4",
                                    "1": "11168",
                                    "2": "4",
                                    "3": "44672"
                                },
                                {
                                    "0": "9",
                                    "1": "10857",
                                    "2": "9",
                                    "3": "97713"
                                },
                                {
                                    "0": "10",
                                    "1": "10043",
                                    "2": "10",
                                    "3": "100430"
                                },
                                {
                                    "0": "11",
                                    "1": "9116",
                                    "2": "11",
                                    "3": "100276"
                                },
                                {
                                    "0": "12",
                                    "1": "8531",
                                    "2": "12",
                                    "3": "102372"
                                },
                                {
                                    "0": "3",
                                    "1": "8199",
                                    "2": "3",
                                    "3": "24597"
                                },
                                {
                                    "0": "13",
                                    "1": "7755",
                                    "2": "13",
                                    "3": "100815"
                                },
                                {
                                    "0": "14",
                                    "1": "7147",
                                    "2": "14",
                                    "3": "100058"
                                },
                                {
                                    "0": "15",
                                    "1": "6393",
                                    "2": "15",
                                    "3": "95895"
                                },
                                {
                                    "0": "16",
                                    "1": "5867",
                                    "2": "16",
                                    "3": "93872"
                                },
                                {
                                    "0": "17",
                                    "1": "5359",
                                    "2": "17",
                                    "3": "91103"
                                },
                                {
                                    "0": "18",
                                    "1": "4934",
                                    "2": "18",
                                    "3": "88812"
                                },
                                {
                                    "0": "2",
                                    "1": "4564",
                                    "2": "2",
                                    "3": "9128"
                                },
                                {
                                    "0": "19",
                                    "1": "4539",
                                    "2": "19",
                                    "3": "86241"
                                },
                                {
                                    "0": "20",
                                    "1": "4208",
                                    "2": "20",
                                    "3": "84160"
                                },
                                {
                                    "0": "21",
                                    "1": "3788",
                                    "2": "21",
                                    "3": "79548"
                                },
                                {
                                    "0": "22",
                                    "1": "3571",
                                    "2": "22",
                                    "3": "78562"
                                },
                                {
                                    "0": "23",
                                    "1": "3350",
                                    "2": "23",
                                    "3": "77050"
                                },
                                {
                                    "0": "24",
                                    "1": "3174",
                                    "2": "24",
                                    "3": "76176"
                                },
                                {
                                    "0": "25",
                                    "1": "3059",
                                    "2": "25",
                                    "3": "76475"
                                },
                                {
                                    "0": "26",
                                    "1": "2924",
                                    "2": "26",
                                    "3": "76024"
                                },
                                {
                                    "0": "27",
                                    "1": "2657",
                                    "2": "27",
                                    "3": "71739"
                                },
                                {
                                    "0": "28",
                                    "1": "2439",
                                    "2": "28",
                                    "3": "68292"
                                },
                                {
                                    "0": "29",
                                    "1": "2311",
                                    "2": "29",
                                    "3": "67019"
                                },
                                {
                                    "0": "1",
                                    "1": "2304",
                                    "2": "1",
                                    "3": "2304"
                                },
                                {
                                    "0": "30",
                                    "1": "2264",
                                    "2": "30",
                                    "3": "67920"
                                },
                                {
                                    "0": "31",
                                    "1": "2024",
                                    "2": "31",
                                    "3": "62744"
                                },
                                {
                                    "0": "32",
                                    "1": "1893",
                                    "2": "32",
                                    "3": "60576"
                                },
                                {
                                    "0": "0",
                                    "1": "1782",
                                    "2": "0",
                                    "3": "0"
                                },
                                {
                                    "0": "33",
                                    "1": "1684",
                                    "2": "33",
                                    "3": "55572"
                                },
                                {
                                    "0": "34",
                                    "1": "1580",
                                    "2": "34",
                                    "3": "53720"
                                },
                                {
                                    "0": "35",
                                    "1": "1492",
                                    "2": "35",
                                    "3": "52220"
                                },
                                {
                                    "0": "36",
                                    "1": "1375",
                                    "2": "36",
                                    "3": "49500"
                                },
                                {
                                    "0": "37",
                                    "1": "1238",
                                    "2": "37",
                                    "3": "45806"
                                },
                                {
                                    "0": "38",
                                    "1": "1222",
                                    "2": "38",
                                    "3": "46436"
                                },
                                {
                                    "0": "39",
                                    "1": "1149",
                                    "2": "39",
                                    "3": "44811"
                                },
                                {
                                    "0": "40",
                                    "1": "1045",
                                    "2": "40",
                                    "3": "41800"
                                },
                                {
                                    "0": "41",
                                    "1": "1011",
                                    "2": "41",
                                    "3": "41451"
                                },
                                {
                                    "0": "43",
                                    "1": "892",
                                    "2": "43",
                                    "3": "38356"
                                },
                                {
                                    "0": "42",
                                    "1": "892",
                                    "2": "42",
                                    "3": "37464"
                                },
                                {
                                    "0": "45",
                                    "1": "800",
                                    "2": "45",
                                    "3": "36000"
                                },
                                {
                                    "0": "44",
                                    "1": "723",
                                    "2": "44",
                                    "3": "31812"
                                },
                                {
                                    "0": "46",
                                    "1": "646",
                                    "2": "46",
                                    "3": "29716"
                                },
                                {
                                    "0": "47",
                                    "1": "605",
                                    "2": "47",
                                    "3": "28435"
                                },
                                {
                                    "0": "49",
                                    "1": "577",
                                    "2": "49",
                                    "3": "28273"
                                },
                                {
                                    "0": "48",
                                    "1": "534",
                                    "2": "48",
                                    "3": "25632"
                                }
                            ]
                        },
                        "text/html": [
                            "<table>",
                            "<tr><th>ride_length</th><th>number_of_trips</th><th>average_ride</th><th>total_time_trips</th></tr>",
                            "<tr><td>6</td><td>12578</td><td>6</td><td>75468</td></tr>",
                            "<tr><td>7</td><td>12442</td><td>7</td><td>87094</td></tr>",
                            "<tr><td>5</td><td>12337</td><td>5</td><td>61685</td></tr>",
                            "<tr><td>8</td><td>11821</td><td>8</td><td>94568</td></tr>",
                            "<tr><td>4</td><td>11168</td><td>4</td><td>44672</td></tr>",
                            "<tr><td>9</td><td>10857</td><td>9</td><td>97713</td></tr>",
                            "<tr><td>10</td><td>10043</td><td>10</td><td>100430</td></tr>",
                            "<tr><td>11</td><td>9116</td><td>11</td><td>100276</td></tr>",
                            "<tr><td>12</td><td>8531</td><td>12</td><td>102372</td></tr>",
                            "<tr><td>3</td><td>8199</td><td>3</td><td>24597</td></tr>",
                            "<tr><td>13</td><td>7755</td><td>13</td><td>100815</td></tr>",
                            "<tr><td>14</td><td>7147</td><td>14</td><td>100058</td></tr>",
                            "<tr><td>15</td><td>6393</td><td>15</td><td>95895</td></tr>",
                            "<tr><td>16</td><td>5867</td><td>16</td><td>93872</td></tr>",
                            "<tr><td>17</td><td>5359</td><td>17</td><td>91103</td></tr>",
                            "<tr><td>18</td><td>4934</td><td>18</td><td>88812</td></tr>",
                            "<tr><td>2</td><td>4564</td><td>2</td><td>9128</td></tr>",
                            "<tr><td>19</td><td>4539</td><td>19</td><td>86241</td></tr>",
                            "<tr><td>20</td><td>4208</td><td>20</td><td>84160</td></tr>",
                            "<tr><td>21</td><td>3788</td><td>21</td><td>79548</td></tr>",
                            "<tr><td>22</td><td>3571</td><td>22</td><td>78562</td></tr>",
                            "<tr><td>23</td><td>3350</td><td>23</td><td>77050</td></tr>",
                            "<tr><td>24</td><td>3174</td><td>24</td><td>76176</td></tr>",
                            "<tr><td>25</td><td>3059</td><td>25</td><td>76475</td></tr>",
                            "<tr><td>26</td><td>2924</td><td>26</td><td>76024</td></tr>",
                            "<tr><td>27</td><td>2657</td><td>27</td><td>71739</td></tr>",
                            "<tr><td>28</td><td>2439</td><td>28</td><td>68292</td></tr>",
                            "<tr><td>29</td><td>2311</td><td>29</td><td>67019</td></tr>",
                            "<tr><td>1</td><td>2304</td><td>1</td><td>2304</td></tr>",
                            "<tr><td>30</td><td>2264</td><td>30</td><td>67920</td></tr>",
                            "<tr><td>31</td><td>2024</td><td>31</td><td>62744</td></tr>",
                            "<tr><td>32</td><td>1893</td><td>32</td><td>60576</td></tr>",
                            "<tr><td>0</td><td>1782</td><td>0</td><td>0</td></tr>",
                            "<tr><td>33</td><td>1684</td><td>33</td><td>55572</td></tr>",
                            "<tr><td>34</td><td>1580</td><td>34</td><td>53720</td></tr>",
                            "<tr><td>35</td><td>1492</td><td>35</td><td>52220</td></tr>",
                            "<tr><td>36</td><td>1375</td><td>36</td><td>49500</td></tr>",
                            "<tr><td>37</td><td>1238</td><td>37</td><td>45806</td></tr>",
                            "<tr><td>38</td><td>1222</td><td>38</td><td>46436</td></tr>",
                            "<tr><td>39</td><td>1149</td><td>39</td><td>44811</td></tr>",
                            "<tr><td>40</td><td>1045</td><td>40</td><td>41800</td></tr>",
                            "<tr><td>41</td><td>1011</td><td>41</td><td>41451</td></tr>",
                            "<tr><td>43</td><td>892</td><td>43</td><td>38356</td></tr>",
                            "<tr><td>42</td><td>892</td><td>42</td><td>37464</td></tr>",
                            "<tr><td>45</td><td>800</td><td>45</td><td>36000</td></tr>",
                            "<tr><td>44</td><td>723</td><td>44</td><td>31812</td></tr>",
                            "<tr><td>46</td><td>646</td><td>46</td><td>29716</td></tr>",
                            "<tr><td>47</td><td>605</td><td>47</td><td>28435</td></tr>",
                            "<tr><td>49</td><td>577</td><td>49</td><td>28273</td></tr>",
                            "<tr><td>48</td><td>534</td><td>48</td><td>25632</td></tr>",
                            "</table>"
                        ]
                    }
                }
            ],
            "execution_count": 8
        },
        {
            "cell_type": "markdown",
            "source": [
                "The mode of the variable **ride\\_length** is 6 minutes followed by 7, 5, 8, 4, 9 and so on until (rounding the numbers to whole number closer, removing decimals). As you noticed, the **ride\\_length** and **average\\_ride** are equals because what we explained. Fo r example: the **average\\_ride** time grouped by **ride\\_length** of 6 minutes, is calculated by numbers between 5.5 and 6.4 (5.5,6.5\\], so it is logical that the result tends towards the nearest whole number, in this case 6 minutes."
            ],
            "metadata": {
                "language": "sql",
                "azdata_cell_guid": "b8c5deea-2e52-4b97-a75a-d687c461914e"
            },
            "attachments": {}
        }
    ]
}