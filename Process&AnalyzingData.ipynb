{
    "metadata": {
        "kernelspec": {
            "name": "SQL",
            "display_name": "SQL",
            "language": "sql"
        },
        "language_info": {
            "name": "sql",
            "version": ""
        }
    },
    "nbformat_minor": 2,
    "nbformat": 4,
    "cells": [
        {
            "cell_type": "markdown",
            "source": [
                "# **Processing & Analyzing the Data**"
            ],
            "metadata": {
                "azdata_cell_guid": "046cf1c6-c801-4547-8cbc-35b770b14f35"
            },
            "attachments": {}
        },
        {
            "cell_type": "markdown",
            "source": [
                "First we take the dataset and make some calculations in order to get some inights about differences found between types of users (**member\\_casual**). I am going to include some aggregate functions like **COUNT, SUM** and **AVG:**"
            ],
            "metadata": {
                "azdata_cell_guid": "c5bfa607-7cfc-4b3d-99ec-bb5cfc0c89cd"
            },
            "attachments": {}
        },
        {
            "cell_type": "code",
            "source": [
                "--Numero de viajes, Promedio de viajes y tiempo total de viajes, por tipo de usuario (member or casual)\r\n",
                "\r\n",
                "SELECT  \r\n",
                "\tmember_casual,\r\n",
                "\tCOUNT(ride_length) AS number_of_trips, \r\n",
                "\tAVG(ride_length) AS average_ride, \r\n",
                "\tSUM(ride_length) AS total_time_trips\r\n",
                "\r\n",
                "FROM (\r\n",
                "\tSELECT\t\r\n",
                "\t\tmember_casual, \r\n",
                "\t\tDATEDIFF(MINUTE,started_at, ended_at) AS ride_length \r\n",
                "\tFROM [202103-divvy-tripdata]\r\n",
                ") AS temp_table\r\n",
                "GROUP BY member_casual"
            ],
            "metadata": {
                "azdata_cell_guid": "6c4edecc-127e-4d37-b059-f19d8a753bfd",
                "language": "sql"
            },
            "outputs": [
                {
                    "output_type": "display_data",
                    "data": {
                        "text/html": "(2 rows affected)"
                    },
                    "metadata": {}
                },
                {
                    "output_type": "display_data",
                    "data": {
                        "text/html": "Total execution time: 00:00:00.035"
                    },
                    "metadata": {}
                },
                {
                    "output_type": "execute_result",
                    "execution_count": 7,
                    "data": {
                        "application/vnd.dataresource+json": {
                            "schema": {
                                "fields": [
                                    {
                                        "name": "member_casual"
                                    },
                                    {
                                        "name": "number_of_trips"
                                    },
                                    {
                                        "name": "average_ride"
                                    },
                                    {
                                        "name": "total_time_trips"
                                    }
                                ]
                            },
                            "data": [
                                {
                                    "0": "casual",
                                    "1": "84033",
                                    "2": "38",
                                    "3": "3206751"
                                },
                                {
                                    "0": "member",
                                    "1": "144463",
                                    "2": "13",
                                    "3": "2018031"
                                }
                            ]
                        },
                        "text/html": "<table><tr><th>member_casual</th><th>number_of_trips</th><th>average_ride</th><th>total_time_trips</th></tr><tr><td>casual</td><td>84033</td><td>38</td><td>3206751</td></tr><tr><td>member</td><td>144463</td><td>13</td><td>2018031</td></tr></table>"
                    },
                    "metadata": {}
                }
            ],
            "execution_count": 7
        },
        {
            "cell_type": "markdown",
            "source": [
                ""
            ],
            "metadata": {
                "language": "sql",
                "azdata_cell_guid": "d6cc805c-24a5-46e0-a043-c0117728ea97"
            },
            "attachments": {}
        },
        {
            "cell_type": "markdown",
            "source": [
                "The _casual riders_ have less **number\\_of\\_trips** but a longer **average\\_ride** time (in minutes) than  _member riders_. Because of that, the sum of **total\\_time\\_trips** is greater in _casual riders_. We have to explore why or how this happen.\n",
                "\n",
                "Then we search a relationship between the **day\\_of\\_week** the user started the trip, by type of user (**member\\_casual**) in order to indentify some differences. But first, I look up for the mode of **date\\_of\\_week** in general terms:"
            ],
            "metadata": {
                "language": "sql",
                "azdata_cell_guid": "2c2750e7-9779-4ffd-8302-f011a87356c8"
            },
            "attachments": {}
        },
        {
            "cell_type": "code",
            "source": [
                "SELECT  \r\n",
                "\tday_of_week,\r\n",
                "\tCOUNT(day_of_week) AS number_trips\r\n",
                "\r\n",
                "FROM (\r\n",
                "\tSELECT\t\r\n",
                "\t\tmember_casual, \r\n",
                "\t\trideable_type,\r\n",
                "\t\tDATEPART(DW, started_at) AS day_of_week  --CREAR UNA TABLA TABLA CON TODOS LOS CALCULOS \r\n",
                "\tFROM [202103-divvy-tripdata]\r\n",
                ") AS temp_table1\r\n",
                "--WHERE NOT rideable_type='docked_bike'\r\n",
                "GROUP BY day_of_week\r\n",
                "ORDER BY number_trips DESC"
            ],
            "metadata": {
                "language": "sql",
                "azdata_cell_guid": "0059a660-2bd4-4914-9c5e-adf22bb29253",
                "tags": []
            },
            "outputs": [
                {
                    "output_type": "display_data",
                    "data": {
                        "text/html": "(7 rows affected)"
                    },
                    "metadata": {}
                },
                {
                    "output_type": "display_data",
                    "data": {
                        "text/html": "Total execution time: 00:00:00.048"
                    },
                    "metadata": {}
                },
                {
                    "output_type": "execute_result",
                    "execution_count": 9,
                    "data": {
                        "application/vnd.dataresource+json": {
                            "schema": {
                                "fields": [
                                    {
                                        "name": "day_of_week"
                                    },
                                    {
                                        "name": "number_trips"
                                    }
                                ]
                            },
                            "data": [
                                {
                                    "0": "7",
                                    "1": "45252"
                                },
                                {
                                    "0": "1",
                                    "1": "35627"
                                },
                                {
                                    "0": "2",
                                    "1": "34825"
                                },
                                {
                                    "0": "3",
                                    "1": "34000"
                                },
                                {
                                    "0": "4",
                                    "1": "31669"
                                },
                                {
                                    "0": "6",
                                    "1": "25657"
                                },
                                {
                                    "0": "5",
                                    "1": "21466"
                                }
                            ]
                        },
                        "text/html": "<table><tr><th>day_of_week</th><th>number_trips</th></tr><tr><td>7</td><td>45252</td></tr><tr><td>1</td><td>35627</td></tr><tr><td>2</td><td>34825</td></tr><tr><td>3</td><td>34000</td></tr><tr><td>4</td><td>31669</td></tr><tr><td>6</td><td>25657</td></tr><tr><td>5</td><td>21466</td></tr></table>"
                    },
                    "metadata": {}
                }
            ],
            "execution_count": 9
        },
        {
            "cell_type": "markdown",
            "source": [
                "As you can see, there is an important preference for 7 (Sunday), following by 1 (Monday) in which **day\\_of\\_week** the user starts its ride (_Remember this: Monday=1 and Sunday=7)._\n",
                "Now we try to analyze the preference of **day\\_of\\_week** separated by type of user (**member\\_casual**) in order to keep trying find differences. Also we aggregate functions like **COUNT, AVG** and **SUM,** and group them by type of user(**member\\_casual**) and **day\\_of\\_week** in order to get further detail about our analysis."
            ],
            "metadata": {
                "language": "sql",
                "azdata_cell_guid": "5bf3bc6e-bfdd-46c5-8469-6f2cbf7025d9"
            },
            "attachments": {}
        },
        {
            "cell_type": "code",
            "source": [
                "\r\n",
                "SELECT  \r\n",
                "\tmember_casual,\r\n",
                "\tday_of_week,\r\n",
                "\tCOUNT(ride_length) AS number_of_trips, \r\n",
                "\tAVG(ride_length) AS average_ride, \r\n",
                "\tSUM(ride_length) AS total_time_trips\r\n",
                "\r\n",
                "FROM (\r\n",
                "\tSELECT\t\r\n",
                "\t\tmember_casual, \r\n",
                "\t\trideable_type,\r\n",
                "\t\tDATEDIFF(MINUTE,started_at, ended_at) AS ride_length,  --CREAR UNA TABLA TABLA CON TODOS LOS CALCULOS \r\n",
                "\t\tDATEPART(DW, started_at) AS day_of_week\t\r\n",
                "\tFROM [202103-divvy-tripdata]\r\n",
                ") AS temp_table\r\n",
                "WHERE member_casual='casual'\r\n",
                "GROUP BY member_casual, day_of_week\r\n",
                "ORDER BY member_casual, number_of_trips DESC\r\n",
                "\r\n",
                "\r\n",
                "SELECT  \r\n",
                "\tmember_casual,\r\n",
                "\tday_of_week,\r\n",
                "\tCOUNT(ride_length) AS number_of_trips, \r\n",
                "\tAVG(ride_length) AS average_ride, \r\n",
                "\tSUM(ride_length) AS total_time_trips\r\n",
                "\r\n",
                "FROM (\r\n",
                "\tSELECT\t\r\n",
                "\t\tmember_casual, \r\n",
                "\t\trideable_type,\r\n",
                "\t\tDATEDIFF(MINUTE,started_at, ended_at) AS ride_length,  --CREAR UNA TABLA TABLA CON TODOS LOS CALCULOS \r\n",
                "\t\tDATEPART(DW, started_at) AS day_of_week\t\r\n",
                "\tFROM [202103-divvy-tripdata]\r\n",
                ") AS temp_table\r\n",
                "WHERE member_casual='member'\r\n",
                "GROUP BY member_casual, day_of_week\r\n",
                "ORDER BY member_casual, number_of_trips DESC"
            ],
            "metadata": {
                "language": "sql",
                "azdata_cell_guid": "b33b47e3-988a-4476-896c-3d8a71cc0580"
            },
            "outputs": [
                {
                    "output_type": "display_data",
                    "data": {
                        "text/html": "(7 rows affected)"
                    },
                    "metadata": {}
                },
                {
                    "output_type": "display_data",
                    "data": {
                        "text/html": "(7 rows affected)"
                    },
                    "metadata": {}
                },
                {
                    "output_type": "display_data",
                    "data": {
                        "text/html": "Total execution time: 00:00:00.174"
                    },
                    "metadata": {}
                },
                {
                    "output_type": "execute_result",
                    "execution_count": 11,
                    "data": {
                        "application/vnd.dataresource+json": {
                            "schema": {
                                "fields": [
                                    {
                                        "name": "member_casual"
                                    },
                                    {
                                        "name": "day_of_week"
                                    },
                                    {
                                        "name": "number_of_trips"
                                    },
                                    {
                                        "name": "average_ride"
                                    },
                                    {
                                        "name": "total_time_trips"
                                    }
                                ]
                            },
                            "data": [
                                {
                                    "0": "casual",
                                    "1": "7",
                                    "2": "22090",
                                    "3": "42",
                                    "4": "934447"
                                },
                                {
                                    "0": "casual",
                                    "1": "1",
                                    "2": "17342",
                                    "3": "41",
                                    "4": "717331"
                                },
                                {
                                    "0": "casual",
                                    "1": "2",
                                    "2": "11990",
                                    "3": "44",
                                    "4": "529223"
                                },
                                {
                                    "0": "casual",
                                    "1": "3",
                                    "2": "10463",
                                    "3": "36",
                                    "4": "376865"
                                },
                                {
                                    "0": "casual",
                                    "1": "4",
                                    "2": "8883",
                                    "3": "28",
                                    "4": "255304"
                                },
                                {
                                    "0": "casual",
                                    "1": "6",
                                    "2": "7777",
                                    "3": "29",
                                    "4": "227023"
                                },
                                {
                                    "0": "casual",
                                    "1": "5",
                                    "2": "5488",
                                    "3": "30",
                                    "4": "166558"
                                }
                            ]
                        },
                        "text/html": "<table><tr><th>member_casual</th><th>day_of_week</th><th>number_of_trips</th><th>average_ride</th><th>total_time_trips</th></tr><tr><td>casual</td><td>7</td><td>22090</td><td>42</td><td>934447</td></tr><tr><td>casual</td><td>1</td><td>17342</td><td>41</td><td>717331</td></tr><tr><td>casual</td><td>2</td><td>11990</td><td>44</td><td>529223</td></tr><tr><td>casual</td><td>3</td><td>10463</td><td>36</td><td>376865</td></tr><tr><td>casual</td><td>4</td><td>8883</td><td>28</td><td>255304</td></tr><tr><td>casual</td><td>6</td><td>7777</td><td>29</td><td>227023</td></tr><tr><td>casual</td><td>5</td><td>5488</td><td>30</td><td>166558</td></tr></table>"
                    },
                    "metadata": {}
                },
                {
                    "output_type": "execute_result",
                    "execution_count": 11,
                    "data": {
                        "application/vnd.dataresource+json": {
                            "schema": {
                                "fields": [
                                    {
                                        "name": "member_casual"
                                    },
                                    {
                                        "name": "day_of_week"
                                    },
                                    {
                                        "name": "number_of_trips"
                                    },
                                    {
                                        "name": "average_ride"
                                    },
                                    {
                                        "name": "total_time_trips"
                                    }
                                ]
                            },
                            "data": [
                                {
                                    "0": "member",
                                    "1": "3",
                                    "2": "23537",
                                    "3": "13",
                                    "4": "317206"
                                },
                                {
                                    "0": "member",
                                    "1": "7",
                                    "2": "23162",
                                    "3": "15",
                                    "4": "367678"
                                },
                                {
                                    "0": "member",
                                    "1": "2",
                                    "2": "22835",
                                    "3": "14",
                                    "4": "322576"
                                },
                                {
                                    "0": "member",
                                    "1": "4",
                                    "2": "22786",
                                    "3": "12",
                                    "4": "294539"
                                },
                                {
                                    "0": "member",
                                    "1": "1",
                                    "2": "18285",
                                    "3": "16",
                                    "4": "295307"
                                },
                                {
                                    "0": "member",
                                    "1": "6",
                                    "2": "17880",
                                    "3": "12",
                                    "4": "227987"
                                },
                                {
                                    "0": "member",
                                    "1": "5",
                                    "2": "15978",
                                    "3": "12",
                                    "4": "192738"
                                }
                            ]
                        },
                        "text/html": "<table><tr><th>member_casual</th><th>day_of_week</th><th>number_of_trips</th><th>average_ride</th><th>total_time_trips</th></tr><tr><td>member</td><td>3</td><td>23537</td><td>13</td><td>317206</td></tr><tr><td>member</td><td>7</td><td>23162</td><td>15</td><td>367678</td></tr><tr><td>member</td><td>2</td><td>22835</td><td>14</td><td>322576</td></tr><tr><td>member</td><td>4</td><td>22786</td><td>12</td><td>294539</td></tr><tr><td>member</td><td>1</td><td>18285</td><td>16</td><td>295307</td></tr><tr><td>member</td><td>6</td><td>17880</td><td>12</td><td>227987</td></tr><tr><td>member</td><td>5</td><td>15978</td><td>12</td><td>192738</td></tr></table>"
                    },
                    "metadata": {}
                }
            ],
            "execution_count": 11
        },
        {
            "cell_type": "markdown",
            "source": [
                "From the tables shown above, we can conclude the following:\n",
                "\n",
                "- There is differences of which **day\\_of\\_week** each type of user prefer take the ride. The **number\\_of\\_trips** column shows us that _casual riders_ prefer Sunday followed by Monday, and _member riders_ prefer Wednesday followed by Sunday.\n",
                "- Also, wee can see which **day\\_of\\_week** the **average\\_ride** time (in minutes) is longer. In the case of _casual riders_, the **average\\_ride** time is longer in Tuesday (44 minutes), Sunday (42) and Monday (41).\n",
                "- For _member riders_, the longer **average\\_ride** time are shorter than _casual riders:_ Monday (16 minutes), Sunday (15 ) and Tuesday (14). The average times of _member riders_ are more atomized than _casual riders._\n",
                "- Notice that there is not much correlation between **average\\_ride** time of each **day\\_of\\_week** and the **number\\_of\\_trips** grouped by **day\\_of\\_week**.\n",
                "\n",
                " So, we explore a little more into data, looking  which the longest trips are (in _Hours_ because of the magnitude of longest ride\\_length):"
            ],
            "metadata": {
                "language": "sql",
                "azdata_cell_guid": "15256081-120e-40ab-9268-6b3200c82325"
            },
            "attachments": {}
        },
        {
            "cell_type": "code",
            "source": [
                "SELECT TOP 100\r\n",
                "\tmember_casual,\r\n",
                "\tstarted_at,\r\n",
                "\tended_at,\r\n",
                "\tDATEDIFF(HOUR,started_at,ended_at) AS ride_length,\r\n",
                "\tDATEPART(DW, started_at) AS day_of_week,    -- DAY OF THE WEEK (1 TO 7)\r\n",
                "\trideable_type\r\n",
                "\r\n",
                "FROM [202103-divvy-tripdata]\r\n",
                "ORDER BY ride_length desc\r\n",
                ""
            ],
            "metadata": {
                "language": "sql",
                "azdata_cell_guid": "7ffc9c1f-06ba-496c-a2e7-f8315b9d60b6"
            },
            "outputs": [
                {
                    "output_type": "display_data",
                    "data": {
                        "text/html": "(100 rows affected)"
                    },
                    "metadata": {}
                },
                {
                    "output_type": "display_data",
                    "data": {
                        "text/html": "Total execution time: 00:00:00.173"
                    },
                    "metadata": {}
                },
                {
                    "output_type": "execute_result",
                    "execution_count": 12,
                    "data": {
                        "application/vnd.dataresource+json": {
                            "schema": {
                                "fields": [
                                    {
                                        "name": "member_casual"
                                    },
                                    {
                                        "name": "started_at"
                                    },
                                    {
                                        "name": "ended_at"
                                    },
                                    {
                                        "name": "ride_length"
                                    },
                                    {
                                        "name": "day_of_week"
                                    },
                                    {
                                        "name": "rideable_type"
                                    }
                                ]
                            },
                            "data": [
                                {
                                    "0": "casual",
                                    "1": "2021-03-08 16:48:24.0000000",
                                    "2": "2021-03-30 16:50:03.0000000",
                                    "3": "528",
                                    "4": "2",
                                    "5": "docked_bike"
                                },
                                {
                                    "0": "casual",
                                    "1": "2021-03-19 14:11:08.0000000",
                                    "2": "2021-04-02 12:45:14.0000000",
                                    "3": "334",
                                    "4": "6",
                                    "5": "docked_bike"
                                },
                                {
                                    "0": "casual",
                                    "1": "2021-03-02 17:48:41.0000000",
                                    "2": "2021-03-15 09:39:25.0000000",
                                    "3": "304",
                                    "4": "3",
                                    "5": "docked_bike"
                                },
                                {
                                    "0": "casual",
                                    "1": "2021-03-06 22:37:58.0000000",
                                    "2": "2021-03-18 22:08:43.0000000",
                                    "3": "288",
                                    "4": "7",
                                    "5": "docked_bike"
                                },
                                {
                                    "0": "casual",
                                    "1": "2021-03-06 22:58:09.0000000",
                                    "2": "2021-03-18 22:09:49.0000000",
                                    "3": "288",
                                    "4": "7",
                                    "5": "docked_bike"
                                },
                                {
                                    "0": "casual",
                                    "1": "2021-03-22 13:22:48.0000000",
                                    "2": "2021-04-02 14:27:23.0000000",
                                    "3": "265",
                                    "4": "2",
                                    "5": "docked_bike"
                                },
                                {
                                    "0": "casual",
                                    "1": "2021-03-20 17:35:12.0000000",
                                    "2": "2021-03-30 13:56:23.0000000",
                                    "3": "236",
                                    "4": "7",
                                    "5": "docked_bike"
                                },
                                {
                                    "0": "casual",
                                    "1": "2021-03-18 21:23:58.0000000",
                                    "2": "2021-03-27 22:05:30.0000000",
                                    "3": "217",
                                    "4": "5",
                                    "5": "docked_bike"
                                },
                                {
                                    "0": "casual",
                                    "1": "2021-03-20 23:58:11.0000000",
                                    "2": "2021-03-29 17:01:59.0000000",
                                    "3": "210",
                                    "4": "7",
                                    "5": "docked_bike"
                                },
                                {
                                    "0": "casual",
                                    "1": "2021-03-21 18:20:50.0000000",
                                    "2": "2021-03-29 21:30:13.0000000",
                                    "3": "195",
                                    "4": "1",
                                    "5": "docked_bike"
                                },
                                {
                                    "0": "casual",
                                    "1": "2021-03-04 06:29:39.0000000",
                                    "2": "2021-03-12 08:11:12.0000000",
                                    "3": "194",
                                    "4": "5",
                                    "5": "docked_bike"
                                },
                                {
                                    "0": "casual",
                                    "1": "2021-03-27 18:45:45.0000000",
                                    "2": "2021-04-04 16:47:58.0000000",
                                    "3": "190",
                                    "4": "7",
                                    "5": "docked_bike"
                                },
                                {
                                    "0": "casual",
                                    "1": "2021-03-27 18:46:55.0000000",
                                    "2": "2021-04-04 16:47:51.0000000",
                                    "3": "190",
                                    "4": "7",
                                    "5": "docked_bike"
                                },
                                {
                                    "0": "casual",
                                    "1": "2021-03-29 17:51:38.0000000",
                                    "2": "2021-04-06 11:00:11.0000000",
                                    "3": "186",
                                    "4": "2",
                                    "5": "docked_bike"
                                },
                                {
                                    "0": "casual",
                                    "1": "2021-03-13 18:06:47.0000000",
                                    "2": "2021-03-20 13:39:11.0000000",
                                    "3": "163",
                                    "4": "7",
                                    "5": "docked_bike"
                                },
                                {
                                    "0": "casual",
                                    "1": "2021-03-13 16:11:22.0000000",
                                    "2": "2021-03-20 10:40:50.0000000",
                                    "3": "162",
                                    "4": "7",
                                    "5": "docked_bike"
                                },
                                {
                                    "0": "casual",
                                    "1": "2021-03-21 03:01:27.0000000",
                                    "2": "2021-03-26 16:25:50.0000000",
                                    "3": "133",
                                    "4": "1",
                                    "5": "docked_bike"
                                },
                                {
                                    "0": "casual",
                                    "1": "2021-03-27 13:06:02.0000000",
                                    "2": "2021-04-01 14:24:53.0000000",
                                    "3": "121",
                                    "4": "7",
                                    "5": "docked_bike"
                                },
                                {
                                    "0": "casual",
                                    "1": "2021-03-09 21:50:04.0000000",
                                    "2": "2021-03-14 15:50:31.0000000",
                                    "3": "114",
                                    "4": "3",
                                    "5": "docked_bike"
                                },
                                {
                                    "0": "casual",
                                    "1": "2021-03-08 15:21:19.0000000",
                                    "2": "2021-03-13 08:47:35.0000000",
                                    "3": "113",
                                    "4": "2",
                                    "5": "docked_bike"
                                },
                                {
                                    "0": "casual",
                                    "1": "2021-03-20 23:21:49.0000000",
                                    "2": "2021-03-25 14:24:40.0000000",
                                    "3": "111",
                                    "4": "7",
                                    "5": "docked_bike"
                                },
                                {
                                    "0": "casual",
                                    "1": "2021-03-29 01:46:36.0000000",
                                    "2": "2021-04-02 14:48:35.0000000",
                                    "3": "109",
                                    "4": "2",
                                    "5": "docked_bike"
                                },
                                {
                                    "0": "casual",
                                    "1": "2021-03-25 10:57:10.0000000",
                                    "2": "2021-03-29 21:03:00.0000000",
                                    "3": "107",
                                    "4": "5",
                                    "5": "docked_bike"
                                },
                                {
                                    "0": "casual",
                                    "1": "2021-03-13 12:41:53.0000000",
                                    "2": "2021-03-17 14:09:09.0000000",
                                    "3": "98",
                                    "4": "7",
                                    "5": "docked_bike"
                                },
                                {
                                    "0": "casual",
                                    "1": "2021-03-06 15:11:04.0000000",
                                    "2": "2021-03-10 17:56:26.0000000",
                                    "3": "98",
                                    "4": "7",
                                    "5": "docked_bike"
                                },
                                {
                                    "0": "casual",
                                    "1": "2021-03-30 17:56:50.0000000",
                                    "2": "2021-04-03 18:05:14.0000000",
                                    "3": "97",
                                    "4": "3",
                                    "5": "docked_bike"
                                },
                                {
                                    "0": "casual",
                                    "1": "2021-03-20 16:06:03.0000000",
                                    "2": "2021-03-24 15:34:59.0000000",
                                    "3": "95",
                                    "4": "7",
                                    "5": "docked_bike"
                                },
                                {
                                    "0": "casual",
                                    "1": "2021-03-30 17:56:35.0000000",
                                    "2": "2021-04-03 16:35:09.0000000",
                                    "3": "95",
                                    "4": "3",
                                    "5": "docked_bike"
                                },
                                {
                                    "0": "casual",
                                    "1": "2021-03-06 12:15:04.0000000",
                                    "2": "2021-03-09 18:19:53.0000000",
                                    "3": "78",
                                    "4": "7",
                                    "5": "docked_bike"
                                },
                                {
                                    "0": "casual",
                                    "1": "2021-03-27 16:08:12.0000000",
                                    "2": "2021-03-30 20:01:08.0000000",
                                    "3": "76",
                                    "4": "7",
                                    "5": "docked_bike"
                                },
                                {
                                    "0": "casual",
                                    "1": "2021-03-30 16:50:55.0000000",
                                    "2": "2021-04-02 19:30:07.0000000",
                                    "3": "75",
                                    "4": "3",
                                    "5": "docked_bike"
                                },
                                {
                                    "0": "casual",
                                    "1": "2021-03-24 13:55:04.0000000",
                                    "2": "2021-03-27 15:56:33.0000000",
                                    "3": "74",
                                    "4": "4",
                                    "5": "docked_bike"
                                },
                                {
                                    "0": "casual",
                                    "1": "2021-03-13 11:08:25.0000000",
                                    "2": "2021-03-16 12:14:52.0000000",
                                    "3": "73",
                                    "4": "7",
                                    "5": "docked_bike"
                                },
                                {
                                    "0": "casual",
                                    "1": "2021-03-10 16:54:19.0000000",
                                    "2": "2021-03-13 13:47:50.0000000",
                                    "3": "69",
                                    "4": "4",
                                    "5": "docked_bike"
                                },
                                {
                                    "0": "casual",
                                    "1": "2021-03-22 17:23:38.0000000",
                                    "2": "2021-03-25 13:56:59.0000000",
                                    "3": "68",
                                    "4": "2",
                                    "5": "docked_bike"
                                },
                                {
                                    "0": "casual",
                                    "1": "2021-03-06 17:19:07.0000000",
                                    "2": "2021-03-09 13:10:54.0000000",
                                    "3": "68",
                                    "4": "7",
                                    "5": "docked_bike"
                                },
                                {
                                    "0": "casual",
                                    "1": "2021-03-06 22:49:31.0000000",
                                    "2": "2021-03-09 17:05:49.0000000",
                                    "3": "67",
                                    "4": "7",
                                    "5": "docked_bike"
                                },
                                {
                                    "0": "casual",
                                    "1": "2021-03-14 20:41:23.0000000",
                                    "2": "2021-03-17 12:17:39.0000000",
                                    "3": "64",
                                    "4": "1",
                                    "5": "docked_bike"
                                },
                                {
                                    "0": "casual",
                                    "1": "2021-03-28 01:35:15.0000000",
                                    "2": "2021-03-30 16:19:18.0000000",
                                    "3": "63",
                                    "4": "1",
                                    "5": "docked_bike"
                                },
                                {
                                    "0": "casual",
                                    "1": "2021-03-29 01:38:19.0000000",
                                    "2": "2021-03-31 15:31:40.0000000",
                                    "3": "62",
                                    "4": "2",
                                    "5": "docked_bike"
                                },
                                {
                                    "0": "casual",
                                    "1": "2021-03-29 23:31:08.0000000",
                                    "2": "2021-04-01 09:19:18.0000000",
                                    "3": "58",
                                    "4": "2",
                                    "5": "docked_bike"
                                },
                                {
                                    "0": "casual",
                                    "1": "2021-03-06 08:39:01.0000000",
                                    "2": "2021-03-08 17:24:54.0000000",
                                    "3": "57",
                                    "4": "7",
                                    "5": "docked_bike"
                                },
                                {
                                    "0": "casual",
                                    "1": "2021-03-17 10:41:28.0000000",
                                    "2": "2021-03-19 17:39:56.0000000",
                                    "3": "55",
                                    "4": "4",
                                    "5": "docked_bike"
                                },
                                {
                                    "0": "casual",
                                    "1": "2021-03-07 10:49:04.0000000",
                                    "2": "2021-03-09 15:45:46.0000000",
                                    "3": "53",
                                    "4": "1",
                                    "5": "docked_bike"
                                },
                                {
                                    "0": "casual",
                                    "1": "2021-03-24 13:51:00.0000000",
                                    "2": "2021-03-26 16:24:15.0000000",
                                    "3": "51",
                                    "4": "4",
                                    "5": "docked_bike"
                                },
                                {
                                    "0": "casual",
                                    "1": "2021-03-06 08:10:34.0000000",
                                    "2": "2021-03-08 09:05:40.0000000",
                                    "3": "49",
                                    "4": "7",
                                    "5": "docked_bike"
                                },
                                {
                                    "0": "casual",
                                    "1": "2021-03-30 16:19:11.0000000",
                                    "2": "2021-04-01 17:36:09.0000000",
                                    "3": "49",
                                    "4": "3",
                                    "5": "docked_bike"
                                },
                                {
                                    "0": "casual",
                                    "1": "2021-03-22 14:46:42.0000000",
                                    "2": "2021-03-24 15:15:09.0000000",
                                    "3": "49",
                                    "4": "2",
                                    "5": "docked_bike"
                                },
                                {
                                    "0": "casual",
                                    "1": "2021-03-30 13:44:27.0000000",
                                    "2": "2021-04-01 13:25:13.0000000",
                                    "3": "48",
                                    "4": "3",
                                    "5": "docked_bike"
                                },
                                {
                                    "0": "casual",
                                    "1": "2021-03-14 13:46:23.0000000",
                                    "2": "2021-03-16 12:00:22.0000000",
                                    "3": "47",
                                    "4": "1",
                                    "5": "docked_bike"
                                },
                                {
                                    "0": "casual",
                                    "1": "2021-03-14 16:31:20.0000000",
                                    "2": "2021-03-16 14:27:38.0000000",
                                    "3": "46",
                                    "4": "1",
                                    "5": "docked_bike"
                                },
                                {
                                    "0": "casual",
                                    "1": "2021-03-31 18:23:32.0000000",
                                    "2": "2021-04-02 16:37:53.0000000",
                                    "3": "46",
                                    "4": "4",
                                    "5": "docked_bike"
                                },
                                {
                                    "0": "casual",
                                    "1": "2021-03-07 17:55:30.0000000",
                                    "2": "2021-03-09 14:53:59.0000000",
                                    "3": "45",
                                    "4": "1",
                                    "5": "docked_bike"
                                },
                                {
                                    "0": "casual",
                                    "1": "2021-03-14 19:45:18.0000000",
                                    "2": "2021-03-16 16:28:29.0000000",
                                    "3": "45",
                                    "4": "1",
                                    "5": "docked_bike"
                                },
                                {
                                    "0": "casual",
                                    "1": "2021-03-08 20:57:25.0000000",
                                    "2": "2021-03-10 16:58:20.0000000",
                                    "3": "44",
                                    "4": "2",
                                    "5": "docked_bike"
                                },
                                {
                                    "0": "casual",
                                    "1": "2021-03-31 18:23:54.0000000",
                                    "2": "2021-04-02 14:36:56.0000000",
                                    "3": "44",
                                    "4": "4",
                                    "5": "docked_bike"
                                },
                                {
                                    "0": "casual",
                                    "1": "2021-03-13 11:56:59.0000000",
                                    "2": "2021-03-15 07:05:41.0000000",
                                    "3": "44",
                                    "4": "7",
                                    "5": "docked_bike"
                                },
                                {
                                    "0": "casual",
                                    "1": "2021-03-01 17:28:08.0000000",
                                    "2": "2021-03-03 13:01:54.0000000",
                                    "3": "44",
                                    "4": "2",
                                    "5": "docked_bike"
                                },
                                {
                                    "0": "casual",
                                    "1": "2021-03-06 13:17:57.0000000",
                                    "2": "2021-03-08 08:06:12.0000000",
                                    "3": "43",
                                    "4": "7",
                                    "5": "docked_bike"
                                },
                                {
                                    "0": "casual",
                                    "1": "2021-03-21 17:54:09.0000000",
                                    "2": "2021-03-23 12:16:19.0000000",
                                    "3": "43",
                                    "4": "1",
                                    "5": "docked_bike"
                                },
                                {
                                    "0": "casual",
                                    "1": "2021-03-22 19:47:01.0000000",
                                    "2": "2021-03-24 14:02:08.0000000",
                                    "3": "43",
                                    "4": "2",
                                    "5": "docked_bike"
                                },
                                {
                                    "0": "casual",
                                    "1": "2021-03-12 19:21:17.0000000",
                                    "2": "2021-03-14 12:23:48.0000000",
                                    "3": "41",
                                    "4": "6",
                                    "5": "docked_bike"
                                },
                                {
                                    "0": "casual",
                                    "1": "2021-03-22 17:58:31.0000000",
                                    "2": "2021-03-24 10:47:44.0000000",
                                    "3": "41",
                                    "4": "2",
                                    "5": "docked_bike"
                                },
                                {
                                    "0": "casual",
                                    "1": "2021-03-01 19:35:34.0000000",
                                    "2": "2021-03-03 12:36:13.0000000",
                                    "3": "41",
                                    "4": "2",
                                    "5": "docked_bike"
                                },
                                {
                                    "0": "casual",
                                    "1": "2021-03-22 17:20:04.0000000",
                                    "2": "2021-03-24 10:21:59.0000000",
                                    "3": "41",
                                    "4": "2",
                                    "5": "docked_bike"
                                },
                                {
                                    "0": "casual",
                                    "1": "2021-03-22 16:43:29.0000000",
                                    "2": "2021-03-24 08:11:19.0000000",
                                    "3": "40",
                                    "4": "2",
                                    "5": "docked_bike"
                                },
                                {
                                    "0": "casual",
                                    "1": "2021-03-19 22:12:06.0000000",
                                    "2": "2021-03-21 14:19:20.0000000",
                                    "3": "40",
                                    "4": "6",
                                    "5": "docked_bike"
                                },
                                {
                                    "0": "casual",
                                    "1": "2021-03-14 18:19:06.0000000",
                                    "2": "2021-03-16 08:28:20.0000000",
                                    "3": "38",
                                    "4": "1",
                                    "5": "docked_bike"
                                },
                                {
                                    "0": "casual",
                                    "1": "2021-03-08 11:44:50.0000000",
                                    "2": "2021-03-10 00:23:09.0000000",
                                    "3": "37",
                                    "4": "2",
                                    "5": "docked_bike"
                                },
                                {
                                    "0": "casual",
                                    "1": "2021-03-14 01:32:20.0000000",
                                    "2": "2021-03-15 09:05:49.0000000",
                                    "3": "32",
                                    "4": "1",
                                    "5": "docked_bike"
                                },
                                {
                                    "0": "casual",
                                    "1": "2021-03-05 08:24:19.0000000",
                                    "2": "2021-03-06 14:35:33.0000000",
                                    "3": "30",
                                    "4": "6",
                                    "5": "docked_bike"
                                },
                                {
                                    "0": "casual",
                                    "1": "2021-03-05 08:23:08.0000000",
                                    "2": "2021-03-06 14:35:40.0000000",
                                    "3": "30",
                                    "4": "6",
                                    "5": "docked_bike"
                                },
                                {
                                    "0": "casual",
                                    "1": "2021-03-09 16:22:53.0000000",
                                    "2": "2021-03-10 20:00:30.0000000",
                                    "3": "28",
                                    "4": "3",
                                    "5": "docked_bike"
                                },
                                {
                                    "0": "casual",
                                    "1": "2021-03-06 13:39:14.0000000",
                                    "2": "2021-03-07 17:07:56.0000000",
                                    "3": "28",
                                    "4": "7",
                                    "5": "docked_bike"
                                },
                                {
                                    "0": "casual",
                                    "1": "2021-03-29 10:18:27.0000000",
                                    "2": "2021-03-30 14:26:15.0000000",
                                    "3": "28",
                                    "4": "2",
                                    "5": "docked_bike"
                                },
                                {
                                    "0": "casual",
                                    "1": "2021-03-06 14:19:51.0000000",
                                    "2": "2021-03-07 18:41:40.0000000",
                                    "3": "28",
                                    "4": "7",
                                    "5": "docked_bike"
                                },
                                {
                                    "0": "casual",
                                    "1": "2021-03-06 10:23:55.0000000",
                                    "2": "2021-03-07 14:17:58.0000000",
                                    "3": "28",
                                    "4": "7",
                                    "5": "docked_bike"
                                },
                                {
                                    "0": "casual",
                                    "1": "2021-03-06 13:00:43.0000000",
                                    "2": "2021-03-07 16:39:18.0000000",
                                    "3": "27",
                                    "4": "7",
                                    "5": "docked_bike"
                                },
                                {
                                    "0": "casual",
                                    "1": "2021-03-13 18:14:27.0000000",
                                    "2": "2021-03-14 20:14:23.0000000",
                                    "3": "26",
                                    "4": "7",
                                    "5": "classic_bike"
                                },
                                {
                                    "0": "member",
                                    "1": "2021-03-13 15:49:49.0000000",
                                    "2": "2021-03-14 17:49:44.0000000",
                                    "3": "26",
                                    "4": "7",
                                    "5": "classic_bike"
                                },
                                {
                                    "0": "casual",
                                    "1": "2021-03-28 17:20:18.0000000",
                                    "2": "2021-03-29 19:50:59.0000000",
                                    "3": "26",
                                    "4": "1",
                                    "5": "docked_bike"
                                },
                                {
                                    "0": "casual",
                                    "1": "2021-03-13 18:49:48.0000000",
                                    "2": "2021-03-14 20:49:31.0000000",
                                    "3": "26",
                                    "4": "7",
                                    "5": "classic_bike"
                                },
                                {
                                    "0": "casual",
                                    "1": "2021-03-13 18:18:08.0000000",
                                    "2": "2021-03-14 20:17:59.0000000",
                                    "3": "26",
                                    "4": "7",
                                    "5": "classic_bike"
                                },
                                {
                                    "0": "casual",
                                    "1": "2021-03-13 12:44:07.0000000",
                                    "2": "2021-03-14 14:44:01.0000000",
                                    "3": "26",
                                    "4": "7",
                                    "5": "classic_bike"
                                },
                                {
                                    "0": "casual",
                                    "1": "2021-03-13 15:35:33.0000000",
                                    "2": "2021-03-14 17:35:28.0000000",
                                    "3": "26",
                                    "4": "7",
                                    "5": "classic_bike"
                                },
                                {
                                    "0": "casual",
                                    "1": "2021-03-13 12:59:42.0000000",
                                    "2": "2021-03-14 14:20:04.0000000",
                                    "3": "26",
                                    "4": "7",
                                    "5": "docked_bike"
                                },
                                {
                                    "0": "casual",
                                    "1": "2021-03-29 17:48:50.0000000",
                                    "2": "2021-03-30 19:44:58.0000000",
                                    "3": "26",
                                    "4": "2",
                                    "5": "docked_bike"
                                },
                                {
                                    "0": "casual",
                                    "1": "2021-03-13 21:37:59.0000000",
                                    "2": "2021-03-14 23:37:52.0000000",
                                    "3": "26",
                                    "4": "7",
                                    "5": "classic_bike"
                                },
                                {
                                    "0": "casual",
                                    "1": "2021-03-13 13:14:13.0000000",
                                    "2": "2021-03-14 15:13:55.0000000",
                                    "3": "26",
                                    "4": "7",
                                    "5": "classic_bike"
                                },
                                {
                                    "0": "casual",
                                    "1": "2021-03-13 08:44:32.0000000",
                                    "2": "2021-03-14 10:44:25.0000000",
                                    "3": "26",
                                    "4": "7",
                                    "5": "classic_bike"
                                },
                                {
                                    "0": "member",
                                    "1": "2021-03-13 23:44:49.0000000",
                                    "2": "2021-03-15 01:44:45.0000000",
                                    "3": "26",
                                    "4": "7",
                                    "5": "classic_bike"
                                },
                                {
                                    "0": "casual",
                                    "1": "2021-03-10 15:39:33.0000000",
                                    "2": "2021-03-11 17:08:23.0000000",
                                    "3": "26",
                                    "4": "4",
                                    "5": "docked_bike"
                                },
                                {
                                    "0": "casual",
                                    "1": "2021-03-29 16:09:41.0000000",
                                    "2": "2021-03-30 18:05:58.0000000",
                                    "3": "26",
                                    "4": "2",
                                    "5": "docked_bike"
                                },
                                {
                                    "0": "casual",
                                    "1": "2021-03-13 18:09:25.0000000",
                                    "2": "2021-03-14 20:09:16.0000000",
                                    "3": "26",
                                    "4": "7",
                                    "5": "classic_bike"
                                },
                                {
                                    "0": "casual",
                                    "1": "2021-03-06 16:33:10.0000000",
                                    "2": "2021-03-07 17:33:06.0000000",
                                    "3": "25",
                                    "4": "7",
                                    "5": "classic_bike"
                                },
                                {
                                    "0": "casual",
                                    "1": "2021-03-20 14:58:41.0000000",
                                    "2": "2021-03-21 15:58:35.0000000",
                                    "3": "25",
                                    "4": "7",
                                    "5": "classic_bike"
                                },
                                {
                                    "0": "casual",
                                    "1": "2021-03-21 02:55:00.0000000",
                                    "2": "2021-03-22 03:54:55.0000000",
                                    "3": "25",
                                    "4": "1",
                                    "5": "classic_bike"
                                },
                                {
                                    "0": "casual",
                                    "1": "2021-03-22 19:02:57.0000000",
                                    "2": "2021-03-23 20:02:49.0000000",
                                    "3": "25",
                                    "4": "2",
                                    "5": "classic_bike"
                                },
                                {
                                    "0": "casual",
                                    "1": "2021-03-23 10:52:13.0000000",
                                    "2": "2021-03-24 11:51:55.0000000",
                                    "3": "25",
                                    "4": "3",
                                    "5": "classic_bike"
                                },
                                {
                                    "0": "casual",
                                    "1": "2021-03-08 08:59:24.0000000",
                                    "2": "2021-03-09 09:59:19.0000000",
                                    "3": "25",
                                    "4": "2",
                                    "5": "classic_bike"
                                }
                            ]
                        },
                        "text/html": "<table><tr><th>member_casual</th><th>started_at</th><th>ended_at</th><th>ride_length</th><th>day_of_week</th><th>rideable_type</th></tr><tr><td>casual</td><td>2021-03-08 16:48:24.0000000</td><td>2021-03-30 16:50:03.0000000</td><td>528</td><td>2</td><td>docked_bike</td></tr><tr><td>casual</td><td>2021-03-19 14:11:08.0000000</td><td>2021-04-02 12:45:14.0000000</td><td>334</td><td>6</td><td>docked_bike</td></tr><tr><td>casual</td><td>2021-03-02 17:48:41.0000000</td><td>2021-03-15 09:39:25.0000000</td><td>304</td><td>3</td><td>docked_bike</td></tr><tr><td>casual</td><td>2021-03-06 22:37:58.0000000</td><td>2021-03-18 22:08:43.0000000</td><td>288</td><td>7</td><td>docked_bike</td></tr><tr><td>casual</td><td>2021-03-06 22:58:09.0000000</td><td>2021-03-18 22:09:49.0000000</td><td>288</td><td>7</td><td>docked_bike</td></tr><tr><td>casual</td><td>2021-03-22 13:22:48.0000000</td><td>2021-04-02 14:27:23.0000000</td><td>265</td><td>2</td><td>docked_bike</td></tr><tr><td>casual</td><td>2021-03-20 17:35:12.0000000</td><td>2021-03-30 13:56:23.0000000</td><td>236</td><td>7</td><td>docked_bike</td></tr><tr><td>casual</td><td>2021-03-18 21:23:58.0000000</td><td>2021-03-27 22:05:30.0000000</td><td>217</td><td>5</td><td>docked_bike</td></tr><tr><td>casual</td><td>2021-03-20 23:58:11.0000000</td><td>2021-03-29 17:01:59.0000000</td><td>210</td><td>7</td><td>docked_bike</td></tr><tr><td>casual</td><td>2021-03-21 18:20:50.0000000</td><td>2021-03-29 21:30:13.0000000</td><td>195</td><td>1</td><td>docked_bike</td></tr><tr><td>casual</td><td>2021-03-04 06:29:39.0000000</td><td>2021-03-12 08:11:12.0000000</td><td>194</td><td>5</td><td>docked_bike</td></tr><tr><td>casual</td><td>2021-03-27 18:45:45.0000000</td><td>2021-04-04 16:47:58.0000000</td><td>190</td><td>7</td><td>docked_bike</td></tr><tr><td>casual</td><td>2021-03-27 18:46:55.0000000</td><td>2021-04-04 16:47:51.0000000</td><td>190</td><td>7</td><td>docked_bike</td></tr><tr><td>casual</td><td>2021-03-29 17:51:38.0000000</td><td>2021-04-06 11:00:11.0000000</td><td>186</td><td>2</td><td>docked_bike</td></tr><tr><td>casual</td><td>2021-03-13 18:06:47.0000000</td><td>2021-03-20 13:39:11.0000000</td><td>163</td><td>7</td><td>docked_bike</td></tr><tr><td>casual</td><td>2021-03-13 16:11:22.0000000</td><td>2021-03-20 10:40:50.0000000</td><td>162</td><td>7</td><td>docked_bike</td></tr><tr><td>casual</td><td>2021-03-21 03:01:27.0000000</td><td>2021-03-26 16:25:50.0000000</td><td>133</td><td>1</td><td>docked_bike</td></tr><tr><td>casual</td><td>2021-03-27 13:06:02.0000000</td><td>2021-04-01 14:24:53.0000000</td><td>121</td><td>7</td><td>docked_bike</td></tr><tr><td>casual</td><td>2021-03-09 21:50:04.0000000</td><td>2021-03-14 15:50:31.0000000</td><td>114</td><td>3</td><td>docked_bike</td></tr><tr><td>casual</td><td>2021-03-08 15:21:19.0000000</td><td>2021-03-13 08:47:35.0000000</td><td>113</td><td>2</td><td>docked_bike</td></tr><tr><td>casual</td><td>2021-03-20 23:21:49.0000000</td><td>2021-03-25 14:24:40.0000000</td><td>111</td><td>7</td><td>docked_bike</td></tr><tr><td>casual</td><td>2021-03-29 01:46:36.0000000</td><td>2021-04-02 14:48:35.0000000</td><td>109</td><td>2</td><td>docked_bike</td></tr><tr><td>casual</td><td>2021-03-25 10:57:10.0000000</td><td>2021-03-29 21:03:00.0000000</td><td>107</td><td>5</td><td>docked_bike</td></tr><tr><td>casual</td><td>2021-03-13 12:41:53.0000000</td><td>2021-03-17 14:09:09.0000000</td><td>98</td><td>7</td><td>docked_bike</td></tr><tr><td>casual</td><td>2021-03-06 15:11:04.0000000</td><td>2021-03-10 17:56:26.0000000</td><td>98</td><td>7</td><td>docked_bike</td></tr><tr><td>casual</td><td>2021-03-30 17:56:50.0000000</td><td>2021-04-03 18:05:14.0000000</td><td>97</td><td>3</td><td>docked_bike</td></tr><tr><td>casual</td><td>2021-03-20 16:06:03.0000000</td><td>2021-03-24 15:34:59.0000000</td><td>95</td><td>7</td><td>docked_bike</td></tr><tr><td>casual</td><td>2021-03-30 17:56:35.0000000</td><td>2021-04-03 16:35:09.0000000</td><td>95</td><td>3</td><td>docked_bike</td></tr><tr><td>casual</td><td>2021-03-06 12:15:04.0000000</td><td>2021-03-09 18:19:53.0000000</td><td>78</td><td>7</td><td>docked_bike</td></tr><tr><td>casual</td><td>2021-03-27 16:08:12.0000000</td><td>2021-03-30 20:01:08.0000000</td><td>76</td><td>7</td><td>docked_bike</td></tr><tr><td>casual</td><td>2021-03-30 16:50:55.0000000</td><td>2021-04-02 19:30:07.0000000</td><td>75</td><td>3</td><td>docked_bike</td></tr><tr><td>casual</td><td>2021-03-24 13:55:04.0000000</td><td>2021-03-27 15:56:33.0000000</td><td>74</td><td>4</td><td>docked_bike</td></tr><tr><td>casual</td><td>2021-03-13 11:08:25.0000000</td><td>2021-03-16 12:14:52.0000000</td><td>73</td><td>7</td><td>docked_bike</td></tr><tr><td>casual</td><td>2021-03-10 16:54:19.0000000</td><td>2021-03-13 13:47:50.0000000</td><td>69</td><td>4</td><td>docked_bike</td></tr><tr><td>casual</td><td>2021-03-22 17:23:38.0000000</td><td>2021-03-25 13:56:59.0000000</td><td>68</td><td>2</td><td>docked_bike</td></tr><tr><td>casual</td><td>2021-03-06 17:19:07.0000000</td><td>2021-03-09 13:10:54.0000000</td><td>68</td><td>7</td><td>docked_bike</td></tr><tr><td>casual</td><td>2021-03-06 22:49:31.0000000</td><td>2021-03-09 17:05:49.0000000</td><td>67</td><td>7</td><td>docked_bike</td></tr><tr><td>casual</td><td>2021-03-14 20:41:23.0000000</td><td>2021-03-17 12:17:39.0000000</td><td>64</td><td>1</td><td>docked_bike</td></tr><tr><td>casual</td><td>2021-03-28 01:35:15.0000000</td><td>2021-03-30 16:19:18.0000000</td><td>63</td><td>1</td><td>docked_bike</td></tr><tr><td>casual</td><td>2021-03-29 01:38:19.0000000</td><td>2021-03-31 15:31:40.0000000</td><td>62</td><td>2</td><td>docked_bike</td></tr><tr><td>casual</td><td>2021-03-29 23:31:08.0000000</td><td>2021-04-01 09:19:18.0000000</td><td>58</td><td>2</td><td>docked_bike</td></tr><tr><td>casual</td><td>2021-03-06 08:39:01.0000000</td><td>2021-03-08 17:24:54.0000000</td><td>57</td><td>7</td><td>docked_bike</td></tr><tr><td>casual</td><td>2021-03-17 10:41:28.0000000</td><td>2021-03-19 17:39:56.0000000</td><td>55</td><td>4</td><td>docked_bike</td></tr><tr><td>casual</td><td>2021-03-07 10:49:04.0000000</td><td>2021-03-09 15:45:46.0000000</td><td>53</td><td>1</td><td>docked_bike</td></tr><tr><td>casual</td><td>2021-03-24 13:51:00.0000000</td><td>2021-03-26 16:24:15.0000000</td><td>51</td><td>4</td><td>docked_bike</td></tr><tr><td>casual</td><td>2021-03-06 08:10:34.0000000</td><td>2021-03-08 09:05:40.0000000</td><td>49</td><td>7</td><td>docked_bike</td></tr><tr><td>casual</td><td>2021-03-30 16:19:11.0000000</td><td>2021-04-01 17:36:09.0000000</td><td>49</td><td>3</td><td>docked_bike</td></tr><tr><td>casual</td><td>2021-03-22 14:46:42.0000000</td><td>2021-03-24 15:15:09.0000000</td><td>49</td><td>2</td><td>docked_bike</td></tr><tr><td>casual</td><td>2021-03-30 13:44:27.0000000</td><td>2021-04-01 13:25:13.0000000</td><td>48</td><td>3</td><td>docked_bike</td></tr><tr><td>casual</td><td>2021-03-14 13:46:23.0000000</td><td>2021-03-16 12:00:22.0000000</td><td>47</td><td>1</td><td>docked_bike</td></tr><tr><td>casual</td><td>2021-03-14 16:31:20.0000000</td><td>2021-03-16 14:27:38.0000000</td><td>46</td><td>1</td><td>docked_bike</td></tr><tr><td>casual</td><td>2021-03-31 18:23:32.0000000</td><td>2021-04-02 16:37:53.0000000</td><td>46</td><td>4</td><td>docked_bike</td></tr><tr><td>casual</td><td>2021-03-07 17:55:30.0000000</td><td>2021-03-09 14:53:59.0000000</td><td>45</td><td>1</td><td>docked_bike</td></tr><tr><td>casual</td><td>2021-03-14 19:45:18.0000000</td><td>2021-03-16 16:28:29.0000000</td><td>45</td><td>1</td><td>docked_bike</td></tr><tr><td>casual</td><td>2021-03-08 20:57:25.0000000</td><td>2021-03-10 16:58:20.0000000</td><td>44</td><td>2</td><td>docked_bike</td></tr><tr><td>casual</td><td>2021-03-31 18:23:54.0000000</td><td>2021-04-02 14:36:56.0000000</td><td>44</td><td>4</td><td>docked_bike</td></tr><tr><td>casual</td><td>2021-03-13 11:56:59.0000000</td><td>2021-03-15 07:05:41.0000000</td><td>44</td><td>7</td><td>docked_bike</td></tr><tr><td>casual</td><td>2021-03-01 17:28:08.0000000</td><td>2021-03-03 13:01:54.0000000</td><td>44</td><td>2</td><td>docked_bike</td></tr><tr><td>casual</td><td>2021-03-06 13:17:57.0000000</td><td>2021-03-08 08:06:12.0000000</td><td>43</td><td>7</td><td>docked_bike</td></tr><tr><td>casual</td><td>2021-03-21 17:54:09.0000000</td><td>2021-03-23 12:16:19.0000000</td><td>43</td><td>1</td><td>docked_bike</td></tr><tr><td>casual</td><td>2021-03-22 19:47:01.0000000</td><td>2021-03-24 14:02:08.0000000</td><td>43</td><td>2</td><td>docked_bike</td></tr><tr><td>casual</td><td>2021-03-12 19:21:17.0000000</td><td>2021-03-14 12:23:48.0000000</td><td>41</td><td>6</td><td>docked_bike</td></tr><tr><td>casual</td><td>2021-03-22 17:58:31.0000000</td><td>2021-03-24 10:47:44.0000000</td><td>41</td><td>2</td><td>docked_bike</td></tr><tr><td>casual</td><td>2021-03-01 19:35:34.0000000</td><td>2021-03-03 12:36:13.0000000</td><td>41</td><td>2</td><td>docked_bike</td></tr><tr><td>casual</td><td>2021-03-22 17:20:04.0000000</td><td>2021-03-24 10:21:59.0000000</td><td>41</td><td>2</td><td>docked_bike</td></tr><tr><td>casual</td><td>2021-03-22 16:43:29.0000000</td><td>2021-03-24 08:11:19.0000000</td><td>40</td><td>2</td><td>docked_bike</td></tr><tr><td>casual</td><td>2021-03-19 22:12:06.0000000</td><td>2021-03-21 14:19:20.0000000</td><td>40</td><td>6</td><td>docked_bike</td></tr><tr><td>casual</td><td>2021-03-14 18:19:06.0000000</td><td>2021-03-16 08:28:20.0000000</td><td>38</td><td>1</td><td>docked_bike</td></tr><tr><td>casual</td><td>2021-03-08 11:44:50.0000000</td><td>2021-03-10 00:23:09.0000000</td><td>37</td><td>2</td><td>docked_bike</td></tr><tr><td>casual</td><td>2021-03-14 01:32:20.0000000</td><td>2021-03-15 09:05:49.0000000</td><td>32</td><td>1</td><td>docked_bike</td></tr><tr><td>casual</td><td>2021-03-05 08:24:19.0000000</td><td>2021-03-06 14:35:33.0000000</td><td>30</td><td>6</td><td>docked_bike</td></tr><tr><td>casual</td><td>2021-03-05 08:23:08.0000000</td><td>2021-03-06 14:35:40.0000000</td><td>30</td><td>6</td><td>docked_bike</td></tr><tr><td>casual</td><td>2021-03-09 16:22:53.0000000</td><td>2021-03-10 20:00:30.0000000</td><td>28</td><td>3</td><td>docked_bike</td></tr><tr><td>casual</td><td>2021-03-06 13:39:14.0000000</td><td>2021-03-07 17:07:56.0000000</td><td>28</td><td>7</td><td>docked_bike</td></tr><tr><td>casual</td><td>2021-03-29 10:18:27.0000000</td><td>2021-03-30 14:26:15.0000000</td><td>28</td><td>2</td><td>docked_bike</td></tr><tr><td>casual</td><td>2021-03-06 14:19:51.0000000</td><td>2021-03-07 18:41:40.0000000</td><td>28</td><td>7</td><td>docked_bike</td></tr><tr><td>casual</td><td>2021-03-06 10:23:55.0000000</td><td>2021-03-07 14:17:58.0000000</td><td>28</td><td>7</td><td>docked_bike</td></tr><tr><td>casual</td><td>2021-03-06 13:00:43.0000000</td><td>2021-03-07 16:39:18.0000000</td><td>27</td><td>7</td><td>docked_bike</td></tr><tr><td>casual</td><td>2021-03-13 18:14:27.0000000</td><td>2021-03-14 20:14:23.0000000</td><td>26</td><td>7</td><td>classic_bike</td></tr><tr><td>member</td><td>2021-03-13 15:49:49.0000000</td><td>2021-03-14 17:49:44.0000000</td><td>26</td><td>7</td><td>classic_bike</td></tr><tr><td>casual</td><td>2021-03-28 17:20:18.0000000</td><td>2021-03-29 19:50:59.0000000</td><td>26</td><td>1</td><td>docked_bike</td></tr><tr><td>casual</td><td>2021-03-13 18:49:48.0000000</td><td>2021-03-14 20:49:31.0000000</td><td>26</td><td>7</td><td>classic_bike</td></tr><tr><td>casual</td><td>2021-03-13 18:18:08.0000000</td><td>2021-03-14 20:17:59.0000000</td><td>26</td><td>7</td><td>classic_bike</td></tr><tr><td>casual</td><td>2021-03-13 12:44:07.0000000</td><td>2021-03-14 14:44:01.0000000</td><td>26</td><td>7</td><td>classic_bike</td></tr><tr><td>casual</td><td>2021-03-13 15:35:33.0000000</td><td>2021-03-14 17:35:28.0000000</td><td>26</td><td>7</td><td>classic_bike</td></tr><tr><td>casual</td><td>2021-03-13 12:59:42.0000000</td><td>2021-03-14 14:20:04.0000000</td><td>26</td><td>7</td><td>docked_bike</td></tr><tr><td>casual</td><td>2021-03-29 17:48:50.0000000</td><td>2021-03-30 19:44:58.0000000</td><td>26</td><td>2</td><td>docked_bike</td></tr><tr><td>casual</td><td>2021-03-13 21:37:59.0000000</td><td>2021-03-14 23:37:52.0000000</td><td>26</td><td>7</td><td>classic_bike</td></tr><tr><td>casual</td><td>2021-03-13 13:14:13.0000000</td><td>2021-03-14 15:13:55.0000000</td><td>26</td><td>7</td><td>classic_bike</td></tr><tr><td>casual</td><td>2021-03-13 08:44:32.0000000</td><td>2021-03-14 10:44:25.0000000</td><td>26</td><td>7</td><td>classic_bike</td></tr><tr><td>member</td><td>2021-03-13 23:44:49.0000000</td><td>2021-03-15 01:44:45.0000000</td><td>26</td><td>7</td><td>classic_bike</td></tr><tr><td>casual</td><td>2021-03-10 15:39:33.0000000</td><td>2021-03-11 17:08:23.0000000</td><td>26</td><td>4</td><td>docked_bike</td></tr><tr><td>casual</td><td>2021-03-29 16:09:41.0000000</td><td>2021-03-30 18:05:58.0000000</td><td>26</td><td>2</td><td>docked_bike</td></tr><tr><td>casual</td><td>2021-03-13 18:09:25.0000000</td><td>2021-03-14 20:09:16.0000000</td><td>26</td><td>7</td><td>classic_bike</td></tr><tr><td>casual</td><td>2021-03-06 16:33:10.0000000</td><td>2021-03-07 17:33:06.0000000</td><td>25</td><td>7</td><td>classic_bike</td></tr><tr><td>casual</td><td>2021-03-20 14:58:41.0000000</td><td>2021-03-21 15:58:35.0000000</td><td>25</td><td>7</td><td>classic_bike</td></tr><tr><td>casual</td><td>2021-03-21 02:55:00.0000000</td><td>2021-03-22 03:54:55.0000000</td><td>25</td><td>1</td><td>classic_bike</td></tr><tr><td>casual</td><td>2021-03-22 19:02:57.0000000</td><td>2021-03-23 20:02:49.0000000</td><td>25</td><td>2</td><td>classic_bike</td></tr><tr><td>casual</td><td>2021-03-23 10:52:13.0000000</td><td>2021-03-24 11:51:55.0000000</td><td>25</td><td>3</td><td>classic_bike</td></tr><tr><td>casual</td><td>2021-03-08 08:59:24.0000000</td><td>2021-03-09 09:59:19.0000000</td><td>25</td><td>2</td><td>classic_bike</td></tr></table>"
                    },
                    "metadata": {}
                }
            ],
            "execution_count": 12
        },
        {
            "cell_type": "markdown",
            "source": [
                "The results show an anomaly in the r**ide\\_length** of the longest rides. Some insights we capture:\n",
                "\n",
                "- The duration of the longest ride is 528 hours, which is too much in my opinion. \n",
                "- Then the second one is 334 hours, and so on until completing the top 100 with 25 hours. \n",
                "- All the three-digits duration rides are which **rideable\\_type** are _'docked\\_bikes'_ and the type of rider (**member\\_casual**) is _casual ._\n",
                "- We also found that these very long rides are mainly from _casual riders_. \n",
                "- The longest ride from _member riders_ is 26 hours (row n°80)."
            ],
            "metadata": {
                "language": "sql",
                "azdata_cell_guid": "1ac1ce12-4cfd-48a5-a9f9-67f43622679b"
            },
            "attachments": {}
        },
        {
            "cell_type": "markdown",
            "source": [
                "Now we take a deeper look at  **rideable\\_types** separated by types of users (**member\\_casual**):"
            ],
            "metadata": {
                "language": "sql",
                "azdata_cell_guid": "898afa11-0039-454b-add9-59efe8e2dc49"
            },
            "attachments": {}
        },
        {
            "cell_type": "code",
            "source": [
                "SELECT  \r\n",
                "\tmember_casual,\r\n",
                "\trideable_type,\r\n",
                "\tCOUNT(ride_length) AS number_of_trips, \r\n",
                "\tAVG(ride_length) AS average_ride, \r\n",
                "\tSUM(ride_length) AS total_time_trips\r\n",
                "\r\n",
                "FROM (\r\n",
                "\tSELECT\t\r\n",
                "\t\tmember_casual, \r\n",
                "\t\trideable_type,\r\n",
                "\t\tDATEDIFF(MINUTE,started_at, ended_at) AS ride_length,  --CREAR UNA TABLA TABLA CON TODOS LOS CALCULOS \r\n",
                "\t\tDATEPART(DW, started_at) AS day_of_week\t\r\n",
                "\tFROM [202103-divvy-tripdata]\r\n",
                ") AS temp_table\r\n",
                "WHERE member_casual='casual'\r\n",
                "GROUP BY member_casual, rideable_type\r\n",
                "ORDER BY member_casual, number_of_trips DESC\r\n",
                "\r\n",
                "\r\n",
                "SELECT  \r\n",
                "\tmember_casual,\r\n",
                "\trideable_type,\r\n",
                "\tCOUNT(ride_length) AS number_of_trips, \r\n",
                "\tAVG(ride_length) AS average_ride, \r\n",
                "\tSUM(ride_length) AS total_time_trips\r\n",
                "\r\n",
                "FROM (\r\n",
                "\tSELECT\t\r\n",
                "\t\tmember_casual, \r\n",
                "\t\trideable_type,\r\n",
                "\t\tDATEDIFF(MINUTE,started_at, ended_at) AS ride_length,  --CREAR UNA TABLA TABLA CON TODOS LOS CALCULOS \r\n",
                "\t\tDATEPART(DW, started_at) AS day_of_week\t\r\n",
                "\tFROM [202103-divvy-tripdata]\r\n",
                ") AS temp_table\r\n",
                "WHERE member_casual='member'\r\n",
                "GROUP BY member_casual, rideable_type\r\n",
                "ORDER BY member_casual, number_of_trips DESCw\r\n",
                ""
            ],
            "metadata": {
                "language": "sql",
                "azdata_cell_guid": "9dcec958-011b-40b4-b5a6-7fc11f2f390c"
            },
            "outputs": [
                {
                    "output_type": "display_data",
                    "data": {
                        "text/html": "(3 rows affected)"
                    },
                    "metadata": {}
                },
                {
                    "output_type": "display_data",
                    "data": {
                        "text/html": "(2 rows affected)"
                    },
                    "metadata": {}
                },
                {
                    "output_type": "display_data",
                    "data": {
                        "text/html": "Total execution time: 00:00:00.087"
                    },
                    "metadata": {}
                },
                {
                    "output_type": "execute_result",
                    "execution_count": 14,
                    "data": {
                        "application/vnd.dataresource+json": {
                            "schema": {
                                "fields": [
                                    {
                                        "name": "member_casual"
                                    },
                                    {
                                        "name": "rideable_type"
                                    },
                                    {
                                        "name": "number_of_trips"
                                    },
                                    {
                                        "name": "average_ride"
                                    },
                                    {
                                        "name": "total_time_trips"
                                    }
                                ]
                            },
                            "data": [
                                {
                                    "0": "casual",
                                    "1": "classic_bike",
                                    "2": "45528",
                                    "3": "31",
                                    "4": "1435951"
                                },
                                {
                                    "0": "casual",
                                    "1": "electric_bike",
                                    "2": "22848",
                                    "3": "21",
                                    "4": "492410"
                                },
                                {
                                    "0": "casual",
                                    "1": "docked_bike",
                                    "2": "15657",
                                    "3": "81",
                                    "4": "1278390"
                                }
                            ]
                        },
                        "text/html": "<table><tr><th>member_casual</th><th>rideable_type</th><th>number_of_trips</th><th>average_ride</th><th>total_time_trips</th></tr><tr><td>casual</td><td>classic_bike</td><td>45528</td><td>31</td><td>1435951</td></tr><tr><td>casual</td><td>electric_bike</td><td>22848</td><td>21</td><td>492410</td></tr><tr><td>casual</td><td>docked_bike</td><td>15657</td><td>81</td><td>1278390</td></tr></table>"
                    },
                    "metadata": {}
                },
                {
                    "output_type": "execute_result",
                    "execution_count": 14,
                    "data": {
                        "application/vnd.dataresource+json": {
                            "schema": {
                                "fields": [
                                    {
                                        "name": "member_casual"
                                    },
                                    {
                                        "name": "rideable_type"
                                    },
                                    {
                                        "name": "number_of_trips"
                                    },
                                    {
                                        "name": "average_ride"
                                    },
                                    {
                                        "name": "total_time_trips"
                                    }
                                ]
                            },
                            "data": [
                                {
                                    "0": "member",
                                    "1": "classic_bike",
                                    "2": "107017",
                                    "3": "14",
                                    "4": "1519896"
                                },
                                {
                                    "0": "member",
                                    "1": "electric_bike",
                                    "2": "37446",
                                    "3": "13",
                                    "4": "498135"
                                }
                            ]
                        },
                        "text/html": "<table><tr><th>member_casual</th><th>rideable_type</th><th>number_of_trips</th><th>average_ride</th><th>total_time_trips</th></tr><tr><td>member</td><td>classic_bike</td><td>107017</td><td>14</td><td>1519896</td></tr><tr><td>member</td><td>electric_bike</td><td>37446</td><td>13</td><td>498135</td></tr></table>"
                    },
                    "metadata": {}
                }
            ],
            "execution_count": 14
        },
        {
            "cell_type": "markdown",
            "source": [
                "We can see that docked\\_bike rides  have an **average\\_ride** time of 81 minutes wich explain what we mentioned above. It would be useful know which are the trips that is most repeated (or Mode), grouped by **ride\\_legth** time. For that we have to round the ride\\_length variable removing decimals to simplify the results table:"
            ],
            "metadata": {
                "azdata_cell_guid": "ae753f59-62af-4052-8c3a-940003d8756e"
            },
            "attachments": {}
        },
        {
            "cell_type": "code",
            "source": [
                "SELECT  \r\n",
                "\tride_length,\r\n",
                "\tCOUNT(ride_length) AS number_of_trips, \r\n",
                "\tAVG(ride_length) AS average_ride, \r\n",
                "\tSUM(ride_length) AS total_time_trips\r\n",
                "\r\n",
                "FROM (\r\n",
                "\tSELECT\t\r\n",
                "\t\tROUND(DATEDIFF(MINUTE,started_at, ended_at),0) AS ride_length,  -- USE ROUND FUNCTIONS TO REMOVE DECIMALS\r\n",
                "\t\tDATEPART(DW, started_at) AS day_of_week\t\r\n",
                "\tFROM [202103-divvy-tripdata]\r\n",
                ") AS temp_table\r\n",
                "GROUP BY ride_length\r\n",
                "ORDER BY number_of_trips DESC"
            ],
            "metadata": {
                "azdata_cell_guid": "48cb41f4-64df-499e-bedd-b66004d3e93b",
                "language": "sql"
            },
            "outputs": [
                {
                    "output_type": "display_data",
                    "data": {
                        "text/html": "(663 rows affected)"
                    },
                    "metadata": {}
                },
                {
                    "output_type": "display_data",
                    "data": {
                        "text/html": "Total execution time: 00:00:00.042"
                    },
                    "metadata": {}
                },
                {
                    "output_type": "execute_result",
                    "metadata": {},
                    "execution_count": 1,
                    "data": {
                        "application/vnd.dataresource+json": {
                            "schema": {
                                "fields": [
                                    {
                                        "name": "ride_length"
                                    },
                                    {
                                        "name": "number_of_trips"
                                    },
                                    {
                                        "name": "average_ride"
                                    },
                                    {
                                        "name": "total_time_trips"
                                    }
                                ]
                            },
                            "data": [
                                {
                                    "0": "6",
                                    "1": "12578",
                                    "2": "6",
                                    "3": "75468"
                                },
                                {
                                    "0": "7",
                                    "1": "12442",
                                    "2": "7",
                                    "3": "87094"
                                },
                                {
                                    "0": "5",
                                    "1": "12337",
                                    "2": "5",
                                    "3": "61685"
                                },
                                {
                                    "0": "8",
                                    "1": "11821",
                                    "2": "8",
                                    "3": "94568"
                                },
                                {
                                    "0": "4",
                                    "1": "11168",
                                    "2": "4",
                                    "3": "44672"
                                },
                                {
                                    "0": "9",
                                    "1": "10857",
                                    "2": "9",
                                    "3": "97713"
                                },
                                {
                                    "0": "10",
                                    "1": "10043",
                                    "2": "10",
                                    "3": "100430"
                                },
                                {
                                    "0": "11",
                                    "1": "9116",
                                    "2": "11",
                                    "3": "100276"
                                },
                                {
                                    "0": "12",
                                    "1": "8531",
                                    "2": "12",
                                    "3": "102372"
                                },
                                {
                                    "0": "3",
                                    "1": "8199",
                                    "2": "3",
                                    "3": "24597"
                                },
                                {
                                    "0": "13",
                                    "1": "7755",
                                    "2": "13",
                                    "3": "100815"
                                },
                                {
                                    "0": "14",
                                    "1": "7147",
                                    "2": "14",
                                    "3": "100058"
                                },
                                {
                                    "0": "15",
                                    "1": "6393",
                                    "2": "15",
                                    "3": "95895"
                                },
                                {
                                    "0": "16",
                                    "1": "5867",
                                    "2": "16",
                                    "3": "93872"
                                },
                                {
                                    "0": "17",
                                    "1": "5359",
                                    "2": "17",
                                    "3": "91103"
                                },
                                {
                                    "0": "18",
                                    "1": "4934",
                                    "2": "18",
                                    "3": "88812"
                                },
                                {
                                    "0": "2",
                                    "1": "4564",
                                    "2": "2",
                                    "3": "9128"
                                },
                                {
                                    "0": "19",
                                    "1": "4539",
                                    "2": "19",
                                    "3": "86241"
                                },
                                {
                                    "0": "20",
                                    "1": "4208",
                                    "2": "20",
                                    "3": "84160"
                                },
                                {
                                    "0": "21",
                                    "1": "3788",
                                    "2": "21",
                                    "3": "79548"
                                },
                                {
                                    "0": "22",
                                    "1": "3571",
                                    "2": "22",
                                    "3": "78562"
                                },
                                {
                                    "0": "23",
                                    "1": "3350",
                                    "2": "23",
                                    "3": "77050"
                                },
                                {
                                    "0": "24",
                                    "1": "3174",
                                    "2": "24",
                                    "3": "76176"
                                },
                                {
                                    "0": "25",
                                    "1": "3059",
                                    "2": "25",
                                    "3": "76475"
                                },
                                {
                                    "0": "26",
                                    "1": "2924",
                                    "2": "26",
                                    "3": "76024"
                                },
                                {
                                    "0": "27",
                                    "1": "2657",
                                    "2": "27",
                                    "3": "71739"
                                },
                                {
                                    "0": "28",
                                    "1": "2439",
                                    "2": "28",
                                    "3": "68292"
                                },
                                {
                                    "0": "29",
                                    "1": "2311",
                                    "2": "29",
                                    "3": "67019"
                                },
                                {
                                    "0": "1",
                                    "1": "2304",
                                    "2": "1",
                                    "3": "2304"
                                },
                                {
                                    "0": "30",
                                    "1": "2264",
                                    "2": "30",
                                    "3": "67920"
                                },
                                {
                                    "0": "31",
                                    "1": "2024",
                                    "2": "31",
                                    "3": "62744"
                                },
                                {
                                    "0": "32",
                                    "1": "1893",
                                    "2": "32",
                                    "3": "60576"
                                },
                                {
                                    "0": "0",
                                    "1": "1782",
                                    "2": "0",
                                    "3": "0"
                                },
                                {
                                    "0": "33",
                                    "1": "1684",
                                    "2": "33",
                                    "3": "55572"
                                },
                                {
                                    "0": "34",
                                    "1": "1580",
                                    "2": "34",
                                    "3": "53720"
                                },
                                {
                                    "0": "35",
                                    "1": "1492",
                                    "2": "35",
                                    "3": "52220"
                                },
                                {
                                    "0": "36",
                                    "1": "1375",
                                    "2": "36",
                                    "3": "49500"
                                },
                                {
                                    "0": "37",
                                    "1": "1238",
                                    "2": "37",
                                    "3": "45806"
                                },
                                {
                                    "0": "38",
                                    "1": "1222",
                                    "2": "38",
                                    "3": "46436"
                                },
                                {
                                    "0": "39",
                                    "1": "1149",
                                    "2": "39",
                                    "3": "44811"
                                },
                                {
                                    "0": "40",
                                    "1": "1045",
                                    "2": "40",
                                    "3": "41800"
                                },
                                {
                                    "0": "41",
                                    "1": "1011",
                                    "2": "41",
                                    "3": "41451"
                                },
                                {
                                    "0": "43",
                                    "1": "892",
                                    "2": "43",
                                    "3": "38356"
                                },
                                {
                                    "0": "42",
                                    "1": "892",
                                    "2": "42",
                                    "3": "37464"
                                },
                                {
                                    "0": "45",
                                    "1": "800",
                                    "2": "45",
                                    "3": "36000"
                                },
                                {
                                    "0": "44",
                                    "1": "723",
                                    "2": "44",
                                    "3": "31812"
                                },
                                {
                                    "0": "46",
                                    "1": "646",
                                    "2": "46",
                                    "3": "29716"
                                },
                                {
                                    "0": "47",
                                    "1": "605",
                                    "2": "47",
                                    "3": "28435"
                                },
                                {
                                    "0": "49",
                                    "1": "577",
                                    "2": "49",
                                    "3": "28273"
                                },
                                {
                                    "0": "48",
                                    "1": "534",
                                    "2": "48",
                                    "3": "25632"
                                },
                                {
                                    "0": "50",
                                    "1": "493",
                                    "2": "50",
                                    "3": "24650"
                                },
                                {
                                    "0": "51",
                                    "1": "482",
                                    "2": "51",
                                    "3": "24582"
                                },
                                {
                                    "0": "52",
                                    "1": "461",
                                    "2": "52",
                                    "3": "23972"
                                },
                                {
                                    "0": "54",
                                    "1": "456",
                                    "2": "54",
                                    "3": "24624"
                                },
                                {
                                    "0": "53",
                                    "1": "438",
                                    "2": "53",
                                    "3": "23214"
                                },
                                {
                                    "0": "56",
                                    "1": "409",
                                    "2": "56",
                                    "3": "22904"
                                },
                                {
                                    "0": "55",
                                    "1": "381",
                                    "2": "55",
                                    "3": "20955"
                                },
                                {
                                    "0": "65",
                                    "1": "365",
                                    "2": "65",
                                    "3": "23725"
                                },
                                {
                                    "0": "57",
                                    "1": "351",
                                    "2": "57",
                                    "3": "20007"
                                },
                                {
                                    "0": "61",
                                    "1": "341",
                                    "2": "61",
                                    "3": "20801"
                                },
                                {
                                    "0": "58",
                                    "1": "340",
                                    "2": "58",
                                    "3": "19720"
                                },
                                {
                                    "0": "60",
                                    "1": "328",
                                    "2": "60",
                                    "3": "19680"
                                },
                                {
                                    "0": "59",
                                    "1": "327",
                                    "2": "59",
                                    "3": "19293"
                                },
                                {
                                    "0": "64",
                                    "1": "324",
                                    "2": "64",
                                    "3": "20736"
                                },
                                {
                                    "0": "63",
                                    "1": "319",
                                    "2": "63",
                                    "3": "20097"
                                },
                                {
                                    "0": "62",
                                    "1": "286",
                                    "2": "62",
                                    "3": "17732"
                                },
                                {
                                    "0": "66",
                                    "1": "281",
                                    "2": "66",
                                    "3": "18546"
                                },
                                {
                                    "0": "67",
                                    "1": "248",
                                    "2": "67",
                                    "3": "16616"
                                },
                                {
                                    "0": "68",
                                    "1": "238",
                                    "2": "68",
                                    "3": "16184"
                                },
                                {
                                    "0": "69",
                                    "1": "229",
                                    "2": "69",
                                    "3": "15801"
                                },
                                {
                                    "0": "73",
                                    "1": "226",
                                    "2": "73",
                                    "3": "16498"
                                },
                                {
                                    "0": "70",
                                    "1": "225",
                                    "2": "70",
                                    "3": "15750"
                                },
                                {
                                    "0": "71",
                                    "1": "222",
                                    "2": "71",
                                    "3": "15762"
                                },
                                {
                                    "0": "72",
                                    "1": "210",
                                    "2": "72",
                                    "3": "15120"
                                },
                                {
                                    "0": "77",
                                    "1": "203",
                                    "2": "77",
                                    "3": "15631"
                                },
                                {
                                    "0": "76",
                                    "1": "198",
                                    "2": "76",
                                    "3": "15048"
                                },
                                {
                                    "0": "75",
                                    "1": "196",
                                    "2": "75",
                                    "3": "14700"
                                },
                                {
                                    "0": "74",
                                    "1": "187",
                                    "2": "74",
                                    "3": "13838"
                                },
                                {
                                    "0": "78",
                                    "1": "182",
                                    "2": "78",
                                    "3": "14196"
                                },
                                {
                                    "0": "79",
                                    "1": "174",
                                    "2": "79",
                                    "3": "13746"
                                },
                                {
                                    "0": "81",
                                    "1": "160",
                                    "2": "81",
                                    "3": "12960"
                                },
                                {
                                    "0": "82",
                                    "1": "159",
                                    "2": "82",
                                    "3": "13038"
                                },
                                {
                                    "0": "80",
                                    "1": "155",
                                    "2": "80",
                                    "3": "12400"
                                },
                                {
                                    "0": "85",
                                    "1": "148",
                                    "2": "85",
                                    "3": "12580"
                                },
                                {
                                    "0": "86",
                                    "1": "145",
                                    "2": "86",
                                    "3": "12470"
                                },
                                {
                                    "0": "95",
                                    "1": "145",
                                    "2": "95",
                                    "3": "13775"
                                },
                                {
                                    "0": "87",
                                    "1": "144",
                                    "2": "87",
                                    "3": "12528"
                                },
                                {
                                    "0": "84",
                                    "1": "137",
                                    "2": "84",
                                    "3": "11508"
                                },
                                {
                                    "0": "83",
                                    "1": "137",
                                    "2": "83",
                                    "3": "11371"
                                },
                                {
                                    "0": "88",
                                    "1": "135",
                                    "2": "88",
                                    "3": "11880"
                                },
                                {
                                    "0": "93",
                                    "1": "123",
                                    "2": "93",
                                    "3": "11439"
                                },
                                {
                                    "0": "90",
                                    "1": "118",
                                    "2": "90",
                                    "3": "10620"
                                },
                                {
                                    "0": "89",
                                    "1": "116",
                                    "2": "89",
                                    "3": "10324"
                                },
                                {
                                    "0": "92",
                                    "1": "115",
                                    "2": "92",
                                    "3": "10580"
                                },
                                {
                                    "0": "94",
                                    "1": "112",
                                    "2": "94",
                                    "3": "10528"
                                },
                                {
                                    "0": "99",
                                    "1": "104",
                                    "2": "99",
                                    "3": "10296"
                                },
                                {
                                    "0": "91",
                                    "1": "104",
                                    "2": "91",
                                    "3": "9464"
                                },
                                {
                                    "0": "98",
                                    "1": "93",
                                    "2": "98",
                                    "3": "9114"
                                },
                                {
                                    "0": "100",
                                    "1": "93",
                                    "2": "100",
                                    "3": "9300"
                                },
                                {
                                    "0": "105",
                                    "1": "91",
                                    "2": "105",
                                    "3": "9555"
                                },
                                {
                                    "0": "96",
                                    "1": "90",
                                    "2": "96",
                                    "3": "8640"
                                },
                                {
                                    "0": "104",
                                    "1": "84",
                                    "2": "104",
                                    "3": "8736"
                                },
                                {
                                    "0": "107",
                                    "1": "84",
                                    "2": "107",
                                    "3": "8988"
                                },
                                {
                                    "0": "97",
                                    "1": "81",
                                    "2": "97",
                                    "3": "7857"
                                },
                                {
                                    "0": "103",
                                    "1": "79",
                                    "2": "103",
                                    "3": "8137"
                                },
                                {
                                    "0": "101",
                                    "1": "76",
                                    "2": "101",
                                    "3": "7676"
                                },
                                {
                                    "0": "114",
                                    "1": "76",
                                    "2": "114",
                                    "3": "8664"
                                },
                                {
                                    "0": "109",
                                    "1": "75",
                                    "2": "109",
                                    "3": "8175"
                                },
                                {
                                    "0": "117",
                                    "1": "73",
                                    "2": "117",
                                    "3": "8541"
                                },
                                {
                                    "0": "102",
                                    "1": "73",
                                    "2": "102",
                                    "3": "7446"
                                },
                                {
                                    "0": "110",
                                    "1": "72",
                                    "2": "110",
                                    "3": "7920"
                                },
                                {
                                    "0": "111",
                                    "1": "71",
                                    "2": "111",
                                    "3": "7881"
                                },
                                {
                                    "0": "108",
                                    "1": "67",
                                    "2": "108",
                                    "3": "7236"
                                },
                                {
                                    "0": "106",
                                    "1": "66",
                                    "2": "106",
                                    "3": "6996"
                                },
                                {
                                    "0": "113",
                                    "1": "61",
                                    "2": "113",
                                    "3": "6893"
                                },
                                {
                                    "0": "123",
                                    "1": "60",
                                    "2": "123",
                                    "3": "7380"
                                },
                                {
                                    "0": "118",
                                    "1": "60",
                                    "2": "118",
                                    "3": "7080"
                                },
                                {
                                    "0": "116",
                                    "1": "58",
                                    "2": "116",
                                    "3": "6728"
                                },
                                {
                                    "0": "112",
                                    "1": "52",
                                    "2": "112",
                                    "3": "5824"
                                },
                                {
                                    "0": "1500",
                                    "1": "51",
                                    "2": "1500",
                                    "3": "76500"
                                },
                                {
                                    "0": "125",
                                    "1": "49",
                                    "2": "125",
                                    "3": "6125"
                                },
                                {
                                    "0": "119",
                                    "1": "48",
                                    "2": "119",
                                    "3": "5712"
                                },
                                {
                                    "0": "121",
                                    "1": "46",
                                    "2": "121",
                                    "3": "5566"
                                },
                                {
                                    "0": "128",
                                    "1": "45",
                                    "2": "128",
                                    "3": "5760"
                                },
                                {
                                    "0": "120",
                                    "1": "44",
                                    "2": "120",
                                    "3": "5280"
                                },
                                {
                                    "0": "127",
                                    "1": "44",
                                    "2": "127",
                                    "3": "5588"
                                },
                                {
                                    "0": "124",
                                    "1": "44",
                                    "2": "124",
                                    "3": "5456"
                                },
                                {
                                    "0": "115",
                                    "1": "42",
                                    "2": "115",
                                    "3": "4830"
                                },
                                {
                                    "0": "134",
                                    "1": "41",
                                    "2": "134",
                                    "3": "5494"
                                },
                                {
                                    "0": "122",
                                    "1": "39",
                                    "2": "122",
                                    "3": "4758"
                                },
                                {
                                    "0": "126",
                                    "1": "35",
                                    "2": "126",
                                    "3": "4410"
                                },
                                {
                                    "0": "129",
                                    "1": "35",
                                    "2": "129",
                                    "3": "4515"
                                },
                                {
                                    "0": "146",
                                    "1": "34",
                                    "2": "146",
                                    "3": "4964"
                                },
                                {
                                    "0": "135",
                                    "1": "31",
                                    "2": "135",
                                    "3": "4185"
                                },
                                {
                                    "0": "136",
                                    "1": "31",
                                    "2": "136",
                                    "3": "4216"
                                },
                                {
                                    "0": "131",
                                    "1": "31",
                                    "2": "131",
                                    "3": "4061"
                                },
                                {
                                    "0": "159",
                                    "1": "30",
                                    "2": "159",
                                    "3": "4770"
                                },
                                {
                                    "0": "143",
                                    "1": "30",
                                    "2": "143",
                                    "3": "4290"
                                },
                                {
                                    "0": "149",
                                    "1": "30",
                                    "2": "149",
                                    "3": "4470"
                                },
                                {
                                    "0": "147",
                                    "1": "29",
                                    "2": "147",
                                    "3": "4263"
                                },
                                {
                                    "0": "140",
                                    "1": "29",
                                    "2": "140",
                                    "3": "4060"
                                },
                                {
                                    "0": "130",
                                    "1": "29",
                                    "2": "130",
                                    "3": "3770"
                                },
                                {
                                    "0": "139",
                                    "1": "28",
                                    "2": "139",
                                    "3": "3892"
                                },
                                {
                                    "0": "153",
                                    "1": "28",
                                    "2": "153",
                                    "3": "4284"
                                },
                                {
                                    "0": "158",
                                    "1": "28",
                                    "2": "158",
                                    "3": "4424"
                                },
                                {
                                    "0": "133",
                                    "1": "27",
                                    "2": "133",
                                    "3": "3591"
                                },
                                {
                                    "0": "157",
                                    "1": "26",
                                    "2": "157",
                                    "3": "4082"
                                },
                                {
                                    "0": "132",
                                    "1": "26",
                                    "2": "132",
                                    "3": "3432"
                                },
                                {
                                    "0": "169",
                                    "1": "25",
                                    "2": "169",
                                    "3": "4225"
                                },
                                {
                                    "0": "148",
                                    "1": "25",
                                    "2": "148",
                                    "3": "3700"
                                },
                                {
                                    "0": "141",
                                    "1": "24",
                                    "2": "141",
                                    "3": "3384"
                                },
                                {
                                    "0": "142",
                                    "1": "24",
                                    "2": "142",
                                    "3": "3408"
                                },
                                {
                                    "0": "164",
                                    "1": "24",
                                    "2": "164",
                                    "3": "3936"
                                },
                                {
                                    "0": "144",
                                    "1": "24",
                                    "2": "144",
                                    "3": "3456"
                                },
                                {
                                    "0": "155",
                                    "1": "23",
                                    "2": "155",
                                    "3": "3565"
                                },
                                {
                                    "0": "165",
                                    "1": "23",
                                    "2": "165",
                                    "3": "3795"
                                },
                                {
                                    "0": "152",
                                    "1": "23",
                                    "2": "152",
                                    "3": "3496"
                                },
                                {
                                    "0": "156",
                                    "1": "22",
                                    "2": "156",
                                    "3": "3432"
                                },
                                {
                                    "0": "160",
                                    "1": "22",
                                    "2": "160",
                                    "3": "3520"
                                },
                                {
                                    "0": "150",
                                    "1": "20",
                                    "2": "150",
                                    "3": "3000"
                                },
                                {
                                    "0": "183",
                                    "1": "20",
                                    "2": "183",
                                    "3": "3660"
                                },
                                {
                                    "0": "154",
                                    "1": "20",
                                    "2": "154",
                                    "3": "3080"
                                },
                                {
                                    "0": "145",
                                    "1": "20",
                                    "2": "145",
                                    "3": "2900"
                                },
                                {
                                    "0": "181",
                                    "1": "19",
                                    "2": "181",
                                    "3": "3439"
                                },
                                {
                                    "0": "137",
                                    "1": "19",
                                    "2": "137",
                                    "3": "2603"
                                },
                                {
                                    "0": "162",
                                    "1": "19",
                                    "2": "162",
                                    "3": "3078"
                                },
                                {
                                    "0": "151",
                                    "1": "18",
                                    "2": "151",
                                    "3": "2718"
                                },
                                {
                                    "0": "170",
                                    "1": "18",
                                    "2": "170",
                                    "3": "3060"
                                },
                                {
                                    "0": "138",
                                    "1": "17",
                                    "2": "138",
                                    "3": "2346"
                                },
                                {
                                    "0": "182",
                                    "1": "16",
                                    "2": "182",
                                    "3": "2912"
                                },
                                {
                                    "0": "189",
                                    "1": "16",
                                    "2": "189",
                                    "3": "3024"
                                },
                                {
                                    "0": "174",
                                    "1": "16",
                                    "2": "174",
                                    "3": "2784"
                                },
                                {
                                    "0": "163",
                                    "1": "16",
                                    "2": "163",
                                    "3": "2608"
                                },
                                {
                                    "0": "188",
                                    "1": "16",
                                    "2": "188",
                                    "3": "3008"
                                },
                                {
                                    "0": "173",
                                    "1": "16",
                                    "2": "173",
                                    "3": "2768"
                                },
                                {
                                    "0": "171",
                                    "1": "16",
                                    "2": "171",
                                    "3": "2736"
                                },
                                {
                                    "0": "185",
                                    "1": "15",
                                    "2": "185",
                                    "3": "2775"
                                },
                                {
                                    "0": "178",
                                    "1": "15",
                                    "2": "178",
                                    "3": "2670"
                                },
                                {
                                    "0": "187",
                                    "1": "15",
                                    "2": "187",
                                    "3": "2805"
                                },
                                {
                                    "0": "200",
                                    "1": "14",
                                    "2": "200",
                                    "3": "2800"
                                },
                                {
                                    "0": "161",
                                    "1": "14",
                                    "2": "161",
                                    "3": "2254"
                                },
                                {
                                    "0": "168",
                                    "1": "14",
                                    "2": "168",
                                    "3": "2352"
                                },
                                {
                                    "0": "172",
                                    "1": "14",
                                    "2": "172",
                                    "3": "2408"
                                },
                                {
                                    "0": "166",
                                    "1": "13",
                                    "2": "166",
                                    "3": "2158"
                                },
                                {
                                    "0": "207",
                                    "1": "13",
                                    "2": "207",
                                    "3": "2691"
                                },
                                {
                                    "0": "177",
                                    "1": "13",
                                    "2": "177",
                                    "3": "2301"
                                },
                                {
                                    "0": "191",
                                    "1": "12",
                                    "2": "191",
                                    "3": "2292"
                                },
                                {
                                    "0": "197",
                                    "1": "12",
                                    "2": "197",
                                    "3": "2364"
                                },
                                {
                                    "0": "184",
                                    "1": "11",
                                    "2": "184",
                                    "3": "2024"
                                },
                                {
                                    "0": "192",
                                    "1": "11",
                                    "2": "192",
                                    "3": "2112"
                                },
                                {
                                    "0": "1499",
                                    "1": "10",
                                    "2": "1499",
                                    "3": "14990"
                                },
                                {
                                    "0": "196",
                                    "1": "10",
                                    "2": "196",
                                    "3": "1960"
                                },
                                {
                                    "0": "220",
                                    "1": "10",
                                    "2": "220",
                                    "3": "2200"
                                },
                                {
                                    "0": "202",
                                    "1": "9",
                                    "2": "202",
                                    "3": "1818"
                                },
                                {
                                    "0": "206",
                                    "1": "9",
                                    "2": "206",
                                    "3": "1854"
                                },
                                {
                                    "0": "480",
                                    "1": "9",
                                    "2": "480",
                                    "3": "4320"
                                },
                                {
                                    "0": "1560",
                                    "1": "9",
                                    "2": "1560",
                                    "3": "14040"
                                },
                                {
                                    "0": "186",
                                    "1": "9",
                                    "2": "186",
                                    "3": "1674"
                                },
                                {
                                    "0": "167",
                                    "1": "9",
                                    "2": "167",
                                    "3": "1503"
                                },
                                {
                                    "0": "211",
                                    "1": "9",
                                    "2": "211",
                                    "3": "1899"
                                },
                                {
                                    "0": "176",
                                    "1": "8",
                                    "2": "176",
                                    "3": "1408"
                                },
                                {
                                    "0": "175",
                                    "1": "8",
                                    "2": "175",
                                    "3": "1400"
                                },
                                {
                                    "0": "193",
                                    "1": "8",
                                    "2": "193",
                                    "3": "1544"
                                },
                                {
                                    "0": "194",
                                    "1": "8",
                                    "2": "194",
                                    "3": "1552"
                                },
                                {
                                    "0": "209",
                                    "1": "8",
                                    "2": "209",
                                    "3": "1672"
                                },
                                {
                                    "0": "225",
                                    "1": "8",
                                    "2": "225",
                                    "3": "1800"
                                },
                                {
                                    "0": "224",
                                    "1": "7",
                                    "2": "224",
                                    "3": "1568"
                                },
                                {
                                    "0": "201",
                                    "1": "7",
                                    "2": "201",
                                    "3": "1407"
                                },
                                {
                                    "0": "205",
                                    "1": "7",
                                    "2": "205",
                                    "3": "1435"
                                },
                                {
                                    "0": "180",
                                    "1": "7",
                                    "2": "180",
                                    "3": "1260"
                                },
                                {
                                    "0": "195",
                                    "1": "7",
                                    "2": "195",
                                    "3": "1365"
                                },
                                {
                                    "0": "223",
                                    "1": "7",
                                    "2": "223",
                                    "3": "1561"
                                },
                                {
                                    "0": "369",
                                    "1": "6",
                                    "2": "369",
                                    "3": "2214"
                                },
                                {
                                    "0": "243",
                                    "1": "6",
                                    "2": "243",
                                    "3": "1458"
                                },
                                {
                                    "0": "217",
                                    "1": "6",
                                    "2": "217",
                                    "3": "1302"
                                },
                                {
                                    "0": "190",
                                    "1": "6",
                                    "2": "190",
                                    "3": "1140"
                                },
                                {
                                    "0": "179",
                                    "1": "6",
                                    "2": "179",
                                    "3": "1074"
                                },
                                {
                                    "0": "208",
                                    "1": "6",
                                    "2": "208",
                                    "3": "1248"
                                },
                                {
                                    "0": "213",
                                    "1": "6",
                                    "2": "213",
                                    "3": "1278"
                                },
                                {
                                    "0": "215",
                                    "1": "5",
                                    "2": "215",
                                    "3": "1075"
                                },
                                {
                                    "0": "226",
                                    "1": "5",
                                    "2": "226",
                                    "3": "1130"
                                },
                                {
                                    "0": "199",
                                    "1": "5",
                                    "2": "199",
                                    "3": "995"
                                },
                                {
                                    "0": "237",
                                    "1": "5",
                                    "2": "237",
                                    "3": "1185"
                                },
                                {
                                    "0": "203",
                                    "1": "5",
                                    "2": "203",
                                    "3": "1015"
                                },
                                {
                                    "0": "222",
                                    "1": "5",
                                    "2": "222",
                                    "3": "1110"
                                },
                                {
                                    "0": "227",
                                    "1": "5",
                                    "2": "227",
                                    "3": "1135"
                                },
                                {
                                    "0": "221",
                                    "1": "5",
                                    "2": "221",
                                    "3": "1105"
                                },
                                {
                                    "0": "232",
                                    "1": "5",
                                    "2": "232",
                                    "3": "1160"
                                },
                                {
                                    "0": "219",
                                    "1": "5",
                                    "2": "219",
                                    "3": "1095"
                                },
                                {
                                    "0": "204",
                                    "1": "5",
                                    "2": "204",
                                    "3": "1020"
                                },
                                {
                                    "0": "246",
                                    "1": "4",
                                    "2": "246",
                                    "3": "984"
                                },
                                {
                                    "0": "233",
                                    "1": "4",
                                    "2": "233",
                                    "3": "932"
                                },
                                {
                                    "0": "212",
                                    "1": "4",
                                    "2": "212",
                                    "3": "848"
                                },
                                {
                                    "0": "240",
                                    "1": "4",
                                    "2": "240",
                                    "3": "960"
                                },
                                {
                                    "0": "241",
                                    "1": "4",
                                    "2": "241",
                                    "3": "964"
                                },
                                {
                                    "0": "236",
                                    "1": "4",
                                    "2": "236",
                                    "3": "944"
                                },
                                {
                                    "0": "228",
                                    "1": "4",
                                    "2": "228",
                                    "3": "912"
                                },
                                {
                                    "0": "235",
                                    "1": "4",
                                    "2": "235",
                                    "3": "940"
                                },
                                {
                                    "0": "210",
                                    "1": "4",
                                    "2": "210",
                                    "3": "840"
                                },
                                {
                                    "0": "343",
                                    "1": "4",
                                    "2": "343",
                                    "3": "1372"
                                },
                                {
                                    "0": "239",
                                    "1": "4",
                                    "2": "239",
                                    "3": "956"
                                },
                                {
                                    "0": "288",
                                    "1": "4",
                                    "2": "288",
                                    "3": "1152"
                                },
                                {
                                    "0": "250",
                                    "1": "3",
                                    "2": "250",
                                    "3": "750"
                                },
                                {
                                    "0": "268",
                                    "1": "3",
                                    "2": "268",
                                    "3": "804"
                                },
                                {
                                    "0": "289",
                                    "1": "3",
                                    "2": "289",
                                    "3": "867"
                                },
                                {
                                    "0": "247",
                                    "1": "3",
                                    "2": "247",
                                    "3": "741"
                                },
                                {
                                    "0": "648",
                                    "1": "3",
                                    "2": "648",
                                    "3": "1944"
                                },
                                {
                                    "0": "420",
                                    "1": "3",
                                    "2": "420",
                                    "3": "1260"
                                },
                                {
                                    "0": "391",
                                    "1": "3",
                                    "2": "391",
                                    "3": "1173"
                                },
                                {
                                    "0": "245",
                                    "1": "3",
                                    "2": "245",
                                    "3": "735"
                                },
                                {
                                    "0": "270",
                                    "1": "3",
                                    "2": "270",
                                    "3": "810"
                                },
                                {
                                    "0": "214",
                                    "1": "3",
                                    "2": "214",
                                    "3": "642"
                                },
                                {
                                    "0": "286",
                                    "1": "3",
                                    "2": "286",
                                    "3": "858"
                                },
                                {
                                    "0": "198",
                                    "1": "3",
                                    "2": "198",
                                    "3": "594"
                                },
                                {
                                    "0": "257",
                                    "1": "3",
                                    "2": "257",
                                    "3": "771"
                                },
                                {
                                    "0": "479",
                                    "1": "3",
                                    "2": "479",
                                    "3": "1437"
                                },
                                {
                                    "0": "284",
                                    "1": "3",
                                    "2": "284",
                                    "3": "852"
                                },
                                {
                                    "0": "285",
                                    "1": "3",
                                    "2": "285",
                                    "3": "855"
                                },
                                {
                                    "0": "216",
                                    "1": "3",
                                    "2": "216",
                                    "3": "648"
                                },
                                {
                                    "0": "272",
                                    "1": "3",
                                    "2": "272",
                                    "3": "816"
                                },
                                {
                                    "0": "218",
                                    "1": "3",
                                    "2": "218",
                                    "3": "654"
                                },
                                {
                                    "0": "234",
                                    "1": "3",
                                    "2": "234",
                                    "3": "702"
                                },
                                {
                                    "0": "988",
                                    "1": "2",
                                    "2": "988",
                                    "3": "1976"
                                },
                                {
                                    "0": "670",
                                    "1": "2",
                                    "2": "670",
                                    "3": "1340"
                                },
                                {
                                    "0": "1206",
                                    "1": "2",
                                    "2": "1206",
                                    "3": "2412"
                                },
                                {
                                    "0": "1239",
                                    "1": "2",
                                    "2": "1239",
                                    "3": "2478"
                                },
                                {
                                    "0": "330",
                                    "1": "2",
                                    "2": "330",
                                    "3": "660"
                                },
                                {
                                    "0": "1209",
                                    "1": "2",
                                    "2": "1209",
                                    "3": "2418"
                                },
                                {
                                    "0": "229",
                                    "1": "2",
                                    "2": "229",
                                    "3": "458"
                                },
                                {
                                    "0": "1052",
                                    "1": "2",
                                    "2": "1052",
                                    "3": "2104"
                                },
                                {
                                    "0": "1307",
                                    "1": "2",
                                    "2": "1307",
                                    "3": "2614"
                                },
                                {
                                    "0": "329",
                                    "1": "2",
                                    "2": "329",
                                    "3": "658"
                                },
                                {
                                    "0": "400",
                                    "1": "2",
                                    "2": "400",
                                    "3": "800"
                                },
                                {
                                    "0": "347",
                                    "1": "2",
                                    "2": "347",
                                    "3": "694"
                                },
                                {
                                    "0": "1225",
                                    "1": "2",
                                    "2": "1225",
                                    "3": "2450"
                                },
                                {
                                    "0": "298",
                                    "1": "2",
                                    "2": "298",
                                    "3": "596"
                                },
                                {
                                    "0": "1128",
                                    "1": "2",
                                    "2": "1128",
                                    "3": "2256"
                                },
                                {
                                    "0": "361",
                                    "1": "2",
                                    "2": "361",
                                    "3": "722"
                                },
                                {
                                    "0": "1387",
                                    "1": "2",
                                    "2": "1387",
                                    "3": "2774"
                                },
                                {
                                    "0": "378",
                                    "1": "2",
                                    "2": "378",
                                    "3": "756"
                                },
                                {
                                    "0": "1247",
                                    "1": "2",
                                    "2": "1247",
                                    "3": "2494"
                                },
                                {
                                    "0": "675",
                                    "1": "2",
                                    "2": "675",
                                    "3": "1350"
                                },
                                {
                                    "0": "267",
                                    "1": "2",
                                    "2": "267",
                                    "3": "534"
                                },
                                {
                                    "0": "1559",
                                    "1": "2",
                                    "2": "1559",
                                    "3": "3118"
                                },
                                {
                                    "0": "252",
                                    "1": "2",
                                    "2": "252",
                                    "3": "504"
                                },
                                {
                                    "0": "249",
                                    "1": "2",
                                    "2": "249",
                                    "3": "498"
                                },
                                {
                                    "0": "2461",
                                    "1": "2",
                                    "2": "2461",
                                    "3": "4922"
                                },
                                {
                                    "0": "1054",
                                    "1": "2",
                                    "2": "1054",
                                    "3": "2108"
                                },
                                {
                                    "0": "468",
                                    "1": "2",
                                    "2": "468",
                                    "3": "936"
                                },
                                {
                                    "0": "388",
                                    "1": "2",
                                    "2": "388",
                                    "3": "776"
                                },
                                {
                                    "0": "280",
                                    "1": "2",
                                    "2": "280",
                                    "3": "560"
                                },
                                {
                                    "0": "2774",
                                    "1": "2",
                                    "2": "2774",
                                    "3": "5548"
                                },
                                {
                                    "0": "393",
                                    "1": "2",
                                    "2": "393",
                                    "3": "786"
                                },
                                {
                                    "0": "392",
                                    "1": "2",
                                    "2": "392",
                                    "3": "784"
                                },
                                {
                                    "0": "1068",
                                    "1": "2",
                                    "2": "1068",
                                    "3": "2136"
                                },
                                {
                                    "0": "598",
                                    "1": "2",
                                    "2": "598",
                                    "3": "1196"
                                },
                                {
                                    "0": "563",
                                    "1": "2",
                                    "2": "563",
                                    "3": "1126"
                                },
                                {
                                    "0": "303",
                                    "1": "2",
                                    "2": "303",
                                    "3": "606"
                                },
                                {
                                    "0": "475",
                                    "1": "2",
                                    "2": "475",
                                    "3": "950"
                                },
                                {
                                    "0": "317",
                                    "1": "2",
                                    "2": "317",
                                    "3": "634"
                                },
                                {
                                    "0": "242",
                                    "1": "2",
                                    "2": "242",
                                    "3": "484"
                                },
                                {
                                    "0": "269",
                                    "1": "2",
                                    "2": "269",
                                    "3": "538"
                                },
                                {
                                    "0": "623",
                                    "1": "2",
                                    "2": "623",
                                    "3": "1246"
                                },
                                {
                                    "0": "306",
                                    "1": "2",
                                    "2": "306",
                                    "3": "612"
                                },
                                {
                                    "0": "1496",
                                    "1": "2",
                                    "2": "1496",
                                    "3": "2992"
                                },
                                {
                                    "0": "557",
                                    "1": "2",
                                    "2": "557",
                                    "3": "1114"
                                },
                                {
                                    "0": "804",
                                    "1": "2",
                                    "2": "804",
                                    "3": "1608"
                                },
                                {
                                    "0": "238",
                                    "1": "2",
                                    "2": "238",
                                    "3": "476"
                                },
                                {
                                    "0": "1556",
                                    "1": "2",
                                    "2": "1556",
                                    "3": "3112"
                                },
                                {
                                    "0": "231",
                                    "1": "2",
                                    "2": "231",
                                    "3": "462"
                                },
                                {
                                    "0": "653",
                                    "1": "2",
                                    "2": "653",
                                    "3": "1306"
                                },
                                {
                                    "0": "290",
                                    "1": "2",
                                    "2": "290",
                                    "3": "580"
                                },
                                {
                                    "0": "333",
                                    "1": "2",
                                    "2": "333",
                                    "3": "666"
                                },
                                {
                                    "0": "292",
                                    "1": "2",
                                    "2": "292",
                                    "3": "584"
                                },
                                {
                                    "0": "964",
                                    "1": "2",
                                    "2": "964",
                                    "3": "1928"
                                },
                                {
                                    "0": "1218",
                                    "1": "2",
                                    "2": "1218",
                                    "3": "2436"
                                },
                                {
                                    "0": "266",
                                    "1": "2",
                                    "2": "266",
                                    "3": "532"
                                },
                                {
                                    "0": "1194",
                                    "1": "1",
                                    "2": "1194",
                                    "3": "1194"
                                },
                                {
                                    "0": "706",
                                    "1": "1",
                                    "2": "706",
                                    "3": "706"
                                },
                                {
                                    "0": "1315",
                                    "1": "1",
                                    "2": "1315",
                                    "3": "1315"
                                },
                                {
                                    "0": "434",
                                    "1": "1",
                                    "2": "434",
                                    "3": "434"
                                },
                                {
                                    "0": "339",
                                    "1": "1",
                                    "2": "339",
                                    "3": "339"
                                },
                                {
                                    "0": "406",
                                    "1": "1",
                                    "2": "406",
                                    "3": "406"
                                },
                                {
                                    "0": "893",
                                    "1": "1",
                                    "2": "893",
                                    "3": "893"
                                },
                                {
                                    "0": "756",
                                    "1": "1",
                                    "2": "756",
                                    "3": "756"
                                },
                                {
                                    "0": "312",
                                    "1": "1",
                                    "2": "312",
                                    "3": "312"
                                },
                                {
                                    "0": "6663",
                                    "1": "1",
                                    "2": "6663",
                                    "3": "6663"
                                },
                                {
                                    "0": "636",
                                    "1": "1",
                                    "2": "636",
                                    "3": "636"
                                },
                                {
                                    "0": "874",
                                    "1": "1",
                                    "2": "874",
                                    "3": "874"
                                },
                                {
                                    "0": "1468",
                                    "1": "1",
                                    "2": "1468",
                                    "3": "1468"
                                },
                                {
                                    "0": "2683",
                                    "1": "1",
                                    "2": "2683",
                                    "3": "2683"
                                },
                                {
                                    "0": "567",
                                    "1": "1",
                                    "2": "567",
                                    "3": "567"
                                },
                                {
                                    "0": "1426",
                                    "1": "1",
                                    "2": "1426",
                                    "3": "1426"
                                },
                                {
                                    "0": "856",
                                    "1": "1",
                                    "2": "856",
                                    "3": "856"
                                },
                                {
                                    "0": "440",
                                    "1": "1",
                                    "2": "440",
                                    "3": "440"
                                },
                                {
                                    "0": "3713",
                                    "1": "1",
                                    "2": "3713",
                                    "3": "3713"
                                },
                                {
                                    "0": "9749",
                                    "1": "1",
                                    "2": "9749",
                                    "3": "9749"
                                },
                                {
                                    "0": "500",
                                    "1": "1",
                                    "2": "500",
                                    "3": "500"
                                },
                                {
                                    "0": "887",
                                    "1": "1",
                                    "2": "887",
                                    "3": "887"
                                },
                                {
                                    "0": "304",
                                    "1": "1",
                                    "2": "304",
                                    "3": "304"
                                },
                                {
                                    "0": "283",
                                    "1": "1",
                                    "2": "283",
                                    "3": "283"
                                },
                                {
                                    "0": "428",
                                    "1": "1",
                                    "2": "428",
                                    "3": "428"
                                },
                                {
                                    "0": "849",
                                    "1": "1",
                                    "2": "849",
                                    "3": "849"
                                },
                                {
                                    "0": "916",
                                    "1": "1",
                                    "2": "916",
                                    "3": "916"
                                },
                                {
                                    "0": "783",
                                    "1": "1",
                                    "2": "783",
                                    "3": "783"
                                },
                                {
                                    "0": "1478",
                                    "1": "1",
                                    "2": "1478",
                                    "3": "1478"
                                },
                                {
                                    "0": "928",
                                    "1": "1",
                                    "2": "928",
                                    "3": "928"
                                },
                                {
                                    "0": "11402",
                                    "1": "1",
                                    "2": "11402",
                                    "3": "11402"
                                },
                                {
                                    "0": "1155",
                                    "1": "1",
                                    "2": "1155",
                                    "3": "1155"
                                },
                                {
                                    "0": "666",
                                    "1": "1",
                                    "2": "666",
                                    "3": "666"
                                },
                                {
                                    "0": "1059",
                                    "1": "1",
                                    "2": "1059",
                                    "3": "1059"
                                },
                                {
                                    "0": "1433",
                                    "1": "1",
                                    "2": "1433",
                                    "3": "1433"
                                },
                                {
                                    "0": "735",
                                    "1": "1",
                                    "2": "735",
                                    "3": "735"
                                },
                                {
                                    "0": "702",
                                    "1": "1",
                                    "2": "702",
                                    "3": "702"
                                },
                                {
                                    "0": "600",
                                    "1": "1",
                                    "2": "600",
                                    "3": "600"
                                },
                                {
                                    "0": "1467",
                                    "1": "1",
                                    "2": "1467",
                                    "3": "1467"
                                },
                                {
                                    "0": "842",
                                    "1": "1",
                                    "2": "842",
                                    "3": "842"
                                },
                                {
                                    "0": "259",
                                    "1": "1",
                                    "2": "259",
                                    "3": "259"
                                },
                                {
                                    "0": "1300",
                                    "1": "1",
                                    "2": "1300",
                                    "3": "1300"
                                },
                                {
                                    "0": "3816",
                                    "1": "1",
                                    "2": "3816",
                                    "3": "3816"
                                },
                                {
                                    "0": "689",
                                    "1": "1",
                                    "2": "689",
                                    "3": "689"
                                },
                                {
                                    "0": "466",
                                    "1": "1",
                                    "2": "466",
                                    "3": "466"
                                },
                                {
                                    "0": "1033",
                                    "1": "1",
                                    "2": "1033",
                                    "3": "1033"
                                },
                                {
                                    "0": "11710",
                                    "1": "1",
                                    "2": "11710",
                                    "3": "11710"
                                },
                                {
                                    "0": "1043",
                                    "1": "1",
                                    "2": "1043",
                                    "3": "1043"
                                },
                                {
                                    "0": "710",
                                    "1": "1",
                                    "2": "710",
                                    "3": "710"
                                },
                                {
                                    "0": "888",
                                    "1": "1",
                                    "2": "888",
                                    "3": "888"
                                },
                                {
                                    "0": "294",
                                    "1": "1",
                                    "2": "294",
                                    "3": "294"
                                },
                                {
                                    "0": "278",
                                    "1": "1",
                                    "2": "278",
                                    "3": "278"
                                },
                                {
                                    "0": "397",
                                    "1": "1",
                                    "2": "397",
                                    "3": "397"
                                },
                                {
                                    "0": "1126",
                                    "1": "1",
                                    "2": "1126",
                                    "3": "1126"
                                },
                                {
                                    "0": "1363",
                                    "1": "1",
                                    "2": "1363",
                                    "3": "1363"
                                },
                                {
                                    "0": "642",
                                    "1": "1",
                                    "2": "642",
                                    "3": "642"
                                },
                                {
                                    "0": "328",
                                    "1": "1",
                                    "2": "328",
                                    "3": "328"
                                },
                                {
                                    "0": "1175",
                                    "1": "1",
                                    "2": "1175",
                                    "3": "1175"
                                },
                                {
                                    "0": "5925",
                                    "1": "1",
                                    "2": "5925",
                                    "3": "5925"
                                },
                                {
                                    "0": "3468",
                                    "1": "1",
                                    "2": "3468",
                                    "3": "3468"
                                },
                                {
                                    "0": "682",
                                    "1": "1",
                                    "2": "682",
                                    "3": "682"
                                },
                                {
                                    "0": "276",
                                    "1": "1",
                                    "2": "276",
                                    "3": "276"
                                },
                                {
                                    "0": "17251",
                                    "1": "1",
                                    "2": "17251",
                                    "3": "17251"
                                },
                                {
                                    "0": "1063",
                                    "1": "1",
                                    "2": "1063",
                                    "3": "1063"
                                },
                                {
                                    "0": "315",
                                    "1": "1",
                                    "2": "315",
                                    "3": "315"
                                },
                                {
                                    "0": "442",
                                    "1": "1",
                                    "2": "442",
                                    "3": "442"
                                },
                                {
                                    "0": "340",
                                    "1": "1",
                                    "2": "340",
                                    "3": "340"
                                },
                                {
                                    "0": "341",
                                    "1": "1",
                                    "2": "341",
                                    "3": "341"
                                },
                                {
                                    "0": "1435",
                                    "1": "1",
                                    "2": "1435",
                                    "3": "1435"
                                },
                                {
                                    "0": "367",
                                    "1": "1",
                                    "2": "367",
                                    "3": "367"
                                },
                                {
                                    "0": "1248",
                                    "1": "1",
                                    "2": "1248",
                                    "3": "1248"
                                },
                                {
                                    "0": "2698",
                                    "1": "1",
                                    "2": "2698",
                                    "3": "2698"
                                },
                                {
                                    "0": "297",
                                    "1": "1",
                                    "2": "297",
                                    "3": "297"
                                },
                                {
                                    "0": "443",
                                    "1": "1",
                                    "2": "443",
                                    "3": "443"
                                },
                                {
                                    "0": "1317",
                                    "1": "1",
                                    "2": "1317",
                                    "3": "1317"
                                },
                                {
                                    "0": "1112",
                                    "1": "1",
                                    "2": "1112",
                                    "3": "1112"
                                },
                                {
                                    "0": "11622",
                                    "1": "1",
                                    "2": "11622",
                                    "3": "11622"
                                },
                                {
                                    "0": "763",
                                    "1": "1",
                                    "2": "763",
                                    "3": "763"
                                },
                                {
                                    "0": "1302",
                                    "1": "1",
                                    "2": "1302",
                                    "3": "1302"
                                },
                                {
                                    "0": "1658",
                                    "1": "1",
                                    "2": "1658",
                                    "3": "1658"
                                },
                                {
                                    "0": "1393",
                                    "1": "1",
                                    "2": "1393",
                                    "3": "1393"
                                },
                                {
                                    "0": "1381",
                                    "1": "1",
                                    "2": "1381",
                                    "3": "1381"
                                },
                                {
                                    "0": "930",
                                    "1": "1",
                                    "2": "930",
                                    "3": "930"
                                },
                                {
                                    "0": "446",
                                    "1": "1",
                                    "2": "446",
                                    "3": "446"
                                },
                                {
                                    "0": "769",
                                    "1": "1",
                                    "2": "769",
                                    "3": "769"
                                },
                                {
                                    "0": "6806",
                                    "1": "1",
                                    "2": "6806",
                                    "3": "6806"
                                },
                                {
                                    "0": "1168",
                                    "1": "1",
                                    "2": "1168",
                                    "3": "1168"
                                },
                                {
                                    "0": "4071",
                                    "1": "1",
                                    "2": "4071",
                                    "3": "4071"
                                },
                                {
                                    "0": "6542",
                                    "1": "1",
                                    "2": "6542",
                                    "3": "6542"
                                },
                                {
                                    "0": "344",
                                    "1": "1",
                                    "2": "344",
                                    "3": "344"
                                },
                                {
                                    "0": "332",
                                    "1": "1",
                                    "2": "332",
                                    "3": "332"
                                },
                                {
                                    "0": "1096",
                                    "1": "1",
                                    "2": "1096",
                                    "3": "1096"
                                },
                                {
                                    "0": "723",
                                    "1": "1",
                                    "2": "723",
                                    "3": "723"
                                },
                                {
                                    "0": "2542",
                                    "1": "1",
                                    "2": "2542",
                                    "3": "2542"
                                },
                                {
                                    "0": "944",
                                    "1": "1",
                                    "2": "944",
                                    "3": "944"
                                },
                                {
                                    "0": "1327",
                                    "1": "1",
                                    "2": "1327",
                                    "3": "1327"
                                },
                                {
                                    "0": "1284",
                                    "1": "1",
                                    "2": "1284",
                                    "3": "1284"
                                },
                                {
                                    "0": "264",
                                    "1": "1",
                                    "2": "264",
                                    "3": "264"
                                },
                                {
                                    "0": "1071",
                                    "1": "1",
                                    "2": "1071",
                                    "3": "1071"
                                },
                                {
                                    "0": "1590",
                                    "1": "1",
                                    "2": "1590",
                                    "3": "1590"
                                },
                                {
                                    "0": "273",
                                    "1": "1",
                                    "2": "273",
                                    "3": "273"
                                },
                                {
                                    "0": "4480",
                                    "1": "1",
                                    "2": "4480",
                                    "3": "4480"
                                },
                                {
                                    "0": "355",
                                    "1": "1",
                                    "2": "355",
                                    "3": "355"
                                },
                                {
                                    "0": "2756",
                                    "1": "1",
                                    "2": "2756",
                                    "3": "2756"
                                },
                                {
                                    "0": "1120",
                                    "1": "1",
                                    "2": "1120",
                                    "3": "1120"
                                },
                                {
                                    "0": "1702",
                                    "1": "1",
                                    "2": "1702",
                                    "3": "1702"
                                },
                                {
                                    "0": "3033",
                                    "1": "1",
                                    "2": "3033",
                                    "3": "3033"
                                },
                                {
                                    "0": "462",
                                    "1": "1",
                                    "2": "462",
                                    "3": "462"
                                },
                                {
                                    "0": "610",
                                    "1": "1",
                                    "2": "610",
                                    "3": "610"
                                },
                                {
                                    "0": "3405",
                                    "1": "1",
                                    "2": "3405",
                                    "3": "3405"
                                },
                                {
                                    "0": "258",
                                    "1": "1",
                                    "2": "258",
                                    "3": "258"
                                },
                                {
                                    "0": "1533",
                                    "1": "1",
                                    "2": "1533",
                                    "3": "1533"
                                },
                                {
                                    "0": "1050",
                                    "1": "1",
                                    "2": "1050",
                                    "3": "1050"
                                },
                                {
                                    "0": "327",
                                    "1": "1",
                                    "2": "327",
                                    "3": "327"
                                },
                                {
                                    "0": "742",
                                    "1": "1",
                                    "2": "742",
                                    "3": "742"
                                },
                                {
                                    "0": "543",
                                    "1": "1",
                                    "2": "543",
                                    "3": "543"
                                },
                                {
                                    "0": "1648",
                                    "1": "1",
                                    "2": "1648",
                                    "3": "1648"
                                },
                                {
                                    "0": "7278",
                                    "1": "1",
                                    "2": "7278",
                                    "3": "7278"
                                },
                                {
                                    "0": "3298",
                                    "1": "1",
                                    "2": "3298",
                                    "3": "3298"
                                },
                                {
                                    "0": "1355",
                                    "1": "1",
                                    "2": "1355",
                                    "3": "1355"
                                },
                                {
                                    "0": "1142",
                                    "1": "1",
                                    "2": "1142",
                                    "3": "1142"
                                },
                                {
                                    "0": "902",
                                    "1": "1",
                                    "2": "902",
                                    "3": "902"
                                },
                                {
                                    "0": "1308",
                                    "1": "1",
                                    "2": "1308",
                                    "3": "1308"
                                },
                                {
                                    "0": "360",
                                    "1": "1",
                                    "2": "360",
                                    "3": "360"
                                },
                                {
                                    "0": "1237",
                                    "1": "1",
                                    "2": "1237",
                                    "3": "1237"
                                },
                                {
                                    "0": "2613",
                                    "1": "1",
                                    "2": "2613",
                                    "3": "2613"
                                },
                                {
                                    "0": "1423",
                                    "1": "1",
                                    "2": "1423",
                                    "3": "1423"
                                },
                                {
                                    "0": "736",
                                    "1": "1",
                                    "2": "736",
                                    "3": "736"
                                },
                                {
                                    "0": "982",
                                    "1": "1",
                                    "2": "982",
                                    "3": "982"
                                },
                                {
                                    "0": "1330",
                                    "1": "1",
                                    "2": "1330",
                                    "3": "1330"
                                },
                                {
                                    "0": "353",
                                    "1": "1",
                                    "2": "353",
                                    "3": "353"
                                },
                                {
                                    "0": "1422",
                                    "1": "1",
                                    "2": "1422",
                                    "3": "1422"
                                },
                                {
                                    "0": "2407",
                                    "1": "1",
                                    "2": "2407",
                                    "3": "2407"
                                },
                                {
                                    "0": "843",
                                    "1": "1",
                                    "2": "843",
                                    "3": "843"
                                },
                                {
                                    "0": "1427",
                                    "1": "1",
                                    "2": "1427",
                                    "3": "1427"
                                },
                                {
                                    "0": "703",
                                    "1": "1",
                                    "2": "703",
                                    "3": "703"
                                },
                                {
                                    "0": "906",
                                    "1": "1",
                                    "2": "906",
                                    "3": "906"
                                },
                                {
                                    "0": "14181",
                                    "1": "1",
                                    "2": "14181",
                                    "3": "14181"
                                },
                                {
                                    "0": "903",
                                    "1": "1",
                                    "2": "903",
                                    "3": "903"
                                },
                                {
                                    "0": "1329",
                                    "1": "1",
                                    "2": "1329",
                                    "3": "1329"
                                },
                                {
                                    "0": "262",
                                    "1": "1",
                                    "2": "262",
                                    "3": "262"
                                },
                                {
                                    "0": "859",
                                    "1": "1",
                                    "2": "859",
                                    "3": "859"
                                },
                                {
                                    "0": "1203",
                                    "1": "1",
                                    "2": "1203",
                                    "3": "1203"
                                },
                                {
                                    "0": "1166",
                                    "1": "1",
                                    "2": "1166",
                                    "3": "1166"
                                },
                                {
                                    "0": "948",
                                    "1": "1",
                                    "2": "948",
                                    "3": "948"
                                },
                                {
                                    "0": "349",
                                    "1": "1",
                                    "2": "349",
                                    "3": "349"
                                },
                                {
                                    "0": "1061",
                                    "1": "1",
                                    "2": "1061",
                                    "3": "1061"
                                },
                                {
                                    "0": "615",
                                    "1": "1",
                                    "2": "615",
                                    "3": "615"
                                },
                                {
                                    "0": "1110",
                                    "1": "1",
                                    "2": "1110",
                                    "3": "1110"
                                },
                                {
                                    "0": "2199",
                                    "1": "1",
                                    "2": "2199",
                                    "3": "2199"
                                },
                                {
                                    "0": "738",
                                    "1": "1",
                                    "2": "738",
                                    "3": "738"
                                },
                                {
                                    "0": "896",
                                    "1": "1",
                                    "2": "896",
                                    "3": "896"
                                },
                                {
                                    "0": "1161",
                                    "1": "1",
                                    "2": "1161",
                                    "3": "1161"
                                },
                                {
                                    "0": "1077",
                                    "1": "1",
                                    "2": "1077",
                                    "3": "1077"
                                },
                                {
                                    "0": "1812",
                                    "1": "1",
                                    "2": "1812",
                                    "3": "1812"
                                },
                                {
                                    "0": "275",
                                    "1": "1",
                                    "2": "275",
                                    "3": "275"
                                },
                                {
                                    "0": "1040",
                                    "1": "1",
                                    "2": "1040",
                                    "3": "1040"
                                },
                                {
                                    "0": "1213",
                                    "1": "1",
                                    "2": "1213",
                                    "3": "1213"
                                },
                                {
                                    "0": "282",
                                    "1": "1",
                                    "2": "282",
                                    "3": "282"
                                },
                                {
                                    "0": "787",
                                    "1": "1",
                                    "2": "787",
                                    "3": "787"
                                },
                                {
                                    "0": "414",
                                    "1": "1",
                                    "2": "414",
                                    "3": "414"
                                },
                                {
                                    "0": "1253",
                                    "1": "1",
                                    "2": "1253",
                                    "3": "1253"
                                },
                                {
                                    "0": "6840",
                                    "1": "1",
                                    "2": "6840",
                                    "3": "6840"
                                },
                                {
                                    "0": "354",
                                    "1": "1",
                                    "2": "354",
                                    "3": "354"
                                },
                                {
                                    "0": "11401",
                                    "1": "1",
                                    "2": "11401",
                                    "3": "11401"
                                },
                                {
                                    "0": "933",
                                    "1": "1",
                                    "2": "933",
                                    "3": "933"
                                },
                                {
                                    "0": "542",
                                    "1": "1",
                                    "2": "542",
                                    "3": "542"
                                },
                                {
                                    "0": "730",
                                    "1": "1",
                                    "2": "730",
                                    "3": "730"
                                },
                                {
                                    "0": "740",
                                    "1": "1",
                                    "2": "740",
                                    "3": "740"
                                },
                                {
                                    "0": "8004",
                                    "1": "1",
                                    "2": "8004",
                                    "3": "8004"
                                },
                                {
                                    "0": "18231",
                                    "1": "1",
                                    "2": "18231",
                                    "3": "18231"
                                },
                                {
                                    "0": "469",
                                    "1": "1",
                                    "2": "469",
                                    "3": "469"
                                },
                                {
                                    "0": "281",
                                    "1": "1",
                                    "2": "281",
                                    "3": "281"
                                },
                                {
                                    "0": "5848",
                                    "1": "1",
                                    "2": "5848",
                                    "3": "5848"
                                },
                                {
                                    "0": "2935",
                                    "1": "1",
                                    "2": "2935",
                                    "3": "2935"
                                },
                                {
                                    "0": "793",
                                    "1": "1",
                                    "2": "793",
                                    "3": "793"
                                },
                                {
                                    "0": "2957",
                                    "1": "1",
                                    "2": "2957",
                                    "3": "2957"
                                },
                                {
                                    "0": "628",
                                    "1": "1",
                                    "2": "628",
                                    "3": "628"
                                },
                                {
                                    "0": "399",
                                    "1": "1",
                                    "2": "399",
                                    "3": "399"
                                },
                                {
                                    "0": "1291",
                                    "1": "1",
                                    "2": "1291",
                                    "3": "1291"
                                },
                                {
                                    "0": "900",
                                    "1": "1",
                                    "2": "900",
                                    "3": "900"
                                },
                                {
                                    "0": "1009",
                                    "1": "1",
                                    "2": "1009",
                                    "3": "1009"
                                },
                                {
                                    "0": "499",
                                    "1": "1",
                                    "2": "499",
                                    "3": "499"
                                },
                                {
                                    "0": "1305",
                                    "1": "1",
                                    "2": "1305",
                                    "3": "1305"
                                },
                                {
                                    "0": "337",
                                    "1": "1",
                                    "2": "337",
                                    "3": "337"
                                },
                                {
                                    "0": "726",
                                    "1": "1",
                                    "2": "726",
                                    "3": "726"
                                },
                                {
                                    "0": "4553",
                                    "1": "1",
                                    "2": "4553",
                                    "3": "4553"
                                },
                                {
                                    "0": "1309",
                                    "1": "1",
                                    "2": "1309",
                                    "3": "1309"
                                },
                                {
                                    "0": "833",
                                    "1": "1",
                                    "2": "833",
                                    "3": "833"
                                },
                                {
                                    "0": "348",
                                    "1": "1",
                                    "2": "348",
                                    "3": "348"
                                },
                                {
                                    "0": "1180",
                                    "1": "1",
                                    "2": "1180",
                                    "3": "1180"
                                },
                                {
                                    "0": "263",
                                    "1": "1",
                                    "2": "263",
                                    "3": "263"
                                },
                                {
                                    "0": "1045",
                                    "1": "1",
                                    "2": "1045",
                                    "3": "1045"
                                },
                                {
                                    "0": "1674",
                                    "1": "1",
                                    "2": "1674",
                                    "3": "1674"
                                },
                                {
                                    "0": "314",
                                    "1": "1",
                                    "2": "314",
                                    "3": "314"
                                },
                                {
                                    "0": "1095",
                                    "1": "1",
                                    "2": "1095",
                                    "3": "1095"
                                },
                                {
                                    "0": "1521",
                                    "1": "1",
                                    "2": "1521",
                                    "3": "1521"
                                },
                                {
                                    "0": "486",
                                    "1": "1",
                                    "2": "486",
                                    "3": "486"
                                },
                                {
                                    "0": "672",
                                    "1": "1",
                                    "2": "672",
                                    "3": "672"
                                },
                                {
                                    "0": "363",
                                    "1": "1",
                                    "2": "363",
                                    "3": "363"
                                },
                                {
                                    "0": "3764",
                                    "1": "1",
                                    "2": "3764",
                                    "3": "3764"
                                },
                                {
                                    "0": "296",
                                    "1": "1",
                                    "2": "296",
                                    "3": "296"
                                },
                                {
                                    "0": "912",
                                    "1": "1",
                                    "2": "912",
                                    "3": "912"
                                },
                                {
                                    "0": "9813",
                                    "1": "1",
                                    "2": "9813",
                                    "3": "9813"
                                },
                                {
                                    "0": "1007",
                                    "1": "1",
                                    "2": "1007",
                                    "3": "1007"
                                },
                                {
                                    "0": "1288",
                                    "1": "1",
                                    "2": "1288",
                                    "3": "1288"
                                },
                                {
                                    "0": "1331",
                                    "1": "1",
                                    "2": "1331",
                                    "3": "1331"
                                },
                                {
                                    "0": "11109",
                                    "1": "1",
                                    "2": "11109",
                                    "3": "11109"
                                },
                                {
                                    "0": "886",
                                    "1": "1",
                                    "2": "886",
                                    "3": "886"
                                },
                                {
                                    "0": "2569",
                                    "1": "1",
                                    "2": "2569",
                                    "3": "2569"
                                },
                                {
                                    "0": "644",
                                    "1": "1",
                                    "2": "644",
                                    "3": "644"
                                },
                                {
                                    "0": "619",
                                    "1": "1",
                                    "2": "619",
                                    "3": "619"
                                },
                                {
                                    "0": "1453",
                                    "1": "1",
                                    "2": "1453",
                                    "3": "1453"
                                },
                                {
                                    "0": "6366",
                                    "1": "1",
                                    "2": "6366",
                                    "3": "6366"
                                },
                                {
                                    "0": "2289",
                                    "1": "1",
                                    "2": "2289",
                                    "3": "2289"
                                },
                                {
                                    "0": "727",
                                    "1": "1",
                                    "2": "727",
                                    "3": "727"
                                },
                                {
                                    "0": "650",
                                    "1": "1",
                                    "2": "650",
                                    "3": "650"
                                },
                                {
                                    "0": "394",
                                    "1": "1",
                                    "2": "394",
                                    "3": "394"
                                },
                                {
                                    "0": "555",
                                    "1": "1",
                                    "2": "555",
                                    "3": "555"
                                },
                                {
                                    "0": "643",
                                    "1": "1",
                                    "2": "643",
                                    "3": "643"
                                },
                                {
                                    "0": "1215",
                                    "1": "1",
                                    "2": "1215",
                                    "3": "1215"
                                },
                                {
                                    "0": "2653",
                                    "1": "1",
                                    "2": "2653",
                                    "3": "2653"
                                },
                                {
                                    "0": "1242",
                                    "1": "1",
                                    "2": "1242",
                                    "3": "1242"
                                },
                                {
                                    "0": "868",
                                    "1": "1",
                                    "2": "868",
                                    "3": "868"
                                },
                                {
                                    "0": "1419",
                                    "1": "1",
                                    "2": "1419",
                                    "3": "1419"
                                },
                                {
                                    "0": "761",
                                    "1": "1",
                                    "2": "761",
                                    "3": "761"
                                },
                                {
                                    "0": "12543",
                                    "1": "1",
                                    "2": "12543",
                                    "3": "12543"
                                },
                                {
                                    "0": "2368",
                                    "1": "1",
                                    "2": "2368",
                                    "3": "2368"
                                },
                                {
                                    "0": "847",
                                    "1": "1",
                                    "2": "847",
                                    "3": "847"
                                },
                                {
                                    "0": "488",
                                    "1": "1",
                                    "2": "488",
                                    "3": "488"
                                },
                                {
                                    "0": "1170",
                                    "1": "1",
                                    "2": "1170",
                                    "3": "1170"
                                },
                                {
                                    "0": "13002",
                                    "1": "1",
                                    "2": "13002",
                                    "3": "13002"
                                },
                                {
                                    "0": "1319",
                                    "1": "1",
                                    "2": "1319",
                                    "3": "1319"
                                },
                                {
                                    "0": "3176",
                                    "1": "1",
                                    "2": "3176",
                                    "3": "3176"
                                },
                                {
                                    "0": "1119",
                                    "1": "1",
                                    "2": "1119",
                                    "3": "1119"
                                },
                                {
                                    "0": "248",
                                    "1": "1",
                                    "2": "248",
                                    "3": "248"
                                },
                                {
                                    "0": "1149",
                                    "1": "1",
                                    "2": "1149",
                                    "3": "1149"
                                },
                                {
                                    "0": "654",
                                    "1": "1",
                                    "2": "654",
                                    "3": "654"
                                },
                                {
                                    "0": "561",
                                    "1": "1",
                                    "2": "561",
                                    "3": "561"
                                },
                                {
                                    "0": "461",
                                    "1": "1",
                                    "2": "461",
                                    "3": "461"
                                },
                                {
                                    "0": "1659",
                                    "1": "1",
                                    "2": "1659",
                                    "3": "1659"
                                },
                                {
                                    "0": "987",
                                    "1": "1",
                                    "2": "987",
                                    "3": "987"
                                },
                                {
                                    "0": "1313",
                                    "1": "1",
                                    "2": "1313",
                                    "3": "1313"
                                },
                                {
                                    "0": "1134",
                                    "1": "1",
                                    "2": "1134",
                                    "3": "1134"
                                },
                                {
                                    "0": "4441",
                                    "1": "1",
                                    "2": "4441",
                                    "3": "4441"
                                },
                                {
                                    "0": "5769",
                                    "1": "1",
                                    "2": "5769",
                                    "3": "5769"
                                },
                                {
                                    "0": "601",
                                    "1": "1",
                                    "2": "601",
                                    "3": "601"
                                },
                                {
                                    "0": "1127",
                                    "1": "1",
                                    "2": "1127",
                                    "3": "1127"
                                },
                                {
                                    "0": "669",
                                    "1": "1",
                                    "2": "669",
                                    "3": "669"
                                },
                                {
                                    "0": "940",
                                    "1": "1",
                                    "2": "940",
                                    "3": "940"
                                },
                                {
                                    "0": "1893",
                                    "1": "1",
                                    "2": "1893",
                                    "3": "1893"
                                },
                                {
                                    "0": "1086",
                                    "1": "1",
                                    "2": "1086",
                                    "3": "1086"
                                },
                                {
                                    "0": "3976",
                                    "1": "1",
                                    "2": "3976",
                                    "3": "3976"
                                },
                                {
                                    "0": "4113",
                                    "1": "1",
                                    "2": "4113",
                                    "3": "4113"
                                },
                                {
                                    "0": "261",
                                    "1": "1",
                                    "2": "261",
                                    "3": "261"
                                },
                                {
                                    "0": "865",
                                    "1": "1",
                                    "2": "865",
                                    "3": "865"
                                },
                                {
                                    "0": "1256",
                                    "1": "1",
                                    "2": "1256",
                                    "3": "1256"
                                },
                                {
                                    "0": "31682",
                                    "1": "1",
                                    "2": "31682",
                                    "3": "31682"
                                },
                                {
                                    "0": "432",
                                    "1": "1",
                                    "2": "432",
                                    "3": "432"
                                },
                                {
                                    "0": "380",
                                    "1": "1",
                                    "2": "380",
                                    "3": "380"
                                },
                                {
                                    "0": "1184",
                                    "1": "1",
                                    "2": "1184",
                                    "3": "1184"
                                },
                                {
                                    "0": "1350",
                                    "1": "1",
                                    "2": "1350",
                                    "3": "1350"
                                },
                                {
                                    "0": "313",
                                    "1": "1",
                                    "2": "313",
                                    "3": "313"
                                },
                                {
                                    "0": "465",
                                    "1": "1",
                                    "2": "465",
                                    "3": "465"
                                },
                                {
                                    "0": "342",
                                    "1": "1",
                                    "2": "342",
                                    "3": "342"
                                },
                                {
                                    "0": "318",
                                    "1": "1",
                                    "2": "318",
                                    "3": "318"
                                },
                                {
                                    "0": "1353",
                                    "1": "1",
                                    "2": "1353",
                                    "3": "1353"
                                },
                                {
                                    "0": "1529",
                                    "1": "1",
                                    "2": "1529",
                                    "3": "1529"
                                },
                                {
                                    "0": "869",
                                    "1": "1",
                                    "2": "869",
                                    "3": "869"
                                },
                                {
                                    "0": "1294",
                                    "1": "1",
                                    "2": "1294",
                                    "3": "1294"
                                },
                                {
                                    "0": "1107",
                                    "1": "1",
                                    "2": "1107",
                                    "3": "1107"
                                },
                                {
                                    "0": "511",
                                    "1": "1",
                                    "2": "511",
                                    "3": "511"
                                },
                                {
                                    "0": "860",
                                    "1": "1",
                                    "2": "860",
                                    "3": "860"
                                },
                                {
                                    "0": "1027",
                                    "1": "1",
                                    "2": "1027",
                                    "3": "1027"
                                },
                                {
                                    "0": "824",
                                    "1": "1",
                                    "2": "824",
                                    "3": "824"
                                },
                                {
                                    "0": "1200",
                                    "1": "1",
                                    "2": "1200",
                                    "3": "1200"
                                },
                                {
                                    "0": "451",
                                    "1": "1",
                                    "2": "451",
                                    "3": "451"
                                },
                                {
                                    "0": "5679",
                                    "1": "1",
                                    "2": "5679",
                                    "3": "5679"
                                },
                                {
                                    "0": "913",
                                    "1": "1",
                                    "2": "913",
                                    "3": "913"
                                },
                                {
                                    "0": "1416",
                                    "1": "1",
                                    "2": "1416",
                                    "3": "1416"
                                },
                                {
                                    "0": "4684",
                                    "1": "1",
                                    "2": "4684",
                                    "3": "4684"
                                },
                                {
                                    "0": "20074",
                                    "1": "1",
                                    "2": "20074",
                                    "3": "20074"
                                },
                                {
                                    "0": "1283",
                                    "1": "1",
                                    "2": "1283",
                                    "3": "1283"
                                },
                                {
                                    "0": "1081",
                                    "1": "1",
                                    "2": "1081",
                                    "3": "1081"
                                },
                                {
                                    "0": "597",
                                    "1": "1",
                                    "2": "597",
                                    "3": "597"
                                },
                                {
                                    "0": "651",
                                    "1": "1",
                                    "2": "651",
                                    "3": "651"
                                },
                                {
                                    "0": "820",
                                    "1": "1",
                                    "2": "820",
                                    "3": "820"
                                },
                                {
                                    "0": "2641",
                                    "1": "1",
                                    "2": "2641",
                                    "3": "2641"
                                },
                                {
                                    "0": "604",
                                    "1": "1",
                                    "2": "604",
                                    "3": "604"
                                },
                                {
                                    "0": "411",
                                    "1": "1",
                                    "2": "411",
                                    "3": "411"
                                },
                                {
                                    "0": "260",
                                    "1": "1",
                                    "2": "260",
                                    "3": "260"
                                },
                                {
                                    "0": "765",
                                    "1": "1",
                                    "2": "765",
                                    "3": "765"
                                },
                                {
                                    "0": "1369",
                                    "1": "1",
                                    "2": "1369",
                                    "3": "1369"
                                },
                                {
                                    "0": "1174",
                                    "1": "1",
                                    "2": "1174",
                                    "3": "1174"
                                },
                                {
                                    "0": "4133",
                                    "1": "1",
                                    "2": "4133",
                                    "3": "4133"
                                },
                                {
                                    "0": "459",
                                    "1": "1",
                                    "2": "459",
                                    "3": "459"
                                },
                                {
                                    "0": "255",
                                    "1": "1",
                                    "2": "255",
                                    "3": "255"
                                },
                                {
                                    "0": "918",
                                    "1": "1",
                                    "2": "918",
                                    "3": "918"
                                },
                                {
                                    "0": "1360",
                                    "1": "1",
                                    "2": "1360",
                                    "3": "1360"
                                },
                                {
                                    "0": "2449",
                                    "1": "1",
                                    "2": "2449",
                                    "3": "2449"
                                },
                                {
                                    "0": "1811",
                                    "1": "1",
                                    "2": "1811",
                                    "3": "1811"
                                },
                                {
                                    "0": "15905",
                                    "1": "1",
                                    "2": "15905",
                                    "3": "15905"
                                },
                                {
                                    "0": "897",
                                    "1": "1",
                                    "2": "897",
                                    "3": "897"
                                },
                                {
                                    "0": "2462",
                                    "1": "1",
                                    "2": "2462",
                                    "3": "2462"
                                },
                                {
                                    "0": "251",
                                    "1": "1",
                                    "2": "251",
                                    "3": "251"
                                },
                                {
                                    "0": "538",
                                    "1": "1",
                                    "2": "538",
                                    "3": "538"
                                },
                                {
                                    "0": "588",
                                    "1": "1",
                                    "2": "588",
                                    "3": "588"
                                },
                                {
                                    "0": "417",
                                    "1": "1",
                                    "2": "417",
                                    "3": "417"
                                },
                                {
                                    "0": "1125",
                                    "1": "1",
                                    "2": "1125",
                                    "3": "1125"
                                },
                                {
                                    "0": "1318",
                                    "1": "1",
                                    "2": "1318",
                                    "3": "1318"
                                },
                                {
                                    "0": "402",
                                    "1": "1",
                                    "2": "402",
                                    "3": "402"
                                },
                                {
                                    "0": "1025",
                                    "1": "1",
                                    "2": "1025",
                                    "3": "1025"
                                },
                                {
                                    "0": "2861",
                                    "1": "1",
                                    "2": "2861",
                                    "3": "2861"
                                },
                                {
                                    "0": "1118",
                                    "1": "1",
                                    "2": "1118",
                                    "3": "1118"
                                },
                                {
                                    "0": "685",
                                    "1": "1",
                                    "2": "685",
                                    "3": "685"
                                },
                                {
                                    "0": "1144",
                                    "1": "1",
                                    "2": "1144",
                                    "3": "1144"
                                },
                                {
                                    "0": "5728",
                                    "1": "1",
                                    "2": "5728",
                                    "3": "5728"
                                },
                                {
                                    "0": "4386",
                                    "1": "1",
                                    "2": "4386",
                                    "3": "4386"
                                },
                                {
                                    "0": "817",
                                    "1": "1",
                                    "2": "817",
                                    "3": "817"
                                },
                                {
                                    "0": "2589",
                                    "1": "1",
                                    "2": "2589",
                                    "3": "2589"
                                },
                                {
                                    "0": "1688",
                                    "1": "1",
                                    "2": "1688",
                                    "3": "1688"
                                },
                                {
                                    "0": "1089",
                                    "1": "1",
                                    "2": "1089",
                                    "3": "1089"
                                },
                                {
                                    "0": "307",
                                    "1": "1",
                                    "2": "307",
                                    "3": "307"
                                },
                                {
                                    "0": "2535",
                                    "1": "1",
                                    "2": "2535",
                                    "3": "2535"
                                },
                                {
                                    "0": "1217",
                                    "1": "1",
                                    "2": "1217",
                                    "3": "1217"
                                },
                                {
                                    "0": "435",
                                    "1": "1",
                                    "2": "435",
                                    "3": "435"
                                },
                                {
                                    "0": "17231",
                                    "1": "1",
                                    "2": "17231",
                                    "3": "17231"
                                },
                                {
                                    "0": "331",
                                    "1": "1",
                                    "2": "331",
                                    "3": "331"
                                },
                                {
                                    "0": "2909",
                                    "1": "1",
                                    "2": "2909",
                                    "3": "2909"
                                },
                                {
                                    "0": "305",
                                    "1": "1",
                                    "2": "305",
                                    "3": "305"
                                },
                                {
                                    "0": "613",
                                    "1": "1",
                                    "2": "613",
                                    "3": "613"
                                },
                                {
                                    "0": "1190",
                                    "1": "1",
                                    "2": "1190",
                                    "3": "1190"
                                },
                                {
                                    "0": "424",
                                    "1": "1",
                                    "2": "424",
                                    "3": "424"
                                },
                                {
                                    "0": "1257",
                                    "1": "1",
                                    "2": "1257",
                                    "3": "1257"
                                },
                                {
                                    "0": "1097",
                                    "1": "1",
                                    "2": "1097",
                                    "3": "1097"
                                },
                                {
                                    "0": "358",
                                    "1": "1",
                                    "2": "358",
                                    "3": "358"
                                },
                                {
                                    "0": "707",
                                    "1": "1",
                                    "2": "707",
                                    "3": "707"
                                },
                                {
                                    "0": "325",
                                    "1": "1",
                                    "2": "325",
                                    "3": "325"
                                },
                                {
                                    "0": "1157",
                                    "1": "1",
                                    "2": "1157",
                                    "3": "1157"
                                },
                                {
                                    "0": "741",
                                    "1": "1",
                                    "2": "741",
                                    "3": "741"
                                },
                                {
                                    "0": "439",
                                    "1": "1",
                                    "2": "439",
                                    "3": "439"
                                },
                                {
                                    "0": "532",
                                    "1": "1",
                                    "2": "532",
                                    "3": "532"
                                },
                                {
                                    "0": "1230",
                                    "1": "1",
                                    "2": "1230",
                                    "3": "1230"
                                },
                                {
                                    "0": "324",
                                    "1": "1",
                                    "2": "324",
                                    "3": "324"
                                },
                                {
                                    "0": "384",
                                    "1": "1",
                                    "2": "384",
                                    "3": "384"
                                },
                                {
                                    "0": "1183",
                                    "1": "1",
                                    "2": "1183",
                                    "3": "1183"
                                }
                            ]
                        },
                        "text/html": [
                            "<table>",
                            "<tr><th>ride_length</th><th>number_of_trips</th><th>average_ride</th><th>total_time_trips</th></tr>",
                            "<tr><td>6</td><td>12578</td><td>6</td><td>75468</td></tr>",
                            "<tr><td>7</td><td>12442</td><td>7</td><td>87094</td></tr>",
                            "<tr><td>5</td><td>12337</td><td>5</td><td>61685</td></tr>",
                            "<tr><td>8</td><td>11821</td><td>8</td><td>94568</td></tr>",
                            "<tr><td>4</td><td>11168</td><td>4</td><td>44672</td></tr>",
                            "<tr><td>9</td><td>10857</td><td>9</td><td>97713</td></tr>",
                            "<tr><td>10</td><td>10043</td><td>10</td><td>100430</td></tr>",
                            "<tr><td>11</td><td>9116</td><td>11</td><td>100276</td></tr>",
                            "<tr><td>12</td><td>8531</td><td>12</td><td>102372</td></tr>",
                            "<tr><td>3</td><td>8199</td><td>3</td><td>24597</td></tr>",
                            "<tr><td>13</td><td>7755</td><td>13</td><td>100815</td></tr>",
                            "<tr><td>14</td><td>7147</td><td>14</td><td>100058</td></tr>",
                            "<tr><td>15</td><td>6393</td><td>15</td><td>95895</td></tr>",
                            "<tr><td>16</td><td>5867</td><td>16</td><td>93872</td></tr>",
                            "<tr><td>17</td><td>5359</td><td>17</td><td>91103</td></tr>",
                            "<tr><td>18</td><td>4934</td><td>18</td><td>88812</td></tr>",
                            "<tr><td>2</td><td>4564</td><td>2</td><td>9128</td></tr>",
                            "<tr><td>19</td><td>4539</td><td>19</td><td>86241</td></tr>",
                            "<tr><td>20</td><td>4208</td><td>20</td><td>84160</td></tr>",
                            "<tr><td>21</td><td>3788</td><td>21</td><td>79548</td></tr>",
                            "<tr><td>22</td><td>3571</td><td>22</td><td>78562</td></tr>",
                            "<tr><td>23</td><td>3350</td><td>23</td><td>77050</td></tr>",
                            "<tr><td>24</td><td>3174</td><td>24</td><td>76176</td></tr>",
                            "<tr><td>25</td><td>3059</td><td>25</td><td>76475</td></tr>",
                            "<tr><td>26</td><td>2924</td><td>26</td><td>76024</td></tr>",
                            "<tr><td>27</td><td>2657</td><td>27</td><td>71739</td></tr>",
                            "<tr><td>28</td><td>2439</td><td>28</td><td>68292</td></tr>",
                            "<tr><td>29</td><td>2311</td><td>29</td><td>67019</td></tr>",
                            "<tr><td>1</td><td>2304</td><td>1</td><td>2304</td></tr>",
                            "<tr><td>30</td><td>2264</td><td>30</td><td>67920</td></tr>",
                            "<tr><td>31</td><td>2024</td><td>31</td><td>62744</td></tr>",
                            "<tr><td>32</td><td>1893</td><td>32</td><td>60576</td></tr>",
                            "<tr><td>0</td><td>1782</td><td>0</td><td>0</td></tr>",
                            "<tr><td>33</td><td>1684</td><td>33</td><td>55572</td></tr>",
                            "<tr><td>34</td><td>1580</td><td>34</td><td>53720</td></tr>",
                            "<tr><td>35</td><td>1492</td><td>35</td><td>52220</td></tr>",
                            "<tr><td>36</td><td>1375</td><td>36</td><td>49500</td></tr>",
                            "<tr><td>37</td><td>1238</td><td>37</td><td>45806</td></tr>",
                            "<tr><td>38</td><td>1222</td><td>38</td><td>46436</td></tr>",
                            "<tr><td>39</td><td>1149</td><td>39</td><td>44811</td></tr>",
                            "<tr><td>40</td><td>1045</td><td>40</td><td>41800</td></tr>",
                            "<tr><td>41</td><td>1011</td><td>41</td><td>41451</td></tr>",
                            "<tr><td>43</td><td>892</td><td>43</td><td>38356</td></tr>",
                            "<tr><td>42</td><td>892</td><td>42</td><td>37464</td></tr>",
                            "<tr><td>45</td><td>800</td><td>45</td><td>36000</td></tr>",
                            "<tr><td>44</td><td>723</td><td>44</td><td>31812</td></tr>",
                            "<tr><td>46</td><td>646</td><td>46</td><td>29716</td></tr>",
                            "<tr><td>47</td><td>605</td><td>47</td><td>28435</td></tr>",
                            "<tr><td>49</td><td>577</td><td>49</td><td>28273</td></tr>",
                            "<tr><td>48</td><td>534</td><td>48</td><td>25632</td></tr>",
                            "<tr><td>50</td><td>493</td><td>50</td><td>24650</td></tr>",
                            "<tr><td>51</td><td>482</td><td>51</td><td>24582</td></tr>",
                            "<tr><td>52</td><td>461</td><td>52</td><td>23972</td></tr>",
                            "<tr><td>54</td><td>456</td><td>54</td><td>24624</td></tr>",
                            "<tr><td>53</td><td>438</td><td>53</td><td>23214</td></tr>",
                            "<tr><td>56</td><td>409</td><td>56</td><td>22904</td></tr>",
                            "<tr><td>55</td><td>381</td><td>55</td><td>20955</td></tr>",
                            "<tr><td>65</td><td>365</td><td>65</td><td>23725</td></tr>",
                            "<tr><td>57</td><td>351</td><td>57</td><td>20007</td></tr>",
                            "<tr><td>61</td><td>341</td><td>61</td><td>20801</td></tr>",
                            "<tr><td>58</td><td>340</td><td>58</td><td>19720</td></tr>",
                            "<tr><td>60</td><td>328</td><td>60</td><td>19680</td></tr>",
                            "<tr><td>59</td><td>327</td><td>59</td><td>19293</td></tr>",
                            "<tr><td>64</td><td>324</td><td>64</td><td>20736</td></tr>",
                            "<tr><td>63</td><td>319</td><td>63</td><td>20097</td></tr>",
                            "<tr><td>62</td><td>286</td><td>62</td><td>17732</td></tr>",
                            "<tr><td>66</td><td>281</td><td>66</td><td>18546</td></tr>",
                            "<tr><td>67</td><td>248</td><td>67</td><td>16616</td></tr>",
                            "<tr><td>68</td><td>238</td><td>68</td><td>16184</td></tr>",
                            "<tr><td>69</td><td>229</td><td>69</td><td>15801</td></tr>",
                            "<tr><td>73</td><td>226</td><td>73</td><td>16498</td></tr>",
                            "<tr><td>70</td><td>225</td><td>70</td><td>15750</td></tr>",
                            "<tr><td>71</td><td>222</td><td>71</td><td>15762</td></tr>",
                            "<tr><td>72</td><td>210</td><td>72</td><td>15120</td></tr>",
                            "<tr><td>77</td><td>203</td><td>77</td><td>15631</td></tr>",
                            "<tr><td>76</td><td>198</td><td>76</td><td>15048</td></tr>",
                            "<tr><td>75</td><td>196</td><td>75</td><td>14700</td></tr>",
                            "<tr><td>74</td><td>187</td><td>74</td><td>13838</td></tr>",
                            "<tr><td>78</td><td>182</td><td>78</td><td>14196</td></tr>",
                            "<tr><td>79</td><td>174</td><td>79</td><td>13746</td></tr>",
                            "<tr><td>81</td><td>160</td><td>81</td><td>12960</td></tr>",
                            "<tr><td>82</td><td>159</td><td>82</td><td>13038</td></tr>",
                            "<tr><td>80</td><td>155</td><td>80</td><td>12400</td></tr>",
                            "<tr><td>85</td><td>148</td><td>85</td><td>12580</td></tr>",
                            "<tr><td>86</td><td>145</td><td>86</td><td>12470</td></tr>",
                            "<tr><td>95</td><td>145</td><td>95</td><td>13775</td></tr>",
                            "<tr><td>87</td><td>144</td><td>87</td><td>12528</td></tr>",
                            "<tr><td>84</td><td>137</td><td>84</td><td>11508</td></tr>",
                            "<tr><td>83</td><td>137</td><td>83</td><td>11371</td></tr>",
                            "<tr><td>88</td><td>135</td><td>88</td><td>11880</td></tr>",
                            "<tr><td>93</td><td>123</td><td>93</td><td>11439</td></tr>",
                            "<tr><td>90</td><td>118</td><td>90</td><td>10620</td></tr>",
                            "<tr><td>89</td><td>116</td><td>89</td><td>10324</td></tr>",
                            "<tr><td>92</td><td>115</td><td>92</td><td>10580</td></tr>",
                            "<tr><td>94</td><td>112</td><td>94</td><td>10528</td></tr>",
                            "<tr><td>99</td><td>104</td><td>99</td><td>10296</td></tr>",
                            "<tr><td>91</td><td>104</td><td>91</td><td>9464</td></tr>",
                            "<tr><td>98</td><td>93</td><td>98</td><td>9114</td></tr>",
                            "<tr><td>100</td><td>93</td><td>100</td><td>9300</td></tr>",
                            "<tr><td>105</td><td>91</td><td>105</td><td>9555</td></tr>",
                            "<tr><td>96</td><td>90</td><td>96</td><td>8640</td></tr>",
                            "<tr><td>104</td><td>84</td><td>104</td><td>8736</td></tr>",
                            "<tr><td>107</td><td>84</td><td>107</td><td>8988</td></tr>",
                            "<tr><td>97</td><td>81</td><td>97</td><td>7857</td></tr>",
                            "<tr><td>103</td><td>79</td><td>103</td><td>8137</td></tr>",
                            "<tr><td>101</td><td>76</td><td>101</td><td>7676</td></tr>",
                            "<tr><td>114</td><td>76</td><td>114</td><td>8664</td></tr>",
                            "<tr><td>109</td><td>75</td><td>109</td><td>8175</td></tr>",
                            "<tr><td>117</td><td>73</td><td>117</td><td>8541</td></tr>",
                            "<tr><td>102</td><td>73</td><td>102</td><td>7446</td></tr>",
                            "<tr><td>110</td><td>72</td><td>110</td><td>7920</td></tr>",
                            "<tr><td>111</td><td>71</td><td>111</td><td>7881</td></tr>",
                            "<tr><td>108</td><td>67</td><td>108</td><td>7236</td></tr>",
                            "<tr><td>106</td><td>66</td><td>106</td><td>6996</td></tr>",
                            "<tr><td>113</td><td>61</td><td>113</td><td>6893</td></tr>",
                            "<tr><td>123</td><td>60</td><td>123</td><td>7380</td></tr>",
                            "<tr><td>118</td><td>60</td><td>118</td><td>7080</td></tr>",
                            "<tr><td>116</td><td>58</td><td>116</td><td>6728</td></tr>",
                            "<tr><td>112</td><td>52</td><td>112</td><td>5824</td></tr>",
                            "<tr><td>1500</td><td>51</td><td>1500</td><td>76500</td></tr>",
                            "<tr><td>125</td><td>49</td><td>125</td><td>6125</td></tr>",
                            "<tr><td>119</td><td>48</td><td>119</td><td>5712</td></tr>",
                            "<tr><td>121</td><td>46</td><td>121</td><td>5566</td></tr>",
                            "<tr><td>128</td><td>45</td><td>128</td><td>5760</td></tr>",
                            "<tr><td>120</td><td>44</td><td>120</td><td>5280</td></tr>",
                            "<tr><td>127</td><td>44</td><td>127</td><td>5588</td></tr>",
                            "<tr><td>124</td><td>44</td><td>124</td><td>5456</td></tr>",
                            "<tr><td>115</td><td>42</td><td>115</td><td>4830</td></tr>",
                            "<tr><td>134</td><td>41</td><td>134</td><td>5494</td></tr>",
                            "<tr><td>122</td><td>39</td><td>122</td><td>4758</td></tr>",
                            "<tr><td>126</td><td>35</td><td>126</td><td>4410</td></tr>",
                            "<tr><td>129</td><td>35</td><td>129</td><td>4515</td></tr>",
                            "<tr><td>146</td><td>34</td><td>146</td><td>4964</td></tr>",
                            "<tr><td>135</td><td>31</td><td>135</td><td>4185</td></tr>",
                            "<tr><td>136</td><td>31</td><td>136</td><td>4216</td></tr>",
                            "<tr><td>131</td><td>31</td><td>131</td><td>4061</td></tr>",
                            "<tr><td>159</td><td>30</td><td>159</td><td>4770</td></tr>",
                            "<tr><td>143</td><td>30</td><td>143</td><td>4290</td></tr>",
                            "<tr><td>149</td><td>30</td><td>149</td><td>4470</td></tr>",
                            "<tr><td>147</td><td>29</td><td>147</td><td>4263</td></tr>",
                            "<tr><td>140</td><td>29</td><td>140</td><td>4060</td></tr>",
                            "<tr><td>130</td><td>29</td><td>130</td><td>3770</td></tr>",
                            "<tr><td>139</td><td>28</td><td>139</td><td>3892</td></tr>",
                            "<tr><td>153</td><td>28</td><td>153</td><td>4284</td></tr>",
                            "<tr><td>158</td><td>28</td><td>158</td><td>4424</td></tr>",
                            "<tr><td>133</td><td>27</td><td>133</td><td>3591</td></tr>",
                            "<tr><td>157</td><td>26</td><td>157</td><td>4082</td></tr>",
                            "<tr><td>132</td><td>26</td><td>132</td><td>3432</td></tr>",
                            "<tr><td>169</td><td>25</td><td>169</td><td>4225</td></tr>",
                            "<tr><td>148</td><td>25</td><td>148</td><td>3700</td></tr>",
                            "<tr><td>141</td><td>24</td><td>141</td><td>3384</td></tr>",
                            "<tr><td>142</td><td>24</td><td>142</td><td>3408</td></tr>",
                            "<tr><td>164</td><td>24</td><td>164</td><td>3936</td></tr>",
                            "<tr><td>144</td><td>24</td><td>144</td><td>3456</td></tr>",
                            "<tr><td>155</td><td>23</td><td>155</td><td>3565</td></tr>",
                            "<tr><td>165</td><td>23</td><td>165</td><td>3795</td></tr>",
                            "<tr><td>152</td><td>23</td><td>152</td><td>3496</td></tr>",
                            "<tr><td>156</td><td>22</td><td>156</td><td>3432</td></tr>",
                            "<tr><td>160</td><td>22</td><td>160</td><td>3520</td></tr>",
                            "<tr><td>150</td><td>20</td><td>150</td><td>3000</td></tr>",
                            "<tr><td>183</td><td>20</td><td>183</td><td>3660</td></tr>",
                            "<tr><td>154</td><td>20</td><td>154</td><td>3080</td></tr>",
                            "<tr><td>145</td><td>20</td><td>145</td><td>2900</td></tr>",
                            "<tr><td>181</td><td>19</td><td>181</td><td>3439</td></tr>",
                            "<tr><td>137</td><td>19</td><td>137</td><td>2603</td></tr>",
                            "<tr><td>162</td><td>19</td><td>162</td><td>3078</td></tr>",
                            "<tr><td>151</td><td>18</td><td>151</td><td>2718</td></tr>",
                            "<tr><td>170</td><td>18</td><td>170</td><td>3060</td></tr>",
                            "<tr><td>138</td><td>17</td><td>138</td><td>2346</td></tr>",
                            "<tr><td>182</td><td>16</td><td>182</td><td>2912</td></tr>",
                            "<tr><td>189</td><td>16</td><td>189</td><td>3024</td></tr>",
                            "<tr><td>174</td><td>16</td><td>174</td><td>2784</td></tr>",
                            "<tr><td>163</td><td>16</td><td>163</td><td>2608</td></tr>",
                            "<tr><td>188</td><td>16</td><td>188</td><td>3008</td></tr>",
                            "<tr><td>173</td><td>16</td><td>173</td><td>2768</td></tr>",
                            "<tr><td>171</td><td>16</td><td>171</td><td>2736</td></tr>",
                            "<tr><td>185</td><td>15</td><td>185</td><td>2775</td></tr>",
                            "<tr><td>178</td><td>15</td><td>178</td><td>2670</td></tr>",
                            "<tr><td>187</td><td>15</td><td>187</td><td>2805</td></tr>",
                            "<tr><td>200</td><td>14</td><td>200</td><td>2800</td></tr>",
                            "<tr><td>161</td><td>14</td><td>161</td><td>2254</td></tr>",
                            "<tr><td>168</td><td>14</td><td>168</td><td>2352</td></tr>",
                            "<tr><td>172</td><td>14</td><td>172</td><td>2408</td></tr>",
                            "<tr><td>166</td><td>13</td><td>166</td><td>2158</td></tr>",
                            "<tr><td>207</td><td>13</td><td>207</td><td>2691</td></tr>",
                            "<tr><td>177</td><td>13</td><td>177</td><td>2301</td></tr>",
                            "<tr><td>191</td><td>12</td><td>191</td><td>2292</td></tr>",
                            "<tr><td>197</td><td>12</td><td>197</td><td>2364</td></tr>",
                            "<tr><td>184</td><td>11</td><td>184</td><td>2024</td></tr>",
                            "<tr><td>192</td><td>11</td><td>192</td><td>2112</td></tr>",
                            "<tr><td>1499</td><td>10</td><td>1499</td><td>14990</td></tr>",
                            "<tr><td>196</td><td>10</td><td>196</td><td>1960</td></tr>",
                            "<tr><td>220</td><td>10</td><td>220</td><td>2200</td></tr>",
                            "<tr><td>202</td><td>9</td><td>202</td><td>1818</td></tr>",
                            "<tr><td>206</td><td>9</td><td>206</td><td>1854</td></tr>",
                            "<tr><td>480</td><td>9</td><td>480</td><td>4320</td></tr>",
                            "<tr><td>1560</td><td>9</td><td>1560</td><td>14040</td></tr>",
                            "<tr><td>186</td><td>9</td><td>186</td><td>1674</td></tr>",
                            "<tr><td>167</td><td>9</td><td>167</td><td>1503</td></tr>",
                            "<tr><td>211</td><td>9</td><td>211</td><td>1899</td></tr>",
                            "<tr><td>176</td><td>8</td><td>176</td><td>1408</td></tr>",
                            "<tr><td>175</td><td>8</td><td>175</td><td>1400</td></tr>",
                            "<tr><td>193</td><td>8</td><td>193</td><td>1544</td></tr>",
                            "<tr><td>194</td><td>8</td><td>194</td><td>1552</td></tr>",
                            "<tr><td>209</td><td>8</td><td>209</td><td>1672</td></tr>",
                            "<tr><td>225</td><td>8</td><td>225</td><td>1800</td></tr>",
                            "<tr><td>224</td><td>7</td><td>224</td><td>1568</td></tr>",
                            "<tr><td>201</td><td>7</td><td>201</td><td>1407</td></tr>",
                            "<tr><td>205</td><td>7</td><td>205</td><td>1435</td></tr>",
                            "<tr><td>180</td><td>7</td><td>180</td><td>1260</td></tr>",
                            "<tr><td>195</td><td>7</td><td>195</td><td>1365</td></tr>",
                            "<tr><td>223</td><td>7</td><td>223</td><td>1561</td></tr>",
                            "<tr><td>369</td><td>6</td><td>369</td><td>2214</td></tr>",
                            "<tr><td>243</td><td>6</td><td>243</td><td>1458</td></tr>",
                            "<tr><td>217</td><td>6</td><td>217</td><td>1302</td></tr>",
                            "<tr><td>190</td><td>6</td><td>190</td><td>1140</td></tr>",
                            "<tr><td>179</td><td>6</td><td>179</td><td>1074</td></tr>",
                            "<tr><td>208</td><td>6</td><td>208</td><td>1248</td></tr>",
                            "<tr><td>213</td><td>6</td><td>213</td><td>1278</td></tr>",
                            "<tr><td>215</td><td>5</td><td>215</td><td>1075</td></tr>",
                            "<tr><td>226</td><td>5</td><td>226</td><td>1130</td></tr>",
                            "<tr><td>199</td><td>5</td><td>199</td><td>995</td></tr>",
                            "<tr><td>237</td><td>5</td><td>237</td><td>1185</td></tr>",
                            "<tr><td>203</td><td>5</td><td>203</td><td>1015</td></tr>",
                            "<tr><td>222</td><td>5</td><td>222</td><td>1110</td></tr>",
                            "<tr><td>227</td><td>5</td><td>227</td><td>1135</td></tr>",
                            "<tr><td>221</td><td>5</td><td>221</td><td>1105</td></tr>",
                            "<tr><td>232</td><td>5</td><td>232</td><td>1160</td></tr>",
                            "<tr><td>219</td><td>5</td><td>219</td><td>1095</td></tr>",
                            "<tr><td>204</td><td>5</td><td>204</td><td>1020</td></tr>",
                            "<tr><td>246</td><td>4</td><td>246</td><td>984</td></tr>",
                            "<tr><td>233</td><td>4</td><td>233</td><td>932</td></tr>",
                            "<tr><td>212</td><td>4</td><td>212</td><td>848</td></tr>",
                            "<tr><td>240</td><td>4</td><td>240</td><td>960</td></tr>",
                            "<tr><td>241</td><td>4</td><td>241</td><td>964</td></tr>",
                            "<tr><td>236</td><td>4</td><td>236</td><td>944</td></tr>",
                            "<tr><td>228</td><td>4</td><td>228</td><td>912</td></tr>",
                            "<tr><td>235</td><td>4</td><td>235</td><td>940</td></tr>",
                            "<tr><td>210</td><td>4</td><td>210</td><td>840</td></tr>",
                            "<tr><td>343</td><td>4</td><td>343</td><td>1372</td></tr>",
                            "<tr><td>239</td><td>4</td><td>239</td><td>956</td></tr>",
                            "<tr><td>288</td><td>4</td><td>288</td><td>1152</td></tr>",
                            "<tr><td>250</td><td>3</td><td>250</td><td>750</td></tr>",
                            "<tr><td>268</td><td>3</td><td>268</td><td>804</td></tr>",
                            "<tr><td>289</td><td>3</td><td>289</td><td>867</td></tr>",
                            "<tr><td>247</td><td>3</td><td>247</td><td>741</td></tr>",
                            "<tr><td>648</td><td>3</td><td>648</td><td>1944</td></tr>",
                            "<tr><td>420</td><td>3</td><td>420</td><td>1260</td></tr>",
                            "<tr><td>391</td><td>3</td><td>391</td><td>1173</td></tr>",
                            "<tr><td>245</td><td>3</td><td>245</td><td>735</td></tr>",
                            "<tr><td>270</td><td>3</td><td>270</td><td>810</td></tr>",
                            "<tr><td>214</td><td>3</td><td>214</td><td>642</td></tr>",
                            "<tr><td>286</td><td>3</td><td>286</td><td>858</td></tr>",
                            "<tr><td>198</td><td>3</td><td>198</td><td>594</td></tr>",
                            "<tr><td>257</td><td>3</td><td>257</td><td>771</td></tr>",
                            "<tr><td>479</td><td>3</td><td>479</td><td>1437</td></tr>",
                            "<tr><td>284</td><td>3</td><td>284</td><td>852</td></tr>",
                            "<tr><td>285</td><td>3</td><td>285</td><td>855</td></tr>",
                            "<tr><td>216</td><td>3</td><td>216</td><td>648</td></tr>",
                            "<tr><td>272</td><td>3</td><td>272</td><td>816</td></tr>",
                            "<tr><td>218</td><td>3</td><td>218</td><td>654</td></tr>",
                            "<tr><td>234</td><td>3</td><td>234</td><td>702</td></tr>",
                            "<tr><td>988</td><td>2</td><td>988</td><td>1976</td></tr>",
                            "<tr><td>670</td><td>2</td><td>670</td><td>1340</td></tr>",
                            "<tr><td>1206</td><td>2</td><td>1206</td><td>2412</td></tr>",
                            "<tr><td>1239</td><td>2</td><td>1239</td><td>2478</td></tr>",
                            "<tr><td>330</td><td>2</td><td>330</td><td>660</td></tr>",
                            "<tr><td>1209</td><td>2</td><td>1209</td><td>2418</td></tr>",
                            "<tr><td>229</td><td>2</td><td>229</td><td>458</td></tr>",
                            "<tr><td>1052</td><td>2</td><td>1052</td><td>2104</td></tr>",
                            "<tr><td>1307</td><td>2</td><td>1307</td><td>2614</td></tr>",
                            "<tr><td>329</td><td>2</td><td>329</td><td>658</td></tr>",
                            "<tr><td>400</td><td>2</td><td>400</td><td>800</td></tr>",
                            "<tr><td>347</td><td>2</td><td>347</td><td>694</td></tr>",
                            "<tr><td>1225</td><td>2</td><td>1225</td><td>2450</td></tr>",
                            "<tr><td>298</td><td>2</td><td>298</td><td>596</td></tr>",
                            "<tr><td>1128</td><td>2</td><td>1128</td><td>2256</td></tr>",
                            "<tr><td>361</td><td>2</td><td>361</td><td>722</td></tr>",
                            "<tr><td>1387</td><td>2</td><td>1387</td><td>2774</td></tr>",
                            "<tr><td>378</td><td>2</td><td>378</td><td>756</td></tr>",
                            "<tr><td>1247</td><td>2</td><td>1247</td><td>2494</td></tr>",
                            "<tr><td>675</td><td>2</td><td>675</td><td>1350</td></tr>",
                            "<tr><td>267</td><td>2</td><td>267</td><td>534</td></tr>",
                            "<tr><td>1559</td><td>2</td><td>1559</td><td>3118</td></tr>",
                            "<tr><td>252</td><td>2</td><td>252</td><td>504</td></tr>",
                            "<tr><td>249</td><td>2</td><td>249</td><td>498</td></tr>",
                            "<tr><td>2461</td><td>2</td><td>2461</td><td>4922</td></tr>",
                            "<tr><td>1054</td><td>2</td><td>1054</td><td>2108</td></tr>",
                            "<tr><td>468</td><td>2</td><td>468</td><td>936</td></tr>",
                            "<tr><td>388</td><td>2</td><td>388</td><td>776</td></tr>",
                            "<tr><td>280</td><td>2</td><td>280</td><td>560</td></tr>",
                            "<tr><td>2774</td><td>2</td><td>2774</td><td>5548</td></tr>",
                            "<tr><td>393</td><td>2</td><td>393</td><td>786</td></tr>",
                            "<tr><td>392</td><td>2</td><td>392</td><td>784</td></tr>",
                            "<tr><td>1068</td><td>2</td><td>1068</td><td>2136</td></tr>",
                            "<tr><td>598</td><td>2</td><td>598</td><td>1196</td></tr>",
                            "<tr><td>563</td><td>2</td><td>563</td><td>1126</td></tr>",
                            "<tr><td>303</td><td>2</td><td>303</td><td>606</td></tr>",
                            "<tr><td>475</td><td>2</td><td>475</td><td>950</td></tr>",
                            "<tr><td>317</td><td>2</td><td>317</td><td>634</td></tr>",
                            "<tr><td>242</td><td>2</td><td>242</td><td>484</td></tr>",
                            "<tr><td>269</td><td>2</td><td>269</td><td>538</td></tr>",
                            "<tr><td>623</td><td>2</td><td>623</td><td>1246</td></tr>",
                            "<tr><td>306</td><td>2</td><td>306</td><td>612</td></tr>",
                            "<tr><td>1496</td><td>2</td><td>1496</td><td>2992</td></tr>",
                            "<tr><td>557</td><td>2</td><td>557</td><td>1114</td></tr>",
                            "<tr><td>804</td><td>2</td><td>804</td><td>1608</td></tr>",
                            "<tr><td>238</td><td>2</td><td>238</td><td>476</td></tr>",
                            "<tr><td>1556</td><td>2</td><td>1556</td><td>3112</td></tr>",
                            "<tr><td>231</td><td>2</td><td>231</td><td>462</td></tr>",
                            "<tr><td>653</td><td>2</td><td>653</td><td>1306</td></tr>",
                            "<tr><td>290</td><td>2</td><td>290</td><td>580</td></tr>",
                            "<tr><td>333</td><td>2</td><td>333</td><td>666</td></tr>",
                            "<tr><td>292</td><td>2</td><td>292</td><td>584</td></tr>",
                            "<tr><td>964</td><td>2</td><td>964</td><td>1928</td></tr>",
                            "<tr><td>1218</td><td>2</td><td>1218</td><td>2436</td></tr>",
                            "<tr><td>266</td><td>2</td><td>266</td><td>532</td></tr>",
                            "<tr><td>1194</td><td>1</td><td>1194</td><td>1194</td></tr>",
                            "<tr><td>706</td><td>1</td><td>706</td><td>706</td></tr>",
                            "<tr><td>1315</td><td>1</td><td>1315</td><td>1315</td></tr>",
                            "<tr><td>434</td><td>1</td><td>434</td><td>434</td></tr>",
                            "<tr><td>339</td><td>1</td><td>339</td><td>339</td></tr>",
                            "<tr><td>406</td><td>1</td><td>406</td><td>406</td></tr>",
                            "<tr><td>893</td><td>1</td><td>893</td><td>893</td></tr>",
                            "<tr><td>756</td><td>1</td><td>756</td><td>756</td></tr>",
                            "<tr><td>312</td><td>1</td><td>312</td><td>312</td></tr>",
                            "<tr><td>6663</td><td>1</td><td>6663</td><td>6663</td></tr>",
                            "<tr><td>636</td><td>1</td><td>636</td><td>636</td></tr>",
                            "<tr><td>874</td><td>1</td><td>874</td><td>874</td></tr>",
                            "<tr><td>1468</td><td>1</td><td>1468</td><td>1468</td></tr>",
                            "<tr><td>2683</td><td>1</td><td>2683</td><td>2683</td></tr>",
                            "<tr><td>567</td><td>1</td><td>567</td><td>567</td></tr>",
                            "<tr><td>1426</td><td>1</td><td>1426</td><td>1426</td></tr>",
                            "<tr><td>856</td><td>1</td><td>856</td><td>856</td></tr>",
                            "<tr><td>440</td><td>1</td><td>440</td><td>440</td></tr>",
                            "<tr><td>3713</td><td>1</td><td>3713</td><td>3713</td></tr>",
                            "<tr><td>9749</td><td>1</td><td>9749</td><td>9749</td></tr>",
                            "<tr><td>500</td><td>1</td><td>500</td><td>500</td></tr>",
                            "<tr><td>887</td><td>1</td><td>887</td><td>887</td></tr>",
                            "<tr><td>304</td><td>1</td><td>304</td><td>304</td></tr>",
                            "<tr><td>283</td><td>1</td><td>283</td><td>283</td></tr>",
                            "<tr><td>428</td><td>1</td><td>428</td><td>428</td></tr>",
                            "<tr><td>849</td><td>1</td><td>849</td><td>849</td></tr>",
                            "<tr><td>916</td><td>1</td><td>916</td><td>916</td></tr>",
                            "<tr><td>783</td><td>1</td><td>783</td><td>783</td></tr>",
                            "<tr><td>1478</td><td>1</td><td>1478</td><td>1478</td></tr>",
                            "<tr><td>928</td><td>1</td><td>928</td><td>928</td></tr>",
                            "<tr><td>11402</td><td>1</td><td>11402</td><td>11402</td></tr>",
                            "<tr><td>1155</td><td>1</td><td>1155</td><td>1155</td></tr>",
                            "<tr><td>666</td><td>1</td><td>666</td><td>666</td></tr>",
                            "<tr><td>1059</td><td>1</td><td>1059</td><td>1059</td></tr>",
                            "<tr><td>1433</td><td>1</td><td>1433</td><td>1433</td></tr>",
                            "<tr><td>735</td><td>1</td><td>735</td><td>735</td></tr>",
                            "<tr><td>702</td><td>1</td><td>702</td><td>702</td></tr>",
                            "<tr><td>600</td><td>1</td><td>600</td><td>600</td></tr>",
                            "<tr><td>1467</td><td>1</td><td>1467</td><td>1467</td></tr>",
                            "<tr><td>842</td><td>1</td><td>842</td><td>842</td></tr>",
                            "<tr><td>259</td><td>1</td><td>259</td><td>259</td></tr>",
                            "<tr><td>1300</td><td>1</td><td>1300</td><td>1300</td></tr>",
                            "<tr><td>3816</td><td>1</td><td>3816</td><td>3816</td></tr>",
                            "<tr><td>689</td><td>1</td><td>689</td><td>689</td></tr>",
                            "<tr><td>466</td><td>1</td><td>466</td><td>466</td></tr>",
                            "<tr><td>1033</td><td>1</td><td>1033</td><td>1033</td></tr>",
                            "<tr><td>11710</td><td>1</td><td>11710</td><td>11710</td></tr>",
                            "<tr><td>1043</td><td>1</td><td>1043</td><td>1043</td></tr>",
                            "<tr><td>710</td><td>1</td><td>710</td><td>710</td></tr>",
                            "<tr><td>888</td><td>1</td><td>888</td><td>888</td></tr>",
                            "<tr><td>294</td><td>1</td><td>294</td><td>294</td></tr>",
                            "<tr><td>278</td><td>1</td><td>278</td><td>278</td></tr>",
                            "<tr><td>397</td><td>1</td><td>397</td><td>397</td></tr>",
                            "<tr><td>1126</td><td>1</td><td>1126</td><td>1126</td></tr>",
                            "<tr><td>1363</td><td>1</td><td>1363</td><td>1363</td></tr>",
                            "<tr><td>642</td><td>1</td><td>642</td><td>642</td></tr>",
                            "<tr><td>328</td><td>1</td><td>328</td><td>328</td></tr>",
                            "<tr><td>1175</td><td>1</td><td>1175</td><td>1175</td></tr>",
                            "<tr><td>5925</td><td>1</td><td>5925</td><td>5925</td></tr>",
                            "<tr><td>3468</td><td>1</td><td>3468</td><td>3468</td></tr>",
                            "<tr><td>682</td><td>1</td><td>682</td><td>682</td></tr>",
                            "<tr><td>276</td><td>1</td><td>276</td><td>276</td></tr>",
                            "<tr><td>17251</td><td>1</td><td>17251</td><td>17251</td></tr>",
                            "<tr><td>1063</td><td>1</td><td>1063</td><td>1063</td></tr>",
                            "<tr><td>315</td><td>1</td><td>315</td><td>315</td></tr>",
                            "<tr><td>442</td><td>1</td><td>442</td><td>442</td></tr>",
                            "<tr><td>340</td><td>1</td><td>340</td><td>340</td></tr>",
                            "<tr><td>341</td><td>1</td><td>341</td><td>341</td></tr>",
                            "<tr><td>1435</td><td>1</td><td>1435</td><td>1435</td></tr>",
                            "<tr><td>367</td><td>1</td><td>367</td><td>367</td></tr>",
                            "<tr><td>1248</td><td>1</td><td>1248</td><td>1248</td></tr>",
                            "<tr><td>2698</td><td>1</td><td>2698</td><td>2698</td></tr>",
                            "<tr><td>297</td><td>1</td><td>297</td><td>297</td></tr>",
                            "<tr><td>443</td><td>1</td><td>443</td><td>443</td></tr>",
                            "<tr><td>1317</td><td>1</td><td>1317</td><td>1317</td></tr>",
                            "<tr><td>1112</td><td>1</td><td>1112</td><td>1112</td></tr>",
                            "<tr><td>11622</td><td>1</td><td>11622</td><td>11622</td></tr>",
                            "<tr><td>763</td><td>1</td><td>763</td><td>763</td></tr>",
                            "<tr><td>1302</td><td>1</td><td>1302</td><td>1302</td></tr>",
                            "<tr><td>1658</td><td>1</td><td>1658</td><td>1658</td></tr>",
                            "<tr><td>1393</td><td>1</td><td>1393</td><td>1393</td></tr>",
                            "<tr><td>1381</td><td>1</td><td>1381</td><td>1381</td></tr>",
                            "<tr><td>930</td><td>1</td><td>930</td><td>930</td></tr>",
                            "<tr><td>446</td><td>1</td><td>446</td><td>446</td></tr>",
                            "<tr><td>769</td><td>1</td><td>769</td><td>769</td></tr>",
                            "<tr><td>6806</td><td>1</td><td>6806</td><td>6806</td></tr>",
                            "<tr><td>1168</td><td>1</td><td>1168</td><td>1168</td></tr>",
                            "<tr><td>4071</td><td>1</td><td>4071</td><td>4071</td></tr>",
                            "<tr><td>6542</td><td>1</td><td>6542</td><td>6542</td></tr>",
                            "<tr><td>344</td><td>1</td><td>344</td><td>344</td></tr>",
                            "<tr><td>332</td><td>1</td><td>332</td><td>332</td></tr>",
                            "<tr><td>1096</td><td>1</td><td>1096</td><td>1096</td></tr>",
                            "<tr><td>723</td><td>1</td><td>723</td><td>723</td></tr>",
                            "<tr><td>2542</td><td>1</td><td>2542</td><td>2542</td></tr>",
                            "<tr><td>944</td><td>1</td><td>944</td><td>944</td></tr>",
                            "<tr><td>1327</td><td>1</td><td>1327</td><td>1327</td></tr>",
                            "<tr><td>1284</td><td>1</td><td>1284</td><td>1284</td></tr>",
                            "<tr><td>264</td><td>1</td><td>264</td><td>264</td></tr>",
                            "<tr><td>1071</td><td>1</td><td>1071</td><td>1071</td></tr>",
                            "<tr><td>1590</td><td>1</td><td>1590</td><td>1590</td></tr>",
                            "<tr><td>273</td><td>1</td><td>273</td><td>273</td></tr>",
                            "<tr><td>4480</td><td>1</td><td>4480</td><td>4480</td></tr>",
                            "<tr><td>355</td><td>1</td><td>355</td><td>355</td></tr>",
                            "<tr><td>2756</td><td>1</td><td>2756</td><td>2756</td></tr>",
                            "<tr><td>1120</td><td>1</td><td>1120</td><td>1120</td></tr>",
                            "<tr><td>1702</td><td>1</td><td>1702</td><td>1702</td></tr>",
                            "<tr><td>3033</td><td>1</td><td>3033</td><td>3033</td></tr>",
                            "<tr><td>462</td><td>1</td><td>462</td><td>462</td></tr>",
                            "<tr><td>610</td><td>1</td><td>610</td><td>610</td></tr>",
                            "<tr><td>3405</td><td>1</td><td>3405</td><td>3405</td></tr>",
                            "<tr><td>258</td><td>1</td><td>258</td><td>258</td></tr>",
                            "<tr><td>1533</td><td>1</td><td>1533</td><td>1533</td></tr>",
                            "<tr><td>1050</td><td>1</td><td>1050</td><td>1050</td></tr>",
                            "<tr><td>327</td><td>1</td><td>327</td><td>327</td></tr>",
                            "<tr><td>742</td><td>1</td><td>742</td><td>742</td></tr>",
                            "<tr><td>543</td><td>1</td><td>543</td><td>543</td></tr>",
                            "<tr><td>1648</td><td>1</td><td>1648</td><td>1648</td></tr>",
                            "<tr><td>7278</td><td>1</td><td>7278</td><td>7278</td></tr>",
                            "<tr><td>3298</td><td>1</td><td>3298</td><td>3298</td></tr>",
                            "<tr><td>1355</td><td>1</td><td>1355</td><td>1355</td></tr>",
                            "<tr><td>1142</td><td>1</td><td>1142</td><td>1142</td></tr>",
                            "<tr><td>902</td><td>1</td><td>902</td><td>902</td></tr>",
                            "<tr><td>1308</td><td>1</td><td>1308</td><td>1308</td></tr>",
                            "<tr><td>360</td><td>1</td><td>360</td><td>360</td></tr>",
                            "<tr><td>1237</td><td>1</td><td>1237</td><td>1237</td></tr>",
                            "<tr><td>2613</td><td>1</td><td>2613</td><td>2613</td></tr>",
                            "<tr><td>1423</td><td>1</td><td>1423</td><td>1423</td></tr>",
                            "<tr><td>736</td><td>1</td><td>736</td><td>736</td></tr>",
                            "<tr><td>982</td><td>1</td><td>982</td><td>982</td></tr>",
                            "<tr><td>1330</td><td>1</td><td>1330</td><td>1330</td></tr>",
                            "<tr><td>353</td><td>1</td><td>353</td><td>353</td></tr>",
                            "<tr><td>1422</td><td>1</td><td>1422</td><td>1422</td></tr>",
                            "<tr><td>2407</td><td>1</td><td>2407</td><td>2407</td></tr>",
                            "<tr><td>843</td><td>1</td><td>843</td><td>843</td></tr>",
                            "<tr><td>1427</td><td>1</td><td>1427</td><td>1427</td></tr>",
                            "<tr><td>703</td><td>1</td><td>703</td><td>703</td></tr>",
                            "<tr><td>906</td><td>1</td><td>906</td><td>906</td></tr>",
                            "<tr><td>14181</td><td>1</td><td>14181</td><td>14181</td></tr>",
                            "<tr><td>903</td><td>1</td><td>903</td><td>903</td></tr>",
                            "<tr><td>1329</td><td>1</td><td>1329</td><td>1329</td></tr>",
                            "<tr><td>262</td><td>1</td><td>262</td><td>262</td></tr>",
                            "<tr><td>859</td><td>1</td><td>859</td><td>859</td></tr>",
                            "<tr><td>1203</td><td>1</td><td>1203</td><td>1203</td></tr>",
                            "<tr><td>1166</td><td>1</td><td>1166</td><td>1166</td></tr>",
                            "<tr><td>948</td><td>1</td><td>948</td><td>948</td></tr>",
                            "<tr><td>349</td><td>1</td><td>349</td><td>349</td></tr>",
                            "<tr><td>1061</td><td>1</td><td>1061</td><td>1061</td></tr>",
                            "<tr><td>615</td><td>1</td><td>615</td><td>615</td></tr>",
                            "<tr><td>1110</td><td>1</td><td>1110</td><td>1110</td></tr>",
                            "<tr><td>2199</td><td>1</td><td>2199</td><td>2199</td></tr>",
                            "<tr><td>738</td><td>1</td><td>738</td><td>738</td></tr>",
                            "<tr><td>896</td><td>1</td><td>896</td><td>896</td></tr>",
                            "<tr><td>1161</td><td>1</td><td>1161</td><td>1161</td></tr>",
                            "<tr><td>1077</td><td>1</td><td>1077</td><td>1077</td></tr>",
                            "<tr><td>1812</td><td>1</td><td>1812</td><td>1812</td></tr>",
                            "<tr><td>275</td><td>1</td><td>275</td><td>275</td></tr>",
                            "<tr><td>1040</td><td>1</td><td>1040</td><td>1040</td></tr>",
                            "<tr><td>1213</td><td>1</td><td>1213</td><td>1213</td></tr>",
                            "<tr><td>282</td><td>1</td><td>282</td><td>282</td></tr>",
                            "<tr><td>787</td><td>1</td><td>787</td><td>787</td></tr>",
                            "<tr><td>414</td><td>1</td><td>414</td><td>414</td></tr>",
                            "<tr><td>1253</td><td>1</td><td>1253</td><td>1253</td></tr>",
                            "<tr><td>6840</td><td>1</td><td>6840</td><td>6840</td></tr>",
                            "<tr><td>354</td><td>1</td><td>354</td><td>354</td></tr>",
                            "<tr><td>11401</td><td>1</td><td>11401</td><td>11401</td></tr>",
                            "<tr><td>933</td><td>1</td><td>933</td><td>933</td></tr>",
                            "<tr><td>542</td><td>1</td><td>542</td><td>542</td></tr>",
                            "<tr><td>730</td><td>1</td><td>730</td><td>730</td></tr>",
                            "<tr><td>740</td><td>1</td><td>740</td><td>740</td></tr>",
                            "<tr><td>8004</td><td>1</td><td>8004</td><td>8004</td></tr>",
                            "<tr><td>18231</td><td>1</td><td>18231</td><td>18231</td></tr>",
                            "<tr><td>469</td><td>1</td><td>469</td><td>469</td></tr>",
                            "<tr><td>281</td><td>1</td><td>281</td><td>281</td></tr>",
                            "<tr><td>5848</td><td>1</td><td>5848</td><td>5848</td></tr>",
                            "<tr><td>2935</td><td>1</td><td>2935</td><td>2935</td></tr>",
                            "<tr><td>793</td><td>1</td><td>793</td><td>793</td></tr>",
                            "<tr><td>2957</td><td>1</td><td>2957</td><td>2957</td></tr>",
                            "<tr><td>628</td><td>1</td><td>628</td><td>628</td></tr>",
                            "<tr><td>399</td><td>1</td><td>399</td><td>399</td></tr>",
                            "<tr><td>1291</td><td>1</td><td>1291</td><td>1291</td></tr>",
                            "<tr><td>900</td><td>1</td><td>900</td><td>900</td></tr>",
                            "<tr><td>1009</td><td>1</td><td>1009</td><td>1009</td></tr>",
                            "<tr><td>499</td><td>1</td><td>499</td><td>499</td></tr>",
                            "<tr><td>1305</td><td>1</td><td>1305</td><td>1305</td></tr>",
                            "<tr><td>337</td><td>1</td><td>337</td><td>337</td></tr>",
                            "<tr><td>726</td><td>1</td><td>726</td><td>726</td></tr>",
                            "<tr><td>4553</td><td>1</td><td>4553</td><td>4553</td></tr>",
                            "<tr><td>1309</td><td>1</td><td>1309</td><td>1309</td></tr>",
                            "<tr><td>833</td><td>1</td><td>833</td><td>833</td></tr>",
                            "<tr><td>348</td><td>1</td><td>348</td><td>348</td></tr>",
                            "<tr><td>1180</td><td>1</td><td>1180</td><td>1180</td></tr>",
                            "<tr><td>263</td><td>1</td><td>263</td><td>263</td></tr>",
                            "<tr><td>1045</td><td>1</td><td>1045</td><td>1045</td></tr>",
                            "<tr><td>1674</td><td>1</td><td>1674</td><td>1674</td></tr>",
                            "<tr><td>314</td><td>1</td><td>314</td><td>314</td></tr>",
                            "<tr><td>1095</td><td>1</td><td>1095</td><td>1095</td></tr>",
                            "<tr><td>1521</td><td>1</td><td>1521</td><td>1521</td></tr>",
                            "<tr><td>486</td><td>1</td><td>486</td><td>486</td></tr>",
                            "<tr><td>672</td><td>1</td><td>672</td><td>672</td></tr>",
                            "<tr><td>363</td><td>1</td><td>363</td><td>363</td></tr>",
                            "<tr><td>3764</td><td>1</td><td>3764</td><td>3764</td></tr>",
                            "<tr><td>296</td><td>1</td><td>296</td><td>296</td></tr>",
                            "<tr><td>912</td><td>1</td><td>912</td><td>912</td></tr>",
                            "<tr><td>9813</td><td>1</td><td>9813</td><td>9813</td></tr>",
                            "<tr><td>1007</td><td>1</td><td>1007</td><td>1007</td></tr>",
                            "<tr><td>1288</td><td>1</td><td>1288</td><td>1288</td></tr>",
                            "<tr><td>1331</td><td>1</td><td>1331</td><td>1331</td></tr>",
                            "<tr><td>11109</td><td>1</td><td>11109</td><td>11109</td></tr>",
                            "<tr><td>886</td><td>1</td><td>886</td><td>886</td></tr>",
                            "<tr><td>2569</td><td>1</td><td>2569</td><td>2569</td></tr>",
                            "<tr><td>644</td><td>1</td><td>644</td><td>644</td></tr>",
                            "<tr><td>619</td><td>1</td><td>619</td><td>619</td></tr>",
                            "<tr><td>1453</td><td>1</td><td>1453</td><td>1453</td></tr>",
                            "<tr><td>6366</td><td>1</td><td>6366</td><td>6366</td></tr>",
                            "<tr><td>2289</td><td>1</td><td>2289</td><td>2289</td></tr>",
                            "<tr><td>727</td><td>1</td><td>727</td><td>727</td></tr>",
                            "<tr><td>650</td><td>1</td><td>650</td><td>650</td></tr>",
                            "<tr><td>394</td><td>1</td><td>394</td><td>394</td></tr>",
                            "<tr><td>555</td><td>1</td><td>555</td><td>555</td></tr>",
                            "<tr><td>643</td><td>1</td><td>643</td><td>643</td></tr>",
                            "<tr><td>1215</td><td>1</td><td>1215</td><td>1215</td></tr>",
                            "<tr><td>2653</td><td>1</td><td>2653</td><td>2653</td></tr>",
                            "<tr><td>1242</td><td>1</td><td>1242</td><td>1242</td></tr>",
                            "<tr><td>868</td><td>1</td><td>868</td><td>868</td></tr>",
                            "<tr><td>1419</td><td>1</td><td>1419</td><td>1419</td></tr>",
                            "<tr><td>761</td><td>1</td><td>761</td><td>761</td></tr>",
                            "<tr><td>12543</td><td>1</td><td>12543</td><td>12543</td></tr>",
                            "<tr><td>2368</td><td>1</td><td>2368</td><td>2368</td></tr>",
                            "<tr><td>847</td><td>1</td><td>847</td><td>847</td></tr>",
                            "<tr><td>488</td><td>1</td><td>488</td><td>488</td></tr>",
                            "<tr><td>1170</td><td>1</td><td>1170</td><td>1170</td></tr>",
                            "<tr><td>13002</td><td>1</td><td>13002</td><td>13002</td></tr>",
                            "<tr><td>1319</td><td>1</td><td>1319</td><td>1319</td></tr>",
                            "<tr><td>3176</td><td>1</td><td>3176</td><td>3176</td></tr>",
                            "<tr><td>1119</td><td>1</td><td>1119</td><td>1119</td></tr>",
                            "<tr><td>248</td><td>1</td><td>248</td><td>248</td></tr>",
                            "<tr><td>1149</td><td>1</td><td>1149</td><td>1149</td></tr>",
                            "<tr><td>654</td><td>1</td><td>654</td><td>654</td></tr>",
                            "<tr><td>561</td><td>1</td><td>561</td><td>561</td></tr>",
                            "<tr><td>461</td><td>1</td><td>461</td><td>461</td></tr>",
                            "<tr><td>1659</td><td>1</td><td>1659</td><td>1659</td></tr>",
                            "<tr><td>987</td><td>1</td><td>987</td><td>987</td></tr>",
                            "<tr><td>1313</td><td>1</td><td>1313</td><td>1313</td></tr>",
                            "<tr><td>1134</td><td>1</td><td>1134</td><td>1134</td></tr>",
                            "<tr><td>4441</td><td>1</td><td>4441</td><td>4441</td></tr>",
                            "<tr><td>5769</td><td>1</td><td>5769</td><td>5769</td></tr>",
                            "<tr><td>601</td><td>1</td><td>601</td><td>601</td></tr>",
                            "<tr><td>1127</td><td>1</td><td>1127</td><td>1127</td></tr>",
                            "<tr><td>669</td><td>1</td><td>669</td><td>669</td></tr>",
                            "<tr><td>940</td><td>1</td><td>940</td><td>940</td></tr>",
                            "<tr><td>1893</td><td>1</td><td>1893</td><td>1893</td></tr>",
                            "<tr><td>1086</td><td>1</td><td>1086</td><td>1086</td></tr>",
                            "<tr><td>3976</td><td>1</td><td>3976</td><td>3976</td></tr>",
                            "<tr><td>4113</td><td>1</td><td>4113</td><td>4113</td></tr>",
                            "<tr><td>261</td><td>1</td><td>261</td><td>261</td></tr>",
                            "<tr><td>865</td><td>1</td><td>865</td><td>865</td></tr>",
                            "<tr><td>1256</td><td>1</td><td>1256</td><td>1256</td></tr>",
                            "<tr><td>31682</td><td>1</td><td>31682</td><td>31682</td></tr>",
                            "<tr><td>432</td><td>1</td><td>432</td><td>432</td></tr>",
                            "<tr><td>380</td><td>1</td><td>380</td><td>380</td></tr>",
                            "<tr><td>1184</td><td>1</td><td>1184</td><td>1184</td></tr>",
                            "<tr><td>1350</td><td>1</td><td>1350</td><td>1350</td></tr>",
                            "<tr><td>313</td><td>1</td><td>313</td><td>313</td></tr>",
                            "<tr><td>465</td><td>1</td><td>465</td><td>465</td></tr>",
                            "<tr><td>342</td><td>1</td><td>342</td><td>342</td></tr>",
                            "<tr><td>318</td><td>1</td><td>318</td><td>318</td></tr>",
                            "<tr><td>1353</td><td>1</td><td>1353</td><td>1353</td></tr>",
                            "<tr><td>1529</td><td>1</td><td>1529</td><td>1529</td></tr>",
                            "<tr><td>869</td><td>1</td><td>869</td><td>869</td></tr>",
                            "<tr><td>1294</td><td>1</td><td>1294</td><td>1294</td></tr>",
                            "<tr><td>1107</td><td>1</td><td>1107</td><td>1107</td></tr>",
                            "<tr><td>511</td><td>1</td><td>511</td><td>511</td></tr>",
                            "<tr><td>860</td><td>1</td><td>860</td><td>860</td></tr>",
                            "<tr><td>1027</td><td>1</td><td>1027</td><td>1027</td></tr>",
                            "<tr><td>824</td><td>1</td><td>824</td><td>824</td></tr>",
                            "<tr><td>1200</td><td>1</td><td>1200</td><td>1200</td></tr>",
                            "<tr><td>451</td><td>1</td><td>451</td><td>451</td></tr>",
                            "<tr><td>5679</td><td>1</td><td>5679</td><td>5679</td></tr>",
                            "<tr><td>913</td><td>1</td><td>913</td><td>913</td></tr>",
                            "<tr><td>1416</td><td>1</td><td>1416</td><td>1416</td></tr>",
                            "<tr><td>4684</td><td>1</td><td>4684</td><td>4684</td></tr>",
                            "<tr><td>20074</td><td>1</td><td>20074</td><td>20074</td></tr>",
                            "<tr><td>1283</td><td>1</td><td>1283</td><td>1283</td></tr>",
                            "<tr><td>1081</td><td>1</td><td>1081</td><td>1081</td></tr>",
                            "<tr><td>597</td><td>1</td><td>597</td><td>597</td></tr>",
                            "<tr><td>651</td><td>1</td><td>651</td><td>651</td></tr>",
                            "<tr><td>820</td><td>1</td><td>820</td><td>820</td></tr>",
                            "<tr><td>2641</td><td>1</td><td>2641</td><td>2641</td></tr>",
                            "<tr><td>604</td><td>1</td><td>604</td><td>604</td></tr>",
                            "<tr><td>411</td><td>1</td><td>411</td><td>411</td></tr>",
                            "<tr><td>260</td><td>1</td><td>260</td><td>260</td></tr>",
                            "<tr><td>765</td><td>1</td><td>765</td><td>765</td></tr>",
                            "<tr><td>1369</td><td>1</td><td>1369</td><td>1369</td></tr>",
                            "<tr><td>1174</td><td>1</td><td>1174</td><td>1174</td></tr>",
                            "<tr><td>4133</td><td>1</td><td>4133</td><td>4133</td></tr>",
                            "<tr><td>459</td><td>1</td><td>459</td><td>459</td></tr>",
                            "<tr><td>255</td><td>1</td><td>255</td><td>255</td></tr>",
                            "<tr><td>918</td><td>1</td><td>918</td><td>918</td></tr>",
                            "<tr><td>1360</td><td>1</td><td>1360</td><td>1360</td></tr>",
                            "<tr><td>2449</td><td>1</td><td>2449</td><td>2449</td></tr>",
                            "<tr><td>1811</td><td>1</td><td>1811</td><td>1811</td></tr>",
                            "<tr><td>15905</td><td>1</td><td>15905</td><td>15905</td></tr>",
                            "<tr><td>897</td><td>1</td><td>897</td><td>897</td></tr>",
                            "<tr><td>2462</td><td>1</td><td>2462</td><td>2462</td></tr>",
                            "<tr><td>251</td><td>1</td><td>251</td><td>251</td></tr>",
                            "<tr><td>538</td><td>1</td><td>538</td><td>538</td></tr>",
                            "<tr><td>588</td><td>1</td><td>588</td><td>588</td></tr>",
                            "<tr><td>417</td><td>1</td><td>417</td><td>417</td></tr>",
                            "<tr><td>1125</td><td>1</td><td>1125</td><td>1125</td></tr>",
                            "<tr><td>1318</td><td>1</td><td>1318</td><td>1318</td></tr>",
                            "<tr><td>402</td><td>1</td><td>402</td><td>402</td></tr>",
                            "<tr><td>1025</td><td>1</td><td>1025</td><td>1025</td></tr>",
                            "<tr><td>2861</td><td>1</td><td>2861</td><td>2861</td></tr>",
                            "<tr><td>1118</td><td>1</td><td>1118</td><td>1118</td></tr>",
                            "<tr><td>685</td><td>1</td><td>685</td><td>685</td></tr>",
                            "<tr><td>1144</td><td>1</td><td>1144</td><td>1144</td></tr>",
                            "<tr><td>5728</td><td>1</td><td>5728</td><td>5728</td></tr>",
                            "<tr><td>4386</td><td>1</td><td>4386</td><td>4386</td></tr>",
                            "<tr><td>817</td><td>1</td><td>817</td><td>817</td></tr>",
                            "<tr><td>2589</td><td>1</td><td>2589</td><td>2589</td></tr>",
                            "<tr><td>1688</td><td>1</td><td>1688</td><td>1688</td></tr>",
                            "<tr><td>1089</td><td>1</td><td>1089</td><td>1089</td></tr>",
                            "<tr><td>307</td><td>1</td><td>307</td><td>307</td></tr>",
                            "<tr><td>2535</td><td>1</td><td>2535</td><td>2535</td></tr>",
                            "<tr><td>1217</td><td>1</td><td>1217</td><td>1217</td></tr>",
                            "<tr><td>435</td><td>1</td><td>435</td><td>435</td></tr>",
                            "<tr><td>17231</td><td>1</td><td>17231</td><td>17231</td></tr>",
                            "<tr><td>331</td><td>1</td><td>331</td><td>331</td></tr>",
                            "<tr><td>2909</td><td>1</td><td>2909</td><td>2909</td></tr>",
                            "<tr><td>305</td><td>1</td><td>305</td><td>305</td></tr>",
                            "<tr><td>613</td><td>1</td><td>613</td><td>613</td></tr>",
                            "<tr><td>1190</td><td>1</td><td>1190</td><td>1190</td></tr>",
                            "<tr><td>424</td><td>1</td><td>424</td><td>424</td></tr>",
                            "<tr><td>1257</td><td>1</td><td>1257</td><td>1257</td></tr>",
                            "<tr><td>1097</td><td>1</td><td>1097</td><td>1097</td></tr>",
                            "<tr><td>358</td><td>1</td><td>358</td><td>358</td></tr>",
                            "<tr><td>707</td><td>1</td><td>707</td><td>707</td></tr>",
                            "<tr><td>325</td><td>1</td><td>325</td><td>325</td></tr>",
                            "<tr><td>1157</td><td>1</td><td>1157</td><td>1157</td></tr>",
                            "<tr><td>741</td><td>1</td><td>741</td><td>741</td></tr>",
                            "<tr><td>439</td><td>1</td><td>439</td><td>439</td></tr>",
                            "<tr><td>532</td><td>1</td><td>532</td><td>532</td></tr>",
                            "<tr><td>1230</td><td>1</td><td>1230</td><td>1230</td></tr>",
                            "<tr><td>324</td><td>1</td><td>324</td><td>324</td></tr>",
                            "<tr><td>384</td><td>1</td><td>384</td><td>384</td></tr>",
                            "<tr><td>1183</td><td>1</td><td>1183</td><td>1183</td></tr>",
                            "</table>"
                        ]
                    }
                }
            ],
            "execution_count": 1
        },
        {
            "cell_type": "markdown",
            "source": [
                "The mode of the variable **ride\\_length** is 6 minutes followed by 7, 5, 8, 4, 9 and so on until (rounding the numbers to whole number closer, removing decimals). As you noticed, the **ride\\_length** and **average\\_ride** are equals because what we explained. Fo r example: the **average\\_ride** time grouped by **ride\\_length** of 6 minutes, is calculated by numbers between 5.5 and 6.4 (5.5,6.5\\], so it is logical that the result tends towards the nearest whole number, in this case 6 minutes."
            ],
            "metadata": {
                "language": "sql",
                "azdata_cell_guid": "b8c5deea-2e52-4b97-a75a-d687c461914e"
            },
            "attachments": {}
        }
    ]
}